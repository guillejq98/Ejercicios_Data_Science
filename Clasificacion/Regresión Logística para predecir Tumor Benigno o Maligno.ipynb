{
 "cells": [
  {
   "cell_type": "markdown",
   "id": "79ecf40a",
   "metadata": {},
   "source": [
    "# Regresion Logistica"
   ]
  },
  {
   "cell_type": "code",
   "execution_count": 122,
   "id": "d5873451",
   "metadata": {},
   "outputs": [],
   "source": [
    "#!pip install factor_analyzer"
   ]
  },
  {
   "cell_type": "code",
   "execution_count": 123,
   "id": "5907bad3",
   "metadata": {},
   "outputs": [],
   "source": [
    "import pandas as pd\n",
    "import numpy as np\n",
    "import statsmodels.api as sm\n",
    "import matplotlib.pyplot as plt\n",
    "\n",
    "#PCA\n",
    "from sklearn.preprocessing import StandardScaler\n",
    "from sklearn.preprocessing import RobustScaler\n",
    "from sklearn.decomposition import PCA\n",
    "\n",
    "#Factor Analysis\n",
    "from sklearn.decomposition import FactorAnalysis\n",
    "from factor_analyzer import FactorAnalyzer\n",
    "from factor_analyzer.factor_analyzer import calculate_bartlett_sphericity\n",
    "from factor_analyzer.factor_analyzer import calculate_kmo\n",
    "\n",
    "#Encoding\n",
    "from sklearn.preprocessing import LabelEncoder"
   ]
  },
  {
   "cell_type": "code",
   "execution_count": 124,
   "id": "2289504a",
   "metadata": {},
   "outputs": [
    {
     "data": {
      "text/html": [
       "<div>\n",
       "<style scoped>\n",
       "    .dataframe tbody tr th:only-of-type {\n",
       "        vertical-align: middle;\n",
       "    }\n",
       "\n",
       "    .dataframe tbody tr th {\n",
       "        vertical-align: top;\n",
       "    }\n",
       "\n",
       "    .dataframe thead th {\n",
       "        text-align: right;\n",
       "    }\n",
       "</style>\n",
       "<table border=\"1\" class=\"dataframe\">\n",
       "  <thead>\n",
       "    <tr style=\"text-align: right;\">\n",
       "      <th></th>\n",
       "      <th>id</th>\n",
       "      <th>diagnosis</th>\n",
       "      <th>radius_mean</th>\n",
       "      <th>texture_mean</th>\n",
       "      <th>perimeter_mean</th>\n",
       "      <th>area_mean</th>\n",
       "      <th>smoothness_mean</th>\n",
       "      <th>compactness_mean</th>\n",
       "      <th>concavity_mean</th>\n",
       "      <th>concave points_mean</th>\n",
       "      <th>symmetry_mean</th>\n",
       "      <th>fractal_dimension_mean</th>\n",
       "      <th>radius_se</th>\n",
       "      <th>texture_se</th>\n",
       "      <th>perimeter_se</th>\n",
       "      <th>area_se</th>\n",
       "      <th>smoothness_se</th>\n",
       "      <th>compactness_se</th>\n",
       "      <th>concavity_se</th>\n",
       "      <th>concave points_se</th>\n",
       "      <th>symmetry_se</th>\n",
       "      <th>fractal_dimension_se</th>\n",
       "      <th>radius_worst</th>\n",
       "      <th>texture_worst</th>\n",
       "      <th>perimeter_worst</th>\n",
       "      <th>area_worst</th>\n",
       "      <th>smoothness_worst</th>\n",
       "      <th>compactness_worst</th>\n",
       "      <th>concavity_worst</th>\n",
       "      <th>concave points_worst</th>\n",
       "      <th>symmetry_worst</th>\n",
       "      <th>fractal_dimension_worst</th>\n",
       "    </tr>\n",
       "  </thead>\n",
       "  <tbody>\n",
       "    <tr>\n",
       "      <th>0</th>\n",
       "      <td>842302</td>\n",
       "      <td>M</td>\n",
       "      <td>17.99</td>\n",
       "      <td>10.38</td>\n",
       "      <td>122.80</td>\n",
       "      <td>1001.0</td>\n",
       "      <td>0.11840</td>\n",
       "      <td>0.27760</td>\n",
       "      <td>0.3001</td>\n",
       "      <td>0.14710</td>\n",
       "      <td>0.2419</td>\n",
       "      <td>0.07871</td>\n",
       "      <td>1.0950</td>\n",
       "      <td>0.9053</td>\n",
       "      <td>8.589</td>\n",
       "      <td>153.40</td>\n",
       "      <td>0.006399</td>\n",
       "      <td>0.04904</td>\n",
       "      <td>0.05373</td>\n",
       "      <td>0.01587</td>\n",
       "      <td>0.03003</td>\n",
       "      <td>0.006193</td>\n",
       "      <td>25.38</td>\n",
       "      <td>17.33</td>\n",
       "      <td>184.60</td>\n",
       "      <td>2019.0</td>\n",
       "      <td>0.1622</td>\n",
       "      <td>0.6656</td>\n",
       "      <td>0.7119</td>\n",
       "      <td>0.2654</td>\n",
       "      <td>0.4601</td>\n",
       "      <td>0.11890</td>\n",
       "    </tr>\n",
       "    <tr>\n",
       "      <th>1</th>\n",
       "      <td>842517</td>\n",
       "      <td>M</td>\n",
       "      <td>20.57</td>\n",
       "      <td>17.77</td>\n",
       "      <td>132.90</td>\n",
       "      <td>1326.0</td>\n",
       "      <td>0.08474</td>\n",
       "      <td>0.07864</td>\n",
       "      <td>0.0869</td>\n",
       "      <td>0.07017</td>\n",
       "      <td>0.1812</td>\n",
       "      <td>0.05667</td>\n",
       "      <td>0.5435</td>\n",
       "      <td>0.7339</td>\n",
       "      <td>3.398</td>\n",
       "      <td>74.08</td>\n",
       "      <td>0.005225</td>\n",
       "      <td>0.01308</td>\n",
       "      <td>0.01860</td>\n",
       "      <td>0.01340</td>\n",
       "      <td>0.01389</td>\n",
       "      <td>0.003532</td>\n",
       "      <td>24.99</td>\n",
       "      <td>23.41</td>\n",
       "      <td>158.80</td>\n",
       "      <td>1956.0</td>\n",
       "      <td>0.1238</td>\n",
       "      <td>0.1866</td>\n",
       "      <td>0.2416</td>\n",
       "      <td>0.1860</td>\n",
       "      <td>0.2750</td>\n",
       "      <td>0.08902</td>\n",
       "    </tr>\n",
       "    <tr>\n",
       "      <th>2</th>\n",
       "      <td>84300903</td>\n",
       "      <td>M</td>\n",
       "      <td>19.69</td>\n",
       "      <td>21.25</td>\n",
       "      <td>130.00</td>\n",
       "      <td>1203.0</td>\n",
       "      <td>0.10960</td>\n",
       "      <td>0.15990</td>\n",
       "      <td>0.1974</td>\n",
       "      <td>0.12790</td>\n",
       "      <td>0.2069</td>\n",
       "      <td>0.05999</td>\n",
       "      <td>0.7456</td>\n",
       "      <td>0.7869</td>\n",
       "      <td>4.585</td>\n",
       "      <td>94.03</td>\n",
       "      <td>0.006150</td>\n",
       "      <td>0.04006</td>\n",
       "      <td>0.03832</td>\n",
       "      <td>0.02058</td>\n",
       "      <td>0.02250</td>\n",
       "      <td>0.004571</td>\n",
       "      <td>23.57</td>\n",
       "      <td>25.53</td>\n",
       "      <td>152.50</td>\n",
       "      <td>1709.0</td>\n",
       "      <td>0.1444</td>\n",
       "      <td>0.4245</td>\n",
       "      <td>0.4504</td>\n",
       "      <td>0.2430</td>\n",
       "      <td>0.3613</td>\n",
       "      <td>0.08758</td>\n",
       "    </tr>\n",
       "    <tr>\n",
       "      <th>3</th>\n",
       "      <td>84348301</td>\n",
       "      <td>M</td>\n",
       "      <td>11.42</td>\n",
       "      <td>20.38</td>\n",
       "      <td>77.58</td>\n",
       "      <td>386.1</td>\n",
       "      <td>0.14250</td>\n",
       "      <td>0.28390</td>\n",
       "      <td>0.2414</td>\n",
       "      <td>0.10520</td>\n",
       "      <td>0.2597</td>\n",
       "      <td>0.09744</td>\n",
       "      <td>0.4956</td>\n",
       "      <td>1.1560</td>\n",
       "      <td>3.445</td>\n",
       "      <td>27.23</td>\n",
       "      <td>0.009110</td>\n",
       "      <td>0.07458</td>\n",
       "      <td>0.05661</td>\n",
       "      <td>0.01867</td>\n",
       "      <td>0.05963</td>\n",
       "      <td>0.009208</td>\n",
       "      <td>14.91</td>\n",
       "      <td>26.50</td>\n",
       "      <td>98.87</td>\n",
       "      <td>567.7</td>\n",
       "      <td>0.2098</td>\n",
       "      <td>0.8663</td>\n",
       "      <td>0.6869</td>\n",
       "      <td>0.2575</td>\n",
       "      <td>0.6638</td>\n",
       "      <td>0.17300</td>\n",
       "    </tr>\n",
       "    <tr>\n",
       "      <th>4</th>\n",
       "      <td>84358402</td>\n",
       "      <td>M</td>\n",
       "      <td>20.29</td>\n",
       "      <td>14.34</td>\n",
       "      <td>135.10</td>\n",
       "      <td>1297.0</td>\n",
       "      <td>0.10030</td>\n",
       "      <td>0.13280</td>\n",
       "      <td>0.1980</td>\n",
       "      <td>0.10430</td>\n",
       "      <td>0.1809</td>\n",
       "      <td>0.05883</td>\n",
       "      <td>0.7572</td>\n",
       "      <td>0.7813</td>\n",
       "      <td>5.438</td>\n",
       "      <td>94.44</td>\n",
       "      <td>0.011490</td>\n",
       "      <td>0.02461</td>\n",
       "      <td>0.05688</td>\n",
       "      <td>0.01885</td>\n",
       "      <td>0.01756</td>\n",
       "      <td>0.005115</td>\n",
       "      <td>22.54</td>\n",
       "      <td>16.67</td>\n",
       "      <td>152.20</td>\n",
       "      <td>1575.0</td>\n",
       "      <td>0.1374</td>\n",
       "      <td>0.2050</td>\n",
       "      <td>0.4000</td>\n",
       "      <td>0.1625</td>\n",
       "      <td>0.2364</td>\n",
       "      <td>0.07678</td>\n",
       "    </tr>\n",
       "  </tbody>\n",
       "</table>\n",
       "</div>"
      ],
      "text/plain": [
       "         id diagnosis  radius_mean  texture_mean  perimeter_mean  area_mean  \\\n",
       "0    842302         M        17.99         10.38          122.80     1001.0   \n",
       "1    842517         M        20.57         17.77          132.90     1326.0   \n",
       "2  84300903         M        19.69         21.25          130.00     1203.0   \n",
       "3  84348301         M        11.42         20.38           77.58      386.1   \n",
       "4  84358402         M        20.29         14.34          135.10     1297.0   \n",
       "\n",
       "   smoothness_mean  compactness_mean  concavity_mean  concave points_mean  \\\n",
       "0          0.11840           0.27760          0.3001              0.14710   \n",
       "1          0.08474           0.07864          0.0869              0.07017   \n",
       "2          0.10960           0.15990          0.1974              0.12790   \n",
       "3          0.14250           0.28390          0.2414              0.10520   \n",
       "4          0.10030           0.13280          0.1980              0.10430   \n",
       "\n",
       "   symmetry_mean  fractal_dimension_mean  radius_se  texture_se  perimeter_se  \\\n",
       "0         0.2419                 0.07871     1.0950      0.9053         8.589   \n",
       "1         0.1812                 0.05667     0.5435      0.7339         3.398   \n",
       "2         0.2069                 0.05999     0.7456      0.7869         4.585   \n",
       "3         0.2597                 0.09744     0.4956      1.1560         3.445   \n",
       "4         0.1809                 0.05883     0.7572      0.7813         5.438   \n",
       "\n",
       "   area_se  smoothness_se  compactness_se  concavity_se  concave points_se  \\\n",
       "0   153.40       0.006399         0.04904       0.05373            0.01587   \n",
       "1    74.08       0.005225         0.01308       0.01860            0.01340   \n",
       "2    94.03       0.006150         0.04006       0.03832            0.02058   \n",
       "3    27.23       0.009110         0.07458       0.05661            0.01867   \n",
       "4    94.44       0.011490         0.02461       0.05688            0.01885   \n",
       "\n",
       "   symmetry_se  fractal_dimension_se  radius_worst  texture_worst  \\\n",
       "0      0.03003              0.006193         25.38          17.33   \n",
       "1      0.01389              0.003532         24.99          23.41   \n",
       "2      0.02250              0.004571         23.57          25.53   \n",
       "3      0.05963              0.009208         14.91          26.50   \n",
       "4      0.01756              0.005115         22.54          16.67   \n",
       "\n",
       "   perimeter_worst  area_worst  smoothness_worst  compactness_worst  \\\n",
       "0           184.60      2019.0            0.1622             0.6656   \n",
       "1           158.80      1956.0            0.1238             0.1866   \n",
       "2           152.50      1709.0            0.1444             0.4245   \n",
       "3            98.87       567.7            0.2098             0.8663   \n",
       "4           152.20      1575.0            0.1374             0.2050   \n",
       "\n",
       "   concavity_worst  concave points_worst  symmetry_worst  \\\n",
       "0           0.7119                0.2654          0.4601   \n",
       "1           0.2416                0.1860          0.2750   \n",
       "2           0.4504                0.2430          0.3613   \n",
       "3           0.6869                0.2575          0.6638   \n",
       "4           0.4000                0.1625          0.2364   \n",
       "\n",
       "   fractal_dimension_worst  \n",
       "0                  0.11890  \n",
       "1                  0.08902  \n",
       "2                  0.08758  \n",
       "3                  0.17300  \n",
       "4                  0.07678  "
      ]
     },
     "metadata": {},
     "output_type": "display_data"
    }
   ],
   "source": [
    "wis = pd.read_excel('wisconsin.xlsx')\n",
    "\n",
    "display(wis.head())\n",
    "#display(wis.info())\n",
    "#display(wis.nunique())"
   ]
  },
  {
   "cell_type": "code",
   "execution_count": 125,
   "id": "bad7473e",
   "metadata": {},
   "outputs": [
    {
     "data": {
      "text/html": [
       "<style type=\"text/css\">\n",
       "#T_9ef7e_row0_col0, #T_9ef7e_row0_col2, #T_9ef7e_row1_col1, #T_9ef7e_row2_col0, #T_9ef7e_row2_col2, #T_9ef7e_row3_col3, #T_9ef7e_row4_col4, #T_9ef7e_row5_col5, #T_9ef7e_row6_col6, #T_9ef7e_row7_col7, #T_9ef7e_row8_col8, #T_9ef7e_row9_col9, #T_9ef7e_row10_col10, #T_9ef7e_row11_col11, #T_9ef7e_row12_col12, #T_9ef7e_row13_col13, #T_9ef7e_row14_col14, #T_9ef7e_row15_col15, #T_9ef7e_row16_col16, #T_9ef7e_row17_col17, #T_9ef7e_row18_col18, #T_9ef7e_row19_col19, #T_9ef7e_row20_col20, #T_9ef7e_row21_col21, #T_9ef7e_row22_col22, #T_9ef7e_row23_col23, #T_9ef7e_row24_col24, #T_9ef7e_row25_col25, #T_9ef7e_row26_col26, #T_9ef7e_row27_col27, #T_9ef7e_row28_col28, #T_9ef7e_row29_col29 {\n",
       "  background-color: #b40426;\n",
       "  color: #f1f1f1;\n",
       "}\n",
       "#T_9ef7e_row0_col1, #T_9ef7e_row4_col2, #T_9ef7e_row4_col20, #T_9ef7e_row4_col22, #T_9ef7e_row24_col22, #T_9ef7e_row27_col9 {\n",
       "  background-color: #b7cff9;\n",
       "  color: #000000;\n",
       "}\n",
       "#T_9ef7e_row0_col3, #T_9ef7e_row2_col3, #T_9ef7e_row3_col0, #T_9ef7e_row3_col2 {\n",
       "  background-color: #b70d28;\n",
       "  color: #f1f1f1;\n",
       "}\n",
       "#T_9ef7e_row0_col4, #T_9ef7e_row11_col12, #T_9ef7e_row12_col24, #T_9ef7e_row13_col16 {\n",
       "  background-color: #779af7;\n",
       "  color: #f1f1f1;\n",
       "}\n",
       "#T_9ef7e_row0_col5, #T_9ef7e_row1_col20, #T_9ef7e_row4_col6, #T_9ef7e_row19_col5 {\n",
       "  background-color: #d8dce2;\n",
       "  color: #000000;\n",
       "}\n",
       "#T_9ef7e_row0_col6, #T_9ef7e_row5_col2, #T_9ef7e_row6_col13, #T_9ef7e_row23_col6 {\n",
       "  background-color: #f6bda2;\n",
       "  color: #000000;\n",
       "}\n",
       "#T_9ef7e_row0_col7, #T_9ef7e_row3_col7, #T_9ef7e_row3_col13, #T_9ef7e_row4_col24, #T_9ef7e_row25_col29, #T_9ef7e_row27_col2, #T_9ef7e_row27_col25 {\n",
       "  background-color: #ea7b60;\n",
       "  color: #f1f1f1;\n",
       "}\n",
       "#T_9ef7e_row0_col8, #T_9ef7e_row1_col17 {\n",
       "  background-color: #5470de;\n",
       "  color: #f1f1f1;\n",
       "}\n",
       "#T_9ef7e_row0_col9, #T_9ef7e_row0_col19, #T_9ef7e_row1_col4, #T_9ef7e_row1_col8, #T_9ef7e_row9_col0, #T_9ef7e_row9_col1, #T_9ef7e_row9_col2, #T_9ef7e_row9_col3, #T_9ef7e_row9_col10, #T_9ef7e_row9_col12, #T_9ef7e_row9_col13, #T_9ef7e_row9_col20, #T_9ef7e_row9_col23, #T_9ef7e_row11_col5, #T_9ef7e_row11_col6, #T_9ef7e_row11_col7, #T_9ef7e_row11_col24, #T_9ef7e_row11_col25, #T_9ef7e_row11_col26, #T_9ef7e_row11_col27, #T_9ef7e_row11_col28, #T_9ef7e_row11_col29, #T_9ef7e_row14_col21, #T_9ef7e_row14_col22, #T_9ef7e_row18_col21, #T_9ef7e_row20_col14, #T_9ef7e_row20_col18, #T_9ef7e_row21_col15, #T_9ef7e_row21_col16, #T_9ef7e_row21_col17, #T_9ef7e_row28_col11 {\n",
       "  background-color: #3b4cc0;\n",
       "  color: #f1f1f1;\n",
       "}\n",
       "#T_9ef7e_row0_col10, #T_9ef7e_row28_col8 {\n",
       "  background-color: #f7b497;\n",
       "  color: #000000;\n",
       "}\n",
       "#T_9ef7e_row0_col11 {\n",
       "  background-color: #4358cb;\n",
       "  color: #f1f1f1;\n",
       "}\n",
       "#T_9ef7e_row0_col12, #T_9ef7e_row5_col22, #T_9ef7e_row15_col26, #T_9ef7e_row20_col6, #T_9ef7e_row26_col20 {\n",
       "  background-color: #f7b99e;\n",
       "  color: #000000;\n",
       "}\n",
       "#T_9ef7e_row0_col13, #T_9ef7e_row6_col3, #T_9ef7e_row10_col0, #T_9ef7e_row10_col2, #T_9ef7e_row12_col2 {\n",
       "  background-color: #f39778;\n",
       "  color: #000000;\n",
       "}\n",
       "#T_9ef7e_row0_col14, #T_9ef7e_row14_col7, #T_9ef7e_row20_col19, #T_9ef7e_row27_col11 {\n",
       "  background-color: #3c4ec2;\n",
       "  color: #f1f1f1;\n",
       "}\n",
       "#T_9ef7e_row0_col15, #T_9ef7e_row20_col15, #T_9ef7e_row28_col12, #T_9ef7e_row29_col11 {\n",
       "  background-color: #506bda;\n",
       "  color: #f1f1f1;\n",
       "}\n",
       "#T_9ef7e_row0_col16, #T_9ef7e_row4_col21, #T_9ef7e_row11_col15, #T_9ef7e_row11_col16, #T_9ef7e_row24_col18, #T_9ef7e_row27_col14 {\n",
       "  background-color: #5a78e4;\n",
       "  color: #f1f1f1;\n",
       "}\n",
       "#T_9ef7e_row0_col17, #T_9ef7e_row5_col18, #T_9ef7e_row10_col4, #T_9ef7e_row12_col15, #T_9ef7e_row15_col11, #T_9ef7e_row17_col11, #T_9ef7e_row21_col28, #T_9ef7e_row24_col3 {\n",
       "  background-color: #a5c3fe;\n",
       "  color: #000000;\n",
       "}\n",
       "#T_9ef7e_row0_col18, #T_9ef7e_row2_col14, #T_9ef7e_row3_col9, #T_9ef7e_row3_col19, #T_9ef7e_row21_col8, #T_9ef7e_row22_col11, #T_9ef7e_row22_col18 {\n",
       "  background-color: #4055c8;\n",
       "  color: #f1f1f1;\n",
       "}\n",
       "#T_9ef7e_row0_col20, #T_9ef7e_row2_col20, #T_9ef7e_row2_col22, #T_9ef7e_row12_col10, #T_9ef7e_row20_col2, #T_9ef7e_row22_col0, #T_9ef7e_row22_col2 {\n",
       "  background-color: #bd1f2d;\n",
       "  color: #f1f1f1;\n",
       "}\n",
       "#T_9ef7e_row0_col21, #T_9ef7e_row1_col26, #T_9ef7e_row10_col25, #T_9ef7e_row13_col25, #T_9ef7e_row14_col4, #T_9ef7e_row15_col13, #T_9ef7e_row17_col8, #T_9ef7e_row27_col1 {\n",
       "  background-color: #aec9fc;\n",
       "  color: #000000;\n",
       "}\n",
       "#T_9ef7e_row0_col22, #T_9ef7e_row3_col20, #T_9ef7e_row10_col12, #T_9ef7e_row20_col3 {\n",
       "  background-color: #be242e;\n",
       "  color: #f1f1f1;\n",
       "}\n",
       "#T_9ef7e_row0_col23, #T_9ef7e_row2_col23, #T_9ef7e_row13_col10 {\n",
       "  background-color: #c53334;\n",
       "  color: #f1f1f1;\n",
       "}\n",
       "#T_9ef7e_row0_col24, #T_9ef7e_row6_col11, #T_9ef7e_row29_col1, #T_9ef7e_row29_col18 {\n",
       "  background-color: #7597f6;\n",
       "  color: #f1f1f1;\n",
       "}\n",
       "#T_9ef7e_row0_col25, #T_9ef7e_row4_col28, #T_9ef7e_row6_col8, #T_9ef7e_row8_col29, #T_9ef7e_row15_col14, #T_9ef7e_row15_col18, #T_9ef7e_row16_col29, #T_9ef7e_row17_col13, #T_9ef7e_row21_col0 {\n",
       "  background-color: #d3dbe7;\n",
       "  color: #000000;\n",
       "}\n",
       "#T_9ef7e_row0_col26, #T_9ef7e_row4_col27, #T_9ef7e_row28_col27, #T_9ef7e_row28_col29 {\n",
       "  background-color: #ead4c8;\n",
       "  color: #000000;\n",
       "}\n",
       "#T_9ef7e_row0_col27, #T_9ef7e_row10_col20, #T_9ef7e_row10_col22, #T_9ef7e_row12_col22, #T_9ef7e_row19_col15 {\n",
       "  background-color: #f29072;\n",
       "  color: #f1f1f1;\n",
       "}\n",
       "#T_9ef7e_row0_col28, #T_9ef7e_row9_col11, #T_9ef7e_row10_col16, #T_9ef7e_row10_col19, #T_9ef7e_row12_col8, #T_9ef7e_row12_col21 {\n",
       "  background-color: #90b2fe;\n",
       "  color: #000000;\n",
       "}\n",
       "#T_9ef7e_row0_col29, #T_9ef7e_row1_col16, #T_9ef7e_row3_col18, #T_9ef7e_row3_col29, #T_9ef7e_row4_col1, #T_9ef7e_row24_col11, #T_9ef7e_row29_col10, #T_9ef7e_row29_col12 {\n",
       "  background-color: #4961d2;\n",
       "  color: #f1f1f1;\n",
       "}\n",
       "#T_9ef7e_row1_col0, #T_9ef7e_row6_col24, #T_9ef7e_row9_col15, #T_9ef7e_row17_col20, #T_9ef7e_row23_col5, #T_9ef7e_row23_col25, #T_9ef7e_row25_col4, #T_9ef7e_row28_col5 {\n",
       "  background-color: #d9dce1;\n",
       "  color: #000000;\n",
       "}\n",
       "#T_9ef7e_row1_col2, #T_9ef7e_row1_col23, #T_9ef7e_row8_col24, #T_9ef7e_row10_col17, #T_9ef7e_row14_col11, #T_9ef7e_row17_col23 {\n",
       "  background-color: #d4dbe6;\n",
       "  color: #000000;\n",
       "}\n",
       "#T_9ef7e_row1_col3, #T_9ef7e_row1_col22, #T_9ef7e_row4_col26, #T_9ef7e_row6_col19, #T_9ef7e_row8_col26, #T_9ef7e_row21_col23 {\n",
       "  background-color: #d5dbe5;\n",
       "  color: #000000;\n",
       "}\n",
       "#T_9ef7e_row1_col5, #T_9ef7e_row10_col24, #T_9ef7e_row19_col2, #T_9ef7e_row19_col13 {\n",
       "  background-color: #7b9ff9;\n",
       "  color: #f1f1f1;\n",
       "}\n",
       "#T_9ef7e_row1_col6, #T_9ef7e_row29_col0, #T_9ef7e_row29_col17 {\n",
       "  background-color: #8badfd;\n",
       "  color: #000000;\n",
       "}\n",
       "#T_9ef7e_row1_col7, #T_9ef7e_row9_col17, #T_9ef7e_row15_col24, #T_9ef7e_row19_col8, #T_9ef7e_row21_col24, #T_9ef7e_row23_col17, #T_9ef7e_row24_col21 {\n",
       "  background-color: #97b8ff;\n",
       "  color: #000000;\n",
       "}\n",
       "#T_9ef7e_row1_col9, #T_9ef7e_row13_col28, #T_9ef7e_row19_col22, #T_9ef7e_row22_col29 {\n",
       "  background-color: #7396f5;\n",
       "  color: #f1f1f1;\n",
       "}\n",
       "#T_9ef7e_row1_col10, #T_9ef7e_row12_col19, #T_9ef7e_row21_col7, #T_9ef7e_row29_col20, #T_9ef7e_row29_col21 {\n",
       "  background-color: #96b7ff;\n",
       "  color: #000000;\n",
       "}\n",
       "#T_9ef7e_row1_col11, #T_9ef7e_row12_col26, #T_9ef7e_row17_col14 {\n",
       "  background-color: #d1dae9;\n",
       "  color: #000000;\n",
       "}\n",
       "#T_9ef7e_row1_col12, #T_9ef7e_row10_col21, #T_9ef7e_row21_col29, #T_9ef7e_row29_col23 {\n",
       "  background-color: #8db0fe;\n",
       "  color: #000000;\n",
       "}\n",
       "#T_9ef7e_row1_col13, #T_9ef7e_row4_col17, #T_9ef7e_row10_col14 {\n",
       "  background-color: #a6c4fe;\n",
       "  color: #000000;\n",
       "}\n",
       "#T_9ef7e_row1_col14, #T_9ef7e_row18_col5, #T_9ef7e_row21_col10 {\n",
       "  background-color: #799cf8;\n",
       "  color: #f1f1f1;\n",
       "}\n",
       "#T_9ef7e_row1_col15, #T_9ef7e_row3_col11, #T_9ef7e_row18_col24, #T_9ef7e_row21_col4 {\n",
       "  background-color: #4b64d5;\n",
       "  color: #f1f1f1;\n",
       "}\n",
       "#T_9ef7e_row1_col18, #T_9ef7e_row14_col8, #T_9ef7e_row19_col1, #T_9ef7e_row20_col8 {\n",
       "  background-color: #6180e9;\n",
       "  color: #f1f1f1;\n",
       "}\n",
       "#T_9ef7e_row1_col19, #T_9ef7e_row2_col29, #T_9ef7e_row10_col29, #T_9ef7e_row14_col3, #T_9ef7e_row14_col5, #T_9ef7e_row18_col22 {\n",
       "  background-color: #5673e0;\n",
       "  color: #f1f1f1;\n",
       "}\n",
       "#T_9ef7e_row1_col21, #T_9ef7e_row6_col7, #T_9ef7e_row7_col27, #T_9ef7e_row21_col1 {\n",
       "  background-color: #d0473d;\n",
       "  color: #f1f1f1;\n",
       "}\n",
       "#T_9ef7e_row1_col24, #T_9ef7e_row2_col16, #T_9ef7e_row14_col29, #T_9ef7e_row18_col2, #T_9ef7e_row24_col1, #T_9ef7e_row24_col10, #T_9ef7e_row24_col17, #T_9ef7e_row25_col14 {\n",
       "  background-color: #6788ee;\n",
       "  color: #f1f1f1;\n",
       "}\n",
       "#T_9ef7e_row1_col25, #T_9ef7e_row3_col21, #T_9ef7e_row8_col3, #T_9ef7e_row8_col14, #T_9ef7e_row16_col12, #T_9ef7e_row22_col17 {\n",
       "  background-color: #abc8fd;\n",
       "  color: #000000;\n",
       "}\n",
       "#T_9ef7e_row1_col27, #T_9ef7e_row3_col1, #T_9ef7e_row4_col0 {\n",
       "  background-color: #b6cefa;\n",
       "  color: #000000;\n",
       "}\n",
       "#T_9ef7e_row1_col28, #T_9ef7e_row4_col15, #T_9ef7e_row15_col21, #T_9ef7e_row16_col1, #T_9ef7e_row18_col13, #T_9ef7e_row19_col0, #T_9ef7e_row19_col3, #T_9ef7e_row24_col19 {\n",
       "  background-color: #7da0f9;\n",
       "  color: #f1f1f1;\n",
       "}\n",
       "#T_9ef7e_row1_col29, #T_9ef7e_row11_col17, #T_9ef7e_row18_col0, #T_9ef7e_row22_col8, #T_9ef7e_row28_col15 {\n",
       "  background-color: #6c8ff1;\n",
       "  color: #f1f1f1;\n",
       "}\n",
       "#T_9ef7e_row2_col1, #T_9ef7e_row7_col16, #T_9ef7e_row15_col8, #T_9ef7e_row24_col20, #T_9ef7e_row27_col16, #T_9ef7e_row29_col16 {\n",
       "  background-color: #b9d0f9;\n",
       "  color: #000000;\n",
       "}\n",
       "#T_9ef7e_row2_col4, #T_9ef7e_row14_col15, #T_9ef7e_row16_col24, #T_9ef7e_row17_col1, #T_9ef7e_row23_col4, #T_9ef7e_row29_col3 {\n",
       "  background-color: #84a7fc;\n",
       "  color: #f1f1f1;\n",
       "}\n",
       "#T_9ef7e_row2_col5, #T_9ef7e_row6_col29, #T_9ef7e_row9_col24, #T_9ef7e_row15_col27, #T_9ef7e_row17_col12, #T_9ef7e_row27_col12 {\n",
       "  background-color: #e6d7cf;\n",
       "  color: #000000;\n",
       "}\n",
       "#T_9ef7e_row2_col6, #T_9ef7e_row2_col10, #T_9ef7e_row5_col15, #T_9ef7e_row10_col7 {\n",
       "  background-color: #f7af91;\n",
       "  color: #000000;\n",
       "}\n",
       "#T_9ef7e_row2_col7, #T_9ef7e_row27_col6, #T_9ef7e_row27_col22 {\n",
       "  background-color: #e36c55;\n",
       "  color: #f1f1f1;\n",
       "}\n",
       "#T_9ef7e_row2_col8, #T_9ef7e_row3_col16, #T_9ef7e_row11_col23, #T_9ef7e_row18_col29, #T_9ef7e_row23_col29 {\n",
       "  background-color: #5f7fe8;\n",
       "  color: #f1f1f1;\n",
       "}\n",
       "#T_9ef7e_row2_col9, #T_9ef7e_row2_col11, #T_9ef7e_row2_col19, #T_9ef7e_row21_col19 {\n",
       "  background-color: #455cce;\n",
       "  color: #f1f1f1;\n",
       "}\n",
       "#T_9ef7e_row2_col12, #T_9ef7e_row4_col9, #T_9ef7e_row13_col7 {\n",
       "  background-color: #f7b396;\n",
       "  color: #000000;\n",
       "}\n",
       "#T_9ef7e_row2_col13, #T_9ef7e_row7_col26, #T_9ef7e_row16_col15 {\n",
       "  background-color: #f29274;\n",
       "  color: #f1f1f1;\n",
       "}\n",
       "#T_9ef7e_row2_col15, #T_9ef7e_row12_col29, #T_9ef7e_row21_col14 {\n",
       "  background-color: #6282ea;\n",
       "  color: #f1f1f1;\n",
       "}\n",
       "#T_9ef7e_row2_col17, #T_9ef7e_row6_col21, #T_9ef7e_row8_col0, #T_9ef7e_row8_col20, #T_9ef7e_row12_col18, #T_9ef7e_row15_col23, #T_9ef7e_row16_col20, #T_9ef7e_row26_col1 {\n",
       "  background-color: #afcafc;\n",
       "  color: #000000;\n",
       "}\n",
       "#T_9ef7e_row2_col18, #T_9ef7e_row14_col23, #T_9ef7e_row22_col19, #T_9ef7e_row23_col11, #T_9ef7e_row23_col14 {\n",
       "  background-color: #465ecf;\n",
       "  color: #f1f1f1;\n",
       "}\n",
       "#T_9ef7e_row2_col21, #T_9ef7e_row6_col1, #T_9ef7e_row8_col2, #T_9ef7e_row22_col28, #T_9ef7e_row29_col7 {\n",
       "  background-color: #b1cbfc;\n",
       "  color: #000000;\n",
       "}\n",
       "#T_9ef7e_row2_col24, #T_9ef7e_row7_col14 {\n",
       "  background-color: #7ea1fa;\n",
       "  color: #f1f1f1;\n",
       "}\n",
       "#T_9ef7e_row2_col25, #T_9ef7e_row5_col13, #T_9ef7e_row16_col27, #T_9ef7e_row17_col22, #T_9ef7e_row18_col9, #T_9ef7e_row26_col9 {\n",
       "  background-color: #dddcdc;\n",
       "  color: #000000;\n",
       "}\n",
       "#T_9ef7e_row2_col26, #T_9ef7e_row29_col28 {\n",
       "  background-color: #f1cdba;\n",
       "  color: #000000;\n",
       "}\n",
       "#T_9ef7e_row2_col27, #T_9ef7e_row27_col23 {\n",
       "  background-color: #ee8669;\n",
       "  color: #f1f1f1;\n",
       "}\n",
       "#T_9ef7e_row2_col28, #T_9ef7e_row9_col6 {\n",
       "  background-color: #98b9ff;\n",
       "  color: #000000;\n",
       "}\n",
       "#T_9ef7e_row3_col4, #T_9ef7e_row7_col18, #T_9ef7e_row10_col28, #T_9ef7e_row21_col9, #T_9ef7e_row24_col13 {\n",
       "  background-color: #7a9df8;\n",
       "  color: #f1f1f1;\n",
       "}\n",
       "#T_9ef7e_row3_col5, #T_9ef7e_row10_col5, #T_9ef7e_row21_col11, #T_9ef7e_row29_col6 {\n",
       "  background-color: #d6dce4;\n",
       "  color: #000000;\n",
       "}\n",
       "#T_9ef7e_row3_col6, #T_9ef7e_row6_col16, #T_9ef7e_row17_col6, #T_9ef7e_row25_col7, #T_9ef7e_row25_col28 {\n",
       "  background-color: #f7ba9f;\n",
       "  color: #000000;\n",
       "}\n",
       "#T_9ef7e_row3_col8, #T_9ef7e_row11_col4, #T_9ef7e_row27_col18 {\n",
       "  background-color: #5572df;\n",
       "  color: #f1f1f1;\n",
       "}\n",
       "#T_9ef7e_row3_col10, #T_9ef7e_row8_col28 {\n",
       "  background-color: #f5a081;\n",
       "  color: #000000;\n",
       "}\n",
       "#T_9ef7e_row3_col12, #T_9ef7e_row7_col13, #T_9ef7e_row20_col10 {\n",
       "  background-color: #f7a688;\n",
       "  color: #000000;\n",
       "}\n",
       "#T_9ef7e_row3_col14, #T_9ef7e_row26_col11 {\n",
       "  background-color: #4a63d3;\n",
       "  color: #f1f1f1;\n",
       "}\n",
       "#T_9ef7e_row3_col15, #T_9ef7e_row18_col1, #T_9ef7e_row18_col27, #T_9ef7e_row22_col9 {\n",
       "  background-color: #536edd;\n",
       "  color: #f1f1f1;\n",
       "}\n",
       "#T_9ef7e_row3_col17, #T_9ef7e_row4_col19, #T_9ef7e_row25_col12 {\n",
       "  background-color: #a3c2fe;\n",
       "  color: #000000;\n",
       "}\n",
       "#T_9ef7e_row3_col22, #T_9ef7e_row3_col23, #T_9ef7e_row22_col3, #T_9ef7e_row23_col3 {\n",
       "  background-color: #c0282f;\n",
       "  color: #f1f1f1;\n",
       "}\n",
       "#T_9ef7e_row3_col24, #T_9ef7e_row11_col13, #T_9ef7e_row13_col24, #T_9ef7e_row14_col16 {\n",
       "  background-color: #7699f6;\n",
       "  color: #f1f1f1;\n",
       "}\n",
       "#T_9ef7e_row3_col25, #T_9ef7e_row19_col25, #T_9ef7e_row21_col3, #T_9ef7e_row24_col14 {\n",
       "  background-color: #cdd9ec;\n",
       "  color: #000000;\n",
       "}\n",
       "#T_9ef7e_row3_col26, #T_9ef7e_row4_col7, #T_9ef7e_row9_col5, #T_9ef7e_row14_col9, #T_9ef7e_row24_col5, #T_9ef7e_row25_col23 {\n",
       "  background-color: #e8d6cc;\n",
       "  color: #000000;\n",
       "}\n",
       "#T_9ef7e_row3_col27, #T_9ef7e_row6_col0, #T_9ef7e_row6_col20, #T_9ef7e_row12_col0, #T_9ef7e_row16_col17, #T_9ef7e_row23_col10 {\n",
       "  background-color: #f4987a;\n",
       "  color: #000000;\n",
       "}\n",
       "#T_9ef7e_row3_col28, #T_9ef7e_row17_col28, #T_9ef7e_row18_col10, #T_9ef7e_row19_col7, #T_9ef7e_row21_col6 {\n",
       "  background-color: #89acfd;\n",
       "  color: #000000;\n",
       "}\n",
       "#T_9ef7e_row4_col3, #T_9ef7e_row4_col23, #T_9ef7e_row8_col19, #T_9ef7e_row8_col22, #T_9ef7e_row15_col10, #T_9ef7e_row24_col23, #T_9ef7e_row28_col2, #T_9ef7e_row28_col23 {\n",
       "  background-color: #b2ccfb;\n",
       "  color: #000000;\n",
       "}\n",
       "#T_9ef7e_row4_col5, #T_9ef7e_row15_col6, #T_9ef7e_row22_col26, #T_9ef7e_row29_col24 {\n",
       "  background-color: #f6bfa6;\n",
       "  color: #000000;\n",
       "}\n",
       "#T_9ef7e_row4_col8, #T_9ef7e_row12_col5, #T_9ef7e_row17_col0, #T_9ef7e_row18_col14, #T_9ef7e_row25_col3 {\n",
       "  background-color: #e3d9d3;\n",
       "  color: #000000;\n",
       "}\n",
       "#T_9ef7e_row4_col10, #T_9ef7e_row5_col21, #T_9ef7e_row8_col10, #T_9ef7e_row10_col11 {\n",
       "  background-color: #9fbfff;\n",
       "  color: #000000;\n",
       "}\n",
       "#T_9ef7e_row4_col11, #T_9ef7e_row19_col20 {\n",
       "  background-color: #7295f4;\n",
       "  color: #f1f1f1;\n",
       "}\n",
       "#T_9ef7e_row4_col12, #T_9ef7e_row6_col14, #T_9ef7e_row8_col16, #T_9ef7e_row12_col9, #T_9ef7e_row17_col24 {\n",
       "  background-color: #93b5fe;\n",
       "  color: #000000;\n",
       "}\n",
       "#T_9ef7e_row4_col13, #T_9ef7e_row11_col19, #T_9ef7e_row12_col4, #T_9ef7e_row12_col11, #T_9ef7e_row12_col14, #T_9ef7e_row13_col1 {\n",
       "  background-color: #a2c1ff;\n",
       "  color: #000000;\n",
       "}\n",
       "#T_9ef7e_row4_col14, #T_9ef7e_row8_col6, #T_9ef7e_row18_col28, #T_9ef7e_row28_col18 {\n",
       "  background-color: #d2dbe8;\n",
       "  color: #000000;\n",
       "}\n",
       "#T_9ef7e_row4_col16, #T_9ef7e_row13_col8, #T_9ef7e_row13_col15, #T_9ef7e_row14_col10, #T_9ef7e_row16_col21, #T_9ef7e_row18_col3, #T_9ef7e_row21_col12, #T_9ef7e_row25_col18 {\n",
       "  background-color: #6f92f3;\n",
       "  color: #f1f1f1;\n",
       "}\n",
       "#T_9ef7e_row4_col18, #T_9ef7e_row5_col1, #T_9ef7e_row12_col16, #T_9ef7e_row16_col8, #T_9ef7e_row22_col24, #T_9ef7e_row29_col22 {\n",
       "  background-color: #9bbcff;\n",
       "  color: #000000;\n",
       "}\n",
       "#T_9ef7e_row4_col25, #T_9ef7e_row8_col25 {\n",
       "  background-color: #e1dad6;\n",
       "  color: #000000;\n",
       "}\n",
       "#T_9ef7e_row4_col29, #T_9ef7e_row5_col16, #T_9ef7e_row20_col25, #T_9ef7e_row29_col15 {\n",
       "  background-color: #e2dad5;\n",
       "  color: #000000;\n",
       "}\n",
       "#T_9ef7e_row5_col0, #T_9ef7e_row17_col5, #T_9ef7e_row24_col9, #T_9ef7e_row26_col16 {\n",
       "  background-color: #f4c5ad;\n",
       "  color: #000000;\n",
       "}\n",
       "#T_9ef7e_row5_col3, #T_9ef7e_row5_col17, #T_9ef7e_row15_col29, #T_9ef7e_row17_col7, #T_9ef7e_row19_col29, #T_9ef7e_row29_col19 {\n",
       "  background-color: #f2c9b4;\n",
       "  color: #000000;\n",
       "}\n",
       "#T_9ef7e_row5_col4, #T_9ef7e_row15_col9, #T_9ef7e_row16_col6 {\n",
       "  background-color: #f7b89c;\n",
       "  color: #000000;\n",
       "}\n",
       "#T_9ef7e_row5_col6, #T_9ef7e_row26_col6 {\n",
       "  background-color: #de614d;\n",
       "  color: #f1f1f1;\n",
       "}\n",
       "#T_9ef7e_row5_col7, #T_9ef7e_row20_col7, #T_9ef7e_row23_col13, #T_9ef7e_row29_col25 {\n",
       "  background-color: #e9785d;\n",
       "  color: #f1f1f1;\n",
       "}\n",
       "#T_9ef7e_row5_col8, #T_9ef7e_row19_col17, #T_9ef7e_row22_col5, #T_9ef7e_row23_col26 {\n",
       "  background-color: #edd1c2;\n",
       "  color: #000000;\n",
       "}\n",
       "#T_9ef7e_row5_col9 {\n",
       "  background-color: #f7b79b;\n",
       "  color: #000000;\n",
       "}\n",
       "#T_9ef7e_row5_col10, #T_9ef7e_row17_col9, #T_9ef7e_row17_col25 {\n",
       "  background-color: #dcdddd;\n",
       "  color: #000000;\n",
       "}\n",
       "#T_9ef7e_row5_col11, #T_9ef7e_row8_col21, #T_9ef7e_row17_col21 {\n",
       "  background-color: #6b8df0;\n",
       "  color: #f1f1f1;\n",
       "}\n",
       "#T_9ef7e_row5_col12, #T_9ef7e_row5_col19, #T_9ef7e_row16_col25, #T_9ef7e_row17_col2, #T_9ef7e_row27_col10, #T_9ef7e_row28_col24 {\n",
       "  background-color: #e4d9d2;\n",
       "  color: #000000;\n",
       "}\n",
       "#T_9ef7e_row5_col14, #T_9ef7e_row19_col4, #T_9ef7e_row19_col27, #T_9ef7e_row20_col17, #T_9ef7e_row23_col28 {\n",
       "  background-color: #9ebeff;\n",
       "  color: #000000;\n",
       "}\n",
       "#T_9ef7e_row5_col20, #T_9ef7e_row6_col10, #T_9ef7e_row12_col6, #T_9ef7e_row26_col23 {\n",
       "  background-color: #f5c2aa;\n",
       "  color: #000000;\n",
       "}\n",
       "#T_9ef7e_row5_col23, #T_9ef7e_row8_col9, #T_9ef7e_row12_col27, #T_9ef7e_row24_col25 {\n",
       "  background-color: #f2cab5;\n",
       "  color: #000000;\n",
       "}\n",
       "#T_9ef7e_row5_col24, #T_9ef7e_row9_col4, #T_9ef7e_row24_col27 {\n",
       "  background-color: #f1ccb8;\n",
       "  color: #000000;\n",
       "}\n",
       "#T_9ef7e_row5_col25, #T_9ef7e_row6_col5, #T_9ef7e_row6_col27 {\n",
       "  background-color: #dd5f4b;\n",
       "  color: #f1f1f1;\n",
       "}\n",
       "#T_9ef7e_row5_col26, #T_9ef7e_row27_col20 {\n",
       "  background-color: #e8765c;\n",
       "  color: #f1f1f1;\n",
       "}\n",
       "#T_9ef7e_row5_col27 {\n",
       "  background-color: #e7745b;\n",
       "  color: #f1f1f1;\n",
       "}\n",
       "#T_9ef7e_row5_col28, #T_9ef7e_row7_col4, #T_9ef7e_row27_col17, #T_9ef7e_row28_col26, #T_9ef7e_row29_col27 {\n",
       "  background-color: #ecd3c5;\n",
       "  color: #000000;\n",
       "}\n",
       "#T_9ef7e_row5_col29, #T_9ef7e_row9_col19, #T_9ef7e_row17_col15, #T_9ef7e_row26_col29 {\n",
       "  background-color: #f7ac8e;\n",
       "  color: #000000;\n",
       "}\n",
       "#T_9ef7e_row6_col2, #T_9ef7e_row6_col25, #T_9ef7e_row23_col27 {\n",
       "  background-color: #f18f71;\n",
       "  color: #f1f1f1;\n",
       "}\n",
       "#T_9ef7e_row6_col4, #T_9ef7e_row19_col14, #T_9ef7e_row27_col29 {\n",
       "  background-color: #e5d8d1;\n",
       "  color: #000000;\n",
       "}\n",
       "#T_9ef7e_row6_col9, #T_9ef7e_row28_col9 {\n",
       "  background-color: #dbdcde;\n",
       "  color: #000000;\n",
       "}\n",
       "#T_9ef7e_row6_col12, #T_9ef7e_row17_col27, #T_9ef7e_row28_col25 {\n",
       "  background-color: #f6bea4;\n",
       "  color: #000000;\n",
       "}\n",
       "#T_9ef7e_row6_col15, #T_9ef7e_row25_col22 {\n",
       "  background-color: #f3c7b1;\n",
       "  color: #000000;\n",
       "}\n",
       "#T_9ef7e_row6_col17, #T_9ef7e_row26_col2 {\n",
       "  background-color: #f7bca1;\n",
       "  color: #000000;\n",
       "}\n",
       "#T_9ef7e_row6_col18, #T_9ef7e_row20_col24, #T_9ef7e_row29_col14 {\n",
       "  background-color: #94b6ff;\n",
       "  color: #000000;\n",
       "}\n",
       "#T_9ef7e_row6_col22, #T_9ef7e_row9_col29, #T_9ef7e_row15_col16, #T_9ef7e_row20_col13, #T_9ef7e_row22_col13 {\n",
       "  background-color: #f18d6f;\n",
       "  color: #f1f1f1;\n",
       "}\n",
       "#T_9ef7e_row6_col23, #T_9ef7e_row25_col6 {\n",
       "  background-color: #f59f80;\n",
       "  color: #000000;\n",
       "}\n",
       "#T_9ef7e_row6_col26 {\n",
       "  background-color: #d85646;\n",
       "  color: #f1f1f1;\n",
       "}\n",
       "#T_9ef7e_row6_col28, #T_9ef7e_row11_col18, #T_9ef7e_row14_col18, #T_9ef7e_row15_col7, #T_9ef7e_row18_col11, #T_9ef7e_row21_col22 {\n",
       "  background-color: #d7dce3;\n",
       "  color: #000000;\n",
       "}\n",
       "#T_9ef7e_row7_col0, #T_9ef7e_row7_col20, #T_9ef7e_row27_col26 {\n",
       "  background-color: #e0654f;\n",
       "  color: #f1f1f1;\n",
       "}\n",
       "#T_9ef7e_row7_col1, #T_9ef7e_row7_col21, #T_9ef7e_row16_col23, #T_9ef7e_row17_col29, #T_9ef7e_row25_col13 {\n",
       "  background-color: #adc9fd;\n",
       "  color: #000000;\n",
       "}\n",
       "#T_9ef7e_row7_col2, #T_9ef7e_row7_col22 {\n",
       "  background-color: #dc5d4a;\n",
       "  color: #f1f1f1;\n",
       "}\n",
       "#T_9ef7e_row7_col3 {\n",
       "  background-color: #e16751;\n",
       "  color: #f1f1f1;\n",
       "}\n",
       "#T_9ef7e_row7_col5, #T_9ef7e_row25_col27, #T_9ef7e_row29_col9 {\n",
       "  background-color: #e97a5f;\n",
       "  color: #f1f1f1;\n",
       "}\n",
       "#T_9ef7e_row7_col6 {\n",
       "  background-color: #d1493f;\n",
       "  color: #f1f1f1;\n",
       "}\n",
       "#T_9ef7e_row7_col8, #T_9ef7e_row9_col18, #T_9ef7e_row10_col26, #T_9ef7e_row19_col26 {\n",
       "  background-color: #c6d6f1;\n",
       "  color: #000000;\n",
       "}\n",
       "#T_9ef7e_row7_col9, #T_9ef7e_row15_col20, #T_9ef7e_row16_col22 {\n",
       "  background-color: #b5cdfa;\n",
       "  color: #000000;\n",
       "}\n",
       "#T_9ef7e_row7_col10, #T_9ef7e_row7_col12, #T_9ef7e_row7_col25, #T_9ef7e_row19_col16 {\n",
       "  background-color: #f7ad90;\n",
       "  color: #000000;\n",
       "}\n",
       "#T_9ef7e_row7_col11 {\n",
       "  background-color: #6384eb;\n",
       "  color: #f1f1f1;\n",
       "}\n",
       "#T_9ef7e_row7_col15, #T_9ef7e_row15_col2, #T_9ef7e_row16_col14, #T_9ef7e_row19_col6, #T_9ef7e_row20_col21, #T_9ef7e_row22_col1, #T_9ef7e_row24_col6, #T_9ef7e_row26_col19, #T_9ef7e_row27_col21 {\n",
       "  background-color: #c1d4f4;\n",
       "  color: #000000;\n",
       "}\n",
       "#T_9ef7e_row7_col17, #T_9ef7e_row10_col27, #T_9ef7e_row17_col26, #T_9ef7e_row25_col20, #T_9ef7e_row26_col15, #T_9ef7e_row27_col24 {\n",
       "  background-color: #efcfbf;\n",
       "  color: #000000;\n",
       "}\n",
       "#T_9ef7e_row7_col19, #T_9ef7e_row8_col12, #T_9ef7e_row8_col13, #T_9ef7e_row16_col11, #T_9ef7e_row16_col28, #T_9ef7e_row25_col10, #T_9ef7e_row28_col21 {\n",
       "  background-color: #9abbff;\n",
       "  color: #000000;\n",
       "}\n",
       "#T_9ef7e_row7_col23, #T_9ef7e_row13_col3, #T_9ef7e_row13_col23 {\n",
       "  background-color: #e46e56;\n",
       "  color: #f1f1f1;\n",
       "}\n",
       "#T_9ef7e_row7_col24, #T_9ef7e_row8_col27, #T_9ef7e_row21_col20 {\n",
       "  background-color: #dadce0;\n",
       "  color: #000000;\n",
       "}\n",
       "#T_9ef7e_row7_col28, #T_9ef7e_row21_col2, #T_9ef7e_row26_col4 {\n",
       "  background-color: #cedaeb;\n",
       "  color: #000000;\n",
       "}\n",
       "#T_9ef7e_row7_col29, #T_9ef7e_row12_col25, #T_9ef7e_row15_col0, #T_9ef7e_row17_col4, #T_9ef7e_row18_col19, #T_9ef7e_row26_col12, #T_9ef7e_row27_col15, #T_9ef7e_row28_col20, #T_9ef7e_row29_col8 {\n",
       "  background-color: #bfd3f6;\n",
       "  color: #000000;\n",
       "}\n",
       "#T_9ef7e_row8_col1, #T_9ef7e_row11_col2, #T_9ef7e_row18_col25, #T_9ef7e_row22_col15, #T_9ef7e_row22_col16, #T_9ef7e_row26_col14 {\n",
       "  background-color: #6687ed;\n",
       "  color: #f1f1f1;\n",
       "}\n",
       "#T_9ef7e_row8_col4, #T_9ef7e_row22_col25, #T_9ef7e_row25_col2 {\n",
       "  background-color: #edd2c3;\n",
       "  color: #000000;\n",
       "}\n",
       "#T_9ef7e_row8_col5, #T_9ef7e_row13_col6, #T_9ef7e_row26_col28 {\n",
       "  background-color: #efcebd;\n",
       "  color: #000000;\n",
       "}\n",
       "#T_9ef7e_row8_col7, #T_9ef7e_row11_col21, #T_9ef7e_row14_col19 {\n",
       "  background-color: #cfdaea;\n",
       "  color: #000000;\n",
       "}\n",
       "#T_9ef7e_row8_col11, #T_9ef7e_row19_col10, #T_9ef7e_row19_col24 {\n",
       "  background-color: #85a8fc;\n",
       "  color: #f1f1f1;\n",
       "}\n",
       "#T_9ef7e_row8_col15, #T_9ef7e_row10_col1, #T_9ef7e_row10_col18, #T_9ef7e_row24_col2 {\n",
       "  background-color: #a7c5fe;\n",
       "  color: #000000;\n",
       "}\n",
       "#T_9ef7e_row8_col17, #T_9ef7e_row8_col23, #T_9ef7e_row12_col1, #T_9ef7e_row15_col4, #T_9ef7e_row16_col10, #T_9ef7e_row28_col3 {\n",
       "  background-color: #aac7fd;\n",
       "  color: #000000;\n",
       "}\n",
       "#T_9ef7e_row8_col18, #T_9ef7e_row11_col14, #T_9ef7e_row17_col3, #T_9ef7e_row29_col4 {\n",
       "  background-color: #dfdbd9;\n",
       "  color: #000000;\n",
       "}\n",
       "#T_9ef7e_row9_col7, #T_9ef7e_row14_col13, #T_9ef7e_row28_col13 {\n",
       "  background-color: #6a8bef;\n",
       "  color: #f1f1f1;\n",
       "}\n",
       "#T_9ef7e_row9_col8, #T_9ef7e_row19_col18, #T_9ef7e_row24_col7 {\n",
       "  background-color: #ccd9ed;\n",
       "  color: #000000;\n",
       "}\n",
       "#T_9ef7e_row9_col14, #T_9ef7e_row12_col17, #T_9ef7e_row17_col10, #T_9ef7e_row20_col5, #T_9ef7e_row27_col4 {\n",
       "  background-color: #e0dbd8;\n",
       "  color: #000000;\n",
       "}\n",
       "#T_9ef7e_row9_col16, #T_9ef7e_row15_col3, #T_9ef7e_row16_col0, #T_9ef7e_row27_col8 {\n",
       "  background-color: #bbd1f8;\n",
       "  color: #000000;\n",
       "}\n",
       "#T_9ef7e_row9_col21, #T_9ef7e_row14_col6 {\n",
       "  background-color: #4257c9;\n",
       "  color: #f1f1f1;\n",
       "}\n",
       "#T_9ef7e_row9_col22, #T_9ef7e_row14_col26, #T_9ef7e_row22_col14 {\n",
       "  background-color: #3d50c3;\n",
       "  color: #f1f1f1;\n",
       "}\n",
       "#T_9ef7e_row9_col25, #T_9ef7e_row26_col17 {\n",
       "  background-color: #dedcdb;\n",
       "  color: #000000;\n",
       "}\n",
       "#T_9ef7e_row9_col26, #T_9ef7e_row16_col2, #T_9ef7e_row16_col18, #T_9ef7e_row23_col1, #T_9ef7e_row26_col8 {\n",
       "  background-color: #bcd2f7;\n",
       "  color: #000000;\n",
       "}\n",
       "#T_9ef7e_row9_col27, #T_9ef7e_row13_col4, #T_9ef7e_row14_col17, #T_9ef7e_row16_col4, #T_9ef7e_row21_col13, #T_9ef7e_row23_col24 {\n",
       "  background-color: #92b4fe;\n",
       "  color: #000000;\n",
       "}\n",
       "#T_9ef7e_row9_col28, #T_9ef7e_row18_col8, #T_9ef7e_row21_col26, #T_9ef7e_row25_col21, #T_9ef7e_row28_col4 {\n",
       "  background-color: #c3d5f4;\n",
       "  color: #000000;\n",
       "}\n",
       "#T_9ef7e_row10_col3 {\n",
       "  background-color: #ef886b;\n",
       "  color: #f1f1f1;\n",
       "}\n",
       "#T_9ef7e_row10_col6, #T_9ef7e_row20_col26, #T_9ef7e_row25_col24 {\n",
       "  background-color: #f2cbb7;\n",
       "  color: #000000;\n",
       "}\n",
       "#T_9ef7e_row10_col8, #T_9ef7e_row10_col15, #T_9ef7e_row13_col14, #T_9ef7e_row15_col1, #T_9ef7e_row18_col17, #T_9ef7e_row27_col19, #T_9ef7e_row29_col2 {\n",
       "  background-color: #8caffe;\n",
       "  color: #000000;\n",
       "}\n",
       "#T_9ef7e_row10_col9, #T_9ef7e_row18_col12 {\n",
       "  background-color: #88abfd;\n",
       "  color: #000000;\n",
       "}\n",
       "#T_9ef7e_row10_col13, #T_9ef7e_row23_col0, #T_9ef7e_row23_col2 {\n",
       "  background-color: #c43032;\n",
       "  color: #f1f1f1;\n",
       "}\n",
       "#T_9ef7e_row10_col23, #T_9ef7e_row13_col0, #T_9ef7e_row13_col2 {\n",
       "  background-color: #ee8468;\n",
       "  color: #f1f1f1;\n",
       "}\n",
       "#T_9ef7e_row11_col0, #T_9ef7e_row13_col19 {\n",
       "  background-color: #6e90f2;\n",
       "  color: #f1f1f1;\n",
       "}\n",
       "#T_9ef7e_row11_col1, #T_9ef7e_row25_col8 {\n",
       "  background-color: #cad8ef;\n",
       "  color: #000000;\n",
       "}\n",
       "#T_9ef7e_row11_col3, #T_9ef7e_row13_col9, #T_9ef7e_row19_col23, #T_9ef7e_row28_col1 {\n",
       "  background-color: #7093f3;\n",
       "  color: #f1f1f1;\n",
       "}\n",
       "#T_9ef7e_row11_col8, #T_9ef7e_row13_col29, #T_9ef7e_row23_col9, #T_9ef7e_row28_col17 {\n",
       "  background-color: #4c66d6;\n",
       "  color: #f1f1f1;\n",
       "}\n",
       "#T_9ef7e_row11_col9, #T_9ef7e_row13_col17, #T_9ef7e_row14_col24, #T_9ef7e_row15_col28, #T_9ef7e_row19_col11, #T_9ef7e_row28_col0, #T_9ef7e_row28_col6, #T_9ef7e_row28_col7 {\n",
       "  background-color: #b3cdfb;\n",
       "  color: #000000;\n",
       "}\n",
       "#T_9ef7e_row11_col10, #T_9ef7e_row12_col28, #T_9ef7e_row13_col11, #T_9ef7e_row19_col12, #T_9ef7e_row19_col28, #T_9ef7e_row21_col5 {\n",
       "  background-color: #80a3fa;\n",
       "  color: #f1f1f1;\n",
       "}\n",
       "#T_9ef7e_row11_col20, #T_9ef7e_row18_col6 {\n",
       "  background-color: #5d7ce6;\n",
       "  color: #f1f1f1;\n",
       "}\n",
       "#T_9ef7e_row11_col22, #T_9ef7e_row20_col16, #T_9ef7e_row24_col12, #T_9ef7e_row28_col10 {\n",
       "  background-color: #5875e1;\n",
       "  color: #f1f1f1;\n",
       "}\n",
       "#T_9ef7e_row12_col3 {\n",
       "  background-color: #f08a6c;\n",
       "  color: #f1f1f1;\n",
       "}\n",
       "#T_9ef7e_row12_col7, #T_9ef7e_row15_col25, #T_9ef7e_row29_col26 {\n",
       "  background-color: #f7aa8c;\n",
       "  color: #000000;\n",
       "}\n",
       "#T_9ef7e_row12_col13 {\n",
       "  background-color: #c83836;\n",
       "  color: #f1f1f1;\n",
       "}\n",
       "#T_9ef7e_row12_col20 {\n",
       "  background-color: #f39577;\n",
       "  color: #000000;\n",
       "}\n",
       "#T_9ef7e_row12_col23, #T_9ef7e_row27_col3 {\n",
       "  background-color: #f08b6e;\n",
       "  color: #f1f1f1;\n",
       "}\n",
       "#T_9ef7e_row13_col5, #T_9ef7e_row16_col7, #T_9ef7e_row21_col27, #T_9ef7e_row25_col16 {\n",
       "  background-color: #c9d7f0;\n",
       "  color: #000000;\n",
       "}\n",
       "#T_9ef7e_row13_col12 {\n",
       "  background-color: #cb3e38;\n",
       "  color: #f1f1f1;\n",
       "}\n",
       "#T_9ef7e_row13_col18, #T_9ef7e_row18_col16, #T_9ef7e_row20_col4 {\n",
       "  background-color: #86a9fc;\n",
       "  color: #f1f1f1;\n",
       "}\n",
       "#T_9ef7e_row13_col20, #T_9ef7e_row23_col7, #T_9ef7e_row26_col5, #T_9ef7e_row27_col0, #T_9ef7e_row27_col5 {\n",
       "  background-color: #ec8165;\n",
       "  color: #f1f1f1;\n",
       "}\n",
       "#T_9ef7e_row13_col21, #T_9ef7e_row22_col4 {\n",
       "  background-color: #8fb1fe;\n",
       "  color: #000000;\n",
       "}\n",
       "#T_9ef7e_row13_col22 {\n",
       "  background-color: #ed8366;\n",
       "  color: #f1f1f1;\n",
       "}\n",
       "#T_9ef7e_row13_col26 {\n",
       "  background-color: #c7d7f0;\n",
       "  color: #000000;\n",
       "}\n",
       "#T_9ef7e_row13_col27, #T_9ef7e_row25_col9 {\n",
       "  background-color: #f0cdbb;\n",
       "  color: #000000;\n",
       "}\n",
       "#T_9ef7e_row14_col0, #T_9ef7e_row19_col21 {\n",
       "  background-color: #4f69d9;\n",
       "  color: #f1f1f1;\n",
       "}\n",
       "#T_9ef7e_row14_col1, #T_9ef7e_row18_col7, #T_9ef7e_row24_col16 {\n",
       "  background-color: #516ddb;\n",
       "  color: #f1f1f1;\n",
       "}\n",
       "#T_9ef7e_row14_col2, #T_9ef7e_row20_col9, #T_9ef7e_row21_col18 {\n",
       "  background-color: #485fd1;\n",
       "  color: #f1f1f1;\n",
       "}\n",
       "#T_9ef7e_row14_col12, #T_9ef7e_row23_col8 {\n",
       "  background-color: #5e7de7;\n",
       "  color: #f1f1f1;\n",
       "}\n",
       "#T_9ef7e_row14_col20, #T_9ef7e_row14_col27, #T_9ef7e_row14_col28, #T_9ef7e_row23_col18, #T_9ef7e_row23_col19 {\n",
       "  background-color: #3f53c6;\n",
       "  color: #f1f1f1;\n",
       "}\n",
       "#T_9ef7e_row14_col25, #T_9ef7e_row25_col11 {\n",
       "  background-color: #445acc;\n",
       "  color: #f1f1f1;\n",
       "}\n",
       "#T_9ef7e_row15_col5 {\n",
       "  background-color: #f6a385;\n",
       "  color: #000000;\n",
       "}\n",
       "#T_9ef7e_row15_col12, #T_9ef7e_row15_col22, #T_9ef7e_row17_col18, #T_9ef7e_row23_col21 {\n",
       "  background-color: #bed2f6;\n",
       "  color: #000000;\n",
       "}\n",
       "#T_9ef7e_row15_col17, #T_9ef7e_row22_col10, #T_9ef7e_row23_col12 {\n",
       "  background-color: #f6a586;\n",
       "  color: #000000;\n",
       "}\n",
       "#T_9ef7e_row15_col19, #T_9ef7e_row20_col27, #T_9ef7e_row24_col4 {\n",
       "  background-color: #ec7f63;\n",
       "  color: #f1f1f1;\n",
       "}\n",
       "#T_9ef7e_row16_col3, #T_9ef7e_row24_col8, #T_9ef7e_row26_col10 {\n",
       "  background-color: #bad0f8;\n",
       "  color: #000000;\n",
       "}\n",
       "#T_9ef7e_row16_col5, #T_9ef7e_row24_col26 {\n",
       "  background-color: #e9d5cb;\n",
       "  color: #000000;\n",
       "}\n",
       "#T_9ef7e_row16_col9, #T_9ef7e_row27_col13 {\n",
       "  background-color: #eed0c0;\n",
       "  color: #000000;\n",
       "}\n",
       "#T_9ef7e_row16_col13, #T_9ef7e_row20_col28, #T_9ef7e_row24_col0, #T_9ef7e_row25_col1 {\n",
       "  background-color: #a9c6fd;\n",
       "  color: #000000;\n",
       "}\n",
       "#T_9ef7e_row16_col19 {\n",
       "  background-color: #f59d7e;\n",
       "  color: #000000;\n",
       "}\n",
       "#T_9ef7e_row16_col26, #T_9ef7e_row20_col12, #T_9ef7e_row26_col22 {\n",
       "  background-color: #f7b194;\n",
       "  color: #000000;\n",
       "}\n",
       "#T_9ef7e_row17_col16, #T_9ef7e_row26_col7 {\n",
       "  background-color: #f49a7b;\n",
       "  color: #000000;\n",
       "}\n",
       "#T_9ef7e_row17_col19, #T_9ef7e_row25_col15 {\n",
       "  background-color: #f5c4ac;\n",
       "  color: #000000;\n",
       "}\n",
       "#T_9ef7e_row18_col4 {\n",
       "  background-color: #82a6fb;\n",
       "  color: #f1f1f1;\n",
       "}\n",
       "#T_9ef7e_row18_col15 {\n",
       "  background-color: #9dbdff;\n",
       "  color: #000000;\n",
       "}\n",
       "#T_9ef7e_row18_col20, #T_9ef7e_row18_col23, #T_9ef7e_row18_col26, #T_9ef7e_row23_col16, #T_9ef7e_row24_col15, #T_9ef7e_row28_col14, #T_9ef7e_row29_col13 {\n",
       "  background-color: #5977e3;\n",
       "  color: #f1f1f1;\n",
       "}\n",
       "#T_9ef7e_row19_col9 {\n",
       "  background-color: #f39475;\n",
       "  color: #000000;\n",
       "}\n",
       "#T_9ef7e_row20_col0 {\n",
       "  background-color: #bb1b2c;\n",
       "  color: #f1f1f1;\n",
       "}\n",
       "#T_9ef7e_row20_col1, #T_9ef7e_row25_col17, #T_9ef7e_row28_col22 {\n",
       "  background-color: #c0d4f5;\n",
       "  color: #000000;\n",
       "}\n",
       "#T_9ef7e_row20_col11 {\n",
       "  background-color: #3e51c5;\n",
       "  color: #f1f1f1;\n",
       "}\n",
       "#T_9ef7e_row20_col22, #T_9ef7e_row22_col20 {\n",
       "  background-color: #b50927;\n",
       "  color: #f1f1f1;\n",
       "}\n",
       "#T_9ef7e_row20_col23, #T_9ef7e_row23_col20 {\n",
       "  background-color: #b8122a;\n",
       "  color: #f1f1f1;\n",
       "}\n",
       "#T_9ef7e_row20_col29 {\n",
       "  background-color: #6485ec;\n",
       "  color: #f1f1f1;\n",
       "}\n",
       "#T_9ef7e_row21_col25, #T_9ef7e_row25_col19 {\n",
       "  background-color: #c5d6f2;\n",
       "  color: #000000;\n",
       "}\n",
       "#T_9ef7e_row22_col6, #T_9ef7e_row22_col12 {\n",
       "  background-color: #f7a98b;\n",
       "  color: #000000;\n",
       "}\n",
       "#T_9ef7e_row22_col7 {\n",
       "  background-color: #e36b54;\n",
       "  color: #f1f1f1;\n",
       "}\n",
       "#T_9ef7e_row22_col21, #T_9ef7e_row26_col21 {\n",
       "  background-color: #c4d5f3;\n",
       "  color: #000000;\n",
       "}\n",
       "#T_9ef7e_row22_col23, #T_9ef7e_row23_col22 {\n",
       "  background-color: #ba162b;\n",
       "  color: #f1f1f1;\n",
       "}\n",
       "#T_9ef7e_row22_col27 {\n",
       "  background-color: #e67259;\n",
       "  color: #f1f1f1;\n",
       "}\n",
       "#T_9ef7e_row23_col15 {\n",
       "  background-color: #4e68d8;\n",
       "  color: #f1f1f1;\n",
       "}\n",
       "#T_9ef7e_row24_col28, #T_9ef7e_row25_col0, #T_9ef7e_row26_col24 {\n",
       "  background-color: #ead5c9;\n",
       "  color: #000000;\n",
       "}\n",
       "#T_9ef7e_row24_col29 {\n",
       "  background-color: #f5c1a9;\n",
       "  color: #000000;\n",
       "}\n",
       "#T_9ef7e_row25_col5 {\n",
       "  background-color: #e26952;\n",
       "  color: #f1f1f1;\n",
       "}\n",
       "#T_9ef7e_row25_col26, #T_9ef7e_row26_col25 {\n",
       "  background-color: #d65244;\n",
       "  color: #f1f1f1;\n",
       "}\n",
       "#T_9ef7e_row26_col0 {\n",
       "  background-color: #f5c0a7;\n",
       "  color: #000000;\n",
       "}\n",
       "#T_9ef7e_row26_col3 {\n",
       "  background-color: #f4c6af;\n",
       "  color: #000000;\n",
       "}\n",
       "#T_9ef7e_row26_col13 {\n",
       "  background-color: #cbd8ee;\n",
       "  color: #000000;\n",
       "}\n",
       "#T_9ef7e_row26_col18, #T_9ef7e_row28_col19 {\n",
       "  background-color: #688aef;\n",
       "  color: #f1f1f1;\n",
       "}\n",
       "#T_9ef7e_row26_col27 {\n",
       "  background-color: #df634e;\n",
       "  color: #f1f1f1;\n",
       "}\n",
       "#T_9ef7e_row27_col7 {\n",
       "  background-color: #d44e41;\n",
       "  color: #f1f1f1;\n",
       "}\n",
       "#T_9ef7e_row27_col28 {\n",
       "  background-color: #ebd3c6;\n",
       "  color: #000000;\n",
       "}\n",
       "#T_9ef7e_row28_col16 {\n",
       "  background-color: #5b7ae5;\n",
       "  color: #f1f1f1;\n",
       "}\n",
       "#T_9ef7e_row29_col5 {\n",
       "  background-color: #f7b599;\n",
       "  color: #000000;\n",
       "}\n",
       "</style>\n",
       "<table id=\"T_9ef7e\">\n",
       "  <thead>\n",
       "    <tr>\n",
       "      <th class=\"blank level0\" >&nbsp;</th>\n",
       "      <th id=\"T_9ef7e_level0_col0\" class=\"col_heading level0 col0\" >radius_mean</th>\n",
       "      <th id=\"T_9ef7e_level0_col1\" class=\"col_heading level0 col1\" >texture_mean</th>\n",
       "      <th id=\"T_9ef7e_level0_col2\" class=\"col_heading level0 col2\" >perimeter_mean</th>\n",
       "      <th id=\"T_9ef7e_level0_col3\" class=\"col_heading level0 col3\" >area_mean</th>\n",
       "      <th id=\"T_9ef7e_level0_col4\" class=\"col_heading level0 col4\" >smoothness_mean</th>\n",
       "      <th id=\"T_9ef7e_level0_col5\" class=\"col_heading level0 col5\" >compactness_mean</th>\n",
       "      <th id=\"T_9ef7e_level0_col6\" class=\"col_heading level0 col6\" >concavity_mean</th>\n",
       "      <th id=\"T_9ef7e_level0_col7\" class=\"col_heading level0 col7\" >concave points_mean</th>\n",
       "      <th id=\"T_9ef7e_level0_col8\" class=\"col_heading level0 col8\" >symmetry_mean</th>\n",
       "      <th id=\"T_9ef7e_level0_col9\" class=\"col_heading level0 col9\" >fractal_dimension_mean</th>\n",
       "      <th id=\"T_9ef7e_level0_col10\" class=\"col_heading level0 col10\" >radius_se</th>\n",
       "      <th id=\"T_9ef7e_level0_col11\" class=\"col_heading level0 col11\" >texture_se</th>\n",
       "      <th id=\"T_9ef7e_level0_col12\" class=\"col_heading level0 col12\" >perimeter_se</th>\n",
       "      <th id=\"T_9ef7e_level0_col13\" class=\"col_heading level0 col13\" >area_se</th>\n",
       "      <th id=\"T_9ef7e_level0_col14\" class=\"col_heading level0 col14\" >smoothness_se</th>\n",
       "      <th id=\"T_9ef7e_level0_col15\" class=\"col_heading level0 col15\" >compactness_se</th>\n",
       "      <th id=\"T_9ef7e_level0_col16\" class=\"col_heading level0 col16\" >concavity_se</th>\n",
       "      <th id=\"T_9ef7e_level0_col17\" class=\"col_heading level0 col17\" >concave points_se</th>\n",
       "      <th id=\"T_9ef7e_level0_col18\" class=\"col_heading level0 col18\" >symmetry_se</th>\n",
       "      <th id=\"T_9ef7e_level0_col19\" class=\"col_heading level0 col19\" >fractal_dimension_se</th>\n",
       "      <th id=\"T_9ef7e_level0_col20\" class=\"col_heading level0 col20\" >radius_worst</th>\n",
       "      <th id=\"T_9ef7e_level0_col21\" class=\"col_heading level0 col21\" >texture_worst</th>\n",
       "      <th id=\"T_9ef7e_level0_col22\" class=\"col_heading level0 col22\" >perimeter_worst</th>\n",
       "      <th id=\"T_9ef7e_level0_col23\" class=\"col_heading level0 col23\" >area_worst</th>\n",
       "      <th id=\"T_9ef7e_level0_col24\" class=\"col_heading level0 col24\" >smoothness_worst</th>\n",
       "      <th id=\"T_9ef7e_level0_col25\" class=\"col_heading level0 col25\" >compactness_worst</th>\n",
       "      <th id=\"T_9ef7e_level0_col26\" class=\"col_heading level0 col26\" >concavity_worst</th>\n",
       "      <th id=\"T_9ef7e_level0_col27\" class=\"col_heading level0 col27\" >concave points_worst</th>\n",
       "      <th id=\"T_9ef7e_level0_col28\" class=\"col_heading level0 col28\" >symmetry_worst</th>\n",
       "      <th id=\"T_9ef7e_level0_col29\" class=\"col_heading level0 col29\" >fractal_dimension_worst</th>\n",
       "    </tr>\n",
       "  </thead>\n",
       "  <tbody>\n",
       "    <tr>\n",
       "      <th id=\"T_9ef7e_level0_row0\" class=\"row_heading level0 row0\" >radius_mean</th>\n",
       "      <td id=\"T_9ef7e_row0_col0\" class=\"data row0 col0\" >1.000</td>\n",
       "      <td id=\"T_9ef7e_row0_col1\" class=\"data row0 col1\" >0.324</td>\n",
       "      <td id=\"T_9ef7e_row0_col2\" class=\"data row0 col2\" >0.998</td>\n",
       "      <td id=\"T_9ef7e_row0_col3\" class=\"data row0 col3\" >0.987</td>\n",
       "      <td id=\"T_9ef7e_row0_col4\" class=\"data row0 col4\" >0.171</td>\n",
       "      <td id=\"T_9ef7e_row0_col5\" class=\"data row0 col5\" >0.506</td>\n",
       "      <td id=\"T_9ef7e_row0_col6\" class=\"data row0 col6\" >0.677</td>\n",
       "      <td id=\"T_9ef7e_row0_col7\" class=\"data row0 col7\" >0.823</td>\n",
       "      <td id=\"T_9ef7e_row0_col8\" class=\"data row0 col8\" >0.148</td>\n",
       "      <td id=\"T_9ef7e_row0_col9\" class=\"data row0 col9\" >-0.312</td>\n",
       "      <td id=\"T_9ef7e_row0_col10\" class=\"data row0 col10\" >0.679</td>\n",
       "      <td id=\"T_9ef7e_row0_col11\" class=\"data row0 col11\" >-0.097</td>\n",
       "      <td id=\"T_9ef7e_row0_col12\" class=\"data row0 col12\" >0.674</td>\n",
       "      <td id=\"T_9ef7e_row0_col13\" class=\"data row0 col13\" >0.736</td>\n",
       "      <td id=\"T_9ef7e_row0_col14\" class=\"data row0 col14\" >-0.223</td>\n",
       "      <td id=\"T_9ef7e_row0_col15\" class=\"data row0 col15\" >0.206</td>\n",
       "      <td id=\"T_9ef7e_row0_col16\" class=\"data row0 col16\" >0.194</td>\n",
       "      <td id=\"T_9ef7e_row0_col17\" class=\"data row0 col17\" >0.376</td>\n",
       "      <td id=\"T_9ef7e_row0_col18\" class=\"data row0 col18\" >-0.104</td>\n",
       "      <td id=\"T_9ef7e_row0_col19\" class=\"data row0 col19\" >-0.043</td>\n",
       "      <td id=\"T_9ef7e_row0_col20\" class=\"data row0 col20\" >0.970</td>\n",
       "      <td id=\"T_9ef7e_row0_col21\" class=\"data row0 col21\" >0.297</td>\n",
       "      <td id=\"T_9ef7e_row0_col22\" class=\"data row0 col22\" >0.965</td>\n",
       "      <td id=\"T_9ef7e_row0_col23\" class=\"data row0 col23\" >0.941</td>\n",
       "      <td id=\"T_9ef7e_row0_col24\" class=\"data row0 col24\" >0.120</td>\n",
       "      <td id=\"T_9ef7e_row0_col25\" class=\"data row0 col25\" >0.413</td>\n",
       "      <td id=\"T_9ef7e_row0_col26\" class=\"data row0 col26\" >0.527</td>\n",
       "      <td id=\"T_9ef7e_row0_col27\" class=\"data row0 col27\" >0.744</td>\n",
       "      <td id=\"T_9ef7e_row0_col28\" class=\"data row0 col28\" >0.164</td>\n",
       "      <td id=\"T_9ef7e_row0_col29\" class=\"data row0 col29\" >0.007</td>\n",
       "    </tr>\n",
       "    <tr>\n",
       "      <th id=\"T_9ef7e_level0_row1\" class=\"row_heading level0 row1\" >texture_mean</th>\n",
       "      <td id=\"T_9ef7e_row1_col0\" class=\"data row1 col0\" >0.324</td>\n",
       "      <td id=\"T_9ef7e_row1_col1\" class=\"data row1 col1\" >1.000</td>\n",
       "      <td id=\"T_9ef7e_row1_col2\" class=\"data row1 col2\" >0.330</td>\n",
       "      <td id=\"T_9ef7e_row1_col3\" class=\"data row1 col3\" >0.321</td>\n",
       "      <td id=\"T_9ef7e_row1_col4\" class=\"data row1 col4\" >-0.023</td>\n",
       "      <td id=\"T_9ef7e_row1_col5\" class=\"data row1 col5\" >0.237</td>\n",
       "      <td id=\"T_9ef7e_row1_col6\" class=\"data row1 col6\" >0.302</td>\n",
       "      <td id=\"T_9ef7e_row1_col7\" class=\"data row1 col7\" >0.293</td>\n",
       "      <td id=\"T_9ef7e_row1_col8\" class=\"data row1 col8\" >0.071</td>\n",
       "      <td id=\"T_9ef7e_row1_col9\" class=\"data row1 col9\" >-0.076</td>\n",
       "      <td id=\"T_9ef7e_row1_col10\" class=\"data row1 col10\" >0.276</td>\n",
       "      <td id=\"T_9ef7e_row1_col11\" class=\"data row1 col11\" >0.386</td>\n",
       "      <td id=\"T_9ef7e_row1_col12\" class=\"data row1 col12\" >0.282</td>\n",
       "      <td id=\"T_9ef7e_row1_col13\" class=\"data row1 col13\" >0.260</td>\n",
       "      <td id=\"T_9ef7e_row1_col14\" class=\"data row1 col14\" >0.007</td>\n",
       "      <td id=\"T_9ef7e_row1_col15\" class=\"data row1 col15\" >0.192</td>\n",
       "      <td id=\"T_9ef7e_row1_col16\" class=\"data row1 col16\" >0.143</td>\n",
       "      <td id=\"T_9ef7e_row1_col17\" class=\"data row1 col17\" >0.164</td>\n",
       "      <td id=\"T_9ef7e_row1_col18\" class=\"data row1 col18\" >0.009</td>\n",
       "      <td id=\"T_9ef7e_row1_col19\" class=\"data row1 col19\" >0.054</td>\n",
       "      <td id=\"T_9ef7e_row1_col20\" class=\"data row1 col20\" >0.353</td>\n",
       "      <td id=\"T_9ef7e_row1_col21\" class=\"data row1 col21\" >0.912</td>\n",
       "      <td id=\"T_9ef7e_row1_col22\" class=\"data row1 col22\" >0.358</td>\n",
       "      <td id=\"T_9ef7e_row1_col23\" class=\"data row1 col23\" >0.344</td>\n",
       "      <td id=\"T_9ef7e_row1_col24\" class=\"data row1 col24\" >0.078</td>\n",
       "      <td id=\"T_9ef7e_row1_col25\" class=\"data row1 col25\" >0.278</td>\n",
       "      <td id=\"T_9ef7e_row1_col26\" class=\"data row1 col26\" >0.301</td>\n",
       "      <td id=\"T_9ef7e_row1_col27\" class=\"data row1 col27\" >0.295</td>\n",
       "      <td id=\"T_9ef7e_row1_col28\" class=\"data row1 col28\" >0.105</td>\n",
       "      <td id=\"T_9ef7e_row1_col29\" class=\"data row1 col29\" >0.119</td>\n",
       "    </tr>\n",
       "    <tr>\n",
       "      <th id=\"T_9ef7e_level0_row2\" class=\"row_heading level0 row2\" >perimeter_mean</th>\n",
       "      <td id=\"T_9ef7e_row2_col0\" class=\"data row2 col0\" >0.998</td>\n",
       "      <td id=\"T_9ef7e_row2_col1\" class=\"data row2 col1\" >0.330</td>\n",
       "      <td id=\"T_9ef7e_row2_col2\" class=\"data row2 col2\" >1.000</td>\n",
       "      <td id=\"T_9ef7e_row2_col3\" class=\"data row2 col3\" >0.987</td>\n",
       "      <td id=\"T_9ef7e_row2_col4\" class=\"data row2 col4\" >0.207</td>\n",
       "      <td id=\"T_9ef7e_row2_col5\" class=\"data row2 col5\" >0.557</td>\n",
       "      <td id=\"T_9ef7e_row2_col6\" class=\"data row2 col6\" >0.716</td>\n",
       "      <td id=\"T_9ef7e_row2_col7\" class=\"data row2 col7\" >0.851</td>\n",
       "      <td id=\"T_9ef7e_row2_col8\" class=\"data row2 col8\" >0.183</td>\n",
       "      <td id=\"T_9ef7e_row2_col9\" class=\"data row2 col9\" >-0.261</td>\n",
       "      <td id=\"T_9ef7e_row2_col10\" class=\"data row2 col10\" >0.692</td>\n",
       "      <td id=\"T_9ef7e_row2_col11\" class=\"data row2 col11\" >-0.087</td>\n",
       "      <td id=\"T_9ef7e_row2_col12\" class=\"data row2 col12\" >0.693</td>\n",
       "      <td id=\"T_9ef7e_row2_col13\" class=\"data row2 col13\" >0.745</td>\n",
       "      <td id=\"T_9ef7e_row2_col14\" class=\"data row2 col14\" >-0.203</td>\n",
       "      <td id=\"T_9ef7e_row2_col15\" class=\"data row2 col15\" >0.251</td>\n",
       "      <td id=\"T_9ef7e_row2_col16\" class=\"data row2 col16\" >0.228</td>\n",
       "      <td id=\"T_9ef7e_row2_col17\" class=\"data row2 col17\" >0.407</td>\n",
       "      <td id=\"T_9ef7e_row2_col18\" class=\"data row2 col18\" >-0.082</td>\n",
       "      <td id=\"T_9ef7e_row2_col19\" class=\"data row2 col19\" >-0.006</td>\n",
       "      <td id=\"T_9ef7e_row2_col20\" class=\"data row2 col20\" >0.969</td>\n",
       "      <td id=\"T_9ef7e_row2_col21\" class=\"data row2 col21\" >0.303</td>\n",
       "      <td id=\"T_9ef7e_row2_col22\" class=\"data row2 col22\" >0.970</td>\n",
       "      <td id=\"T_9ef7e_row2_col23\" class=\"data row2 col23\" >0.942</td>\n",
       "      <td id=\"T_9ef7e_row2_col24\" class=\"data row2 col24\" >0.151</td>\n",
       "      <td id=\"T_9ef7e_row2_col25\" class=\"data row2 col25\" >0.456</td>\n",
       "      <td id=\"T_9ef7e_row2_col26\" class=\"data row2 col26\" >0.564</td>\n",
       "      <td id=\"T_9ef7e_row2_col27\" class=\"data row2 col27\" >0.771</td>\n",
       "      <td id=\"T_9ef7e_row2_col28\" class=\"data row2 col28\" >0.189</td>\n",
       "      <td id=\"T_9ef7e_row2_col29\" class=\"data row2 col29\" >0.051</td>\n",
       "    </tr>\n",
       "    <tr>\n",
       "      <th id=\"T_9ef7e_level0_row3\" class=\"row_heading level0 row3\" >area_mean</th>\n",
       "      <td id=\"T_9ef7e_row3_col0\" class=\"data row3 col0\" >0.987</td>\n",
       "      <td id=\"T_9ef7e_row3_col1\" class=\"data row3 col1\" >0.321</td>\n",
       "      <td id=\"T_9ef7e_row3_col2\" class=\"data row3 col2\" >0.987</td>\n",
       "      <td id=\"T_9ef7e_row3_col3\" class=\"data row3 col3\" >1.000</td>\n",
       "      <td id=\"T_9ef7e_row3_col4\" class=\"data row3 col4\" >0.177</td>\n",
       "      <td id=\"T_9ef7e_row3_col5\" class=\"data row3 col5\" >0.499</td>\n",
       "      <td id=\"T_9ef7e_row3_col6\" class=\"data row3 col6\" >0.686</td>\n",
       "      <td id=\"T_9ef7e_row3_col7\" class=\"data row3 col7\" >0.823</td>\n",
       "      <td id=\"T_9ef7e_row3_col8\" class=\"data row3 col8\" >0.151</td>\n",
       "      <td id=\"T_9ef7e_row3_col9\" class=\"data row3 col9\" >-0.283</td>\n",
       "      <td id=\"T_9ef7e_row3_col10\" class=\"data row3 col10\" >0.733</td>\n",
       "      <td id=\"T_9ef7e_row3_col11\" class=\"data row3 col11\" >-0.066</td>\n",
       "      <td id=\"T_9ef7e_row3_col12\" class=\"data row3 col12\" >0.727</td>\n",
       "      <td id=\"T_9ef7e_row3_col13\" class=\"data row3 col13\" >0.800</td>\n",
       "      <td id=\"T_9ef7e_row3_col14\" class=\"data row3 col14\" >-0.167</td>\n",
       "      <td id=\"T_9ef7e_row3_col15\" class=\"data row3 col15\" >0.213</td>\n",
       "      <td id=\"T_9ef7e_row3_col16\" class=\"data row3 col16\" >0.208</td>\n",
       "      <td id=\"T_9ef7e_row3_col17\" class=\"data row3 col17\" >0.372</td>\n",
       "      <td id=\"T_9ef7e_row3_col18\" class=\"data row3 col18\" >-0.072</td>\n",
       "      <td id=\"T_9ef7e_row3_col19\" class=\"data row3 col19\" >-0.020</td>\n",
       "      <td id=\"T_9ef7e_row3_col20\" class=\"data row3 col20\" >0.963</td>\n",
       "      <td id=\"T_9ef7e_row3_col21\" class=\"data row3 col21\" >0.287</td>\n",
       "      <td id=\"T_9ef7e_row3_col22\" class=\"data row3 col22\" >0.959</td>\n",
       "      <td id=\"T_9ef7e_row3_col23\" class=\"data row3 col23\" >0.959</td>\n",
       "      <td id=\"T_9ef7e_row3_col24\" class=\"data row3 col24\" >0.124</td>\n",
       "      <td id=\"T_9ef7e_row3_col25\" class=\"data row3 col25\" >0.390</td>\n",
       "      <td id=\"T_9ef7e_row3_col26\" class=\"data row3 col26\" >0.513</td>\n",
       "      <td id=\"T_9ef7e_row3_col27\" class=\"data row3 col27\" >0.722</td>\n",
       "      <td id=\"T_9ef7e_row3_col28\" class=\"data row3 col28\" >0.144</td>\n",
       "      <td id=\"T_9ef7e_row3_col29\" class=\"data row3 col29\" >0.004</td>\n",
       "    </tr>\n",
       "    <tr>\n",
       "      <th id=\"T_9ef7e_level0_row4\" class=\"row_heading level0 row4\" >smoothness_mean</th>\n",
       "      <td id=\"T_9ef7e_row4_col0\" class=\"data row4 col0\" >0.171</td>\n",
       "      <td id=\"T_9ef7e_row4_col1\" class=\"data row4 col1\" >-0.023</td>\n",
       "      <td id=\"T_9ef7e_row4_col2\" class=\"data row4 col2\" >0.207</td>\n",
       "      <td id=\"T_9ef7e_row4_col3\" class=\"data row4 col3\" >0.177</td>\n",
       "      <td id=\"T_9ef7e_row4_col4\" class=\"data row4 col4\" >1.000</td>\n",
       "      <td id=\"T_9ef7e_row4_col5\" class=\"data row4 col5\" >0.659</td>\n",
       "      <td id=\"T_9ef7e_row4_col6\" class=\"data row4 col6\" >0.522</td>\n",
       "      <td id=\"T_9ef7e_row4_col7\" class=\"data row4 col7\" >0.554</td>\n",
       "      <td id=\"T_9ef7e_row4_col8\" class=\"data row4 col8\" >0.558</td>\n",
       "      <td id=\"T_9ef7e_row4_col9\" class=\"data row4 col9\" >0.585</td>\n",
       "      <td id=\"T_9ef7e_row4_col10\" class=\"data row4 col10\" >0.301</td>\n",
       "      <td id=\"T_9ef7e_row4_col11\" class=\"data row4 col11\" >0.068</td>\n",
       "      <td id=\"T_9ef7e_row4_col12\" class=\"data row4 col12\" >0.296</td>\n",
       "      <td id=\"T_9ef7e_row4_col13\" class=\"data row4 col13\" >0.247</td>\n",
       "      <td id=\"T_9ef7e_row4_col14\" class=\"data row4 col14\" >0.332</td>\n",
       "      <td id=\"T_9ef7e_row4_col15\" class=\"data row4 col15\" >0.319</td>\n",
       "      <td id=\"T_9ef7e_row4_col16\" class=\"data row4 col16\" >0.248</td>\n",
       "      <td id=\"T_9ef7e_row4_col17\" class=\"data row4 col17\" >0.381</td>\n",
       "      <td id=\"T_9ef7e_row4_col18\" class=\"data row4 col18\" >0.201</td>\n",
       "      <td id=\"T_9ef7e_row4_col19\" class=\"data row4 col19\" >0.284</td>\n",
       "      <td id=\"T_9ef7e_row4_col20\" class=\"data row4 col20\" >0.213</td>\n",
       "      <td id=\"T_9ef7e_row4_col21\" class=\"data row4 col21\" >0.036</td>\n",
       "      <td id=\"T_9ef7e_row4_col22\" class=\"data row4 col22\" >0.239</td>\n",
       "      <td id=\"T_9ef7e_row4_col23\" class=\"data row4 col23\" >0.207</td>\n",
       "      <td id=\"T_9ef7e_row4_col24\" class=\"data row4 col24\" >0.805</td>\n",
       "      <td id=\"T_9ef7e_row4_col25\" class=\"data row4 col25\" >0.472</td>\n",
       "      <td id=\"T_9ef7e_row4_col26\" class=\"data row4 col26\" >0.435</td>\n",
       "      <td id=\"T_9ef7e_row4_col27\" class=\"data row4 col27\" >0.503</td>\n",
       "      <td id=\"T_9ef7e_row4_col28\" class=\"data row4 col28\" >0.394</td>\n",
       "      <td id=\"T_9ef7e_row4_col29\" class=\"data row4 col29\" >0.499</td>\n",
       "    </tr>\n",
       "    <tr>\n",
       "      <th id=\"T_9ef7e_level0_row5\" class=\"row_heading level0 row5\" >compactness_mean</th>\n",
       "      <td id=\"T_9ef7e_row5_col0\" class=\"data row5 col0\" >0.506</td>\n",
       "      <td id=\"T_9ef7e_row5_col1\" class=\"data row5 col1\" >0.237</td>\n",
       "      <td id=\"T_9ef7e_row5_col2\" class=\"data row5 col2\" >0.557</td>\n",
       "      <td id=\"T_9ef7e_row5_col3\" class=\"data row5 col3\" >0.499</td>\n",
       "      <td id=\"T_9ef7e_row5_col4\" class=\"data row5 col4\" >0.659</td>\n",
       "      <td id=\"T_9ef7e_row5_col5\" class=\"data row5 col5\" >1.000</td>\n",
       "      <td id=\"T_9ef7e_row5_col6\" class=\"data row5 col6\" >0.883</td>\n",
       "      <td id=\"T_9ef7e_row5_col7\" class=\"data row5 col7\" >0.831</td>\n",
       "      <td id=\"T_9ef7e_row5_col8\" class=\"data row5 col8\" >0.603</td>\n",
       "      <td id=\"T_9ef7e_row5_col9\" class=\"data row5 col9\" >0.565</td>\n",
       "      <td id=\"T_9ef7e_row5_col10\" class=\"data row5 col10\" >0.497</td>\n",
       "      <td id=\"T_9ef7e_row5_col11\" class=\"data row5 col11\" >0.046</td>\n",
       "      <td id=\"T_9ef7e_row5_col12\" class=\"data row5 col12\" >0.549</td>\n",
       "      <td id=\"T_9ef7e_row5_col13\" class=\"data row5 col13\" >0.456</td>\n",
       "      <td id=\"T_9ef7e_row5_col14\" class=\"data row5 col14\" >0.135</td>\n",
       "      <td id=\"T_9ef7e_row5_col15\" class=\"data row5 col15\" >0.739</td>\n",
       "      <td id=\"T_9ef7e_row5_col16\" class=\"data row5 col16\" >0.571</td>\n",
       "      <td id=\"T_9ef7e_row5_col17\" class=\"data row5 col17\" >0.642</td>\n",
       "      <td id=\"T_9ef7e_row5_col18\" class=\"data row5 col18\" >0.230</td>\n",
       "      <td id=\"T_9ef7e_row5_col19\" class=\"data row5 col19\" >0.507</td>\n",
       "      <td id=\"T_9ef7e_row5_col20\" class=\"data row5 col20\" >0.535</td>\n",
       "      <td id=\"T_9ef7e_row5_col21\" class=\"data row5 col21\" >0.248</td>\n",
       "      <td id=\"T_9ef7e_row5_col22\" class=\"data row5 col22\" >0.590</td>\n",
       "      <td id=\"T_9ef7e_row5_col23\" class=\"data row5 col23\" >0.510</td>\n",
       "      <td id=\"T_9ef7e_row5_col24\" class=\"data row5 col24\" >0.566</td>\n",
       "      <td id=\"T_9ef7e_row5_col25\" class=\"data row5 col25\" >0.866</td>\n",
       "      <td id=\"T_9ef7e_row5_col26\" class=\"data row5 col26\" >0.816</td>\n",
       "      <td id=\"T_9ef7e_row5_col27\" class=\"data row5 col27\" >0.816</td>\n",
       "      <td id=\"T_9ef7e_row5_col28\" class=\"data row5 col28\" >0.510</td>\n",
       "      <td id=\"T_9ef7e_row5_col29\" class=\"data row5 col29\" >0.687</td>\n",
       "    </tr>\n",
       "    <tr>\n",
       "      <th id=\"T_9ef7e_level0_row6\" class=\"row_heading level0 row6\" >concavity_mean</th>\n",
       "      <td id=\"T_9ef7e_row6_col0\" class=\"data row6 col0\" >0.677</td>\n",
       "      <td id=\"T_9ef7e_row6_col1\" class=\"data row6 col1\" >0.302</td>\n",
       "      <td id=\"T_9ef7e_row6_col2\" class=\"data row6 col2\" >0.716</td>\n",
       "      <td id=\"T_9ef7e_row6_col3\" class=\"data row6 col3\" >0.686</td>\n",
       "      <td id=\"T_9ef7e_row6_col4\" class=\"data row6 col4\" >0.522</td>\n",
       "      <td id=\"T_9ef7e_row6_col5\" class=\"data row6 col5\" >0.883</td>\n",
       "      <td id=\"T_9ef7e_row6_col6\" class=\"data row6 col6\" >1.000</td>\n",
       "      <td id=\"T_9ef7e_row6_col7\" class=\"data row6 col7\" >0.921</td>\n",
       "      <td id=\"T_9ef7e_row6_col8\" class=\"data row6 col8\" >0.501</td>\n",
       "      <td id=\"T_9ef7e_row6_col9\" class=\"data row6 col9\" >0.337</td>\n",
       "      <td id=\"T_9ef7e_row6_col10\" class=\"data row6 col10\" >0.632</td>\n",
       "      <td id=\"T_9ef7e_row6_col11\" class=\"data row6 col11\" >0.076</td>\n",
       "      <td id=\"T_9ef7e_row6_col12\" class=\"data row6 col12\" >0.660</td>\n",
       "      <td id=\"T_9ef7e_row6_col13\" class=\"data row6 col13\" >0.617</td>\n",
       "      <td id=\"T_9ef7e_row6_col14\" class=\"data row6 col14\" >0.099</td>\n",
       "      <td id=\"T_9ef7e_row6_col15\" class=\"data row6 col15\" >0.670</td>\n",
       "      <td id=\"T_9ef7e_row6_col16\" class=\"data row6 col16\" >0.691</td>\n",
       "      <td id=\"T_9ef7e_row6_col17\" class=\"data row6 col17\" >0.683</td>\n",
       "      <td id=\"T_9ef7e_row6_col18\" class=\"data row6 col18\" >0.178</td>\n",
       "      <td id=\"T_9ef7e_row6_col19\" class=\"data row6 col19\" >0.449</td>\n",
       "      <td id=\"T_9ef7e_row6_col20\" class=\"data row6 col20\" >0.688</td>\n",
       "      <td id=\"T_9ef7e_row6_col21\" class=\"data row6 col21\" >0.300</td>\n",
       "      <td id=\"T_9ef7e_row6_col22\" class=\"data row6 col22\" >0.730</td>\n",
       "      <td id=\"T_9ef7e_row6_col23\" class=\"data row6 col23\" >0.676</td>\n",
       "      <td id=\"T_9ef7e_row6_col24\" class=\"data row6 col24\" >0.449</td>\n",
       "      <td id=\"T_9ef7e_row6_col25\" class=\"data row6 col25\" >0.755</td>\n",
       "      <td id=\"T_9ef7e_row6_col26\" class=\"data row6 col26\" >0.884</td>\n",
       "      <td id=\"T_9ef7e_row6_col27\" class=\"data row6 col27\" >0.861</td>\n",
       "      <td id=\"T_9ef7e_row6_col28\" class=\"data row6 col28\" >0.409</td>\n",
       "      <td id=\"T_9ef7e_row6_col29\" class=\"data row6 col29\" >0.515</td>\n",
       "    </tr>\n",
       "    <tr>\n",
       "      <th id=\"T_9ef7e_level0_row7\" class=\"row_heading level0 row7\" >concave points_mean</th>\n",
       "      <td id=\"T_9ef7e_row7_col0\" class=\"data row7 col0\" >0.823</td>\n",
       "      <td id=\"T_9ef7e_row7_col1\" class=\"data row7 col1\" >0.293</td>\n",
       "      <td id=\"T_9ef7e_row7_col2\" class=\"data row7 col2\" >0.851</td>\n",
       "      <td id=\"T_9ef7e_row7_col3\" class=\"data row7 col3\" >0.823</td>\n",
       "      <td id=\"T_9ef7e_row7_col4\" class=\"data row7 col4\" >0.554</td>\n",
       "      <td id=\"T_9ef7e_row7_col5\" class=\"data row7 col5\" >0.831</td>\n",
       "      <td id=\"T_9ef7e_row7_col6\" class=\"data row7 col6\" >0.921</td>\n",
       "      <td id=\"T_9ef7e_row7_col7\" class=\"data row7 col7\" >1.000</td>\n",
       "      <td id=\"T_9ef7e_row7_col8\" class=\"data row7 col8\" >0.462</td>\n",
       "      <td id=\"T_9ef7e_row7_col9\" class=\"data row7 col9\" >0.167</td>\n",
       "      <td id=\"T_9ef7e_row7_col10\" class=\"data row7 col10\" >0.698</td>\n",
       "      <td id=\"T_9ef7e_row7_col11\" class=\"data row7 col11\" >0.021</td>\n",
       "      <td id=\"T_9ef7e_row7_col12\" class=\"data row7 col12\" >0.711</td>\n",
       "      <td id=\"T_9ef7e_row7_col13\" class=\"data row7 col13\" >0.690</td>\n",
       "      <td id=\"T_9ef7e_row7_col14\" class=\"data row7 col14\" >0.028</td>\n",
       "      <td id=\"T_9ef7e_row7_col15\" class=\"data row7 col15\" >0.490</td>\n",
       "      <td id=\"T_9ef7e_row7_col16\" class=\"data row7 col16\" >0.439</td>\n",
       "      <td id=\"T_9ef7e_row7_col17\" class=\"data row7 col17\" >0.616</td>\n",
       "      <td id=\"T_9ef7e_row7_col18\" class=\"data row7 col18\" >0.095</td>\n",
       "      <td id=\"T_9ef7e_row7_col19\" class=\"data row7 col19\" >0.258</td>\n",
       "      <td id=\"T_9ef7e_row7_col20\" class=\"data row7 col20\" >0.830</td>\n",
       "      <td id=\"T_9ef7e_row7_col21\" class=\"data row7 col21\" >0.293</td>\n",
       "      <td id=\"T_9ef7e_row7_col22\" class=\"data row7 col22\" >0.856</td>\n",
       "      <td id=\"T_9ef7e_row7_col23\" class=\"data row7 col23\" >0.810</td>\n",
       "      <td id=\"T_9ef7e_row7_col24\" class=\"data row7 col24\" >0.453</td>\n",
       "      <td id=\"T_9ef7e_row7_col25\" class=\"data row7 col25\" >0.667</td>\n",
       "      <td id=\"T_9ef7e_row7_col26\" class=\"data row7 col26\" >0.752</td>\n",
       "      <td id=\"T_9ef7e_row7_col27\" class=\"data row7 col27\" >0.910</td>\n",
       "      <td id=\"T_9ef7e_row7_col28\" class=\"data row7 col28\" >0.376</td>\n",
       "      <td id=\"T_9ef7e_row7_col29\" class=\"data row7 col29\" >0.369</td>\n",
       "    </tr>\n",
       "    <tr>\n",
       "      <th id=\"T_9ef7e_level0_row8\" class=\"row_heading level0 row8\" >symmetry_mean</th>\n",
       "      <td id=\"T_9ef7e_row8_col0\" class=\"data row8 col0\" >0.148</td>\n",
       "      <td id=\"T_9ef7e_row8_col1\" class=\"data row8 col1\" >0.071</td>\n",
       "      <td id=\"T_9ef7e_row8_col2\" class=\"data row8 col2\" >0.183</td>\n",
       "      <td id=\"T_9ef7e_row8_col3\" class=\"data row8 col3\" >0.151</td>\n",
       "      <td id=\"T_9ef7e_row8_col4\" class=\"data row8 col4\" >0.558</td>\n",
       "      <td id=\"T_9ef7e_row8_col5\" class=\"data row8 col5\" >0.603</td>\n",
       "      <td id=\"T_9ef7e_row8_col6\" class=\"data row8 col6\" >0.501</td>\n",
       "      <td id=\"T_9ef7e_row8_col7\" class=\"data row8 col7\" >0.462</td>\n",
       "      <td id=\"T_9ef7e_row8_col8\" class=\"data row8 col8\" >1.000</td>\n",
       "      <td id=\"T_9ef7e_row8_col9\" class=\"data row8 col9\" >0.480</td>\n",
       "      <td id=\"T_9ef7e_row8_col10\" class=\"data row8 col10\" >0.303</td>\n",
       "      <td id=\"T_9ef7e_row8_col11\" class=\"data row8 col11\" >0.128</td>\n",
       "      <td id=\"T_9ef7e_row8_col12\" class=\"data row8 col12\" >0.314</td>\n",
       "      <td id=\"T_9ef7e_row8_col13\" class=\"data row8 col13\" >0.224</td>\n",
       "      <td id=\"T_9ef7e_row8_col14\" class=\"data row8 col14\" >0.187</td>\n",
       "      <td id=\"T_9ef7e_row8_col15\" class=\"data row8 col15\" >0.422</td>\n",
       "      <td id=\"T_9ef7e_row8_col16\" class=\"data row8 col16\" >0.343</td>\n",
       "      <td id=\"T_9ef7e_row8_col17\" class=\"data row8 col17\" >0.393</td>\n",
       "      <td id=\"T_9ef7e_row8_col18\" class=\"data row8 col18\" >0.449</td>\n",
       "      <td id=\"T_9ef7e_row8_col19\" class=\"data row8 col19\" >0.332</td>\n",
       "      <td id=\"T_9ef7e_row8_col20\" class=\"data row8 col20\" >0.186</td>\n",
       "      <td id=\"T_9ef7e_row8_col21\" class=\"data row8 col21\" >0.091</td>\n",
       "      <td id=\"T_9ef7e_row8_col22\" class=\"data row8 col22\" >0.219</td>\n",
       "      <td id=\"T_9ef7e_row8_col23\" class=\"data row8 col23\" >0.177</td>\n",
       "      <td id=\"T_9ef7e_row8_col24\" class=\"data row8 col24\" >0.427</td>\n",
       "      <td id=\"T_9ef7e_row8_col25\" class=\"data row8 col25\" >0.473</td>\n",
       "      <td id=\"T_9ef7e_row8_col26\" class=\"data row8 col26\" >0.434</td>\n",
       "      <td id=\"T_9ef7e_row8_col27\" class=\"data row8 col27\" >0.430</td>\n",
       "      <td id=\"T_9ef7e_row8_col28\" class=\"data row8 col28\" >0.700</td>\n",
       "      <td id=\"T_9ef7e_row8_col29\" class=\"data row8 col29\" >0.438</td>\n",
       "    </tr>\n",
       "    <tr>\n",
       "      <th id=\"T_9ef7e_level0_row9\" class=\"row_heading level0 row9\" >fractal_dimension_mean</th>\n",
       "      <td id=\"T_9ef7e_row9_col0\" class=\"data row9 col0\" >-0.312</td>\n",
       "      <td id=\"T_9ef7e_row9_col1\" class=\"data row9 col1\" >-0.076</td>\n",
       "      <td id=\"T_9ef7e_row9_col2\" class=\"data row9 col2\" >-0.261</td>\n",
       "      <td id=\"T_9ef7e_row9_col3\" class=\"data row9 col3\" >-0.283</td>\n",
       "      <td id=\"T_9ef7e_row9_col4\" class=\"data row9 col4\" >0.585</td>\n",
       "      <td id=\"T_9ef7e_row9_col5\" class=\"data row9 col5\" >0.565</td>\n",
       "      <td id=\"T_9ef7e_row9_col6\" class=\"data row9 col6\" >0.337</td>\n",
       "      <td id=\"T_9ef7e_row9_col7\" class=\"data row9 col7\" >0.167</td>\n",
       "      <td id=\"T_9ef7e_row9_col8\" class=\"data row9 col8\" >0.480</td>\n",
       "      <td id=\"T_9ef7e_row9_col9\" class=\"data row9 col9\" >1.000</td>\n",
       "      <td id=\"T_9ef7e_row9_col10\" class=\"data row9 col10\" >0.000</td>\n",
       "      <td id=\"T_9ef7e_row9_col11\" class=\"data row9 col11\" >0.164</td>\n",
       "      <td id=\"T_9ef7e_row9_col12\" class=\"data row9 col12\" >0.040</td>\n",
       "      <td id=\"T_9ef7e_row9_col13\" class=\"data row9 col13\" >-0.090</td>\n",
       "      <td id=\"T_9ef7e_row9_col14\" class=\"data row9 col14\" >0.402</td>\n",
       "      <td id=\"T_9ef7e_row9_col15\" class=\"data row9 col15\" >0.560</td>\n",
       "      <td id=\"T_9ef7e_row9_col16\" class=\"data row9 col16\" >0.447</td>\n",
       "      <td id=\"T_9ef7e_row9_col17\" class=\"data row9 col17\" >0.341</td>\n",
       "      <td id=\"T_9ef7e_row9_col18\" class=\"data row9 col18\" >0.345</td>\n",
       "      <td id=\"T_9ef7e_row9_col19\" class=\"data row9 col19\" >0.688</td>\n",
       "      <td id=\"T_9ef7e_row9_col20\" class=\"data row9 col20\" >-0.254</td>\n",
       "      <td id=\"T_9ef7e_row9_col21\" class=\"data row9 col21\" >-0.051</td>\n",
       "      <td id=\"T_9ef7e_row9_col22\" class=\"data row9 col22\" >-0.205</td>\n",
       "      <td id=\"T_9ef7e_row9_col23\" class=\"data row9 col23\" >-0.232</td>\n",
       "      <td id=\"T_9ef7e_row9_col24\" class=\"data row9 col24\" >0.505</td>\n",
       "      <td id=\"T_9ef7e_row9_col25\" class=\"data row9 col25\" >0.459</td>\n",
       "      <td id=\"T_9ef7e_row9_col26\" class=\"data row9 col26\" >0.346</td>\n",
       "      <td id=\"T_9ef7e_row9_col27\" class=\"data row9 col27\" >0.175</td>\n",
       "      <td id=\"T_9ef7e_row9_col28\" class=\"data row9 col28\" >0.334</td>\n",
       "      <td id=\"T_9ef7e_row9_col29\" class=\"data row9 col29\" >0.767</td>\n",
       "    </tr>\n",
       "    <tr>\n",
       "      <th id=\"T_9ef7e_level0_row10\" class=\"row_heading level0 row10\" >radius_se</th>\n",
       "      <td id=\"T_9ef7e_row10_col0\" class=\"data row10 col0\" >0.679</td>\n",
       "      <td id=\"T_9ef7e_row10_col1\" class=\"data row10 col1\" >0.276</td>\n",
       "      <td id=\"T_9ef7e_row10_col2\" class=\"data row10 col2\" >0.692</td>\n",
       "      <td id=\"T_9ef7e_row10_col3\" class=\"data row10 col3\" >0.733</td>\n",
       "      <td id=\"T_9ef7e_row10_col4\" class=\"data row10 col4\" >0.301</td>\n",
       "      <td id=\"T_9ef7e_row10_col5\" class=\"data row10 col5\" >0.497</td>\n",
       "      <td id=\"T_9ef7e_row10_col6\" class=\"data row10 col6\" >0.632</td>\n",
       "      <td id=\"T_9ef7e_row10_col7\" class=\"data row10 col7\" >0.698</td>\n",
       "      <td id=\"T_9ef7e_row10_col8\" class=\"data row10 col8\" >0.303</td>\n",
       "      <td id=\"T_9ef7e_row10_col9\" class=\"data row10 col9\" >0.000</td>\n",
       "      <td id=\"T_9ef7e_row10_col10\" class=\"data row10 col10\" >1.000</td>\n",
       "      <td id=\"T_9ef7e_row10_col11\" class=\"data row10 col11\" >0.213</td>\n",
       "      <td id=\"T_9ef7e_row10_col12\" class=\"data row10 col12\" >0.973</td>\n",
       "      <td id=\"T_9ef7e_row10_col13\" class=\"data row10 col13\" >0.952</td>\n",
       "      <td id=\"T_9ef7e_row10_col14\" class=\"data row10 col14\" >0.165</td>\n",
       "      <td id=\"T_9ef7e_row10_col15\" class=\"data row10 col15\" >0.356</td>\n",
       "      <td id=\"T_9ef7e_row10_col16\" class=\"data row10 col16\" >0.332</td>\n",
       "      <td id=\"T_9ef7e_row10_col17\" class=\"data row10 col17\" >0.513</td>\n",
       "      <td id=\"T_9ef7e_row10_col18\" class=\"data row10 col18\" >0.241</td>\n",
       "      <td id=\"T_9ef7e_row10_col19\" class=\"data row10 col19\" >0.228</td>\n",
       "      <td id=\"T_9ef7e_row10_col20\" class=\"data row10 col20\" >0.715</td>\n",
       "      <td id=\"T_9ef7e_row10_col21\" class=\"data row10 col21\" >0.195</td>\n",
       "      <td id=\"T_9ef7e_row10_col22\" class=\"data row10 col22\" >0.720</td>\n",
       "      <td id=\"T_9ef7e_row10_col23\" class=\"data row10 col23\" >0.752</td>\n",
       "      <td id=\"T_9ef7e_row10_col24\" class=\"data row10 col24\" >0.142</td>\n",
       "      <td id=\"T_9ef7e_row10_col25\" class=\"data row10 col25\" >0.287</td>\n",
       "      <td id=\"T_9ef7e_row10_col26\" class=\"data row10 col26\" >0.381</td>\n",
       "      <td id=\"T_9ef7e_row10_col27\" class=\"data row10 col27\" >0.531</td>\n",
       "      <td id=\"T_9ef7e_row10_col28\" class=\"data row10 col28\" >0.095</td>\n",
       "      <td id=\"T_9ef7e_row10_col29\" class=\"data row10 col29\" >0.050</td>\n",
       "    </tr>\n",
       "    <tr>\n",
       "      <th id=\"T_9ef7e_level0_row11\" class=\"row_heading level0 row11\" >texture_se</th>\n",
       "      <td id=\"T_9ef7e_row11_col0\" class=\"data row11 col0\" >-0.097</td>\n",
       "      <td id=\"T_9ef7e_row11_col1\" class=\"data row11 col1\" >0.386</td>\n",
       "      <td id=\"T_9ef7e_row11_col2\" class=\"data row11 col2\" >-0.087</td>\n",
       "      <td id=\"T_9ef7e_row11_col3\" class=\"data row11 col3\" >-0.066</td>\n",
       "      <td id=\"T_9ef7e_row11_col4\" class=\"data row11 col4\" >0.068</td>\n",
       "      <td id=\"T_9ef7e_row11_col5\" class=\"data row11 col5\" >0.046</td>\n",
       "      <td id=\"T_9ef7e_row11_col6\" class=\"data row11 col6\" >0.076</td>\n",
       "      <td id=\"T_9ef7e_row11_col7\" class=\"data row11 col7\" >0.021</td>\n",
       "      <td id=\"T_9ef7e_row11_col8\" class=\"data row11 col8\" >0.128</td>\n",
       "      <td id=\"T_9ef7e_row11_col9\" class=\"data row11 col9\" >0.164</td>\n",
       "      <td id=\"T_9ef7e_row11_col10\" class=\"data row11 col10\" >0.213</td>\n",
       "      <td id=\"T_9ef7e_row11_col11\" class=\"data row11 col11\" >1.000</td>\n",
       "      <td id=\"T_9ef7e_row11_col12\" class=\"data row11 col12\" >0.223</td>\n",
       "      <td id=\"T_9ef7e_row11_col13\" class=\"data row11 col13\" >0.112</td>\n",
       "      <td id=\"T_9ef7e_row11_col14\" class=\"data row11 col14\" >0.397</td>\n",
       "      <td id=\"T_9ef7e_row11_col15\" class=\"data row11 col15\" >0.232</td>\n",
       "      <td id=\"T_9ef7e_row11_col16\" class=\"data row11 col16\" >0.195</td>\n",
       "      <td id=\"T_9ef7e_row11_col17\" class=\"data row11 col17\" >0.230</td>\n",
       "      <td id=\"T_9ef7e_row11_col18\" class=\"data row11 col18\" >0.412</td>\n",
       "      <td id=\"T_9ef7e_row11_col19\" class=\"data row11 col19\" >0.280</td>\n",
       "      <td id=\"T_9ef7e_row11_col20\" class=\"data row11 col20\" >-0.112</td>\n",
       "      <td id=\"T_9ef7e_row11_col21\" class=\"data row11 col21\" >0.409</td>\n",
       "      <td id=\"T_9ef7e_row11_col22\" class=\"data row11 col22\" >-0.102</td>\n",
       "      <td id=\"T_9ef7e_row11_col23\" class=\"data row11 col23\" >-0.083</td>\n",
       "      <td id=\"T_9ef7e_row11_col24\" class=\"data row11 col24\" >-0.074</td>\n",
       "      <td id=\"T_9ef7e_row11_col25\" class=\"data row11 col25\" >-0.092</td>\n",
       "      <td id=\"T_9ef7e_row11_col26\" class=\"data row11 col26\" >-0.069</td>\n",
       "      <td id=\"T_9ef7e_row11_col27\" class=\"data row11 col27\" >-0.120</td>\n",
       "      <td id=\"T_9ef7e_row11_col28\" class=\"data row11 col28\" >-0.128</td>\n",
       "      <td id=\"T_9ef7e_row11_col29\" class=\"data row11 col29\" >-0.046</td>\n",
       "    </tr>\n",
       "    <tr>\n",
       "      <th id=\"T_9ef7e_level0_row12\" class=\"row_heading level0 row12\" >perimeter_se</th>\n",
       "      <td id=\"T_9ef7e_row12_col0\" class=\"data row12 col0\" >0.674</td>\n",
       "      <td id=\"T_9ef7e_row12_col1\" class=\"data row12 col1\" >0.282</td>\n",
       "      <td id=\"T_9ef7e_row12_col2\" class=\"data row12 col2\" >0.693</td>\n",
       "      <td id=\"T_9ef7e_row12_col3\" class=\"data row12 col3\" >0.727</td>\n",
       "      <td id=\"T_9ef7e_row12_col4\" class=\"data row12 col4\" >0.296</td>\n",
       "      <td id=\"T_9ef7e_row12_col5\" class=\"data row12 col5\" >0.549</td>\n",
       "      <td id=\"T_9ef7e_row12_col6\" class=\"data row12 col6\" >0.660</td>\n",
       "      <td id=\"T_9ef7e_row12_col7\" class=\"data row12 col7\" >0.711</td>\n",
       "      <td id=\"T_9ef7e_row12_col8\" class=\"data row12 col8\" >0.314</td>\n",
       "      <td id=\"T_9ef7e_row12_col9\" class=\"data row12 col9\" >0.040</td>\n",
       "      <td id=\"T_9ef7e_row12_col10\" class=\"data row12 col10\" >0.973</td>\n",
       "      <td id=\"T_9ef7e_row12_col11\" class=\"data row12 col11\" >0.223</td>\n",
       "      <td id=\"T_9ef7e_row12_col12\" class=\"data row12 col12\" >1.000</td>\n",
       "      <td id=\"T_9ef7e_row12_col13\" class=\"data row12 col13\" >0.938</td>\n",
       "      <td id=\"T_9ef7e_row12_col14\" class=\"data row12 col14\" >0.151</td>\n",
       "      <td id=\"T_9ef7e_row12_col15\" class=\"data row12 col15\" >0.416</td>\n",
       "      <td id=\"T_9ef7e_row12_col16\" class=\"data row12 col16\" >0.362</td>\n",
       "      <td id=\"T_9ef7e_row12_col17\" class=\"data row12 col17\" >0.556</td>\n",
       "      <td id=\"T_9ef7e_row12_col18\" class=\"data row12 col18\" >0.266</td>\n",
       "      <td id=\"T_9ef7e_row12_col19\" class=\"data row12 col19\" >0.244</td>\n",
       "      <td id=\"T_9ef7e_row12_col20\" class=\"data row12 col20\" >0.697</td>\n",
       "      <td id=\"T_9ef7e_row12_col21\" class=\"data row12 col21\" >0.200</td>\n",
       "      <td id=\"T_9ef7e_row12_col22\" class=\"data row12 col22\" >0.721</td>\n",
       "      <td id=\"T_9ef7e_row12_col23\" class=\"data row12 col23\" >0.731</td>\n",
       "      <td id=\"T_9ef7e_row12_col24\" class=\"data row12 col24\" >0.130</td>\n",
       "      <td id=\"T_9ef7e_row12_col25\" class=\"data row12 col25\" >0.342</td>\n",
       "      <td id=\"T_9ef7e_row12_col26\" class=\"data row12 col26\" >0.419</td>\n",
       "      <td id=\"T_9ef7e_row12_col27\" class=\"data row12 col27\" >0.555</td>\n",
       "      <td id=\"T_9ef7e_row12_col28\" class=\"data row12 col28\" >0.110</td>\n",
       "      <td id=\"T_9ef7e_row12_col29\" class=\"data row12 col29\" >0.085</td>\n",
       "    </tr>\n",
       "    <tr>\n",
       "      <th id=\"T_9ef7e_level0_row13\" class=\"row_heading level0 row13\" >area_se</th>\n",
       "      <td id=\"T_9ef7e_row13_col0\" class=\"data row13 col0\" >0.736</td>\n",
       "      <td id=\"T_9ef7e_row13_col1\" class=\"data row13 col1\" >0.260</td>\n",
       "      <td id=\"T_9ef7e_row13_col2\" class=\"data row13 col2\" >0.745</td>\n",
       "      <td id=\"T_9ef7e_row13_col3\" class=\"data row13 col3\" >0.800</td>\n",
       "      <td id=\"T_9ef7e_row13_col4\" class=\"data row13 col4\" >0.247</td>\n",
       "      <td id=\"T_9ef7e_row13_col5\" class=\"data row13 col5\" >0.456</td>\n",
       "      <td id=\"T_9ef7e_row13_col6\" class=\"data row13 col6\" >0.617</td>\n",
       "      <td id=\"T_9ef7e_row13_col7\" class=\"data row13 col7\" >0.690</td>\n",
       "      <td id=\"T_9ef7e_row13_col8\" class=\"data row13 col8\" >0.224</td>\n",
       "      <td id=\"T_9ef7e_row13_col9\" class=\"data row13 col9\" >-0.090</td>\n",
       "      <td id=\"T_9ef7e_row13_col10\" class=\"data row13 col10\" >0.952</td>\n",
       "      <td id=\"T_9ef7e_row13_col11\" class=\"data row13 col11\" >0.112</td>\n",
       "      <td id=\"T_9ef7e_row13_col12\" class=\"data row13 col12\" >0.938</td>\n",
       "      <td id=\"T_9ef7e_row13_col13\" class=\"data row13 col13\" >1.000</td>\n",
       "      <td id=\"T_9ef7e_row13_col14\" class=\"data row13 col14\" >0.075</td>\n",
       "      <td id=\"T_9ef7e_row13_col15\" class=\"data row13 col15\" >0.285</td>\n",
       "      <td id=\"T_9ef7e_row13_col16\" class=\"data row13 col16\" >0.271</td>\n",
       "      <td id=\"T_9ef7e_row13_col17\" class=\"data row13 col17\" >0.416</td>\n",
       "      <td id=\"T_9ef7e_row13_col18\" class=\"data row13 col18\" >0.134</td>\n",
       "      <td id=\"T_9ef7e_row13_col19\" class=\"data row13 col19\" >0.127</td>\n",
       "      <td id=\"T_9ef7e_row13_col20\" class=\"data row13 col20\" >0.757</td>\n",
       "      <td id=\"T_9ef7e_row13_col21\" class=\"data row13 col21\" >0.196</td>\n",
       "      <td id=\"T_9ef7e_row13_col22\" class=\"data row13 col22\" >0.761</td>\n",
       "      <td id=\"T_9ef7e_row13_col23\" class=\"data row13 col23\" >0.811</td>\n",
       "      <td id=\"T_9ef7e_row13_col24\" class=\"data row13 col24\" >0.125</td>\n",
       "      <td id=\"T_9ef7e_row13_col25\" class=\"data row13 col25\" >0.283</td>\n",
       "      <td id=\"T_9ef7e_row13_col26\" class=\"data row13 col26\" >0.385</td>\n",
       "      <td id=\"T_9ef7e_row13_col27\" class=\"data row13 col27\" >0.538</td>\n",
       "      <td id=\"T_9ef7e_row13_col28\" class=\"data row13 col28\" >0.074</td>\n",
       "      <td id=\"T_9ef7e_row13_col29\" class=\"data row13 col29\" >0.018</td>\n",
       "    </tr>\n",
       "    <tr>\n",
       "      <th id=\"T_9ef7e_level0_row14\" class=\"row_heading level0 row14\" >smoothness_se</th>\n",
       "      <td id=\"T_9ef7e_row14_col0\" class=\"data row14 col0\" >-0.223</td>\n",
       "      <td id=\"T_9ef7e_row14_col1\" class=\"data row14 col1\" >0.007</td>\n",
       "      <td id=\"T_9ef7e_row14_col2\" class=\"data row14 col2\" >-0.203</td>\n",
       "      <td id=\"T_9ef7e_row14_col3\" class=\"data row14 col3\" >-0.167</td>\n",
       "      <td id=\"T_9ef7e_row14_col4\" class=\"data row14 col4\" >0.332</td>\n",
       "      <td id=\"T_9ef7e_row14_col5\" class=\"data row14 col5\" >0.135</td>\n",
       "      <td id=\"T_9ef7e_row14_col6\" class=\"data row14 col6\" >0.099</td>\n",
       "      <td id=\"T_9ef7e_row14_col7\" class=\"data row14 col7\" >0.028</td>\n",
       "      <td id=\"T_9ef7e_row14_col8\" class=\"data row14 col8\" >0.187</td>\n",
       "      <td id=\"T_9ef7e_row14_col9\" class=\"data row14 col9\" >0.402</td>\n",
       "      <td id=\"T_9ef7e_row14_col10\" class=\"data row14 col10\" >0.165</td>\n",
       "      <td id=\"T_9ef7e_row14_col11\" class=\"data row14 col11\" >0.397</td>\n",
       "      <td id=\"T_9ef7e_row14_col12\" class=\"data row14 col12\" >0.151</td>\n",
       "      <td id=\"T_9ef7e_row14_col13\" class=\"data row14 col13\" >0.075</td>\n",
       "      <td id=\"T_9ef7e_row14_col14\" class=\"data row14 col14\" >1.000</td>\n",
       "      <td id=\"T_9ef7e_row14_col15\" class=\"data row14 col15\" >0.337</td>\n",
       "      <td id=\"T_9ef7e_row14_col16\" class=\"data row14 col16\" >0.269</td>\n",
       "      <td id=\"T_9ef7e_row14_col17\" class=\"data row14 col17\" >0.328</td>\n",
       "      <td id=\"T_9ef7e_row14_col18\" class=\"data row14 col18\" >0.414</td>\n",
       "      <td id=\"T_9ef7e_row14_col19\" class=\"data row14 col19\" >0.427</td>\n",
       "      <td id=\"T_9ef7e_row14_col20\" class=\"data row14 col20\" >-0.231</td>\n",
       "      <td id=\"T_9ef7e_row14_col21\" class=\"data row14 col21\" >-0.075</td>\n",
       "      <td id=\"T_9ef7e_row14_col22\" class=\"data row14 col22\" >-0.217</td>\n",
       "      <td id=\"T_9ef7e_row14_col23\" class=\"data row14 col23\" >-0.182</td>\n",
       "      <td id=\"T_9ef7e_row14_col24\" class=\"data row14 col24\" >0.314</td>\n",
       "      <td id=\"T_9ef7e_row14_col25\" class=\"data row14 col25\" >-0.056</td>\n",
       "      <td id=\"T_9ef7e_row14_col26\" class=\"data row14 col26\" >-0.058</td>\n",
       "      <td id=\"T_9ef7e_row14_col27\" class=\"data row14 col27\" >-0.102</td>\n",
       "      <td id=\"T_9ef7e_row14_col28\" class=\"data row14 col28\" >-0.107</td>\n",
       "      <td id=\"T_9ef7e_row14_col29\" class=\"data row14 col29\" >0.101</td>\n",
       "    </tr>\n",
       "    <tr>\n",
       "      <th id=\"T_9ef7e_level0_row15\" class=\"row_heading level0 row15\" >compactness_se</th>\n",
       "      <td id=\"T_9ef7e_row15_col0\" class=\"data row15 col0\" >0.206</td>\n",
       "      <td id=\"T_9ef7e_row15_col1\" class=\"data row15 col1\" >0.192</td>\n",
       "      <td id=\"T_9ef7e_row15_col2\" class=\"data row15 col2\" >0.251</td>\n",
       "      <td id=\"T_9ef7e_row15_col3\" class=\"data row15 col3\" >0.213</td>\n",
       "      <td id=\"T_9ef7e_row15_col4\" class=\"data row15 col4\" >0.319</td>\n",
       "      <td id=\"T_9ef7e_row15_col5\" class=\"data row15 col5\" >0.739</td>\n",
       "      <td id=\"T_9ef7e_row15_col6\" class=\"data row15 col6\" >0.670</td>\n",
       "      <td id=\"T_9ef7e_row15_col7\" class=\"data row15 col7\" >0.490</td>\n",
       "      <td id=\"T_9ef7e_row15_col8\" class=\"data row15 col8\" >0.422</td>\n",
       "      <td id=\"T_9ef7e_row15_col9\" class=\"data row15 col9\" >0.560</td>\n",
       "      <td id=\"T_9ef7e_row15_col10\" class=\"data row15 col10\" >0.356</td>\n",
       "      <td id=\"T_9ef7e_row15_col11\" class=\"data row15 col11\" >0.232</td>\n",
       "      <td id=\"T_9ef7e_row15_col12\" class=\"data row15 col12\" >0.416</td>\n",
       "      <td id=\"T_9ef7e_row15_col13\" class=\"data row15 col13\" >0.285</td>\n",
       "      <td id=\"T_9ef7e_row15_col14\" class=\"data row15 col14\" >0.337</td>\n",
       "      <td id=\"T_9ef7e_row15_col15\" class=\"data row15 col15\" >1.000</td>\n",
       "      <td id=\"T_9ef7e_row15_col16\" class=\"data row15 col16\" >0.801</td>\n",
       "      <td id=\"T_9ef7e_row15_col17\" class=\"data row15 col17\" >0.744</td>\n",
       "      <td id=\"T_9ef7e_row15_col18\" class=\"data row15 col18\" >0.395</td>\n",
       "      <td id=\"T_9ef7e_row15_col19\" class=\"data row15 col19\" >0.803</td>\n",
       "      <td id=\"T_9ef7e_row15_col20\" class=\"data row15 col20\" >0.205</td>\n",
       "      <td id=\"T_9ef7e_row15_col21\" class=\"data row15 col21\" >0.143</td>\n",
       "      <td id=\"T_9ef7e_row15_col22\" class=\"data row15 col22\" >0.261</td>\n",
       "      <td id=\"T_9ef7e_row15_col23\" class=\"data row15 col23\" >0.199</td>\n",
       "      <td id=\"T_9ef7e_row15_col24\" class=\"data row15 col24\" >0.227</td>\n",
       "      <td id=\"T_9ef7e_row15_col25\" class=\"data row15 col25\" >0.679</td>\n",
       "      <td id=\"T_9ef7e_row15_col26\" class=\"data row15 col26\" >0.639</td>\n",
       "      <td id=\"T_9ef7e_row15_col27\" class=\"data row15 col27\" >0.483</td>\n",
       "      <td id=\"T_9ef7e_row15_col28\" class=\"data row15 col28\" >0.278</td>\n",
       "      <td id=\"T_9ef7e_row15_col29\" class=\"data row15 col29\" >0.591</td>\n",
       "    </tr>\n",
       "    <tr>\n",
       "      <th id=\"T_9ef7e_level0_row16\" class=\"row_heading level0 row16\" >concavity_se</th>\n",
       "      <td id=\"T_9ef7e_row16_col0\" class=\"data row16 col0\" >0.194</td>\n",
       "      <td id=\"T_9ef7e_row16_col1\" class=\"data row16 col1\" >0.143</td>\n",
       "      <td id=\"T_9ef7e_row16_col2\" class=\"data row16 col2\" >0.228</td>\n",
       "      <td id=\"T_9ef7e_row16_col3\" class=\"data row16 col3\" >0.208</td>\n",
       "      <td id=\"T_9ef7e_row16_col4\" class=\"data row16 col4\" >0.248</td>\n",
       "      <td id=\"T_9ef7e_row16_col5\" class=\"data row16 col5\" >0.571</td>\n",
       "      <td id=\"T_9ef7e_row16_col6\" class=\"data row16 col6\" >0.691</td>\n",
       "      <td id=\"T_9ef7e_row16_col7\" class=\"data row16 col7\" >0.439</td>\n",
       "      <td id=\"T_9ef7e_row16_col8\" class=\"data row16 col8\" >0.343</td>\n",
       "      <td id=\"T_9ef7e_row16_col9\" class=\"data row16 col9\" >0.447</td>\n",
       "      <td id=\"T_9ef7e_row16_col10\" class=\"data row16 col10\" >0.332</td>\n",
       "      <td id=\"T_9ef7e_row16_col11\" class=\"data row16 col11\" >0.195</td>\n",
       "      <td id=\"T_9ef7e_row16_col12\" class=\"data row16 col12\" >0.362</td>\n",
       "      <td id=\"T_9ef7e_row16_col13\" class=\"data row16 col13\" >0.271</td>\n",
       "      <td id=\"T_9ef7e_row16_col14\" class=\"data row16 col14\" >0.269</td>\n",
       "      <td id=\"T_9ef7e_row16_col15\" class=\"data row16 col15\" >0.801</td>\n",
       "      <td id=\"T_9ef7e_row16_col16\" class=\"data row16 col16\" >1.000</td>\n",
       "      <td id=\"T_9ef7e_row16_col17\" class=\"data row16 col17\" >0.772</td>\n",
       "      <td id=\"T_9ef7e_row16_col18\" class=\"data row16 col18\" >0.309</td>\n",
       "      <td id=\"T_9ef7e_row16_col19\" class=\"data row16 col19\" >0.727</td>\n",
       "      <td id=\"T_9ef7e_row16_col20\" class=\"data row16 col20\" >0.187</td>\n",
       "      <td id=\"T_9ef7e_row16_col21\" class=\"data row16 col21\" >0.100</td>\n",
       "      <td id=\"T_9ef7e_row16_col22\" class=\"data row16 col22\" >0.227</td>\n",
       "      <td id=\"T_9ef7e_row16_col23\" class=\"data row16 col23\" >0.188</td>\n",
       "      <td id=\"T_9ef7e_row16_col24\" class=\"data row16 col24\" >0.168</td>\n",
       "      <td id=\"T_9ef7e_row16_col25\" class=\"data row16 col25\" >0.485</td>\n",
       "      <td id=\"T_9ef7e_row16_col26\" class=\"data row16 col26\" >0.663</td>\n",
       "      <td id=\"T_9ef7e_row16_col27\" class=\"data row16 col27\" >0.440</td>\n",
       "      <td id=\"T_9ef7e_row16_col28\" class=\"data row16 col28\" >0.198</td>\n",
       "      <td id=\"T_9ef7e_row16_col29\" class=\"data row16 col29\" >0.439</td>\n",
       "    </tr>\n",
       "    <tr>\n",
       "      <th id=\"T_9ef7e_level0_row17\" class=\"row_heading level0 row17\" >concave points_se</th>\n",
       "      <td id=\"T_9ef7e_row17_col0\" class=\"data row17 col0\" >0.376</td>\n",
       "      <td id=\"T_9ef7e_row17_col1\" class=\"data row17 col1\" >0.164</td>\n",
       "      <td id=\"T_9ef7e_row17_col2\" class=\"data row17 col2\" >0.407</td>\n",
       "      <td id=\"T_9ef7e_row17_col3\" class=\"data row17 col3\" >0.372</td>\n",
       "      <td id=\"T_9ef7e_row17_col4\" class=\"data row17 col4\" >0.381</td>\n",
       "      <td id=\"T_9ef7e_row17_col5\" class=\"data row17 col5\" >0.642</td>\n",
       "      <td id=\"T_9ef7e_row17_col6\" class=\"data row17 col6\" >0.683</td>\n",
       "      <td id=\"T_9ef7e_row17_col7\" class=\"data row17 col7\" >0.616</td>\n",
       "      <td id=\"T_9ef7e_row17_col8\" class=\"data row17 col8\" >0.393</td>\n",
       "      <td id=\"T_9ef7e_row17_col9\" class=\"data row17 col9\" >0.341</td>\n",
       "      <td id=\"T_9ef7e_row17_col10\" class=\"data row17 col10\" >0.513</td>\n",
       "      <td id=\"T_9ef7e_row17_col11\" class=\"data row17 col11\" >0.230</td>\n",
       "      <td id=\"T_9ef7e_row17_col12\" class=\"data row17 col12\" >0.556</td>\n",
       "      <td id=\"T_9ef7e_row17_col13\" class=\"data row17 col13\" >0.416</td>\n",
       "      <td id=\"T_9ef7e_row17_col14\" class=\"data row17 col14\" >0.328</td>\n",
       "      <td id=\"T_9ef7e_row17_col15\" class=\"data row17 col15\" >0.744</td>\n",
       "      <td id=\"T_9ef7e_row17_col16\" class=\"data row17 col16\" >0.772</td>\n",
       "      <td id=\"T_9ef7e_row17_col17\" class=\"data row17 col17\" >1.000</td>\n",
       "      <td id=\"T_9ef7e_row17_col18\" class=\"data row17 col18\" >0.313</td>\n",
       "      <td id=\"T_9ef7e_row17_col19\" class=\"data row17 col19\" >0.611</td>\n",
       "      <td id=\"T_9ef7e_row17_col20\" class=\"data row17 col20\" >0.358</td>\n",
       "      <td id=\"T_9ef7e_row17_col21\" class=\"data row17 col21\" >0.087</td>\n",
       "      <td id=\"T_9ef7e_row17_col22\" class=\"data row17 col22\" >0.395</td>\n",
       "      <td id=\"T_9ef7e_row17_col23\" class=\"data row17 col23\" >0.342</td>\n",
       "      <td id=\"T_9ef7e_row17_col24\" class=\"data row17 col24\" >0.215</td>\n",
       "      <td id=\"T_9ef7e_row17_col25\" class=\"data row17 col25\" >0.453</td>\n",
       "      <td id=\"T_9ef7e_row17_col26\" class=\"data row17 col26\" >0.550</td>\n",
       "      <td id=\"T_9ef7e_row17_col27\" class=\"data row17 col27\" >0.602</td>\n",
       "      <td id=\"T_9ef7e_row17_col28\" class=\"data row17 col28\" >0.143</td>\n",
       "      <td id=\"T_9ef7e_row17_col29\" class=\"data row17 col29\" >0.311</td>\n",
       "    </tr>\n",
       "    <tr>\n",
       "      <th id=\"T_9ef7e_level0_row18\" class=\"row_heading level0 row18\" >symmetry_se</th>\n",
       "      <td id=\"T_9ef7e_row18_col0\" class=\"data row18 col0\" >-0.104</td>\n",
       "      <td id=\"T_9ef7e_row18_col1\" class=\"data row18 col1\" >0.009</td>\n",
       "      <td id=\"T_9ef7e_row18_col2\" class=\"data row18 col2\" >-0.082</td>\n",
       "      <td id=\"T_9ef7e_row18_col3\" class=\"data row18 col3\" >-0.072</td>\n",
       "      <td id=\"T_9ef7e_row18_col4\" class=\"data row18 col4\" >0.201</td>\n",
       "      <td id=\"T_9ef7e_row18_col5\" class=\"data row18 col5\" >0.230</td>\n",
       "      <td id=\"T_9ef7e_row18_col6\" class=\"data row18 col6\" >0.178</td>\n",
       "      <td id=\"T_9ef7e_row18_col7\" class=\"data row18 col7\" >0.095</td>\n",
       "      <td id=\"T_9ef7e_row18_col8\" class=\"data row18 col8\" >0.449</td>\n",
       "      <td id=\"T_9ef7e_row18_col9\" class=\"data row18 col9\" >0.345</td>\n",
       "      <td id=\"T_9ef7e_row18_col10\" class=\"data row18 col10\" >0.241</td>\n",
       "      <td id=\"T_9ef7e_row18_col11\" class=\"data row18 col11\" >0.412</td>\n",
       "      <td id=\"T_9ef7e_row18_col12\" class=\"data row18 col12\" >0.266</td>\n",
       "      <td id=\"T_9ef7e_row18_col13\" class=\"data row18 col13\" >0.134</td>\n",
       "      <td id=\"T_9ef7e_row18_col14\" class=\"data row18 col14\" >0.414</td>\n",
       "      <td id=\"T_9ef7e_row18_col15\" class=\"data row18 col15\" >0.395</td>\n",
       "      <td id=\"T_9ef7e_row18_col16\" class=\"data row18 col16\" >0.309</td>\n",
       "      <td id=\"T_9ef7e_row18_col17\" class=\"data row18 col17\" >0.313</td>\n",
       "      <td id=\"T_9ef7e_row18_col18\" class=\"data row18 col18\" >1.000</td>\n",
       "      <td id=\"T_9ef7e_row18_col19\" class=\"data row18 col19\" >0.369</td>\n",
       "      <td id=\"T_9ef7e_row18_col20\" class=\"data row18 col20\" >-0.128</td>\n",
       "      <td id=\"T_9ef7e_row18_col21\" class=\"data row18 col21\" >-0.077</td>\n",
       "      <td id=\"T_9ef7e_row18_col22\" class=\"data row18 col22\" >-0.104</td>\n",
       "      <td id=\"T_9ef7e_row18_col23\" class=\"data row18 col23\" >-0.110</td>\n",
       "      <td id=\"T_9ef7e_row18_col24\" class=\"data row18 col24\" >-0.013</td>\n",
       "      <td id=\"T_9ef7e_row18_col25\" class=\"data row18 col25\" >0.060</td>\n",
       "      <td id=\"T_9ef7e_row18_col26\" class=\"data row18 col26\" >0.037</td>\n",
       "      <td id=\"T_9ef7e_row18_col27\" class=\"data row18 col27\" >-0.030</td>\n",
       "      <td id=\"T_9ef7e_row18_col28\" class=\"data row18 col28\" >0.389</td>\n",
       "      <td id=\"T_9ef7e_row18_col29\" class=\"data row18 col29\" >0.078</td>\n",
       "    </tr>\n",
       "    <tr>\n",
       "      <th id=\"T_9ef7e_level0_row19\" class=\"row_heading level0 row19\" >fractal_dimension_se</th>\n",
       "      <td id=\"T_9ef7e_row19_col0\" class=\"data row19 col0\" >-0.043</td>\n",
       "      <td id=\"T_9ef7e_row19_col1\" class=\"data row19 col1\" >0.054</td>\n",
       "      <td id=\"T_9ef7e_row19_col2\" class=\"data row19 col2\" >-0.006</td>\n",
       "      <td id=\"T_9ef7e_row19_col3\" class=\"data row19 col3\" >-0.020</td>\n",
       "      <td id=\"T_9ef7e_row19_col4\" class=\"data row19 col4\" >0.284</td>\n",
       "      <td id=\"T_9ef7e_row19_col5\" class=\"data row19 col5\" >0.507</td>\n",
       "      <td id=\"T_9ef7e_row19_col6\" class=\"data row19 col6\" >0.449</td>\n",
       "      <td id=\"T_9ef7e_row19_col7\" class=\"data row19 col7\" >0.258</td>\n",
       "      <td id=\"T_9ef7e_row19_col8\" class=\"data row19 col8\" >0.332</td>\n",
       "      <td id=\"T_9ef7e_row19_col9\" class=\"data row19 col9\" >0.688</td>\n",
       "      <td id=\"T_9ef7e_row19_col10\" class=\"data row19 col10\" >0.228</td>\n",
       "      <td id=\"T_9ef7e_row19_col11\" class=\"data row19 col11\" >0.280</td>\n",
       "      <td id=\"T_9ef7e_row19_col12\" class=\"data row19 col12\" >0.244</td>\n",
       "      <td id=\"T_9ef7e_row19_col13\" class=\"data row19 col13\" >0.127</td>\n",
       "      <td id=\"T_9ef7e_row19_col14\" class=\"data row19 col14\" >0.427</td>\n",
       "      <td id=\"T_9ef7e_row19_col15\" class=\"data row19 col15\" >0.803</td>\n",
       "      <td id=\"T_9ef7e_row19_col16\" class=\"data row19 col16\" >0.727</td>\n",
       "      <td id=\"T_9ef7e_row19_col17\" class=\"data row19 col17\" >0.611</td>\n",
       "      <td id=\"T_9ef7e_row19_col18\" class=\"data row19 col18\" >0.369</td>\n",
       "      <td id=\"T_9ef7e_row19_col19\" class=\"data row19 col19\" >1.000</td>\n",
       "      <td id=\"T_9ef7e_row19_col20\" class=\"data row19 col20\" >-0.037</td>\n",
       "      <td id=\"T_9ef7e_row19_col21\" class=\"data row19 col21\" >-0.003</td>\n",
       "      <td id=\"T_9ef7e_row19_col22\" class=\"data row19 col22\" >-0.001</td>\n",
       "      <td id=\"T_9ef7e_row19_col23\" class=\"data row19 col23\" >-0.023</td>\n",
       "      <td id=\"T_9ef7e_row19_col24\" class=\"data row19 col24\" >0.171</td>\n",
       "      <td id=\"T_9ef7e_row19_col25\" class=\"data row19 col25\" >0.390</td>\n",
       "      <td id=\"T_9ef7e_row19_col26\" class=\"data row19 col26\" >0.380</td>\n",
       "      <td id=\"T_9ef7e_row19_col27\" class=\"data row19 col27\" >0.215</td>\n",
       "      <td id=\"T_9ef7e_row19_col28\" class=\"data row19 col28\" >0.111</td>\n",
       "      <td id=\"T_9ef7e_row19_col29\" class=\"data row19 col29\" >0.591</td>\n",
       "    </tr>\n",
       "    <tr>\n",
       "      <th id=\"T_9ef7e_level0_row20\" class=\"row_heading level0 row20\" >radius_worst</th>\n",
       "      <td id=\"T_9ef7e_row20_col0\" class=\"data row20 col0\" >0.970</td>\n",
       "      <td id=\"T_9ef7e_row20_col1\" class=\"data row20 col1\" >0.353</td>\n",
       "      <td id=\"T_9ef7e_row20_col2\" class=\"data row20 col2\" >0.969</td>\n",
       "      <td id=\"T_9ef7e_row20_col3\" class=\"data row20 col3\" >0.963</td>\n",
       "      <td id=\"T_9ef7e_row20_col4\" class=\"data row20 col4\" >0.213</td>\n",
       "      <td id=\"T_9ef7e_row20_col5\" class=\"data row20 col5\" >0.535</td>\n",
       "      <td id=\"T_9ef7e_row20_col6\" class=\"data row20 col6\" >0.688</td>\n",
       "      <td id=\"T_9ef7e_row20_col7\" class=\"data row20 col7\" >0.830</td>\n",
       "      <td id=\"T_9ef7e_row20_col8\" class=\"data row20 col8\" >0.186</td>\n",
       "      <td id=\"T_9ef7e_row20_col9\" class=\"data row20 col9\" >-0.254</td>\n",
       "      <td id=\"T_9ef7e_row20_col10\" class=\"data row20 col10\" >0.715</td>\n",
       "      <td id=\"T_9ef7e_row20_col11\" class=\"data row20 col11\" >-0.112</td>\n",
       "      <td id=\"T_9ef7e_row20_col12\" class=\"data row20 col12\" >0.697</td>\n",
       "      <td id=\"T_9ef7e_row20_col13\" class=\"data row20 col13\" >0.757</td>\n",
       "      <td id=\"T_9ef7e_row20_col14\" class=\"data row20 col14\" >-0.231</td>\n",
       "      <td id=\"T_9ef7e_row20_col15\" class=\"data row20 col15\" >0.205</td>\n",
       "      <td id=\"T_9ef7e_row20_col16\" class=\"data row20 col16\" >0.187</td>\n",
       "      <td id=\"T_9ef7e_row20_col17\" class=\"data row20 col17\" >0.358</td>\n",
       "      <td id=\"T_9ef7e_row20_col18\" class=\"data row20 col18\" >-0.128</td>\n",
       "      <td id=\"T_9ef7e_row20_col19\" class=\"data row20 col19\" >-0.037</td>\n",
       "      <td id=\"T_9ef7e_row20_col20\" class=\"data row20 col20\" >1.000</td>\n",
       "      <td id=\"T_9ef7e_row20_col21\" class=\"data row20 col21\" >0.360</td>\n",
       "      <td id=\"T_9ef7e_row20_col22\" class=\"data row20 col22\" >0.994</td>\n",
       "      <td id=\"T_9ef7e_row20_col23\" class=\"data row20 col23\" >0.984</td>\n",
       "      <td id=\"T_9ef7e_row20_col24\" class=\"data row20 col24\" >0.217</td>\n",
       "      <td id=\"T_9ef7e_row20_col25\" class=\"data row20 col25\" >0.476</td>\n",
       "      <td id=\"T_9ef7e_row20_col26\" class=\"data row20 col26\" >0.574</td>\n",
       "      <td id=\"T_9ef7e_row20_col27\" class=\"data row20 col27\" >0.787</td>\n",
       "      <td id=\"T_9ef7e_row20_col28\" class=\"data row20 col28\" >0.244</td>\n",
       "      <td id=\"T_9ef7e_row20_col29\" class=\"data row20 col29\" >0.093</td>\n",
       "    </tr>\n",
       "    <tr>\n",
       "      <th id=\"T_9ef7e_level0_row21\" class=\"row_heading level0 row21\" >texture_worst</th>\n",
       "      <td id=\"T_9ef7e_row21_col0\" class=\"data row21 col0\" >0.297</td>\n",
       "      <td id=\"T_9ef7e_row21_col1\" class=\"data row21 col1\" >0.912</td>\n",
       "      <td id=\"T_9ef7e_row21_col2\" class=\"data row21 col2\" >0.303</td>\n",
       "      <td id=\"T_9ef7e_row21_col3\" class=\"data row21 col3\" >0.287</td>\n",
       "      <td id=\"T_9ef7e_row21_col4\" class=\"data row21 col4\" >0.036</td>\n",
       "      <td id=\"T_9ef7e_row21_col5\" class=\"data row21 col5\" >0.248</td>\n",
       "      <td id=\"T_9ef7e_row21_col6\" class=\"data row21 col6\" >0.300</td>\n",
       "      <td id=\"T_9ef7e_row21_col7\" class=\"data row21 col7\" >0.293</td>\n",
       "      <td id=\"T_9ef7e_row21_col8\" class=\"data row21 col8\" >0.091</td>\n",
       "      <td id=\"T_9ef7e_row21_col9\" class=\"data row21 col9\" >-0.051</td>\n",
       "      <td id=\"T_9ef7e_row21_col10\" class=\"data row21 col10\" >0.195</td>\n",
       "      <td id=\"T_9ef7e_row21_col11\" class=\"data row21 col11\" >0.409</td>\n",
       "      <td id=\"T_9ef7e_row21_col12\" class=\"data row21 col12\" >0.200</td>\n",
       "      <td id=\"T_9ef7e_row21_col13\" class=\"data row21 col13\" >0.196</td>\n",
       "      <td id=\"T_9ef7e_row21_col14\" class=\"data row21 col14\" >-0.075</td>\n",
       "      <td id=\"T_9ef7e_row21_col15\" class=\"data row21 col15\" >0.143</td>\n",
       "      <td id=\"T_9ef7e_row21_col16\" class=\"data row21 col16\" >0.100</td>\n",
       "      <td id=\"T_9ef7e_row21_col17\" class=\"data row21 col17\" >0.087</td>\n",
       "      <td id=\"T_9ef7e_row21_col18\" class=\"data row21 col18\" >-0.077</td>\n",
       "      <td id=\"T_9ef7e_row21_col19\" class=\"data row21 col19\" >-0.003</td>\n",
       "      <td id=\"T_9ef7e_row21_col20\" class=\"data row21 col20\" >0.360</td>\n",
       "      <td id=\"T_9ef7e_row21_col21\" class=\"data row21 col21\" >1.000</td>\n",
       "      <td id=\"T_9ef7e_row21_col22\" class=\"data row21 col22\" >0.365</td>\n",
       "      <td id=\"T_9ef7e_row21_col23\" class=\"data row21 col23\" >0.346</td>\n",
       "      <td id=\"T_9ef7e_row21_col24\" class=\"data row21 col24\" >0.225</td>\n",
       "      <td id=\"T_9ef7e_row21_col25\" class=\"data row21 col25\" >0.361</td>\n",
       "      <td id=\"T_9ef7e_row21_col26\" class=\"data row21 col26\" >0.368</td>\n",
       "      <td id=\"T_9ef7e_row21_col27\" class=\"data row21 col27\" >0.360</td>\n",
       "      <td id=\"T_9ef7e_row21_col28\" class=\"data row21 col28\" >0.233</td>\n",
       "      <td id=\"T_9ef7e_row21_col29\" class=\"data row21 col29\" >0.219</td>\n",
       "    </tr>\n",
       "    <tr>\n",
       "      <th id=\"T_9ef7e_level0_row22\" class=\"row_heading level0 row22\" >perimeter_worst</th>\n",
       "      <td id=\"T_9ef7e_row22_col0\" class=\"data row22 col0\" >0.965</td>\n",
       "      <td id=\"T_9ef7e_row22_col1\" class=\"data row22 col1\" >0.358</td>\n",
       "      <td id=\"T_9ef7e_row22_col2\" class=\"data row22 col2\" >0.970</td>\n",
       "      <td id=\"T_9ef7e_row22_col3\" class=\"data row22 col3\" >0.959</td>\n",
       "      <td id=\"T_9ef7e_row22_col4\" class=\"data row22 col4\" >0.239</td>\n",
       "      <td id=\"T_9ef7e_row22_col5\" class=\"data row22 col5\" >0.590</td>\n",
       "      <td id=\"T_9ef7e_row22_col6\" class=\"data row22 col6\" >0.730</td>\n",
       "      <td id=\"T_9ef7e_row22_col7\" class=\"data row22 col7\" >0.856</td>\n",
       "      <td id=\"T_9ef7e_row22_col8\" class=\"data row22 col8\" >0.219</td>\n",
       "      <td id=\"T_9ef7e_row22_col9\" class=\"data row22 col9\" >-0.205</td>\n",
       "      <td id=\"T_9ef7e_row22_col10\" class=\"data row22 col10\" >0.720</td>\n",
       "      <td id=\"T_9ef7e_row22_col11\" class=\"data row22 col11\" >-0.102</td>\n",
       "      <td id=\"T_9ef7e_row22_col12\" class=\"data row22 col12\" >0.721</td>\n",
       "      <td id=\"T_9ef7e_row22_col13\" class=\"data row22 col13\" >0.761</td>\n",
       "      <td id=\"T_9ef7e_row22_col14\" class=\"data row22 col14\" >-0.217</td>\n",
       "      <td id=\"T_9ef7e_row22_col15\" class=\"data row22 col15\" >0.261</td>\n",
       "      <td id=\"T_9ef7e_row22_col16\" class=\"data row22 col16\" >0.227</td>\n",
       "      <td id=\"T_9ef7e_row22_col17\" class=\"data row22 col17\" >0.395</td>\n",
       "      <td id=\"T_9ef7e_row22_col18\" class=\"data row22 col18\" >-0.104</td>\n",
       "      <td id=\"T_9ef7e_row22_col19\" class=\"data row22 col19\" >-0.001</td>\n",
       "      <td id=\"T_9ef7e_row22_col20\" class=\"data row22 col20\" >0.994</td>\n",
       "      <td id=\"T_9ef7e_row22_col21\" class=\"data row22 col21\" >0.365</td>\n",
       "      <td id=\"T_9ef7e_row22_col22\" class=\"data row22 col22\" >1.000</td>\n",
       "      <td id=\"T_9ef7e_row22_col23\" class=\"data row22 col23\" >0.978</td>\n",
       "      <td id=\"T_9ef7e_row22_col24\" class=\"data row22 col24\" >0.237</td>\n",
       "      <td id=\"T_9ef7e_row22_col25\" class=\"data row22 col25\" >0.529</td>\n",
       "      <td id=\"T_9ef7e_row22_col26\" class=\"data row22 col26\" >0.618</td>\n",
       "      <td id=\"T_9ef7e_row22_col27\" class=\"data row22 col27\" >0.816</td>\n",
       "      <td id=\"T_9ef7e_row22_col28\" class=\"data row22 col28\" >0.269</td>\n",
       "      <td id=\"T_9ef7e_row22_col29\" class=\"data row22 col29\" >0.139</td>\n",
       "    </tr>\n",
       "    <tr>\n",
       "      <th id=\"T_9ef7e_level0_row23\" class=\"row_heading level0 row23\" >area_worst</th>\n",
       "      <td id=\"T_9ef7e_row23_col0\" class=\"data row23 col0\" >0.941</td>\n",
       "      <td id=\"T_9ef7e_row23_col1\" class=\"data row23 col1\" >0.344</td>\n",
       "      <td id=\"T_9ef7e_row23_col2\" class=\"data row23 col2\" >0.942</td>\n",
       "      <td id=\"T_9ef7e_row23_col3\" class=\"data row23 col3\" >0.959</td>\n",
       "      <td id=\"T_9ef7e_row23_col4\" class=\"data row23 col4\" >0.207</td>\n",
       "      <td id=\"T_9ef7e_row23_col5\" class=\"data row23 col5\" >0.510</td>\n",
       "      <td id=\"T_9ef7e_row23_col6\" class=\"data row23 col6\" >0.676</td>\n",
       "      <td id=\"T_9ef7e_row23_col7\" class=\"data row23 col7\" >0.810</td>\n",
       "      <td id=\"T_9ef7e_row23_col8\" class=\"data row23 col8\" >0.177</td>\n",
       "      <td id=\"T_9ef7e_row23_col9\" class=\"data row23 col9\" >-0.232</td>\n",
       "      <td id=\"T_9ef7e_row23_col10\" class=\"data row23 col10\" >0.752</td>\n",
       "      <td id=\"T_9ef7e_row23_col11\" class=\"data row23 col11\" >-0.083</td>\n",
       "      <td id=\"T_9ef7e_row23_col12\" class=\"data row23 col12\" >0.731</td>\n",
       "      <td id=\"T_9ef7e_row23_col13\" class=\"data row23 col13\" >0.811</td>\n",
       "      <td id=\"T_9ef7e_row23_col14\" class=\"data row23 col14\" >-0.182</td>\n",
       "      <td id=\"T_9ef7e_row23_col15\" class=\"data row23 col15\" >0.199</td>\n",
       "      <td id=\"T_9ef7e_row23_col16\" class=\"data row23 col16\" >0.188</td>\n",
       "      <td id=\"T_9ef7e_row23_col17\" class=\"data row23 col17\" >0.342</td>\n",
       "      <td id=\"T_9ef7e_row23_col18\" class=\"data row23 col18\" >-0.110</td>\n",
       "      <td id=\"T_9ef7e_row23_col19\" class=\"data row23 col19\" >-0.023</td>\n",
       "      <td id=\"T_9ef7e_row23_col20\" class=\"data row23 col20\" >0.984</td>\n",
       "      <td id=\"T_9ef7e_row23_col21\" class=\"data row23 col21\" >0.346</td>\n",
       "      <td id=\"T_9ef7e_row23_col22\" class=\"data row23 col22\" >0.978</td>\n",
       "      <td id=\"T_9ef7e_row23_col23\" class=\"data row23 col23\" >1.000</td>\n",
       "      <td id=\"T_9ef7e_row23_col24\" class=\"data row23 col24\" >0.209</td>\n",
       "      <td id=\"T_9ef7e_row23_col25\" class=\"data row23 col25\" >0.438</td>\n",
       "      <td id=\"T_9ef7e_row23_col26\" class=\"data row23 col26\" >0.543</td>\n",
       "      <td id=\"T_9ef7e_row23_col27\" class=\"data row23 col27\" >0.747</td>\n",
       "      <td id=\"T_9ef7e_row23_col28\" class=\"data row23 col28\" >0.209</td>\n",
       "      <td id=\"T_9ef7e_row23_col29\" class=\"data row23 col29\" >0.080</td>\n",
       "    </tr>\n",
       "    <tr>\n",
       "      <th id=\"T_9ef7e_level0_row24\" class=\"row_heading level0 row24\" >smoothness_worst</th>\n",
       "      <td id=\"T_9ef7e_row24_col0\" class=\"data row24 col0\" >0.120</td>\n",
       "      <td id=\"T_9ef7e_row24_col1\" class=\"data row24 col1\" >0.078</td>\n",
       "      <td id=\"T_9ef7e_row24_col2\" class=\"data row24 col2\" >0.151</td>\n",
       "      <td id=\"T_9ef7e_row24_col3\" class=\"data row24 col3\" >0.124</td>\n",
       "      <td id=\"T_9ef7e_row24_col4\" class=\"data row24 col4\" >0.805</td>\n",
       "      <td id=\"T_9ef7e_row24_col5\" class=\"data row24 col5\" >0.566</td>\n",
       "      <td id=\"T_9ef7e_row24_col6\" class=\"data row24 col6\" >0.449</td>\n",
       "      <td id=\"T_9ef7e_row24_col7\" class=\"data row24 col7\" >0.453</td>\n",
       "      <td id=\"T_9ef7e_row24_col8\" class=\"data row24 col8\" >0.427</td>\n",
       "      <td id=\"T_9ef7e_row24_col9\" class=\"data row24 col9\" >0.505</td>\n",
       "      <td id=\"T_9ef7e_row24_col10\" class=\"data row24 col10\" >0.142</td>\n",
       "      <td id=\"T_9ef7e_row24_col11\" class=\"data row24 col11\" >-0.074</td>\n",
       "      <td id=\"T_9ef7e_row24_col12\" class=\"data row24 col12\" >0.130</td>\n",
       "      <td id=\"T_9ef7e_row24_col13\" class=\"data row24 col13\" >0.125</td>\n",
       "      <td id=\"T_9ef7e_row24_col14\" class=\"data row24 col14\" >0.314</td>\n",
       "      <td id=\"T_9ef7e_row24_col15\" class=\"data row24 col15\" >0.227</td>\n",
       "      <td id=\"T_9ef7e_row24_col16\" class=\"data row24 col16\" >0.168</td>\n",
       "      <td id=\"T_9ef7e_row24_col17\" class=\"data row24 col17\" >0.215</td>\n",
       "      <td id=\"T_9ef7e_row24_col18\" class=\"data row24 col18\" >-0.013</td>\n",
       "      <td id=\"T_9ef7e_row24_col19\" class=\"data row24 col19\" >0.171</td>\n",
       "      <td id=\"T_9ef7e_row24_col20\" class=\"data row24 col20\" >0.217</td>\n",
       "      <td id=\"T_9ef7e_row24_col21\" class=\"data row24 col21\" >0.225</td>\n",
       "      <td id=\"T_9ef7e_row24_col22\" class=\"data row24 col22\" >0.237</td>\n",
       "      <td id=\"T_9ef7e_row24_col23\" class=\"data row24 col23\" >0.209</td>\n",
       "      <td id=\"T_9ef7e_row24_col24\" class=\"data row24 col24\" >1.000</td>\n",
       "      <td id=\"T_9ef7e_row24_col25\" class=\"data row24 col25\" >0.568</td>\n",
       "      <td id=\"T_9ef7e_row24_col26\" class=\"data row24 col26\" >0.519</td>\n",
       "      <td id=\"T_9ef7e_row24_col27\" class=\"data row24 col27\" >0.548</td>\n",
       "      <td id=\"T_9ef7e_row24_col28\" class=\"data row24 col28\" >0.494</td>\n",
       "      <td id=\"T_9ef7e_row24_col29\" class=\"data row24 col29\" >0.618</td>\n",
       "    </tr>\n",
       "    <tr>\n",
       "      <th id=\"T_9ef7e_level0_row25\" class=\"row_heading level0 row25\" >compactness_worst</th>\n",
       "      <td id=\"T_9ef7e_row25_col0\" class=\"data row25 col0\" >0.413</td>\n",
       "      <td id=\"T_9ef7e_row25_col1\" class=\"data row25 col1\" >0.278</td>\n",
       "      <td id=\"T_9ef7e_row25_col2\" class=\"data row25 col2\" >0.456</td>\n",
       "      <td id=\"T_9ef7e_row25_col3\" class=\"data row25 col3\" >0.390</td>\n",
       "      <td id=\"T_9ef7e_row25_col4\" class=\"data row25 col4\" >0.472</td>\n",
       "      <td id=\"T_9ef7e_row25_col5\" class=\"data row25 col5\" >0.866</td>\n",
       "      <td id=\"T_9ef7e_row25_col6\" class=\"data row25 col6\" >0.755</td>\n",
       "      <td id=\"T_9ef7e_row25_col7\" class=\"data row25 col7\" >0.667</td>\n",
       "      <td id=\"T_9ef7e_row25_col8\" class=\"data row25 col8\" >0.473</td>\n",
       "      <td id=\"T_9ef7e_row25_col9\" class=\"data row25 col9\" >0.459</td>\n",
       "      <td id=\"T_9ef7e_row25_col10\" class=\"data row25 col10\" >0.287</td>\n",
       "      <td id=\"T_9ef7e_row25_col11\" class=\"data row25 col11\" >-0.092</td>\n",
       "      <td id=\"T_9ef7e_row25_col12\" class=\"data row25 col12\" >0.342</td>\n",
       "      <td id=\"T_9ef7e_row25_col13\" class=\"data row25 col13\" >0.283</td>\n",
       "      <td id=\"T_9ef7e_row25_col14\" class=\"data row25 col14\" >-0.056</td>\n",
       "      <td id=\"T_9ef7e_row25_col15\" class=\"data row25 col15\" >0.679</td>\n",
       "      <td id=\"T_9ef7e_row25_col16\" class=\"data row25 col16\" >0.485</td>\n",
       "      <td id=\"T_9ef7e_row25_col17\" class=\"data row25 col17\" >0.453</td>\n",
       "      <td id=\"T_9ef7e_row25_col18\" class=\"data row25 col18\" >0.060</td>\n",
       "      <td id=\"T_9ef7e_row25_col19\" class=\"data row25 col19\" >0.390</td>\n",
       "      <td id=\"T_9ef7e_row25_col20\" class=\"data row25 col20\" >0.476</td>\n",
       "      <td id=\"T_9ef7e_row25_col21\" class=\"data row25 col21\" >0.361</td>\n",
       "      <td id=\"T_9ef7e_row25_col22\" class=\"data row25 col22\" >0.529</td>\n",
       "      <td id=\"T_9ef7e_row25_col23\" class=\"data row25 col23\" >0.438</td>\n",
       "      <td id=\"T_9ef7e_row25_col24\" class=\"data row25 col24\" >0.568</td>\n",
       "      <td id=\"T_9ef7e_row25_col25\" class=\"data row25 col25\" >1.000</td>\n",
       "      <td id=\"T_9ef7e_row25_col26\" class=\"data row25 col26\" >0.892</td>\n",
       "      <td id=\"T_9ef7e_row25_col27\" class=\"data row25 col27\" >0.801</td>\n",
       "      <td id=\"T_9ef7e_row25_col28\" class=\"data row25 col28\" >0.614</td>\n",
       "      <td id=\"T_9ef7e_row25_col29\" class=\"data row25 col29\" >0.810</td>\n",
       "    </tr>\n",
       "    <tr>\n",
       "      <th id=\"T_9ef7e_level0_row26\" class=\"row_heading level0 row26\" >concavity_worst</th>\n",
       "      <td id=\"T_9ef7e_row26_col0\" class=\"data row26 col0\" >0.527</td>\n",
       "      <td id=\"T_9ef7e_row26_col1\" class=\"data row26 col1\" >0.301</td>\n",
       "      <td id=\"T_9ef7e_row26_col2\" class=\"data row26 col2\" >0.564</td>\n",
       "      <td id=\"T_9ef7e_row26_col3\" class=\"data row26 col3\" >0.513</td>\n",
       "      <td id=\"T_9ef7e_row26_col4\" class=\"data row26 col4\" >0.435</td>\n",
       "      <td id=\"T_9ef7e_row26_col5\" class=\"data row26 col5\" >0.816</td>\n",
       "      <td id=\"T_9ef7e_row26_col6\" class=\"data row26 col6\" >0.884</td>\n",
       "      <td id=\"T_9ef7e_row26_col7\" class=\"data row26 col7\" >0.752</td>\n",
       "      <td id=\"T_9ef7e_row26_col8\" class=\"data row26 col8\" >0.434</td>\n",
       "      <td id=\"T_9ef7e_row26_col9\" class=\"data row26 col9\" >0.346</td>\n",
       "      <td id=\"T_9ef7e_row26_col10\" class=\"data row26 col10\" >0.381</td>\n",
       "      <td id=\"T_9ef7e_row26_col11\" class=\"data row26 col11\" >-0.069</td>\n",
       "      <td id=\"T_9ef7e_row26_col12\" class=\"data row26 col12\" >0.419</td>\n",
       "      <td id=\"T_9ef7e_row26_col13\" class=\"data row26 col13\" >0.385</td>\n",
       "      <td id=\"T_9ef7e_row26_col14\" class=\"data row26 col14\" >-0.058</td>\n",
       "      <td id=\"T_9ef7e_row26_col15\" class=\"data row26 col15\" >0.639</td>\n",
       "      <td id=\"T_9ef7e_row26_col16\" class=\"data row26 col16\" >0.663</td>\n",
       "      <td id=\"T_9ef7e_row26_col17\" class=\"data row26 col17\" >0.550</td>\n",
       "      <td id=\"T_9ef7e_row26_col18\" class=\"data row26 col18\" >0.037</td>\n",
       "      <td id=\"T_9ef7e_row26_col19\" class=\"data row26 col19\" >0.380</td>\n",
       "      <td id=\"T_9ef7e_row26_col20\" class=\"data row26 col20\" >0.574</td>\n",
       "      <td id=\"T_9ef7e_row26_col21\" class=\"data row26 col21\" >0.368</td>\n",
       "      <td id=\"T_9ef7e_row26_col22\" class=\"data row26 col22\" >0.618</td>\n",
       "      <td id=\"T_9ef7e_row26_col23\" class=\"data row26 col23\" >0.543</td>\n",
       "      <td id=\"T_9ef7e_row26_col24\" class=\"data row26 col24\" >0.519</td>\n",
       "      <td id=\"T_9ef7e_row26_col25\" class=\"data row26 col25\" >0.892</td>\n",
       "      <td id=\"T_9ef7e_row26_col26\" class=\"data row26 col26\" >1.000</td>\n",
       "      <td id=\"T_9ef7e_row26_col27\" class=\"data row26 col27\" >0.855</td>\n",
       "      <td id=\"T_9ef7e_row26_col28\" class=\"data row26 col28\" >0.533</td>\n",
       "      <td id=\"T_9ef7e_row26_col29\" class=\"data row26 col29\" >0.687</td>\n",
       "    </tr>\n",
       "    <tr>\n",
       "      <th id=\"T_9ef7e_level0_row27\" class=\"row_heading level0 row27\" >concave points_worst</th>\n",
       "      <td id=\"T_9ef7e_row27_col0\" class=\"data row27 col0\" >0.744</td>\n",
       "      <td id=\"T_9ef7e_row27_col1\" class=\"data row27 col1\" >0.295</td>\n",
       "      <td id=\"T_9ef7e_row27_col2\" class=\"data row27 col2\" >0.771</td>\n",
       "      <td id=\"T_9ef7e_row27_col3\" class=\"data row27 col3\" >0.722</td>\n",
       "      <td id=\"T_9ef7e_row27_col4\" class=\"data row27 col4\" >0.503</td>\n",
       "      <td id=\"T_9ef7e_row27_col5\" class=\"data row27 col5\" >0.816</td>\n",
       "      <td id=\"T_9ef7e_row27_col6\" class=\"data row27 col6\" >0.861</td>\n",
       "      <td id=\"T_9ef7e_row27_col7\" class=\"data row27 col7\" >0.910</td>\n",
       "      <td id=\"T_9ef7e_row27_col8\" class=\"data row27 col8\" >0.430</td>\n",
       "      <td id=\"T_9ef7e_row27_col9\" class=\"data row27 col9\" >0.175</td>\n",
       "      <td id=\"T_9ef7e_row27_col10\" class=\"data row27 col10\" >0.531</td>\n",
       "      <td id=\"T_9ef7e_row27_col11\" class=\"data row27 col11\" >-0.120</td>\n",
       "      <td id=\"T_9ef7e_row27_col12\" class=\"data row27 col12\" >0.555</td>\n",
       "      <td id=\"T_9ef7e_row27_col13\" class=\"data row27 col13\" >0.538</td>\n",
       "      <td id=\"T_9ef7e_row27_col14\" class=\"data row27 col14\" >-0.102</td>\n",
       "      <td id=\"T_9ef7e_row27_col15\" class=\"data row27 col15\" >0.483</td>\n",
       "      <td id=\"T_9ef7e_row27_col16\" class=\"data row27 col16\" >0.440</td>\n",
       "      <td id=\"T_9ef7e_row27_col17\" class=\"data row27 col17\" >0.602</td>\n",
       "      <td id=\"T_9ef7e_row27_col18\" class=\"data row27 col18\" >-0.030</td>\n",
       "      <td id=\"T_9ef7e_row27_col19\" class=\"data row27 col19\" >0.215</td>\n",
       "      <td id=\"T_9ef7e_row27_col20\" class=\"data row27 col20\" >0.787</td>\n",
       "      <td id=\"T_9ef7e_row27_col21\" class=\"data row27 col21\" >0.360</td>\n",
       "      <td id=\"T_9ef7e_row27_col22\" class=\"data row27 col22\" >0.816</td>\n",
       "      <td id=\"T_9ef7e_row27_col23\" class=\"data row27 col23\" >0.747</td>\n",
       "      <td id=\"T_9ef7e_row27_col24\" class=\"data row27 col24\" >0.548</td>\n",
       "      <td id=\"T_9ef7e_row27_col25\" class=\"data row27 col25\" >0.801</td>\n",
       "      <td id=\"T_9ef7e_row27_col26\" class=\"data row27 col26\" >0.855</td>\n",
       "      <td id=\"T_9ef7e_row27_col27\" class=\"data row27 col27\" >1.000</td>\n",
       "      <td id=\"T_9ef7e_row27_col28\" class=\"data row27 col28\" >0.503</td>\n",
       "      <td id=\"T_9ef7e_row27_col29\" class=\"data row27 col29\" >0.511</td>\n",
       "    </tr>\n",
       "    <tr>\n",
       "      <th id=\"T_9ef7e_level0_row28\" class=\"row_heading level0 row28\" >symmetry_worst</th>\n",
       "      <td id=\"T_9ef7e_row28_col0\" class=\"data row28 col0\" >0.164</td>\n",
       "      <td id=\"T_9ef7e_row28_col1\" class=\"data row28 col1\" >0.105</td>\n",
       "      <td id=\"T_9ef7e_row28_col2\" class=\"data row28 col2\" >0.189</td>\n",
       "      <td id=\"T_9ef7e_row28_col3\" class=\"data row28 col3\" >0.144</td>\n",
       "      <td id=\"T_9ef7e_row28_col4\" class=\"data row28 col4\" >0.394</td>\n",
       "      <td id=\"T_9ef7e_row28_col5\" class=\"data row28 col5\" >0.510</td>\n",
       "      <td id=\"T_9ef7e_row28_col6\" class=\"data row28 col6\" >0.409</td>\n",
       "      <td id=\"T_9ef7e_row28_col7\" class=\"data row28 col7\" >0.376</td>\n",
       "      <td id=\"T_9ef7e_row28_col8\" class=\"data row28 col8\" >0.700</td>\n",
       "      <td id=\"T_9ef7e_row28_col9\" class=\"data row28 col9\" >0.334</td>\n",
       "      <td id=\"T_9ef7e_row28_col10\" class=\"data row28 col10\" >0.095</td>\n",
       "      <td id=\"T_9ef7e_row28_col11\" class=\"data row28 col11\" >-0.128</td>\n",
       "      <td id=\"T_9ef7e_row28_col12\" class=\"data row28 col12\" >0.110</td>\n",
       "      <td id=\"T_9ef7e_row28_col13\" class=\"data row28 col13\" >0.074</td>\n",
       "      <td id=\"T_9ef7e_row28_col14\" class=\"data row28 col14\" >-0.107</td>\n",
       "      <td id=\"T_9ef7e_row28_col15\" class=\"data row28 col15\" >0.278</td>\n",
       "      <td id=\"T_9ef7e_row28_col16\" class=\"data row28 col16\" >0.198</td>\n",
       "      <td id=\"T_9ef7e_row28_col17\" class=\"data row28 col17\" >0.143</td>\n",
       "      <td id=\"T_9ef7e_row28_col18\" class=\"data row28 col18\" >0.389</td>\n",
       "      <td id=\"T_9ef7e_row28_col19\" class=\"data row28 col19\" >0.111</td>\n",
       "      <td id=\"T_9ef7e_row28_col20\" class=\"data row28 col20\" >0.244</td>\n",
       "      <td id=\"T_9ef7e_row28_col21\" class=\"data row28 col21\" >0.233</td>\n",
       "      <td id=\"T_9ef7e_row28_col22\" class=\"data row28 col22\" >0.269</td>\n",
       "      <td id=\"T_9ef7e_row28_col23\" class=\"data row28 col23\" >0.209</td>\n",
       "      <td id=\"T_9ef7e_row28_col24\" class=\"data row28 col24\" >0.494</td>\n",
       "      <td id=\"T_9ef7e_row28_col25\" class=\"data row28 col25\" >0.614</td>\n",
       "      <td id=\"T_9ef7e_row28_col26\" class=\"data row28 col26\" >0.533</td>\n",
       "      <td id=\"T_9ef7e_row28_col27\" class=\"data row28 col27\" >0.503</td>\n",
       "      <td id=\"T_9ef7e_row28_col28\" class=\"data row28 col28\" >1.000</td>\n",
       "      <td id=\"T_9ef7e_row28_col29\" class=\"data row28 col29\" >0.538</td>\n",
       "    </tr>\n",
       "    <tr>\n",
       "      <th id=\"T_9ef7e_level0_row29\" class=\"row_heading level0 row29\" >fractal_dimension_worst</th>\n",
       "      <td id=\"T_9ef7e_row29_col0\" class=\"data row29 col0\" >0.007</td>\n",
       "      <td id=\"T_9ef7e_row29_col1\" class=\"data row29 col1\" >0.119</td>\n",
       "      <td id=\"T_9ef7e_row29_col2\" class=\"data row29 col2\" >0.051</td>\n",
       "      <td id=\"T_9ef7e_row29_col3\" class=\"data row29 col3\" >0.004</td>\n",
       "      <td id=\"T_9ef7e_row29_col4\" class=\"data row29 col4\" >0.499</td>\n",
       "      <td id=\"T_9ef7e_row29_col5\" class=\"data row29 col5\" >0.687</td>\n",
       "      <td id=\"T_9ef7e_row29_col6\" class=\"data row29 col6\" >0.515</td>\n",
       "      <td id=\"T_9ef7e_row29_col7\" class=\"data row29 col7\" >0.369</td>\n",
       "      <td id=\"T_9ef7e_row29_col8\" class=\"data row29 col8\" >0.438</td>\n",
       "      <td id=\"T_9ef7e_row29_col9\" class=\"data row29 col9\" >0.767</td>\n",
       "      <td id=\"T_9ef7e_row29_col10\" class=\"data row29 col10\" >0.050</td>\n",
       "      <td id=\"T_9ef7e_row29_col11\" class=\"data row29 col11\" >-0.046</td>\n",
       "      <td id=\"T_9ef7e_row29_col12\" class=\"data row29 col12\" >0.085</td>\n",
       "      <td id=\"T_9ef7e_row29_col13\" class=\"data row29 col13\" >0.018</td>\n",
       "      <td id=\"T_9ef7e_row29_col14\" class=\"data row29 col14\" >0.101</td>\n",
       "      <td id=\"T_9ef7e_row29_col15\" class=\"data row29 col15\" >0.591</td>\n",
       "      <td id=\"T_9ef7e_row29_col16\" class=\"data row29 col16\" >0.439</td>\n",
       "      <td id=\"T_9ef7e_row29_col17\" class=\"data row29 col17\" >0.311</td>\n",
       "      <td id=\"T_9ef7e_row29_col18\" class=\"data row29 col18\" >0.078</td>\n",
       "      <td id=\"T_9ef7e_row29_col19\" class=\"data row29 col19\" >0.591</td>\n",
       "      <td id=\"T_9ef7e_row29_col20\" class=\"data row29 col20\" >0.093</td>\n",
       "      <td id=\"T_9ef7e_row29_col21\" class=\"data row29 col21\" >0.219</td>\n",
       "      <td id=\"T_9ef7e_row29_col22\" class=\"data row29 col22\" >0.139</td>\n",
       "      <td id=\"T_9ef7e_row29_col23\" class=\"data row29 col23\" >0.080</td>\n",
       "      <td id=\"T_9ef7e_row29_col24\" class=\"data row29 col24\" >0.618</td>\n",
       "      <td id=\"T_9ef7e_row29_col25\" class=\"data row29 col25\" >0.810</td>\n",
       "      <td id=\"T_9ef7e_row29_col26\" class=\"data row29 col26\" >0.687</td>\n",
       "      <td id=\"T_9ef7e_row29_col27\" class=\"data row29 col27\" >0.511</td>\n",
       "      <td id=\"T_9ef7e_row29_col28\" class=\"data row29 col28\" >0.538</td>\n",
       "      <td id=\"T_9ef7e_row29_col29\" class=\"data row29 col29\" >1.000</td>\n",
       "    </tr>\n",
       "  </tbody>\n",
       "</table>\n"
      ],
      "text/plain": [
       "<pandas.io.formats.style.Styler at 0x1f109089b50>"
      ]
     },
     "execution_count": 125,
     "metadata": {},
     "output_type": "execute_result"
    }
   ],
   "source": [
    "varObjCat = wis.diagnosis\n",
    "id_wis = wis.id\n",
    "imput_wis = wis.drop(['diagnosis', 'id'], axis=1)\n",
    "\n",
    "corr = imput_wis.corr()\n",
    "corr.style.background_gradient(cmap='coolwarm').format(precision=3)"
   ]
  },
  {
   "cell_type": "markdown",
   "id": "9ae6b8c4",
   "metadata": {},
   "source": [
    "Con los resultados de esta matriz, se comprueba que el dataset es óptimo para realizar un análisis de componentes principales, debida a la gran incidencia de correlaciones altas.\n",
    "\n",
    "Las variables seguramente se agrupen por valores medidos sobre si mismo, ya que se identifican varios estadísticos realizados sobre distintas medidas o características, como por ejemplo, el área media, su desviación típica y la peor medida tomada sobre ese área y cada una de estas tres medidas se considera una variable dentro de este data set. Adicionalmente, están los casos relacionados que intuitivamente se conoce su correlación sin tener que ver la matriz, como lo son, el área, el radio (componente de la fórmula para sacar el área) y el perímetro (Utiliza fórmula similar a la del área e igualmente utiliza el radio dentro de esta), siendo estos los casos más claros.\n"
   ]
  },
  {
   "cell_type": "code",
   "execution_count": 126,
   "id": "192fbdcb",
   "metadata": {},
   "outputs": [
    {
     "data": {
      "text/plain": [
       "(39362.120841135045, 0.0)"
      ]
     },
     "execution_count": 126,
     "metadata": {},
     "output_type": "execute_result"
    }
   ],
   "source": [
    "from factor_analyzer.factor_analyzer import calculate_bartlett_sphericity\n",
    "#importante que la variable objetivo categorica no este en el dataframe sobre el que se producira la prueba\n",
    "calculate_bartlett_sphericity(imput_wis)"
   ]
  },
  {
   "cell_type": "markdown",
   "id": "b31b87ff",
   "metadata": {},
   "source": [
    "Las conclusiones brindadas previamente se respaldan ahora realizando el test de esferidad, ya que se obtiene un p valor bajo o mejor dicho nulo, lo que indica que la Hipótesis nula H) se descarta y la matriz de correlaciones sobre el dataset de Wisconsin no es parecida a una matriz identidad, lo que equivale a lata frecuencia de correlaciones marcadas entre las variables."
   ]
  },
  {
   "cell_type": "code",
   "execution_count": 127,
   "id": "b180919a",
   "metadata": {},
   "outputs": [
    {
     "name": "stderr",
     "output_type": "stream",
     "text": [
      "C:\\Users\\guill\\anaconda3\\lib\\site-packages\\factor_analyzer\\utils.py:244: UserWarning:\n",
      "\n",
      "The inverse of the variance-covariance matrix was calculated using the Moore-Penrose generalized matrix inversion, due to its determinant being at or very close to zero.\n",
      "\n"
     ]
    },
    {
     "data": {
      "text/plain": [
       "(array([0.83463512, 0.64352613, 0.85334054, 0.86403253, 0.814716  ,\n",
       "        0.87939755, 0.89192843, 0.90027723, 0.82510264, 0.83181381,\n",
       "        0.83412178, 0.48458942, 0.84290718, 0.85199881, 0.64427854,\n",
       "        0.8712978 , 0.82547994, 0.83516673, 0.5832182 , 0.81149623,\n",
       "        0.82308704, 0.60329755, 0.88493799, 0.82044529, 0.75316064,\n",
       "        0.85127714, 0.90222587, 0.89105242, 0.69074764, 0.81233969]),\n",
       " 0.8322253094651043)"
      ]
     },
     "execution_count": 127,
     "metadata": {},
     "output_type": "execute_result"
    }
   ],
   "source": [
    "from factor_analyzer.factor_analyzer import calculate_kmo\n",
    "calculate_kmo(imput_wis)"
   ]
  },
  {
   "cell_type": "markdown",
   "id": "70e3f7f1",
   "metadata": {},
   "source": [
    "Teniendo en cuenta el criterio de los índices para este test KMO, el modelo en general es bueno debido a su alto coeficiente (0.83) y solamente se cuenta con una variable cuyo índice es bajo, por ende, inaceptable, ya que obtiene un valor de 0.48. Esta variable es la desviación típica de la textura, la cual parece tener sentido que sea la variable con menor correlación con el conjunto de datos.\n",
    "Por lo demás, se obtienen valores muy buenos en los índices de las variables, así que el estudio esta bien encaminado.\n"
   ]
  },
  {
   "cell_type": "markdown",
   "id": "9ec9a3a6",
   "metadata": {},
   "source": [
    "Siendo la variable objetivo de tipo categórica y en este caso, dicotómica, se conoce entonces que el modelo adecuado será de regresión logística para prever cuando se obtendrán diagnósticos de cualquier tipo.\n",
    "\n",
    "Los problemas que puede brindar las correlaciones observadas, pueden ser, la gran cantidad de variables y algunas que explican características iguales y la falta de correlación entre las variables de desviación típica con sus pares y otras variables como la textura que no cuentan con un grado alto de correlación, pudiendo así afectar la reducción de variables del modelo ya que será difícil agruparlas. Pero por lo demás no parece haber muchos problemas tras las pruebas realizadas.\n"
   ]
  },
  {
   "cell_type": "markdown",
   "id": "436f9312",
   "metadata": {},
   "source": [
    "### Escalado de datos"
   ]
  },
  {
   "cell_type": "code",
   "execution_count": 128,
   "id": "c88c532e",
   "metadata": {},
   "outputs": [
    {
     "data": {
      "text/plain": [
       "StandardScaler()"
      ]
     },
     "execution_count": 128,
     "metadata": {},
     "output_type": "execute_result"
    }
   ],
   "source": [
    "scaler = StandardScaler()\n",
    "scaler.fit(imput_wis)"
   ]
  },
  {
   "cell_type": "code",
   "execution_count": 129,
   "id": "41c43e2f",
   "metadata": {},
   "outputs": [],
   "source": [
    "X = scaler.transform(imput_wis)"
   ]
  },
  {
   "cell_type": "markdown",
   "id": "df038455",
   "metadata": {},
   "source": [
    "## PCA para reducir dimensionalidad "
   ]
  },
  {
   "cell_type": "code",
   "execution_count": 130,
   "id": "92be51e9",
   "metadata": {},
   "outputs": [
    {
     "data": {
      "text/html": [
       "<div>\n",
       "<style scoped>\n",
       "    .dataframe tbody tr th:only-of-type {\n",
       "        vertical-align: middle;\n",
       "    }\n",
       "\n",
       "    .dataframe tbody tr th {\n",
       "        vertical-align: top;\n",
       "    }\n",
       "\n",
       "    .dataframe thead th {\n",
       "        text-align: right;\n",
       "    }\n",
       "</style>\n",
       "<table border=\"1\" class=\"dataframe\">\n",
       "  <thead>\n",
       "    <tr style=\"text-align: right;\">\n",
       "      <th></th>\n",
       "      <th>Componente1</th>\n",
       "      <th>Componente2</th>\n",
       "      <th>Componente3</th>\n",
       "    </tr>\n",
       "  </thead>\n",
       "  <tbody>\n",
       "    <tr>\n",
       "      <th>0</th>\n",
       "      <td>9.192837</td>\n",
       "      <td>1.948583</td>\n",
       "      <td>-1.123166</td>\n",
       "    </tr>\n",
       "    <tr>\n",
       "      <th>1</th>\n",
       "      <td>2.387802</td>\n",
       "      <td>-3.768172</td>\n",
       "      <td>-0.529293</td>\n",
       "    </tr>\n",
       "    <tr>\n",
       "      <th>2</th>\n",
       "      <td>5.733896</td>\n",
       "      <td>-1.075174</td>\n",
       "      <td>-0.551748</td>\n",
       "    </tr>\n",
       "    <tr>\n",
       "      <th>3</th>\n",
       "      <td>7.122953</td>\n",
       "      <td>10.275589</td>\n",
       "      <td>-3.232790</td>\n",
       "    </tr>\n",
       "    <tr>\n",
       "      <th>4</th>\n",
       "      <td>3.935302</td>\n",
       "      <td>-1.948072</td>\n",
       "      <td>1.389767</td>\n",
       "    </tr>\n",
       "  </tbody>\n",
       "</table>\n",
       "</div>"
      ],
      "text/plain": [
       "   Componente1  Componente2  Componente3\n",
       "0     9.192837     1.948583    -1.123166\n",
       "1     2.387802    -3.768172    -0.529293\n",
       "2     5.733896    -1.075174    -0.551748\n",
       "3     7.122953    10.275589    -3.232790\n",
       "4     3.935302    -1.948072     1.389767"
      ]
     },
     "execution_count": 130,
     "metadata": {},
     "output_type": "execute_result"
    }
   ],
   "source": [
    "pca = PCA(n_components=0.7)\n",
    "scores = pca.fit_transform(X)\n",
    "scores_pd = pd.DataFrame({'Componente1':scores[:, 0], 'Componente2':scores[:, 1], 'Componente3':scores[:, 2]})\n",
    "scores_pd.head()"
   ]
  },
  {
   "cell_type": "code",
   "execution_count": 131,
   "id": "1d943ac0",
   "metadata": {},
   "outputs": [],
   "source": [
    "#!pip install psynlig"
   ]
  },
  {
   "cell_type": "code",
   "execution_count": 132,
   "id": "b409d17b",
   "metadata": {},
   "outputs": [
    {
     "data": {
      "text/plain": [
       "(<Figure size 748.8x514.8 with 1 Axes>,\n",
       " <AxesSubplot:xlabel='Principal component', ylabel='Eigenvalue'>)"
      ]
     },
     "execution_count": 132,
     "metadata": {},
     "output_type": "execute_result"
    },
    {
     "data": {
      "image/png": "[encoded data removed]",
      "text/plain": [
       "<Figure size 748.8x514.8 with 1 Axes>"
      ]
     },
     "metadata": {},
     "output_type": "display_data"
    }
   ],
   "source": [
    "from psynlig import pca_scree\n",
    "plt.style.use('seaborn-talk')\n",
    "\n",
    "pca_scree(pca, marker='o', markersize=16, lw=3)"
   ]
  },
  {
   "cell_type": "markdown",
   "id": "2b838e5f",
   "metadata": {},
   "source": [
    "Para obtener o cubrir el 70% de la varianza de los datos, se necesitan únicamente 3 componentes, lo cual supone una gran reducción de los datos."
   ]
  },
  {
   "cell_type": "code",
   "execution_count": 133,
   "id": "c5d83975",
   "metadata": {},
   "outputs": [
    {
     "data": {
      "image/png": "[encoded data removed]",
      "text/plain": [
       "<Figure size 748.8x514.8 with 1 Axes>"
      ]
     },
     "metadata": {},
     "output_type": "display_data"
    }
   ],
   "source": [
    "from psynlig import pca_explained_variance_pie\n",
    "plt.style.use('seaborn-talk')\n",
    "\n",
    "fig, axi = pca_explained_variance_pie(pca, cmap='plasma')\n",
    "axi.set_title('Explained variance by principal components')\n",
    "\n",
    "plt.show()"
   ]
  },
  {
   "cell_type": "code",
   "execution_count": 134,
   "id": "0f2f180d",
   "metadata": {},
   "outputs": [
    {
     "data": {
      "application/vnd.plotly.v1+json": {
       "config": {
        "plotlyServerURL": "https://plot.ly"
       },
       "data": [
        {
         "alignmentgroup": "True",
         "hovertemplate": "x=%{x}<br>y=%{y}<extra></extra>",
         "legendgroup": "",
         "marker": {
          "color": "#636efa",
          "pattern": {
           "shape": ""
          }
         },
         "name": "",
         "offsetgroup": "",
         "orientation": "v",
         "showlegend": false,
         "textposition": "auto",
         "type": "bar",
         "x": [
          "Componente1",
          "Componente2",
          "Componente3"
         ],
         "xaxis": "x",
         "y": [
          0.44272025607526305,
          0.18971182044033114,
          0.0939316325743138
         ],
         "yaxis": "y"
        }
       ],
       "layout": {
        "barmode": "relative",
        "legend": {
         "tracegroupgap": 0
        },
        "template": {
         "data": {
          "bar": [
           {
            "error_x": {
             "color": "#2a3f5f"
            },
            "error_y": {
             "color": "#2a3f5f"
            },
            "marker": {
             "line": {
              "color": "#E5ECF6",
              "width": 0.5
             },
             "pattern": {
              "fillmode": "overlay",
              "size": 10,
              "solidity": 0.2
             }
            },
            "type": "bar"
           }
          ],
          "barpolar": [
           {
            "marker": {
             "line": {
              "color": "#E5ECF6",
              "width": 0.5
             },
             "pattern": {
              "fillmode": "overlay",
              "size": 10,
              "solidity": 0.2
             }
            },
            "type": "barpolar"
           }
          ],
          "carpet": [
           {
            "aaxis": {
             "endlinecolor": "#2a3f5f",
             "gridcolor": "white",
             "linecolor": "white",
             "minorgridcolor": "white",
             "startlinecolor": "#2a3f5f"
            },
            "baxis": {
             "endlinecolor": "#2a3f5f",
             "gridcolor": "white",
             "linecolor": "white",
             "minorgridcolor": "white",
             "startlinecolor": "#2a3f5f"
            },
            "type": "carpet"
           }
          ],
          "choropleth": [
           {
            "colorbar": {
             "outlinewidth": 0,
             "ticks": ""
            },
            "type": "choropleth"
           }
          ],
          "contour": [
           {
            "colorbar": {
             "outlinewidth": 0,
             "ticks": ""
            },
            "colorscale": [
             [
              0,
              "#0d0887"
             ],
             [
              0.1111111111111111,
              "#46039f"
             ],
             [
              0.2222222222222222,
              "#7201a8"
             ],
             [
              0.3333333333333333,
              "#9c179e"
             ],
             [
              0.4444444444444444,
              "#bd3786"
             ],
             [
              0.5555555555555556,
              "#d8576b"
             ],
             [
              0.6666666666666666,
              "#ed7953"
             ],
             [
              0.7777777777777778,
              "#fb9f3a"
             ],
             [
              0.8888888888888888,
              "#fdca26"
             ],
             [
              1,
              "#f0f921"
             ]
            ],
            "type": "contour"
           }
          ],
          "contourcarpet": [
           {
            "colorbar": {
             "outlinewidth": 0,
             "ticks": ""
            },
            "type": "contourcarpet"
           }
          ],
          "heatmap": [
           {
            "colorbar": {
             "outlinewidth": 0,
             "ticks": ""
            },
            "colorscale": [
             [
              0,
              "#0d0887"
             ],
             [
              0.1111111111111111,
              "#46039f"
             ],
             [
              0.2222222222222222,
              "#7201a8"
             ],
             [
              0.3333333333333333,
              "#9c179e"
             ],
             [
              0.4444444444444444,
              "#bd3786"
             ],
             [
              0.5555555555555556,
              "#d8576b"
             ],
             [
              0.6666666666666666,
              "#ed7953"
             ],
             [
              0.7777777777777778,
              "#fb9f3a"
             ],
             [
              0.8888888888888888,
              "#fdca26"
             ],
             [
              1,
              "#f0f921"
             ]
            ],
            "type": "heatmap"
           }
          ],
          "heatmapgl": [
           {
            "colorbar": {
             "outlinewidth": 0,
             "ticks": ""
            },
            "colorscale": [
             [
              0,
              "#0d0887"
             ],
             [
              0.1111111111111111,
              "#46039f"
             ],
             [
              0.2222222222222222,
              "#7201a8"
             ],
             [
              0.3333333333333333,
              "#9c179e"
             ],
             [
              0.4444444444444444,
              "#bd3786"
             ],
             [
              0.5555555555555556,
              "#d8576b"
             ],
             [
              0.6666666666666666,
              "#ed7953"
             ],
             [
              0.7777777777777778,
              "#fb9f3a"
             ],
             [
              0.8888888888888888,
              "#fdca26"
             ],
             [
              1,
              "#f0f921"
             ]
            ],
            "type": "heatmapgl"
           }
          ],
          "histogram": [
           {
            "marker": {
             "pattern": {
              "fillmode": "overlay",
              "size": 10,
              "solidity": 0.2
             }
            },
            "type": "histogram"
           }
          ],
          "histogram2d": [
           {
            "colorbar": {
             "outlinewidth": 0,
             "ticks": ""
            },
            "colorscale": [
             [
              0,
              "#0d0887"
             ],
             [
              0.1111111111111111,
              "#46039f"
             ],
             [
              0.2222222222222222,
              "#7201a8"
             ],
             [
              0.3333333333333333,
              "#9c179e"
             ],
             [
              0.4444444444444444,
              "#bd3786"
             ],
             [
              0.5555555555555556,
              "#d8576b"
             ],
             [
              0.6666666666666666,
              "#ed7953"
             ],
             [
              0.7777777777777778,
              "#fb9f3a"
             ],
             [
              0.8888888888888888,
              "#fdca26"
             ],
             [
              1,
              "#f0f921"
             ]
            ],
            "type": "histogram2d"
           }
          ],
          "histogram2dcontour": [
           {
            "colorbar": {
             "outlinewidth": 0,
             "ticks": ""
            },
            "colorscale": [
             [
              0,
              "#0d0887"
             ],
             [
              0.1111111111111111,
              "#46039f"
             ],
             [
              0.2222222222222222,
              "#7201a8"
             ],
             [
              0.3333333333333333,
              "#9c179e"
             ],
             [
              0.4444444444444444,
              "#bd3786"
             ],
             [
              0.5555555555555556,
              "#d8576b"
             ],
             [
              0.6666666666666666,
              "#ed7953"
             ],
             [
              0.7777777777777778,
              "#fb9f3a"
             ],
             [
              0.8888888888888888,
              "#fdca26"
             ],
             [
              1,
              "#f0f921"
             ]
            ],
            "type": "histogram2dcontour"
           }
          ],
          "mesh3d": [
           {
            "colorbar": {
             "outlinewidth": 0,
             "ticks": ""
            },
            "type": "mesh3d"
           }
          ],
          "parcoords": [
           {
            "line": {
             "colorbar": {
              "outlinewidth": 0,
              "ticks": ""
             }
            },
            "type": "parcoords"
           }
          ],
          "pie": [
           {
            "automargin": true,
            "type": "pie"
           }
          ],
          "scatter": [
           {
            "marker": {
             "colorbar": {
              "outlinewidth": 0,
              "ticks": ""
             }
            },
            "type": "scatter"
           }
          ],
          "scatter3d": [
           {
            "line": {
             "colorbar": {
              "outlinewidth": 0,
              "ticks": ""
             }
            },
            "marker": {
             "colorbar": {
              "outlinewidth": 0,
              "ticks": ""
             }
            },
            "type": "scatter3d"
           }
          ],
          "scattercarpet": [
           {
            "marker": {
             "colorbar": {
              "outlinewidth": 0,
              "ticks": ""
             }
            },
            "type": "scattercarpet"
           }
          ],
          "scattergeo": [
           {
            "marker": {
             "colorbar": {
              "outlinewidth": 0,
              "ticks": ""
             }
            },
            "type": "scattergeo"
           }
          ],
          "scattergl": [
           {
            "marker": {
             "colorbar": {
              "outlinewidth": 0,
              "ticks": ""
             }
            },
            "type": "scattergl"
           }
          ],
          "scattermapbox": [
           {
            "marker": {
             "colorbar": {
              "outlinewidth": 0,
              "ticks": ""
             }
            },
            "type": "scattermapbox"
           }
          ],
          "scatterpolar": [
           {
            "marker": {
             "colorbar": {
              "outlinewidth": 0,
              "ticks": ""
             }
            },
            "type": "scatterpolar"
           }
          ],
          "scatterpolargl": [
           {
            "marker": {
             "colorbar": {
              "outlinewidth": 0,
              "ticks": ""
             }
            },
            "type": "scatterpolargl"
           }
          ],
          "scatterternary": [
           {
            "marker": {
             "colorbar": {
              "outlinewidth": 0,
              "ticks": ""
             }
            },
            "type": "scatterternary"
           }
          ],
          "surface": [
           {
            "colorbar": {
             "outlinewidth": 0,
             "ticks": ""
            },
            "colorscale": [
             [
              0,
              "#0d0887"
             ],
             [
              0.1111111111111111,
              "#46039f"
             ],
             [
              0.2222222222222222,
              "#7201a8"
             ],
             [
              0.3333333333333333,
              "#9c179e"
             ],
             [
              0.4444444444444444,
              "#bd3786"
             ],
             [
              0.5555555555555556,
              "#d8576b"
             ],
             [
              0.6666666666666666,
              "#ed7953"
             ],
             [
              0.7777777777777778,
              "#fb9f3a"
             ],
             [
              0.8888888888888888,
              "#fdca26"
             ],
             [
              1,
              "#f0f921"
             ]
            ],
            "type": "surface"
           }
          ],
          "table": [
           {
            "cells": {
             "fill": {
              "color": "#EBF0F8"
             },
             "line": {
              "color": "white"
             }
            },
            "header": {
             "fill": {
              "color": "#C8D4E3"
             },
             "line": {
              "color": "white"
             }
            },
            "type": "table"
           }
          ]
         },
         "layout": {
          "annotationdefaults": {
           "arrowcolor": "#2a3f5f",
           "arrowhead": 0,
           "arrowwidth": 1
          },
          "autotypenumbers": "strict",
          "coloraxis": {
           "colorbar": {
            "outlinewidth": 0,
            "ticks": ""
           }
          },
          "colorscale": {
           "diverging": [
            [
             0,
             "#8e0152"
            ],
            [
             0.1,
             "#c51b7d"
            ],
            [
             0.2,
             "#de77ae"
            ],
            [
             0.3,
             "#f1b6da"
            ],
            [
             0.4,
             "#fde0ef"
            ],
            [
             0.5,
             "#f7f7f7"
            ],
            [
             0.6,
             "#e6f5d0"
            ],
            [
             0.7,
             "#b8e186"
            ],
            [
             0.8,
             "#7fbc41"
            ],
            [
             0.9,
             "#4d9221"
            ],
            [
             1,
             "#276419"
            ]
           ],
           "sequential": [
            [
             0,
             "#0d0887"
            ],
            [
             0.1111111111111111,
             "#46039f"
            ],
            [
             0.2222222222222222,
             "#7201a8"
            ],
            [
             0.3333333333333333,
             "#9c179e"
            ],
            [
             0.4444444444444444,
             "#bd3786"
            ],
            [
             0.5555555555555556,
             "#d8576b"
            ],
            [
             0.6666666666666666,
             "#ed7953"
            ],
            [
             0.7777777777777778,
             "#fb9f3a"
            ],
            [
             0.8888888888888888,
             "#fdca26"
            ],
            [
             1,
             "#f0f921"
            ]
           ],
           "sequentialminus": [
            [
             0,
             "#0d0887"
            ],
            [
             0.1111111111111111,
             "#46039f"
            ],
            [
             0.2222222222222222,
             "#7201a8"
            ],
            [
             0.3333333333333333,
             "#9c179e"
            ],
            [
             0.4444444444444444,
             "#bd3786"
            ],
            [
             0.5555555555555556,
             "#d8576b"
            ],
            [
             0.6666666666666666,
             "#ed7953"
            ],
            [
             0.7777777777777778,
             "#fb9f3a"
            ],
            [
             0.8888888888888888,
             "#fdca26"
            ],
            [
             1,
             "#f0f921"
            ]
           ]
          },
          "colorway": [
           "#636efa",
           "#EF553B",
           "#00cc96",
           "#ab63fa",
           "#FFA15A",
           "#19d3f3",
           "#FF6692",
           "#B6E880",
           "#FF97FF",
           "#FECB52"
          ],
          "font": {
           "color": "#2a3f5f"
          },
          "geo": {
           "bgcolor": "white",
           "lakecolor": "white",
           "landcolor": "#E5ECF6",
           "showlakes": true,
           "showland": true,
           "subunitcolor": "white"
          },
          "hoverlabel": {
           "align": "left"
          },
          "hovermode": "closest",
          "mapbox": {
           "style": "light"
          },
          "paper_bgcolor": "white",
          "plot_bgcolor": "#E5ECF6",
          "polar": {
           "angularaxis": {
            "gridcolor": "white",
            "linecolor": "white",
            "ticks": ""
           },
           "bgcolor": "#E5ECF6",
           "radialaxis": {
            "gridcolor": "white",
            "linecolor": "white",
            "ticks": ""
           }
          },
          "scene": {
           "xaxis": {
            "backgroundcolor": "#E5ECF6",
            "gridcolor": "white",
            "gridwidth": 2,
            "linecolor": "white",
            "showbackground": true,
            "ticks": "",
            "zerolinecolor": "white"
           },
           "yaxis": {
            "backgroundcolor": "#E5ECF6",
            "gridcolor": "white",
            "gridwidth": 2,
            "linecolor": "white",
            "showbackground": true,
            "ticks": "",
            "zerolinecolor": "white"
           },
           "zaxis": {
            "backgroundcolor": "#E5ECF6",
            "gridcolor": "white",
            "gridwidth": 2,
            "linecolor": "white",
            "showbackground": true,
            "ticks": "",
            "zerolinecolor": "white"
           }
          },
          "shapedefaults": {
           "line": {
            "color": "#2a3f5f"
           }
          },
          "ternary": {
           "aaxis": {
            "gridcolor": "white",
            "linecolor": "white",
            "ticks": ""
           },
           "baxis": {
            "gridcolor": "white",
            "linecolor": "white",
            "ticks": ""
           },
           "bgcolor": "#E5ECF6",
           "caxis": {
            "gridcolor": "white",
            "linecolor": "white",
            "ticks": ""
           }
          },
          "title": {
           "x": 0.05
          },
          "xaxis": {
           "automargin": true,
           "gridcolor": "white",
           "linecolor": "white",
           "ticks": "",
           "title": {
            "standoff": 15
           },
           "zerolinecolor": "white",
           "zerolinewidth": 2
          },
          "yaxis": {
           "automargin": true,
           "gridcolor": "white",
           "linecolor": "white",
           "ticks": "",
           "title": {
            "standoff": 15
           },
           "zerolinecolor": "white",
           "zerolinewidth": 2
          }
         }
        },
        "title": {
         "text": "Porcentaje de Variabilidad Explicada por Componente"
        },
        "xaxis": {
         "anchor": "y",
         "domain": [
          0,
          1
         ],
         "title": {
          "text": "Componentes"
         }
        },
        "yaxis": {
         "anchor": "x",
         "domain": [
          0,
          1
         ],
         "title": {
          "text": "Variabilidad"
         }
        }
       }
      },
      "text/html": [
       "<div>                            <div id=\"2e06aa7b-9f47-4dc3-a67c-e8a6f77dfb4b\" class=\"plotly-graph-div\" style=\"height:525px; width:100%;\"></div>            <script type=\"text/javascript\">                require([\"plotly\"], function(Plotly) {                    window.PLOTLYENV=window.PLOTLYENV || {};                                    if (document.getElementById(\"2e06aa7b-9f47-4dc3-a67c-e8a6f77dfb4b\")) {                    Plotly.newPlot(                        \"2e06aa7b-9f47-4dc3-a67c-e8a6f77dfb4b\",                        [{\"alignmentgroup\":\"True\",\"hovertemplate\":\"x=%{x}<br>y=%{y}<extra></extra>\",\"legendgroup\":\"\",\"marker\":{\"color\":\"#636efa\",\"pattern\":{\"shape\":\"\"}},\"name\":\"\",\"offsetgroup\":\"\",\"orientation\":\"v\",\"showlegend\":false,\"textposition\":\"auto\",\"x\":[\"Componente1\",\"Componente2\",\"Componente3\"],\"xaxis\":\"x\",\"y\":[0.44272025607526305,0.18971182044033114,0.0939316325743138],\"yaxis\":\"y\",\"type\":\"bar\"}],                        {\"template\":{\"data\":{\"bar\":[{\"error_x\":{\"color\":\"#2a3f5f\"},\"error_y\":{\"color\":\"#2a3f5f\"},\"marker\":{\"line\":{\"color\":\"#E5ECF6\",\"width\":0.5},\"pattern\":{\"fillmode\":\"overlay\",\"size\":10,\"solidity\":0.2}},\"type\":\"bar\"}],\"barpolar\":[{\"marker\":{\"line\":{\"color\":\"#E5ECF6\",\"width\":0.5},\"pattern\":{\"fillmode\":\"overlay\",\"size\":10,\"solidity\":0.2}},\"type\":\"barpolar\"}],\"carpet\":[{\"aaxis\":{\"endlinecolor\":\"#2a3f5f\",\"gridcolor\":\"white\",\"linecolor\":\"white\",\"minorgridcolor\":\"white\",\"startlinecolor\":\"#2a3f5f\"},\"baxis\":{\"endlinecolor\":\"#2a3f5f\",\"gridcolor\":\"white\",\"linecolor\":\"white\",\"minorgridcolor\":\"white\",\"startlinecolor\":\"#2a3f5f\"},\"type\":\"carpet\"}],\"choropleth\":[{\"colorbar\":{\"outlinewidth\":0,\"ticks\":\"\"},\"type\":\"choropleth\"}],\"contour\":[{\"colorbar\":{\"outlinewidth\":0,\"ticks\":\"\"},\"colorscale\":[[0.0,\"#0d0887\"],[0.1111111111111111,\"#46039f\"],[0.2222222222222222,\"#7201a8\"],[0.3333333333333333,\"#9c179e\"],[0.4444444444444444,\"#bd3786\"],[0.5555555555555556,\"#d8576b\"],[0.6666666666666666,\"#ed7953\"],[0.7777777777777778,\"#fb9f3a\"],[0.8888888888888888,\"#fdca26\"],[1.0,\"#f0f921\"]],\"type\":\"contour\"}],\"contourcarpet\":[{\"colorbar\":{\"outlinewidth\":0,\"ticks\":\"\"},\"type\":\"contourcarpet\"}],\"heatmap\":[{\"colorbar\":{\"outlinewidth\":0,\"ticks\":\"\"},\"colorscale\":[[0.0,\"#0d0887\"],[0.1111111111111111,\"#46039f\"],[0.2222222222222222,\"#7201a8\"],[0.3333333333333333,\"#9c179e\"],[0.4444444444444444,\"#bd3786\"],[0.5555555555555556,\"#d8576b\"],[0.6666666666666666,\"#ed7953\"],[0.7777777777777778,\"#fb9f3a\"],[0.8888888888888888,\"#fdca26\"],[1.0,\"#f0f921\"]],\"type\":\"heatmap\"}],\"heatmapgl\":[{\"colorbar\":{\"outlinewidth\":0,\"ticks\":\"\"},\"colorscale\":[[0.0,\"#0d0887\"],[0.1111111111111111,\"#46039f\"],[0.2222222222222222,\"#7201a8\"],[0.3333333333333333,\"#9c179e\"],[0.4444444444444444,\"#bd3786\"],[0.5555555555555556,\"#d8576b\"],[0.6666666666666666,\"#ed7953\"],[0.7777777777777778,\"#fb9f3a\"],[0.8888888888888888,\"#fdca26\"],[1.0,\"#f0f921\"]],\"type\":\"heatmapgl\"}],\"histogram\":[{\"marker\":{\"pattern\":{\"fillmode\":\"overlay\",\"size\":10,\"solidity\":0.2}},\"type\":\"histogram\"}],\"histogram2d\":[{\"colorbar\":{\"outlinewidth\":0,\"ticks\":\"\"},\"colorscale\":[[0.0,\"#0d0887\"],[0.1111111111111111,\"#46039f\"],[0.2222222222222222,\"#7201a8\"],[0.3333333333333333,\"#9c179e\"],[0.4444444444444444,\"#bd3786\"],[0.5555555555555556,\"#d8576b\"],[0.6666666666666666,\"#ed7953\"],[0.7777777777777778,\"#fb9f3a\"],[0.8888888888888888,\"#fdca26\"],[1.0,\"#f0f921\"]],\"type\":\"histogram2d\"}],\"histogram2dcontour\":[{\"colorbar\":{\"outlinewidth\":0,\"ticks\":\"\"},\"colorscale\":[[0.0,\"#0d0887\"],[0.1111111111111111,\"#46039f\"],[0.2222222222222222,\"#7201a8\"],[0.3333333333333333,\"#9c179e\"],[0.4444444444444444,\"#bd3786\"],[0.5555555555555556,\"#d8576b\"],[0.6666666666666666,\"#ed7953\"],[0.7777777777777778,\"#fb9f3a\"],[0.8888888888888888,\"#fdca26\"],[1.0,\"#f0f921\"]],\"type\":\"histogram2dcontour\"}],\"mesh3d\":[{\"colorbar\":{\"outlinewidth\":0,\"ticks\":\"\"},\"type\":\"mesh3d\"}],\"parcoords\":[{\"line\":{\"colorbar\":{\"outlinewidth\":0,\"ticks\":\"\"}},\"type\":\"parcoords\"}],\"pie\":[{\"automargin\":true,\"type\":\"pie\"}],\"scatter\":[{\"marker\":{\"colorbar\":{\"outlinewidth\":0,\"ticks\":\"\"}},\"type\":\"scatter\"}],\"scatter3d\":[{\"line\":{\"colorbar\":{\"outlinewidth\":0,\"ticks\":\"\"}},\"marker\":{\"colorbar\":{\"outlinewidth\":0,\"ticks\":\"\"}},\"type\":\"scatter3d\"}],\"scattercarpet\":[{\"marker\":{\"colorbar\":{\"outlinewidth\":0,\"ticks\":\"\"}},\"type\":\"scattercarpet\"}],\"scattergeo\":[{\"marker\":{\"colorbar\":{\"outlinewidth\":0,\"ticks\":\"\"}},\"type\":\"scattergeo\"}],\"scattergl\":[{\"marker\":{\"colorbar\":{\"outlinewidth\":0,\"ticks\":\"\"}},\"type\":\"scattergl\"}],\"scattermapbox\":[{\"marker\":{\"colorbar\":{\"outlinewidth\":0,\"ticks\":\"\"}},\"type\":\"scattermapbox\"}],\"scatterpolar\":[{\"marker\":{\"colorbar\":{\"outlinewidth\":0,\"ticks\":\"\"}},\"type\":\"scatterpolar\"}],\"scatterpolargl\":[{\"marker\":{\"colorbar\":{\"outlinewidth\":0,\"ticks\":\"\"}},\"type\":\"scatterpolargl\"}],\"scatterternary\":[{\"marker\":{\"colorbar\":{\"outlinewidth\":0,\"ticks\":\"\"}},\"type\":\"scatterternary\"}],\"surface\":[{\"colorbar\":{\"outlinewidth\":0,\"ticks\":\"\"},\"colorscale\":[[0.0,\"#0d0887\"],[0.1111111111111111,\"#46039f\"],[0.2222222222222222,\"#7201a8\"],[0.3333333333333333,\"#9c179e\"],[0.4444444444444444,\"#bd3786\"],[0.5555555555555556,\"#d8576b\"],[0.6666666666666666,\"#ed7953\"],[0.7777777777777778,\"#fb9f3a\"],[0.8888888888888888,\"#fdca26\"],[1.0,\"#f0f921\"]],\"type\":\"surface\"}],\"table\":[{\"cells\":{\"fill\":{\"color\":\"#EBF0F8\"},\"line\":{\"color\":\"white\"}},\"header\":{\"fill\":{\"color\":\"#C8D4E3\"},\"line\":{\"color\":\"white\"}},\"type\":\"table\"}]},\"layout\":{\"annotationdefaults\":{\"arrowcolor\":\"#2a3f5f\",\"arrowhead\":0,\"arrowwidth\":1},\"autotypenumbers\":\"strict\",\"coloraxis\":{\"colorbar\":{\"outlinewidth\":0,\"ticks\":\"\"}},\"colorscale\":{\"diverging\":[[0,\"#8e0152\"],[0.1,\"#c51b7d\"],[0.2,\"#de77ae\"],[0.3,\"#f1b6da\"],[0.4,\"#fde0ef\"],[0.5,\"#f7f7f7\"],[0.6,\"#e6f5d0\"],[0.7,\"#b8e186\"],[0.8,\"#7fbc41\"],[0.9,\"#4d9221\"],[1,\"#276419\"]],\"sequential\":[[0.0,\"#0d0887\"],[0.1111111111111111,\"#46039f\"],[0.2222222222222222,\"#7201a8\"],[0.3333333333333333,\"#9c179e\"],[0.4444444444444444,\"#bd3786\"],[0.5555555555555556,\"#d8576b\"],[0.6666666666666666,\"#ed7953\"],[0.7777777777777778,\"#fb9f3a\"],[0.8888888888888888,\"#fdca26\"],[1.0,\"#f0f921\"]],\"sequentialminus\":[[0.0,\"#0d0887\"],[0.1111111111111111,\"#46039f\"],[0.2222222222222222,\"#7201a8\"],[0.3333333333333333,\"#9c179e\"],[0.4444444444444444,\"#bd3786\"],[0.5555555555555556,\"#d8576b\"],[0.6666666666666666,\"#ed7953\"],[0.7777777777777778,\"#fb9f3a\"],[0.8888888888888888,\"#fdca26\"],[1.0,\"#f0f921\"]]},\"colorway\":[\"#636efa\",\"#EF553B\",\"#00cc96\",\"#ab63fa\",\"#FFA15A\",\"#19d3f3\",\"#FF6692\",\"#B6E880\",\"#FF97FF\",\"#FECB52\"],\"font\":{\"color\":\"#2a3f5f\"},\"geo\":{\"bgcolor\":\"white\",\"lakecolor\":\"white\",\"landcolor\":\"#E5ECF6\",\"showlakes\":true,\"showland\":true,\"subunitcolor\":\"white\"},\"hoverlabel\":{\"align\":\"left\"},\"hovermode\":\"closest\",\"mapbox\":{\"style\":\"light\"},\"paper_bgcolor\":\"white\",\"plot_bgcolor\":\"#E5ECF6\",\"polar\":{\"angularaxis\":{\"gridcolor\":\"white\",\"linecolor\":\"white\",\"ticks\":\"\"},\"bgcolor\":\"#E5ECF6\",\"radialaxis\":{\"gridcolor\":\"white\",\"linecolor\":\"white\",\"ticks\":\"\"}},\"scene\":{\"xaxis\":{\"backgroundcolor\":\"#E5ECF6\",\"gridcolor\":\"white\",\"gridwidth\":2,\"linecolor\":\"white\",\"showbackground\":true,\"ticks\":\"\",\"zerolinecolor\":\"white\"},\"yaxis\":{\"backgroundcolor\":\"#E5ECF6\",\"gridcolor\":\"white\",\"gridwidth\":2,\"linecolor\":\"white\",\"showbackground\":true,\"ticks\":\"\",\"zerolinecolor\":\"white\"},\"zaxis\":{\"backgroundcolor\":\"#E5ECF6\",\"gridcolor\":\"white\",\"gridwidth\":2,\"linecolor\":\"white\",\"showbackground\":true,\"ticks\":\"\",\"zerolinecolor\":\"white\"}},\"shapedefaults\":{\"line\":{\"color\":\"#2a3f5f\"}},\"ternary\":{\"aaxis\":{\"gridcolor\":\"white\",\"linecolor\":\"white\",\"ticks\":\"\"},\"baxis\":{\"gridcolor\":\"white\",\"linecolor\":\"white\",\"ticks\":\"\"},\"bgcolor\":\"#E5ECF6\",\"caxis\":{\"gridcolor\":\"white\",\"linecolor\":\"white\",\"ticks\":\"\"}},\"title\":{\"x\":0.05},\"xaxis\":{\"automargin\":true,\"gridcolor\":\"white\",\"linecolor\":\"white\",\"ticks\":\"\",\"title\":{\"standoff\":15},\"zerolinecolor\":\"white\",\"zerolinewidth\":2},\"yaxis\":{\"automargin\":true,\"gridcolor\":\"white\",\"linecolor\":\"white\",\"ticks\":\"\",\"title\":{\"standoff\":15},\"zerolinecolor\":\"white\",\"zerolinewidth\":2}}},\"xaxis\":{\"anchor\":\"y\",\"domain\":[0.0,1.0],\"title\":{\"text\":\"Componentes\"}},\"yaxis\":{\"anchor\":\"x\",\"domain\":[0.0,1.0],\"title\":{\"text\":\"Variabilidad\"}},\"legend\":{\"tracegroupgap\":0},\"title\":{\"text\":\"Porcentaje de Variabilidad Explicada por Componente\"},\"barmode\":\"relative\"},                        {\"responsive\": true}                    ).then(function(){\n",
       "                            \n",
       "var gd = document.getElementById('2e06aa7b-9f47-4dc3-a67c-e8a6f77dfb4b');\n",
       "var x = new MutationObserver(function (mutations, observer) {{\n",
       "        var display = window.getComputedStyle(gd).display;\n",
       "        if (!display || display === 'none') {{\n",
       "            console.log([gd, 'removed!']);\n",
       "            Plotly.purge(gd);\n",
       "            observer.disconnect();\n",
       "        }}\n",
       "}});\n",
       "\n",
       "// Listen for the removal of the full notebook cells\n",
       "var notebookContainer = gd.closest('#notebook-container');\n",
       "if (notebookContainer) {{\n",
       "    x.observe(notebookContainer, {childList: true});\n",
       "}}\n",
       "\n",
       "// Listen for the clearing of the current output cell\n",
       "var outputEl = gd.closest('.output');\n",
       "if (outputEl) {{\n",
       "    x.observe(outputEl, {childList: true});\n",
       "}}\n",
       "\n",
       "                        })                };                });            </script>        </div>"
      ]
     },
     "metadata": {},
     "output_type": "display_data"
    }
   ],
   "source": [
    "fig = px.bar(x=['Componente1', 'Componente2', 'Componente3'], y=pca.explained_variance_ratio_, \n",
    "             title='Porcentaje de Variabilidad Explicada por Componente'  )\n",
    "fig.update_xaxes(title_text=\"Componentes\")\n",
    "fig.update_yaxes(title_text=\"Variabilidad\")\n",
    "\n",
    "fig.show()"
   ]
  },
  {
   "cell_type": "markdown",
   "id": "617231b6",
   "metadata": {},
   "source": [
    "Con esto vemos más a fondo el porcentaje de varianza que explica cada componente, siendo para el componente 1 un 44.27%, para el 2 un 18.97% y para el tres un 9.39%. Esta componente tres no contribuye mucho en la variabilidad explicada, pero a fin de llegar al 70 % de variabilidad total se mantendrá en consideración."
   ]
  },
  {
   "cell_type": "code",
   "execution_count": 135,
   "id": "3f5484cd",
   "metadata": {},
   "outputs": [
    {
     "data": {
      "text/plain": [
       "([<Figure size 748.8x514.8 with 1 Axes>],\n",
       " [<AxesSubplot:title={'center':'Loading coefficients for PC1'}, xlabel='Variables', ylabel='Coefficient'>])"
      ]
     },
     "execution_count": 135,
     "metadata": {},
     "output_type": "execute_result"
    },
    {
     "data": {
      "image/png": "[encoded data removed]",
      "text/plain": [
       "<Figure size 748.8x514.8 with 1 Axes>"
      ]
     },
     "metadata": {},
     "output_type": "display_data"
    }
   ],
   "source": [
    "from mpl_toolkits.axes_grid1.inset_locator import inset_axes\n",
    "from psynlig import (\n",
    "    pca_explained_variance,\n",
    "    pca_residual_variance,\n",
    "    pca_explained_variance_bar,\n",
    "    pca_explained_variance_pie,\n",
    "    pca_1d_loadings,\n",
    "    pca_2d_loadings,\n",
    "    pca_2d_scores\n",
    ")\n",
    "pca_1d_loadings(\n",
    "        pca,\n",
    "        imput_wis.columns,\n",
    "        select_components={1},\n",
    "        plot_type='bar',\n",
    "    )"
   ]
  },
  {
   "cell_type": "code",
   "execution_count": 136,
   "id": "3646af2f",
   "metadata": {},
   "outputs": [
    {
     "data": {
      "text/plain": [
       "([<Figure size 748.8x514.8 with 1 Axes>],\n",
       " [<AxesSubplot:title={'center':'Loading coefficients for PC2'}, xlabel='Variables', ylabel='Coefficient'>])"
      ]
     },
     "execution_count": 136,
     "metadata": {},
     "output_type": "execute_result"
    },
    {
     "data": {
      "image/png": "[encoded data removed]",
      "text/plain": [
       "<Figure size 748.8x514.8 with 1 Axes>"
      ]
     },
     "metadata": {},
     "output_type": "display_data"
    }
   ],
   "source": [
    "pca_1d_loadings(\n",
    "        pca,\n",
    "        imput_wis.columns,\n",
    "        select_components={2},\n",
    "        plot_type='bar',\n",
    "    )"
   ]
  },
  {
   "cell_type": "code",
   "execution_count": 137,
   "id": "d31405ec",
   "metadata": {},
   "outputs": [
    {
     "data": {
      "text/plain": [
       "([<Figure size 748.8x514.8 with 1 Axes>],\n",
       " [<AxesSubplot:title={'center':'Loading coefficients for PC3'}, xlabel='Variables', ylabel='Coefficient'>])"
      ]
     },
     "execution_count": 137,
     "metadata": {},
     "output_type": "execute_result"
    },
    {
     "data": {
      "image/png": "[encoded data removed]",
      "text/plain": [
       "<Figure size 748.8x514.8 with 1 Axes>"
      ]
     },
     "metadata": {},
     "output_type": "display_data"
    }
   ],
   "source": [
    "pca_1d_loadings(\n",
    "        pca,\n",
    "        imput_wis.columns,\n",
    "        select_components={3},\n",
    "        plot_type='bar',\n",
    "    )"
   ]
  },
  {
   "cell_type": "markdown",
   "id": "9a78b1e1",
   "metadata": {},
   "source": [
    "La componente uno se centra principalmente los valores medios y \"peores\" de las medidas del tumor como lo son el radio, perímetro, concavidad, que describen principalmente forma y tamaño del tumor, y serán estas variables las que ms aporten al valor de esta componente. No obstante, todas las variables al ser positivas también sumaran al valor de la componente 1.\n",
    "\n",
    "La componente 2 penaliza el tamaño del tumor ya que las variables referentes a el cálculo del tamaño (perímetro, área, radio) son negativas, lo que quiere decir que valores grandes de estas solo contribuyen a que el valor de la componente sea pequeño. En este caso la componente dos trata más sobre la forma y simetría del tumor.\n",
    "\n",
    "La última componente (3) se basa en las desviaciones típicas de las medidas de tamaño y forma del tumor, por lo que se valora la diferencia de medidas con respecto a la media, y se ve penalizada por los valores extremos en la forma del tumor ya que las variables que describen esta son negativas (suavidad, concavidad, etc)\n"
   ]
  },
  {
   "cell_type": "code",
   "execution_count": 138,
   "id": "71ed1a06",
   "metadata": {},
   "outputs": [],
   "source": [
    "#biplot(scores[:,0:2],np.transpose(pca.components_[0:2, :]),imput_wis.columns)\n",
    "#plt.show()"
   ]
  },
  {
   "cell_type": "code",
   "execution_count": 139,
   "id": "59a9632a",
   "metadata": {},
   "outputs": [
    {
     "data": {
      "text/html": [
       "<div>\n",
       "<style scoped>\n",
       "    .dataframe tbody tr th:only-of-type {\n",
       "        vertical-align: middle;\n",
       "    }\n",
       "\n",
       "    .dataframe tbody tr th {\n",
       "        vertical-align: top;\n",
       "    }\n",
       "\n",
       "    .dataframe thead th {\n",
       "        text-align: right;\n",
       "    }\n",
       "</style>\n",
       "<table border=\"1\" class=\"dataframe\">\n",
       "  <thead>\n",
       "    <tr style=\"text-align: right;\">\n",
       "      <th></th>\n",
       "      <th>id</th>\n",
       "      <th>diagnosis</th>\n",
       "      <th>Componente1</th>\n",
       "      <th>Componente2</th>\n",
       "      <th>Componente3</th>\n",
       "    </tr>\n",
       "  </thead>\n",
       "  <tbody>\n",
       "    <tr>\n",
       "      <th>0</th>\n",
       "      <td>842302</td>\n",
       "      <td>M</td>\n",
       "      <td>9.192837</td>\n",
       "      <td>1.948583</td>\n",
       "      <td>-1.123166</td>\n",
       "    </tr>\n",
       "    <tr>\n",
       "      <th>1</th>\n",
       "      <td>842517</td>\n",
       "      <td>M</td>\n",
       "      <td>2.387802</td>\n",
       "      <td>-3.768172</td>\n",
       "      <td>-0.529293</td>\n",
       "    </tr>\n",
       "    <tr>\n",
       "      <th>2</th>\n",
       "      <td>84300903</td>\n",
       "      <td>M</td>\n",
       "      <td>5.733896</td>\n",
       "      <td>-1.075174</td>\n",
       "      <td>-0.551748</td>\n",
       "    </tr>\n",
       "    <tr>\n",
       "      <th>3</th>\n",
       "      <td>84348301</td>\n",
       "      <td>M</td>\n",
       "      <td>7.122953</td>\n",
       "      <td>10.275589</td>\n",
       "      <td>-3.232790</td>\n",
       "    </tr>\n",
       "    <tr>\n",
       "      <th>4</th>\n",
       "      <td>84358402</td>\n",
       "      <td>M</td>\n",
       "      <td>3.935302</td>\n",
       "      <td>-1.948072</td>\n",
       "      <td>1.389767</td>\n",
       "    </tr>\n",
       "  </tbody>\n",
       "</table>\n",
       "</div>"
      ],
      "text/plain": [
       "         id diagnosis  Componente1  Componente2  Componente3\n",
       "0    842302         M     9.192837     1.948583    -1.123166\n",
       "1    842517         M     2.387802    -3.768172    -0.529293\n",
       "2  84300903         M     5.733896    -1.075174    -0.551748\n",
       "3  84348301         M     7.122953    10.275589    -3.232790\n",
       "4  84358402         M     3.935302    -1.948072     1.389767"
      ]
     },
     "metadata": {},
     "output_type": "display_data"
    },
    {
     "name": "stdout",
     "output_type": "stream",
     "text": [
      "<class 'pandas.core.frame.DataFrame'>\n",
      "RangeIndex: 569 entries, 0 to 568\n",
      "Data columns (total 5 columns):\n",
      " #   Column       Non-Null Count  Dtype  \n",
      "---  ------       --------------  -----  \n",
      " 0   id           569 non-null    int64  \n",
      " 1   diagnosis    569 non-null    object \n",
      " 2   Componente1  569 non-null    float64\n",
      " 3   Componente2  569 non-null    float64\n",
      " 4   Componente3  569 non-null    float64\n",
      "dtypes: float64(3), int64(1), object(1)\n",
      "memory usage: 22.4+ KB\n"
     ]
    },
    {
     "data": {
      "text/plain": [
       "None"
      ]
     },
     "metadata": {},
     "output_type": "display_data"
    }
   ],
   "source": [
    "imput_componentes = pd.concat([id_wis,varObjCat, scores_pd], axis=1)\n",
    "scores_pd.head()\n",
    "display(imput_componentes.head())\n",
    "display(imput_componentes.info())"
   ]
  },
  {
   "cell_type": "code",
   "execution_count": 140,
   "id": "8bbbf85c",
   "metadata": {},
   "outputs": [
    {
     "data": {
      "text/plain": [
       "0    357\n",
       "1    212\n",
       "Name: diagnosis, dtype: int64"
      ]
     },
     "execution_count": 140,
     "metadata": {},
     "output_type": "execute_result"
    }
   ],
   "source": [
    "varObjCat.replace(['M', 'B'], [1, 0], inplace=True)\n",
    "varObjCat.value_counts()"
   ]
  },
  {
   "cell_type": "markdown",
   "id": "454d47f2",
   "metadata": {},
   "source": [
    "### Particion Training Test"
   ]
  },
  {
   "cell_type": "code",
   "execution_count": 141,
   "id": "57badc07",
   "metadata": {},
   "outputs": [
    {
     "name": "stdout",
     "output_type": "stream",
     "text": [
      "Training dataset shape: (455, 3) (455,)\n"
     ]
    }
   ],
   "source": [
    "X_train, X_test, y_train, y_test = train_test_split(scores_pd, varObjCat, test_size=0.2, random_state=1354)\n",
    "\n",
    "# Comprobamos dimensiones\n",
    "print('Training dataset shape:', X_train.shape, y_train.shape)"
   ]
  },
  {
   "cell_type": "code",
   "execution_count": 142,
   "id": "606df0d3",
   "metadata": {},
   "outputs": [
    {
     "data": {
      "text/plain": [
       "'diagnosis ~ Componente1 + Componente2 + Componente3'"
      ]
     },
     "execution_count": 142,
     "metadata": {},
     "output_type": "execute_result"
    }
   ],
   "source": [
    "data_train = X_train.join(y_train)\n",
    "\n",
    "formC=ols_formula(data_train,'diagnosis')\n",
    "formC"
   ]
  },
  {
   "cell_type": "code",
   "execution_count": 143,
   "id": "e5af50ec",
   "metadata": {},
   "outputs": [
    {
     "name": "stdout",
     "output_type": "stream",
     "text": [
      "Optimization terminated successfully.\n",
      "         Current function value: 0.103624\n",
      "         Iterations 10\n"
     ]
    },
    {
     "data": {
      "text/html": [
       "<table class=\"simpletable\">\n",
       "<caption>Logit Regression Results</caption>\n",
       "<tr>\n",
       "  <th>Dep. Variable:</th>       <td>diagnosis</td>    <th>  No. Observations:  </th>   <td>   455</td>  \n",
       "</tr>\n",
       "<tr>\n",
       "  <th>Model:</th>                 <td>Logit</td>      <th>  Df Residuals:      </th>   <td>   451</td>  \n",
       "</tr>\n",
       "<tr>\n",
       "  <th>Method:</th>                 <td>MLE</td>       <th>  Df Model:          </th>   <td>     3</td>  \n",
       "</tr>\n",
       "<tr>\n",
       "  <th>Date:</th>            <td>Wed, 15 Mar 2023</td> <th>  Pseudo R-squ.:     </th>   <td>0.8426</td>  \n",
       "</tr>\n",
       "<tr>\n",
       "  <th>Time:</th>                <td>21:50:51</td>     <th>  Log-Likelihood:    </th>  <td> -47.149</td> \n",
       "</tr>\n",
       "<tr>\n",
       "  <th>converged:</th>             <td>True</td>       <th>  LL-Null:           </th>  <td> -299.64</td> \n",
       "</tr>\n",
       "<tr>\n",
       "  <th>Covariance Type:</th>     <td>nonrobust</td>    <th>  LLR p-value:       </th> <td>3.980e-109</td>\n",
       "</tr>\n",
       "</table>\n",
       "<table class=\"simpletable\">\n",
       "<tr>\n",
       "       <td></td>          <th>coef</th>     <th>std err</th>      <th>z</th>      <th>P>|z|</th>  <th>[0.025</th>    <th>0.975]</th>  \n",
       "</tr>\n",
       "<tr>\n",
       "  <th>Intercept</th>   <td>   -0.5935</td> <td>    0.275</td> <td>   -2.161</td> <td> 0.031</td> <td>   -1.132</td> <td>   -0.055</td>\n",
       "</tr>\n",
       "<tr>\n",
       "  <th>Componente1</th> <td>    2.5476</td> <td>    0.392</td> <td>    6.492</td> <td> 0.000</td> <td>    1.778</td> <td>    3.317</td>\n",
       "</tr>\n",
       "<tr>\n",
       "  <th>Componente2</th> <td>   -1.3682</td> <td>    0.259</td> <td>   -5.276</td> <td> 0.000</td> <td>   -1.876</td> <td>   -0.860</td>\n",
       "</tr>\n",
       "<tr>\n",
       "  <th>Componente3</th> <td>   -0.4670</td> <td>    0.161</td> <td>   -2.906</td> <td> 0.004</td> <td>   -0.782</td> <td>   -0.152</td>\n",
       "</tr>\n",
       "</table><br/><br/>Possibly complete quasi-separation: A fraction 0.35 of observations can be<br/>perfectly predicted. This might indicate that there is complete<br/>quasi-separation. In this case some parameters will not be identified."
      ],
      "text/plain": [
       "<class 'statsmodels.iolib.summary.Summary'>\n",
       "\"\"\"\n",
       "                           Logit Regression Results                           \n",
       "==============================================================================\n",
       "Dep. Variable:              diagnosis   No. Observations:                  455\n",
       "Model:                          Logit   Df Residuals:                      451\n",
       "Method:                           MLE   Df Model:                            3\n",
       "Date:                Wed, 15 Mar 2023   Pseudo R-squ.:                  0.8426\n",
       "Time:                        21:50:51   Log-Likelihood:                -47.149\n",
       "converged:                       True   LL-Null:                       -299.64\n",
       "Covariance Type:            nonrobust   LLR p-value:                3.980e-109\n",
       "===============================================================================\n",
       "                  coef    std err          z      P>|z|      [0.025      0.975]\n",
       "-------------------------------------------------------------------------------\n",
       "Intercept      -0.5935      0.275     -2.161      0.031      -1.132      -0.055\n",
       "Componente1     2.5476      0.392      6.492      0.000       1.778       3.317\n",
       "Componente2    -1.3682      0.259     -5.276      0.000      -1.876      -0.860\n",
       "Componente3    -0.4670      0.161     -2.906      0.004      -0.782      -0.152\n",
       "===============================================================================\n",
       "\n",
       "Possibly complete quasi-separation: A fraction 0.35 of observations can be\n",
       "perfectly predicted. This might indicate that there is complete\n",
       "quasi-separation. In this case some parameters will not be identified.\n",
       "\"\"\""
      ]
     },
     "execution_count": 143,
     "metadata": {},
     "output_type": "execute_result"
    }
   ],
   "source": [
    "from statsmodels.formula.api import logit \n",
    "\n",
    "# Ajusto regresión de ejemplo\n",
    "modeloCompleto = logit(formC,data=data_train).fit()\n",
    "\n",
    "modeloCompleto.summary()"
   ]
  },
  {
   "cell_type": "markdown",
   "id": "aa0787a2",
   "metadata": {},
   "source": [
    "Se observa que la bondad de ajuste es alta, ya que el valor arrojado sobre el Pseudo R2 es de un %84.26 porciento, además, el valor de las componentes no se rechaza, por lo que contribuyen al modelo.\n",
    "\n",
    "Si embargo, hay que tener en cuenta el mensaje que arroja al final el modelo completo, indicando que puede existir una separación completa, es decir, que para ciertos valores de la variable independiente, todas las observaciones tienen el mismo valor para la variable dependiente, pudiendo causar que el modelo no pueda proporcionar una buena predicción para la variable dependiente.\n"
   ]
  },
  {
   "cell_type": "code",
   "execution_count": 144,
   "id": "6940e3eb",
   "metadata": {},
   "outputs": [
    {
     "name": "stdout",
     "output_type": "stream",
     "text": [
      "Optimization terminated successfully.\n",
      "         Current function value: 0.113539\n",
      "         Iterations 10\n"
     ]
    },
    {
     "data": {
      "text/html": [
       "<table class=\"simpletable\">\n",
       "<caption>Logit Regression Results</caption>\n",
       "<tr>\n",
       "  <th>Dep. Variable:</th>       <td>diagnosis</td>    <th>  No. Observations:  </th>   <td>   455</td>  \n",
       "</tr>\n",
       "<tr>\n",
       "  <th>Model:</th>                 <td>Logit</td>      <th>  Df Residuals:      </th>   <td>   452</td>  \n",
       "</tr>\n",
       "<tr>\n",
       "  <th>Method:</th>                 <td>MLE</td>       <th>  Df Model:          </th>   <td>     2</td>  \n",
       "</tr>\n",
       "<tr>\n",
       "  <th>Date:</th>            <td>Wed, 15 Mar 2023</td> <th>  Pseudo R-squ.:     </th>   <td>0.8276</td>  \n",
       "</tr>\n",
       "<tr>\n",
       "  <th>Time:</th>                <td>21:50:51</td>     <th>  Log-Likelihood:    </th>  <td> -51.660</td> \n",
       "</tr>\n",
       "<tr>\n",
       "  <th>converged:</th>             <td>True</td>       <th>  LL-Null:           </th>  <td> -299.64</td> \n",
       "</tr>\n",
       "<tr>\n",
       "  <th>Covariance Type:</th>     <td>nonrobust</td>    <th>  LLR p-value:       </th> <td>2.017e-108</td>\n",
       "</tr>\n",
       "</table>\n",
       "<table class=\"simpletable\">\n",
       "<tr>\n",
       "       <td></td>          <th>coef</th>     <th>std err</th>      <th>z</th>      <th>P>|z|</th>  <th>[0.025</th>    <th>0.975]</th>  \n",
       "</tr>\n",
       "<tr>\n",
       "  <th>Intercept</th>   <td>   -0.3553</td> <td>    0.252</td> <td>   -1.409</td> <td> 0.159</td> <td>   -0.849</td> <td>    0.139</td>\n",
       "</tr>\n",
       "<tr>\n",
       "  <th>Componente1</th> <td>    2.3521</td> <td>    0.332</td> <td>    7.076</td> <td> 0.000</td> <td>    1.701</td> <td>    3.004</td>\n",
       "</tr>\n",
       "<tr>\n",
       "  <th>Componente2</th> <td>   -1.2430</td> <td>    0.226</td> <td>   -5.497</td> <td> 0.000</td> <td>   -1.686</td> <td>   -0.800</td>\n",
       "</tr>\n",
       "</table><br/><br/>Possibly complete quasi-separation: A fraction 0.28 of observations can be<br/>perfectly predicted. This might indicate that there is complete<br/>quasi-separation. In this case some parameters will not be identified."
      ],
      "text/plain": [
       "<class 'statsmodels.iolib.summary.Summary'>\n",
       "\"\"\"\n",
       "                           Logit Regression Results                           \n",
       "==============================================================================\n",
       "Dep. Variable:              diagnosis   No. Observations:                  455\n",
       "Model:                          Logit   Df Residuals:                      452\n",
       "Method:                           MLE   Df Model:                            2\n",
       "Date:                Wed, 15 Mar 2023   Pseudo R-squ.:                  0.8276\n",
       "Time:                        21:50:51   Log-Likelihood:                -51.660\n",
       "converged:                       True   LL-Null:                       -299.64\n",
       "Covariance Type:            nonrobust   LLR p-value:                2.017e-108\n",
       "===============================================================================\n",
       "                  coef    std err          z      P>|z|      [0.025      0.975]\n",
       "-------------------------------------------------------------------------------\n",
       "Intercept      -0.3553      0.252     -1.409      0.159      -0.849       0.139\n",
       "Componente1     2.3521      0.332      7.076      0.000       1.701       3.004\n",
       "Componente2    -1.2430      0.226     -5.497      0.000      -1.686      -0.800\n",
       "===============================================================================\n",
       "\n",
       "Possibly complete quasi-separation: A fraction 0.28 of observations can be\n",
       "perfectly predicted. This might indicate that there is complete\n",
       "quasi-separation. In this case some parameters will not be identified.\n",
       "\"\"\""
      ]
     },
     "execution_count": 144,
     "metadata": {},
     "output_type": "execute_result"
    }
   ],
   "source": [
    "form_comp12=ols_formula(data_train,'diagnosis', 'Componente3')\n",
    "form_comp12\n",
    "modelo_comp12 = logit(form_comp12,data=data_train).fit()\n",
    "\n",
    "modelo_comp12.summary()"
   ]
  },
  {
   "cell_type": "markdown",
   "id": "62b28595",
   "metadata": {},
   "source": [
    "Dejando un modelo con solamente la componente dos y tres se obtiene el mismo warning sobre la separación perfecta, pero a menor porcentaje.\n",
    "\n",
    "El valor de PSeudo R2 disminuye en un 2%, por lo que la componente 3 podría quedarse por fuera fácilmente.\n"
   ]
  },
  {
   "cell_type": "code",
   "execution_count": 145,
   "id": "0c5bb5b4",
   "metadata": {},
   "outputs": [
    {
     "data": {
      "text/plain": [
       "'diagnosis ~ Componente1'"
      ]
     },
     "execution_count": 145,
     "metadata": {},
     "output_type": "execute_result"
    }
   ],
   "source": [
    "form_comp1=ols_formula(data_train,'diagnosis', 'Componente2', 'Componente3')\n",
    "form_comp1"
   ]
  },
  {
   "cell_type": "code",
   "execution_count": 146,
   "id": "1a7858a8",
   "metadata": {},
   "outputs": [
    {
     "name": "stdout",
     "output_type": "stream",
     "text": [
      "Optimization terminated successfully.\n",
      "         Current function value: 0.196224\n",
      "         Iterations 8\n"
     ]
    },
    {
     "data": {
      "text/html": [
       "<table class=\"simpletable\">\n",
       "<caption>Logit Regression Results</caption>\n",
       "<tr>\n",
       "  <th>Dep. Variable:</th>       <td>diagnosis</td>    <th>  No. Observations:  </th>  <td>   455</td>  \n",
       "</tr>\n",
       "<tr>\n",
       "  <th>Model:</th>                 <td>Logit</td>      <th>  Df Residuals:      </th>  <td>   453</td>  \n",
       "</tr>\n",
       "<tr>\n",
       "  <th>Method:</th>                 <td>MLE</td>       <th>  Df Model:          </th>  <td>     1</td>  \n",
       "</tr>\n",
       "<tr>\n",
       "  <th>Date:</th>            <td>Wed, 15 Mar 2023</td> <th>  Pseudo R-squ.:     </th>  <td>0.7020</td>  \n",
       "</tr>\n",
       "<tr>\n",
       "  <th>Time:</th>                <td>21:50:51</td>     <th>  Log-Likelihood:    </th> <td> -89.282</td> \n",
       "</tr>\n",
       "<tr>\n",
       "  <th>converged:</th>             <td>True</td>       <th>  LL-Null:           </th> <td> -299.64</td> \n",
       "</tr>\n",
       "<tr>\n",
       "  <th>Covariance Type:</th>     <td>nonrobust</td>    <th>  LLR p-value:       </th> <td>1.708e-93</td>\n",
       "</tr>\n",
       "</table>\n",
       "<table class=\"simpletable\">\n",
       "<tr>\n",
       "       <td></td>          <th>coef</th>     <th>std err</th>      <th>z</th>      <th>P>|z|</th>  <th>[0.025</th>    <th>0.975]</th>  \n",
       "</tr>\n",
       "<tr>\n",
       "  <th>Intercept</th>   <td>   -0.5481</td> <td>    0.196</td> <td>   -2.795</td> <td> 0.005</td> <td>   -0.932</td> <td>   -0.164</td>\n",
       "</tr>\n",
       "<tr>\n",
       "  <th>Componente1</th> <td>    1.3240</td> <td>    0.134</td> <td>    9.857</td> <td> 0.000</td> <td>    1.061</td> <td>    1.587</td>\n",
       "</tr>\n",
       "</table>"
      ],
      "text/plain": [
       "<class 'statsmodels.iolib.summary.Summary'>\n",
       "\"\"\"\n",
       "                           Logit Regression Results                           \n",
       "==============================================================================\n",
       "Dep. Variable:              diagnosis   No. Observations:                  455\n",
       "Model:                          Logit   Df Residuals:                      453\n",
       "Method:                           MLE   Df Model:                            1\n",
       "Date:                Wed, 15 Mar 2023   Pseudo R-squ.:                  0.7020\n",
       "Time:                        21:50:51   Log-Likelihood:                -89.282\n",
       "converged:                       True   LL-Null:                       -299.64\n",
       "Covariance Type:            nonrobust   LLR p-value:                 1.708e-93\n",
       "===============================================================================\n",
       "                  coef    std err          z      P>|z|      [0.025      0.975]\n",
       "-------------------------------------------------------------------------------\n",
       "Intercept      -0.5481      0.196     -2.795      0.005      -0.932      -0.164\n",
       "Componente1     1.3240      0.134      9.857      0.000       1.061       1.587\n",
       "===============================================================================\n",
       "\"\"\""
      ]
     },
     "execution_count": 146,
     "metadata": {},
     "output_type": "execute_result"
    }
   ],
   "source": [
    "modelo_comp1 = logit(form_comp1,data=data_train).fit()\n",
    "\n",
    "modelo_comp1.summary()"
   ]
  },
  {
   "cell_type": "markdown",
   "id": "5e5280ba",
   "metadata": {},
   "source": [
    "Comprobando esta vez el modelo únicamente con la componente 1, ya no se obtiene el mensaje preventivo sobre posible separación perfecta, pero el valor de la varianza explicada estimada disminuye fuertemente en mas de el 10%, aun así, el valor sigue siendo alto al ser un 70%."
   ]
  },
  {
   "cell_type": "code",
   "execution_count": 147,
   "id": "79508fa4",
   "metadata": {},
   "outputs": [
    {
     "name": "stdout",
     "output_type": "stream",
     "text": [
      "Modelo: diagnosis ~ Componente1 + Componente2 + Componente3\n",
      "AUC: 0.990 (0.006)\n",
      "Modelo: diagnosis ~ Componente1 + Componente2\n",
      "AUC: 0.990 (0.006)\n",
      "Modelo: diagnosis ~ Componente1\n",
      "AUC: 0.970 (0.013)\n"
     ]
    }
   ],
   "source": [
    "list_form = [formC,form_comp12, form_comp1]\n",
    "\n",
    "list_res = pd.DataFrame(map(lambda x: cross_val_log(x,imput_componentes, seed=2023),list_form))"
   ]
  },
  {
   "cell_type": "code",
   "execution_count": 148,
   "id": "d03bfe9b",
   "metadata": {},
   "outputs": [
    {
     "data": {
      "image/png": "[encoded data removed]",
      "text/plain": [
       "<Figure size 748.8x514.8 with 1 Axes>"
      ]
     },
     "metadata": {},
     "output_type": "display_data"
    }
   ],
   "source": [
    "results = list_res.T.melt()\n",
    "results.columns = ['Modelo','AUC']\n",
    "plt.clf()\n",
    "sns.boxplot(x='Modelo',y='AUC',data=results,palette='viridis')\n",
    "plt.show()"
   ]
  },
  {
   "cell_type": "markdown",
   "id": "1632c5d9",
   "metadata": {},
   "source": [
    "Una vez realizada la validación cruzada no queda mas remedio que elegir el modelo con los 3 componentes ya que los resultados que arroja son mucho mejores."
   ]
  },
  {
   "cell_type": "code",
   "execution_count": 149,
   "id": "75458ff2",
   "metadata": {},
   "outputs": [
    {
     "data": {
      "image/png": "[encoded data removed]",
      "text/plain": [
       "<Figure size 748.8x514.8 with 1 Axes>"
      ]
     },
     "metadata": {},
     "output_type": "display_data"
    }
   ],
   "source": [
    "y_pred = modeloCompleto.predict(X_test)\n",
    "\n",
    "roc_grafico(y_test,y_pred)"
   ]
  },
  {
   "cell_type": "code",
   "execution_count": 150,
   "id": "4cbf424d",
   "metadata": {},
   "outputs": [
    {
     "data": {
      "image/png": "[encoded data removed]",
      "text/plain": [
       "<Figure size 748.8x514.8 with 1 Axes>"
      ]
     },
     "metadata": {},
     "output_type": "display_data"
    }
   ],
   "source": [
    "y_pred = modeloCompleto.predict(X_test)\n",
    "\n",
    "#sns.histplot(x=y_pred, hue=y_test)\n",
    "#px.histogram(x=y_pred, color=y_test).show()\n",
    "#gráfico de las probabilidades obtenidas\n",
    "plt.clf()\n",
    "sns.kdeplot(x=y_pred, hue=y_test, fill=True, common_norm=False, alpha=0.4)\n",
    "plt.show()"
   ]
  },
  {
   "cell_type": "code",
   "execution_count": 151,
   "id": "43b5616f",
   "metadata": {},
   "outputs": [
    {
     "data": {
      "text/plain": [
       "<sklearn.metrics._plot.confusion_matrix.ConfusionMatrixDisplay at 0x1f10807fd00>"
      ]
     },
     "execution_count": 151,
     "metadata": {},
     "output_type": "execute_result"
    },
    {
     "data": {
      "image/png": "[encoded data removed]",
      "text/plain": [
       "<Figure size 748.8x514.8 with 2 Axes>"
      ]
     },
     "metadata": {},
     "output_type": "display_data"
    }
   ],
   "source": [
    "from sklearn.metrics import confusion_matrix\n",
    "from sklearn.metrics import ConfusionMatrixDisplay\n",
    "\n",
    "y_pred = modeloCompleto.predict(X_test)\n",
    "cm = confusion_matrix(y_test, round(y_pred))\n",
    "\n",
    "cm_display = ConfusionMatrixDisplay(cm).plot()\n",
    "cm_display"
   ]
  },
  {
   "cell_type": "markdown",
   "id": "11d9f63c",
   "metadata": {},
   "source": [
    "El mejor modelo Otorga valores prometedores, ya que solo se arrojan 4 falsos positivos de 70 y un falso negativo de 44, valores casi perfectos para predecir el tipo de diagnosis."
   ]
  },
  {
   "cell_type": "code",
   "execution_count": 152,
   "id": "d50c9bfa",
   "metadata": {},
   "outputs": [
    {
     "data": {
      "text/html": [
       "<table class=\"simpletable\">\n",
       "<caption>Logit Regression Results</caption>\n",
       "<tr>\n",
       "  <th>Dep. Variable:</th>       <td>diagnosis</td>    <th>  No. Observations:  </th>   <td>   455</td>  \n",
       "</tr>\n",
       "<tr>\n",
       "  <th>Model:</th>                 <td>Logit</td>      <th>  Df Residuals:      </th>   <td>   451</td>  \n",
       "</tr>\n",
       "<tr>\n",
       "  <th>Method:</th>                 <td>MLE</td>       <th>  Df Model:          </th>   <td>     3</td>  \n",
       "</tr>\n",
       "<tr>\n",
       "  <th>Date:</th>            <td>Wed, 15 Mar 2023</td> <th>  Pseudo R-squ.:     </th>   <td>0.8426</td>  \n",
       "</tr>\n",
       "<tr>\n",
       "  <th>Time:</th>                <td>21:50:54</td>     <th>  Log-Likelihood:    </th>  <td> -47.149</td> \n",
       "</tr>\n",
       "<tr>\n",
       "  <th>converged:</th>             <td>True</td>       <th>  LL-Null:           </th>  <td> -299.64</td> \n",
       "</tr>\n",
       "<tr>\n",
       "  <th>Covariance Type:</th>     <td>nonrobust</td>    <th>  LLR p-value:       </th> <td>3.980e-109</td>\n",
       "</tr>\n",
       "</table>\n",
       "<table class=\"simpletable\">\n",
       "<tr>\n",
       "       <td></td>          <th>coef</th>     <th>std err</th>      <th>z</th>      <th>P>|z|</th>  <th>[0.025</th>    <th>0.975]</th>  \n",
       "</tr>\n",
       "<tr>\n",
       "  <th>Intercept</th>   <td>   -0.5935</td> <td>    0.275</td> <td>   -2.161</td> <td> 0.031</td> <td>   -1.132</td> <td>   -0.055</td>\n",
       "</tr>\n",
       "<tr>\n",
       "  <th>Componente1</th> <td>    2.5476</td> <td>    0.392</td> <td>    6.492</td> <td> 0.000</td> <td>    1.778</td> <td>    3.317</td>\n",
       "</tr>\n",
       "<tr>\n",
       "  <th>Componente2</th> <td>   -1.3682</td> <td>    0.259</td> <td>   -5.276</td> <td> 0.000</td> <td>   -1.876</td> <td>   -0.860</td>\n",
       "</tr>\n",
       "<tr>\n",
       "  <th>Componente3</th> <td>   -0.4670</td> <td>    0.161</td> <td>   -2.906</td> <td> 0.004</td> <td>   -0.782</td> <td>   -0.152</td>\n",
       "</tr>\n",
       "</table><br/><br/>Possibly complete quasi-separation: A fraction 0.35 of observations can be<br/>perfectly predicted. This might indicate that there is complete<br/>quasi-separation. In this case some parameters will not be identified."
      ],
      "text/plain": [
       "<class 'statsmodels.iolib.summary.Summary'>\n",
       "\"\"\"\n",
       "                           Logit Regression Results                           \n",
       "==============================================================================\n",
       "Dep. Variable:              diagnosis   No. Observations:                  455\n",
       "Model:                          Logit   Df Residuals:                      451\n",
       "Method:                           MLE   Df Model:                            3\n",
       "Date:                Wed, 15 Mar 2023   Pseudo R-squ.:                  0.8426\n",
       "Time:                        21:50:54   Log-Likelihood:                -47.149\n",
       "converged:                       True   LL-Null:                       -299.64\n",
       "Covariance Type:            nonrobust   LLR p-value:                3.980e-109\n",
       "===============================================================================\n",
       "                  coef    std err          z      P>|z|      [0.025      0.975]\n",
       "-------------------------------------------------------------------------------\n",
       "Intercept      -0.5935      0.275     -2.161      0.031      -1.132      -0.055\n",
       "Componente1     2.5476      0.392      6.492      0.000       1.778       3.317\n",
       "Componente2    -1.3682      0.259     -5.276      0.000      -1.876      -0.860\n",
       "Componente3    -0.4670      0.161     -2.906      0.004      -0.782      -0.152\n",
       "===============================================================================\n",
       "\n",
       "Possibly complete quasi-separation: A fraction 0.35 of observations can be\n",
       "perfectly predicted. This might indicate that there is complete\n",
       "quasi-separation. In this case some parameters will not be identified.\n",
       "\"\"\""
      ]
     },
     "execution_count": 152,
     "metadata": {},
     "output_type": "execute_result"
    }
   ],
   "source": [
    "modeloCompleto.summary()"
   ]
  },
  {
   "cell_type": "code",
   "execution_count": 153,
   "id": "e50477ee",
   "metadata": {},
   "outputs": [
    {
     "data": {
      "text/plain": [
       "Intercept       0.552370\n",
       "Componente1    12.776257\n",
       "Componente2     0.254571\n",
       "Componente3     0.626856\n",
       "dtype: float64"
      ]
     },
     "execution_count": 153,
     "metadata": {},
     "output_type": "execute_result"
    }
   ],
   "source": [
    "np.exp(modeloCompleto.params)"
   ]
  },
  {
   "cell_type": "markdown",
   "id": "c391b23e",
   "metadata": {},
   "source": [
    "La componente 1 según el modelo de regresión logística elegido, en este caso, el de las tres componentes, influye drásticamente en la probabilidad de que el tumor sea maligno (1), específicamente es 12.78 veces más probable que el tumor sea maligno por cada aumento unitario de la componente 1. Esto quiere decir, asumiendo que la componente uno se centra en el tamaño del tumor, que entre más grande sea este, es más probable que sea, maligno."
   ]
  }
 ],
 "metadata": {
  "kernelspec": {
   "display_name": "Python 3 (ipykernel)",
   "language": "python",
   "name": "python3"
  },
  "language_info": {
   "codemirror_mode": {
    "name": "ipython",
    "version": 3
   },
   "file_extension": ".py",
   "mimetype": "text/x-python",
   "name": "python",
   "nbconvert_exporter": "python",
   "pygments_lexer": "ipython3",
   "version": "3.9.12"
  }
 },
 "nbformat": 4,
 "nbformat_minor": 5
}
