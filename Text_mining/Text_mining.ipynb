{
 "cells": [
  {
   "cell_type": "markdown",
   "metadata": {},
   "source": [
    "## Obtener los datos"
   ]
  },
  {
   "cell_type": "code",
   "execution_count": 1,
   "metadata": {
    "colab": {
     "base_uri": "https://localhost:8080/"
    },
    "id": "pOub-BB9KWh5",
    "outputId": "b8c6196e-8fce-484a-f4eb-c6923107287f"
   },
   "outputs": [
    {
     "name": "stderr",
     "output_type": "stream",
     "text": [
      "'wget' is not recognized as an internal or external command,\n",
      "operable program or batch file.\n",
      "'unzip' is not recognized as an internal or external command,\n",
      "operable program or batch file.\n"
     ]
    }
   ],
   "source": [
    "# Descarga de archivos de ProfNER\n",
    "!wget -O profner.zip https://zenodo.org/record/4563995/files/profner.zip?download=1\n",
    "# Si el unzip no funciona, revisar cual es el nombre de descarga del archivo\n",
    "!unzip profner.zip"
   ]
  },
  {
   "cell_type": "markdown",
   "metadata": {
    "id": "orbd2vE2XHWN"
   },
   "source": [
    "Funciones de carga y preparación de datos"
   ]
  },
  {
   "cell_type": "code",
   "execution_count": 2,
   "metadata": {
    "id": "3heKghCvKivQ"
   },
   "outputs": [],
   "source": [
    "import sys\n",
    "import os\n",
    "import pandas as pd\n",
    "def get_tweet_content(list_paths):\n",
    "  \"\"\"\n",
    "    Función para guardar en un diccionario el contenido de archivos txt \n",
    "    que se introduce en su entrada. \n",
    "    Devuelve un diccionario en el que las claves son el id del tweet, y\n",
    "    el valor el texto del tweet.\n",
    "  \"\"\"\n",
    "  output_dict = dict()\n",
    "  for i in list_paths:\n",
    "    tweet_id = i.split(\"/\")[-1].split(\".txt\")[0]\n",
    "    with open(i) as f:\n",
    "      output_dict[int(tweet_id)] = f.read()\n",
    "  \n",
    "  return output_dict\n",
    "\n",
    "def get_profner_data(profner_path_data):\n",
    "    # Obtenemos el path a los txt de los tweets.\n",
    "    path_to_txt = profner_path_data+\"subtask-1/train-valid-txt-files/\"\n",
    "    tweets_train_files = [path_to_txt+\"train/\"+i for i in os.listdir(path_to_txt+\"train/\")]\n",
    "    tweets_valid_files = [path_to_txt+\"valid/\"+i for i in os.listdir(path_to_txt+\"valid/\")]\n",
    "    # Obtenemos diccionarios en los que el key es el tweet_id y el value el texto del tweet.\n",
    "    train_txt_content = get_tweet_content(tweets_train_files)\n",
    "    valid_txt_content = get_tweet_content(tweets_valid_files)\n",
    "\n",
    "    # Cargamos dos dataframes con los tweet_id y la categoría de los tweets\n",
    "    path_to_labeled = profner_path_data+\"subtask-1/\"\n",
    "    train_tweets = pd.read_csv(path_to_labeled+\"train.tsv\",sep=\"\\t\")\n",
    "    valid_tweets = pd.read_csv(path_to_labeled+\"valid.tsv\",sep=\"\\t\")\n",
    "\n",
    "    # Introducimos a los df el campo de texto mapeando los diccionarios con tweet_id\n",
    "    train_tweets[\"tweet_text\"] = train_tweets['tweet_id'].map(train_txt_content)\n",
    "    train_tweets[\"set\"] = \"train\"\n",
    "    valid_tweets[\"tweet_text\"] = valid_tweets['tweet_id'].map(valid_txt_content)\n",
    "    valid_tweets[\"set\"] = \"valid\"\n",
    "\n",
    "    # Concatenamos el resultado\n",
    "    output_df = pd.concat([train_tweets,valid_tweets],axis=0)\n",
    "    # Eliminamos retorno de carro\n",
    "    output_df[\"tweet_text\"] = output_df.tweet_text.apply(lambda x: x.replace('\\n', ' '))\n",
    "    return output_df[[\"tweet_id\",\"tweet_text\",\"label\",\"set\"]].reset_index(drop=True)"
   ]
  },
  {
   "cell_type": "markdown",
   "metadata": {
    "id": "OeczIz9uKyBV"
   },
   "source": [
    "# Descripcion del Problema"
   ]
  },
  {
   "cell_type": "markdown",
   "metadata": {
    "id": "I9EFBbmM5w90"
   },
   "source": [
    "En este ejercicio se trabajará con un conjunto de datos reales publicados para la shared-task [ProfNER](https://temu.bsc.es/smm4h-spanish/), celebrada en el año 2021. Este conjunto de datos son tweets en español que tienen asignada una etiqueta numérica, que representa la presencia (valor 1) o no (valor 0) de menciones de profesiones en el tweet. Para mayor referencia, el proceso de obtención, selección y anotación de datos está descrita en [este enlace.](https://temu.bsc.es/smm4h-spanish/?p=4003)."
   ]
  },
  {
   "cell_type": "markdown",
   "metadata": {
    "id": "u5dR3XnT7Wl1"
   },
   "source": [
    "## Librerias\n"
   ]
  },
  {
   "cell_type": "code",
   "execution_count": 3,
   "metadata": {
    "colab": {
     "base_uri": "https://localhost:8080/"
    },
    "id": "fVOCm6Kw7WCW",
    "outputId": "77aeeed4-c31a-416a-92e2-8c87f2c63ec9"
   },
   "outputs": [
    {
     "name": "stderr",
     "output_type": "stream",
     "text": [
      "<ipython-input-3-24c8ffeee430>:8: TqdmExperimentalWarning: Using `tqdm.autonotebook.tqdm` in notebook mode. Use `tqdm.tqdm` instead to force console mode (e.g. in jupyter console)\n",
      "  from tqdm.autonotebook import tqdm\n"
     ]
    }
   ],
   "source": [
    "import nltk\n",
    "import matplotlib.pyplot as plt\n",
    "import numpy as np\n",
    "import seaborn as sns\n",
    "import string\n",
    "import re\n",
    "#import contractions\n",
    "from tqdm.autonotebook import tqdm\n",
    "tqdm.pandas()\n"
   ]
  },
  {
   "cell_type": "code",
   "execution_count": 4,
   "metadata": {
    "colab": {
     "base_uri": "https://localhost:8080/"
    },
    "id": "QncI17z-_lHV",
    "outputId": "84e58c3c-e864-479c-8e33-025d191991f3"
   },
   "outputs": [
    {
     "name": "stderr",
     "output_type": "stream",
     "text": [
      "[nltk_data] Downloading collection 'popular'\n",
      "[nltk_data]    | \n",
      "[nltk_data]    | Downloading package cmudict to /root/nltk_data...\n",
      "[nltk_data]    |   Unzipping corpora/cmudict.zip.\n",
      "[nltk_data]    | Downloading package gazetteers to /root/nltk_data...\n",
      "[nltk_data]    |   Unzipping corpora/gazetteers.zip.\n",
      "[nltk_data]    | Downloading package genesis to /root/nltk_data...\n",
      "[nltk_data]    |   Unzipping corpora/genesis.zip.\n",
      "[nltk_data]    | Downloading package gutenberg to /root/nltk_data...\n",
      "[nltk_data]    |   Unzipping corpora/gutenberg.zip.\n",
      "[nltk_data]    | Downloading package inaugural to /root/nltk_data...\n",
      "[nltk_data]    |   Unzipping corpora/inaugural.zip.\n",
      "[nltk_data]    | Downloading package movie_reviews to\n",
      "[nltk_data]    |     /root/nltk_data...\n",
      "[nltk_data]    |   Unzipping corpora/movie_reviews.zip.\n",
      "[nltk_data]    | Downloading package names to /root/nltk_data...\n",
      "[nltk_data]    |   Unzipping corpora/names.zip.\n",
      "[nltk_data]    | Downloading package shakespeare to /root/nltk_data...\n",
      "[nltk_data]    |   Unzipping corpora/shakespeare.zip.\n",
      "[nltk_data]    | Downloading package stopwords to /root/nltk_data...\n",
      "[nltk_data]    |   Unzipping corpora/stopwords.zip.\n",
      "[nltk_data]    | Downloading package treebank to /root/nltk_data...\n",
      "[nltk_data]    |   Unzipping corpora/treebank.zip.\n",
      "[nltk_data]    | Downloading package twitter_samples to\n",
      "[nltk_data]    |     /root/nltk_data...\n",
      "[nltk_data]    |   Unzipping corpora/twitter_samples.zip.\n",
      "[nltk_data]    | Downloading package omw to /root/nltk_data...\n",
      "[nltk_data]    | Downloading package omw-1.4 to /root/nltk_data...\n",
      "[nltk_data]    | Downloading package wordnet to /root/nltk_data...\n",
      "[nltk_data]    | Downloading package wordnet2021 to /root/nltk_data...\n",
      "[nltk_data]    | Downloading package wordnet31 to /root/nltk_data...\n",
      "[nltk_data]    | Downloading package wordnet_ic to /root/nltk_data...\n",
      "[nltk_data]    |   Unzipping corpora/wordnet_ic.zip.\n",
      "[nltk_data]    | Downloading package words to /root/nltk_data...\n",
      "[nltk_data]    |   Unzipping corpora/words.zip.\n",
      "[nltk_data]    | Downloading package maxent_ne_chunker to\n",
      "[nltk_data]    |     /root/nltk_data...\n",
      "[nltk_data]    |   Unzipping chunkers/maxent_ne_chunker.zip.\n",
      "[nltk_data]    | Downloading package punkt to /root/nltk_data...\n",
      "[nltk_data]    |   Unzipping tokenizers/punkt.zip.\n",
      "[nltk_data]    | Downloading package snowball_data to\n",
      "[nltk_data]    |     /root/nltk_data...\n",
      "[nltk_data]    | Downloading package averaged_perceptron_tagger to\n",
      "[nltk_data]    |     /root/nltk_data...\n",
      "[nltk_data]    |   Unzipping taggers/averaged_perceptron_tagger.zip.\n",
      "[nltk_data]    | \n",
      "[nltk_data]  Done downloading collection popular\n",
      "[nltk_data] Error loading nltk_data: Package 'nltk_data' not found in\n",
      "[nltk_data]     index\n",
      "[nltk_data] Downloading package punkt to /root/nltk_data...\n",
      "[nltk_data]   Package punkt is already up-to-date!\n",
      "[nltk_data] Downloading package stopwords to /root/nltk_data...\n",
      "[nltk_data]   Package stopwords is already up-to-date!\n"
     ]
    },
    {
     "data": {
      "text/plain": [
       "True"
      ]
     },
     "execution_count": 4,
     "metadata": {},
     "output_type": "execute_result"
    }
   ],
   "source": [
    "nltk.download('popular')\n",
    "nltk.download('nltk_data')\n",
    "nltk.download('punkt')\n",
    "nltk.download('stopwords')"
   ]
  },
  {
   "cell_type": "markdown",
   "metadata": {
    "id": "WbiU7iHSKd-9"
   },
   "source": [
    "## Obtención del corpus\n",
    "Para la obtención de los datos teneis se utiliza la función `get_profner_data()`. Esta función prepara los datos del ejercicio en formato Pandas dataframe."
   ]
  },
  {
   "cell_type": "code",
   "execution_count": 5,
   "metadata": {
    "id": "UrkhXWHjK7SQ"
   },
   "outputs": [],
   "source": [
    "profner_path = \"./profner/\"\n",
    "datos_ejercicio = get_profner_data(profner_path)"
   ]
  },
  {
   "cell_type": "code",
   "execution_count": 6,
   "metadata": {
    "colab": {
     "base_uri": "https://localhost:8080/",
     "height": 175
    },
    "id": "T3OwCqvBKexv",
    "outputId": "6d9c8ecf-9e22-41e0-a0dc-b1eae73b3737"
   },
   "outputs": [
    {
     "data": {
      "text/html": [
       "\n",
       "  <div id=\"df-d3cfe230-ac48-47f5-aa57-734e8e20d546\">\n",
       "    <div class=\"colab-df-container\">\n",
       "      <div>\n",
       "<style scoped>\n",
       "    .dataframe tbody tr th:only-of-type {\n",
       "        vertical-align: middle;\n",
       "    }\n",
       "\n",
       "    .dataframe tbody tr th {\n",
       "        vertical-align: top;\n",
       "    }\n",
       "\n",
       "    .dataframe thead th {\n",
       "        text-align: right;\n",
       "    }\n",
       "</style>\n",
       "<table border=\"1\" class=\"dataframe\">\n",
       "  <thead>\n",
       "    <tr style=\"text-align: right;\">\n",
       "      <th></th>\n",
       "      <th>tweet_id</th>\n",
       "      <th>tweet_text</th>\n",
       "      <th>label</th>\n",
       "      <th>set</th>\n",
       "    </tr>\n",
       "  </thead>\n",
       "  <tbody>\n",
       "    <tr>\n",
       "      <th>0</th>\n",
       "      <td>1256007275807997953</td>\n",
       "      <td>CHINA: libera una pandemia EE.UU: libera OVNIS...</td>\n",
       "      <td>0</td>\n",
       "      <td>train</td>\n",
       "    </tr>\n",
       "    <tr>\n",
       "      <th>1</th>\n",
       "      <td>1257909427677601792</td>\n",
       "      <td>San Francisco (EEUU) hace 100 años tras vivir ...</td>\n",
       "      <td>0</td>\n",
       "      <td>train</td>\n",
       "    </tr>\n",
       "    <tr>\n",
       "      <th>2</th>\n",
       "      <td>1281580572415066112</td>\n",
       "      <td>Porfi poneos la mascarilla o tendremos 28 nuev...</td>\n",
       "      <td>0</td>\n",
       "      <td>train</td>\n",
       "    </tr>\n",
       "    <tr>\n",
       "      <th>3</th>\n",
       "      <td>1271348112733470720</td>\n",
       "      <td>El nuevo „covid normas y reglas recibimiento“ ...</td>\n",
       "      <td>0</td>\n",
       "      <td>train</td>\n",
       "    </tr>\n",
       "  </tbody>\n",
       "</table>\n",
       "</div>\n",
       "      <button class=\"colab-df-convert\" onclick=\"convertToInteractive('df-d3cfe230-ac48-47f5-aa57-734e8e20d546')\"\n",
       "              title=\"Convert this dataframe to an interactive table.\"\n",
       "              style=\"display:none;\">\n",
       "        \n",
       "  <svg xmlns=\"http://www.w3.org/2000/svg\" height=\"24px\"viewBox=\"0 0 24 24\"\n",
       "       width=\"24px\">\n",
       "    <path d=\"M0 0h24v24H0V0z\" fill=\"none\"/>\n",
       "    <path d=\"M18.56 5.44l.94 2.06.94-2.06 2.06-.94-2.06-.94-.94-2.06-.94 2.06-2.06.94zm-11 1L8.5 8.5l.94-2.06 2.06-.94-2.06-.94L8.5 2.5l-.94 2.06-2.06.94zm10 10l.94 2.06.94-2.06 2.06-.94-2.06-.94-.94-2.06-.94 2.06-2.06.94z\"/><path d=\"M17.41 7.96l-1.37-1.37c-.4-.4-.92-.59-1.43-.59-.52 0-1.04.2-1.43.59L10.3 9.45l-7.72 7.72c-.78.78-.78 2.05 0 2.83L4 21.41c.39.39.9.59 1.41.59.51 0 1.02-.2 1.41-.59l7.78-7.78 2.81-2.81c.8-.78.8-2.07 0-2.86zM5.41 20L4 18.59l7.72-7.72 1.47 1.35L5.41 20z\"/>\n",
       "  </svg>\n",
       "      </button>\n",
       "      \n",
       "  <style>\n",
       "    .colab-df-container {\n",
       "      display:flex;\n",
       "      flex-wrap:wrap;\n",
       "      gap: 12px;\n",
       "    }\n",
       "\n",
       "    .colab-df-convert {\n",
       "      background-color: #E8F0FE;\n",
       "      border: none;\n",
       "      border-radius: 50%;\n",
       "      cursor: pointer;\n",
       "      display: none;\n",
       "      fill: #1967D2;\n",
       "      height: 32px;\n",
       "      padding: 0 0 0 0;\n",
       "      width: 32px;\n",
       "    }\n",
       "\n",
       "    .colab-df-convert:hover {\n",
       "      background-color: #E2EBFA;\n",
       "      box-shadow: 0px 1px 2px rgba(60, 64, 67, 0.3), 0px 1px 3px 1px rgba(60, 64, 67, 0.15);\n",
       "      fill: #174EA6;\n",
       "    }\n",
       "\n",
       "    [theme=dark] .colab-df-convert {\n",
       "      background-color: #3B4455;\n",
       "      fill: #D2E3FC;\n",
       "    }\n",
       "\n",
       "    [theme=dark] .colab-df-convert:hover {\n",
       "      background-color: #434B5C;\n",
       "      box-shadow: 0px 1px 3px 1px rgba(0, 0, 0, 0.15);\n",
       "      filter: drop-shadow(0px 1px 2px rgba(0, 0, 0, 0.3));\n",
       "      fill: #FFFFFF;\n",
       "    }\n",
       "  </style>\n",
       "\n",
       "      <script>\n",
       "        const buttonEl =\n",
       "          document.querySelector('#df-d3cfe230-ac48-47f5-aa57-734e8e20d546 button.colab-df-convert');\n",
       "        buttonEl.style.display =\n",
       "          google.colab.kernel.accessAllowed ? 'block' : 'none';\n",
       "\n",
       "        async function convertToInteractive(key) {\n",
       "          const element = document.querySelector('#df-d3cfe230-ac48-47f5-aa57-734e8e20d546');\n",
       "          const dataTable =\n",
       "            await google.colab.kernel.invokeFunction('convertToInteractive',\n",
       "                                                     [key], {});\n",
       "          if (!dataTable) return;\n",
       "\n",
       "          const docLinkHtml = 'Like what you see? Visit the ' +\n",
       "            '<a target=\"_blank\" href=https://colab.research.google.com/notebooks/data_table.ipynb>data table notebook</a>'\n",
       "            + ' to learn more about interactive tables.';\n",
       "          element.innerHTML = '';\n",
       "          dataTable['output_type'] = 'display_data';\n",
       "          await google.colab.output.renderOutput(dataTable, element);\n",
       "          const docLink = document.createElement('div');\n",
       "          docLink.innerHTML = docLinkHtml;\n",
       "          element.appendChild(docLink);\n",
       "        }\n",
       "      </script>\n",
       "    </div>\n",
       "  </div>\n",
       "  "
      ],
      "text/plain": [
       "              tweet_id                                         tweet_text  \\\n",
       "0  1256007275807997953  CHINA: libera una pandemia EE.UU: libera OVNIS...   \n",
       "1  1257909427677601792  San Francisco (EEUU) hace 100 años tras vivir ...   \n",
       "2  1281580572415066112  Porfi poneos la mascarilla o tendremos 28 nuev...   \n",
       "3  1271348112733470720  El nuevo „covid normas y reglas recibimiento“ ...   \n",
       "\n",
       "   label    set  \n",
       "0      0  train  \n",
       "1      0  train  \n",
       "2      0  train  \n",
       "3      0  train  "
      ]
     },
     "execution_count": 6,
     "metadata": {},
     "output_type": "execute_result"
    }
   ],
   "source": [
    "datos_ejercicio.head(4)"
   ]
  },
  {
   "cell_type": "code",
   "execution_count": 7,
   "metadata": {
    "id": "iICP2JDiW_J1"
   },
   "outputs": [],
   "source": [
    "def visualizar_k_rows (df, num_filas, cmap):\n",
    "  return (df.head(num_filas).style.background_gradient(cmap=cmap))"
   ]
  },
  {
   "cell_type": "code",
   "execution_count": 8,
   "metadata": {
    "colab": {
     "base_uri": "https://localhost:8080/",
     "height": 537
    },
    "id": "G8cPyOofdY4u",
    "outputId": "40a93136-5f46-4063-b006-bd5f4540b14f"
   },
   "outputs": [
    {
     "data": {
      "text/html": [
       "<style type=\"text/css\">\n",
       "#T_d8e58_row0_col0, #T_d8e58_row4_col2, #T_d8e58_row5_col2, #T_d8e58_row6_col2, #T_d8e58_row7_col2, #T_d8e58_row8_col2, #T_d8e58_row9_col2 {\n",
       "  background-color: #053061;\n",
       "  color: #f1f1f1;\n",
       "}\n",
       "#T_d8e58_row0_col2, #T_d8e58_row1_col2, #T_d8e58_row2_col2, #T_d8e58_row3_col0, #T_d8e58_row3_col2 {\n",
       "  background-color: #67001f;\n",
       "  color: #f1f1f1;\n",
       "}\n",
       "#T_d8e58_row1_col0 {\n",
       "  background-color: #4997c5;\n",
       "  color: #f1f1f1;\n",
       "}\n",
       "#T_d8e58_row2_col0 {\n",
       "  background-color: #a7d0e4;\n",
       "  color: #000000;\n",
       "}\n",
       "#T_d8e58_row4_col0 {\n",
       "  background-color: #4393c3;\n",
       "  color: #f1f1f1;\n",
       "}\n",
       "#T_d8e58_row5_col0 {\n",
       "  background-color: #65a9cf;\n",
       "  color: #f1f1f1;\n",
       "}\n",
       "#T_d8e58_row6_col0 {\n",
       "  background-color: #f9ede5;\n",
       "  color: #000000;\n",
       "}\n",
       "#T_d8e58_row7_col0 {\n",
       "  background-color: #c2ddec;\n",
       "  color: #000000;\n",
       "}\n",
       "#T_d8e58_row8_col0 {\n",
       "  background-color: #75b2d4;\n",
       "  color: #f1f1f1;\n",
       "}\n",
       "#T_d8e58_row9_col0 {\n",
       "  background-color: #bf3338;\n",
       "  color: #f1f1f1;\n",
       "}\n",
       "</style>\n",
       "<table id=\"T_d8e58\" class=\"dataframe\">\n",
       "  <thead>\n",
       "    <tr>\n",
       "      <th class=\"blank level0\" >&nbsp;</th>\n",
       "      <th id=\"T_d8e58_level0_col0\" class=\"col_heading level0 col0\" >tweet_id</th>\n",
       "      <th id=\"T_d8e58_level0_col1\" class=\"col_heading level0 col1\" >tweet_text</th>\n",
       "      <th id=\"T_d8e58_level0_col2\" class=\"col_heading level0 col2\" >label</th>\n",
       "      <th id=\"T_d8e58_level0_col3\" class=\"col_heading level0 col3\" >set</th>\n",
       "    </tr>\n",
       "  </thead>\n",
       "  <tbody>\n",
       "    <tr>\n",
       "      <th id=\"T_d8e58_level0_row0\" class=\"row_heading level0 row0\" >1343</th>\n",
       "      <td id=\"T_d8e58_row0_col0\" class=\"data row0 col0\" >1247124536077824000</td>\n",
       "      <td id=\"T_d8e58_row0_col1\" class=\"data row0 col1\" >Les estudiantes exigen garantías ante la situación actual y medidas para evitar que la brecha socioeconómica existente se haga más pronunciada. Todo nuestro apoyo a estas reivindicaciones de las que os iremos informando ✊ #Covid_19 #Estudiantes #EstadoDeAlarma @AbrirBrecha https://t.co/dEVfJ9D9YC</td>\n",
       "      <td id=\"T_d8e58_row0_col2\" class=\"data row0 col2\" >1</td>\n",
       "      <td id=\"T_d8e58_row0_col3\" class=\"data row0 col3\" >train</td>\n",
       "    </tr>\n",
       "    <tr>\n",
       "      <th id=\"T_d8e58_level0_row1\" class=\"row_heading level0 row1\" >1114</th>\n",
       "      <td id=\"T_d8e58_row1_col0\" class=\"data row1 col0\" >1256483023152992256</td>\n",
       "      <td id=\"T_d8e58_row1_col1\" class=\"data row1 col1\" >Los bulos ultras.   El titular debería ser “La GC es cazada saltándose la normativa”  ➡️Ir dl trabajo a casa no es saltarse el confinamiento.  ➡️Retener a un diputado, intentar sancionarle sin motivo y no dar copia d la denuncia es un comportamiento irregular y arbitrario. https://t.co/p3w1Pm87jK</td>\n",
       "      <td id=\"T_d8e58_row1_col2\" class=\"data row1 col2\" >1</td>\n",
       "      <td id=\"T_d8e58_row1_col3\" class=\"data row1 col3\" >train</td>\n",
       "    </tr>\n",
       "    <tr>\n",
       "      <th id=\"T_d8e58_level0_row2\" class=\"row_heading level0 row2\" >7635</th>\n",
       "      <td id=\"T_d8e58_row2_col0\" class=\"data row2 col0\" >1261958095502221312</td>\n",
       "      <td id=\"T_d8e58_row2_col1\" class=\"data row2 col1\" >En un acto de graduación, el expresidente norteamericano Barack Obama ha criticado la gestión de la pandemia realizada por el gobierno de Donald Trump https://t.co/C64heNKti8</td>\n",
       "      <td id=\"T_d8e58_row2_col2\" class=\"data row2 col2\" >1</td>\n",
       "      <td id=\"T_d8e58_row2_col3\" class=\"data row2 col3\" >valid</td>\n",
       "    </tr>\n",
       "    <tr>\n",
       "      <th id=\"T_d8e58_level0_row3\" class=\"row_heading level0 row3\" >2600</th>\n",
       "      <td id=\"T_d8e58_row3_col0\" class=\"data row3 col0\" >1291713859569553408</td>\n",
       "      <td id=\"T_d8e58_row3_col1\" class=\"data row3 col1\" >Las 10 monjas de clausura del Convento de las Brígidas de Lasarte-Oria (Guipúzcoa) han dado positivo por coronavirus</td>\n",
       "      <td id=\"T_d8e58_row3_col2\" class=\"data row3 col2\" >1</td>\n",
       "      <td id=\"T_d8e58_row3_col3\" class=\"data row3 col3\" >train</td>\n",
       "    </tr>\n",
       "    <tr>\n",
       "      <th id=\"T_d8e58_level0_row4\" class=\"row_heading level0 row4\" >1037</th>\n",
       "      <td id=\"T_d8e58_row4_col0\" class=\"data row4 col0\" >1256018193858138112</td>\n",
       "      <td id=\"T_d8e58_row4_col1\" class=\"data row4 col1\" >#RecortaronYRobaron Este Frente tiene claro que la unidad de la Izquierda es el camino, los procesos basados en el protagonismo y en la participación de la ciudadanía, no sólo suman, si no que multiplican #SumarEsMultiplicar Únete al @FrenteDeIzdas  #YoMeQuedoEnCasa https://t.co/vZi7vi2MTn</td>\n",
       "      <td id=\"T_d8e58_row4_col2\" class=\"data row4 col2\" >0</td>\n",
       "      <td id=\"T_d8e58_row4_col3\" class=\"data row4 col3\" >train</td>\n",
       "    </tr>\n",
       "    <tr>\n",
       "      <th id=\"T_d8e58_level0_row5\" class=\"row_heading level0 row5\" >3615</th>\n",
       "      <td id=\"T_d8e58_row5_col0\" class=\"data row5 col0\" >1258062577395007488</td>\n",
       "      <td id=\"T_d8e58_row5_col1\" class=\"data row5 col1\" >Cuando viajes, conecta con las gentes del lugar, siempre saldrás ganando en el #DestinoGeoparqueVilluercasIboresJara porque #AquíEstarasMejorQueEnBrazos  #YoMeQuedoEnCasa #stopcoronavirus #ecoturismo #slowtravel #turismoslow @Extremadura_tur @VilluercasGPark https://t.co/oCu0zfKFiD</td>\n",
       "      <td id=\"T_d8e58_row5_col2\" class=\"data row5 col2\" >0</td>\n",
       "      <td id=\"T_d8e58_row5_col3\" class=\"data row5 col3\" >train</td>\n",
       "    </tr>\n",
       "    <tr>\n",
       "      <th id=\"T_d8e58_level0_row6\" class=\"row_heading level0 row6\" >3517</th>\n",
       "      <td id=\"T_d8e58_row6_col0\" class=\"data row6 col0\" >1271066224454242304</td>\n",
       "      <td id=\"T_d8e58_row6_col1\" class=\"data row6 col1\" >Bien por @consumogob, que ha actuado con rapidez ante la proliferación de la ilegal 'tasa Covid'. Ahora toca que las autoridades de consumo autonómicas impongan multas a los establecimientos que continúen cobrando estos recargos. https://t.co/gha49xYYN8</td>\n",
       "      <td id=\"T_d8e58_row6_col2\" class=\"data row6 col2\" >0</td>\n",
       "      <td id=\"T_d8e58_row6_col3\" class=\"data row6 col3\" >train</td>\n",
       "    </tr>\n",
       "    <tr>\n",
       "      <th id=\"T_d8e58_level0_row7\" class=\"row_heading level0 row7\" >4089</th>\n",
       "      <td id=\"T_d8e58_row7_col0\" class=\"data row7 col0\" >1263879411046236160</td>\n",
       "      <td id=\"T_d8e58_row7_col1\" class=\"data row7 col1\" >@JordiWild Se que son dos letras pero Bon Covid jajaja</td>\n",
       "      <td id=\"T_d8e58_row7_col2\" class=\"data row7 col2\" >0</td>\n",
       "      <td id=\"T_d8e58_row7_col3\" class=\"data row7 col3\" >train</td>\n",
       "    </tr>\n",
       "    <tr>\n",
       "      <th id=\"T_d8e58_level0_row8\" class=\"row_heading level0 row8\" >1034</th>\n",
       "      <td id=\"T_d8e58_row8_col0\" class=\"data row8 col0\" >1258828155588091904</td>\n",
       "      <td id=\"T_d8e58_row8_col1\" class=\"data row8 col1\" >Título de la película: \"El hombre que susurraba a las ovejas mientras hacía campaña electoral diaria en plena pandemia y sin hacer ni una sola propuesta en el congreso.\" https://t.co/UkKR2GoCnB</td>\n",
       "      <td id=\"T_d8e58_row8_col2\" class=\"data row8 col2\" >0</td>\n",
       "      <td id=\"T_d8e58_row8_col3\" class=\"data row8 col3\" >train</td>\n",
       "    </tr>\n",
       "    <tr>\n",
       "      <th id=\"T_d8e58_level0_row9\" class=\"row_heading level0 row9\" >6923</th>\n",
       "      <td id=\"T_d8e58_row9_col0\" class=\"data row9 col0\" >1285532305239531520</td>\n",
       "      <td id=\"T_d8e58_row9_col1\" class=\"data row9 col1\" >🚨Lleida atiende hasta a 600 sospechosos de covid al día en los ambulatorios https://t.co/E4hBFRakXV</td>\n",
       "      <td id=\"T_d8e58_row9_col2\" class=\"data row9 col2\" >0</td>\n",
       "      <td id=\"T_d8e58_row9_col3\" class=\"data row9 col3\" >valid</td>\n",
       "    </tr>\n",
       "  </tbody>\n",
       "</table>\n"
      ],
      "text/plain": [
       "<pandas.io.formats.style.Styler at 0x7f2d5f87a3b0>"
      ]
     },
     "execution_count": 8,
     "metadata": {},
     "output_type": "execute_result"
    }
   ],
   "source": [
    "visualizar_k_rows(datos_ejercicio.sample(50), 10, 'RdBu_r')"
   ]
  },
  {
   "cell_type": "markdown",
   "metadata": {
    "id": "jJoVvfp77ZeF"
   },
   "source": [
    "## Análisis exploratorio"
   ]
  },
  {
   "cell_type": "code",
   "execution_count": 9,
   "metadata": {
    "colab": {
     "base_uri": "https://localhost:8080/"
    },
    "id": "-s9J1qE2gpQS",
    "outputId": "e23a2e10-6479-413e-9f9b-2fd6ae9f0e49"
   },
   "outputs": [
    {
     "name": "stdout",
     "output_type": "stream",
     "text": [
      "El dataset de estudio contiene una cantidad de 8000 tweets\n",
      "Este a su vez contiene un numero de 4 columnas\n"
     ]
    }
   ],
   "source": [
    "print(f'El dataset de estudio contiene una cantidad de {datos_ejercicio.shape[0]} tweets')\n",
    "print(f'Este a su vez contiene un numero de {datos_ejercicio.shape[1]} columnas')"
   ]
  },
  {
   "cell_type": "code",
   "execution_count": 10,
   "metadata": {
    "colab": {
     "base_uri": "https://localhost:8080/"
    },
    "id": "3YigH8QLeoeK",
    "outputId": "2e56cc87-47f2-4842-9d86-8b5a830f5541"
   },
   "outputs": [
    {
     "data": {
      "text/plain": [
       "2000"
      ]
     },
     "execution_count": 10,
     "metadata": {},
     "output_type": "execute_result"
    }
   ],
   "source": [
    "datos_ejercicio[datos_ejercicio.set != 'train'].shape[0]"
   ]
  },
  {
   "cell_type": "code",
   "execution_count": 11,
   "metadata": {
    "colab": {
     "base_uri": "https://localhost:8080/"
    },
    "id": "Ale01HXiOwir",
    "outputId": "7a85a620-8908-4db6-9393-c672f52f666f"
   },
   "outputs": [
    {
     "data": {
      "text/plain": [
       "train    6000\n",
       "valid    2000\n",
       "Name: set, dtype: int64"
      ]
     },
     "execution_count": 11,
     "metadata": {},
     "output_type": "execute_result"
    }
   ],
   "source": [
    "datos_ejercicio.set.value_counts()"
   ]
  },
  {
   "cell_type": "code",
   "execution_count": 12,
   "metadata": {
    "colab": {
     "base_uri": "https://localhost:8080/",
     "height": 173
    },
    "id": "jp4tLI97nwUf",
    "outputId": "cc1d743f-d676-489b-cb1c-b3abb41e16e8"
   },
   "outputs": [
    {
     "name": "stdout",
     "output_type": "stream",
     "text": [
      "datos entrenamiento\n"
     ]
    },
    {
     "data": {
      "text/plain": [
       "0    0.767833\n",
       "1    0.232167\n",
       "Name: label, dtype: float64"
      ]
     },
     "metadata": {},
     "output_type": "display_data"
    },
    {
     "name": "stdout",
     "output_type": "stream",
     "text": [
      "\n",
      "datos prueba\n"
     ]
    },
    {
     "data": {
      "text/plain": [
       "0    0.7615\n",
       "1    0.2385\n",
       "Name: label, dtype: float64"
      ]
     },
     "metadata": {},
     "output_type": "display_data"
    }
   ],
   "source": [
    "print('datos entrenamiento')\n",
    "display(datos_ejercicio[datos_ejercicio.set == 'train'].label.value_counts(normalize=True))\n",
    "print()\n",
    "print('datos prueba')\n",
    "display(datos_ejercicio[datos_ejercicio.set != 'train'].label.value_counts(normalize=True))"
   ]
  },
  {
   "cell_type": "markdown",
   "metadata": {
    "id": "I3_SV7zPfuzp"
   },
   "source": [
    "El dataset contiene una columna llamada set, con dos clases distintas que son train y valid con ocurrencias de 6000 y 2000 registros respectivamente y al comparar la distribución de las categorías de la variable label, se mantiene el porcentaje de ocurrencias de cada una, señal de que ya está dividido el conjunto de datos en training y test desde un inicio."
   ]
  },
  {
   "cell_type": "code",
   "execution_count": 13,
   "metadata": {
    "colab": {
     "base_uri": "https://localhost:8080/"
    },
    "id": "Uu2pD7CfgCb4",
    "outputId": "75cea179-1dbc-49fb-d7f7-01b7e050f989"
   },
   "outputs": [
    {
     "name": "stdout",
     "output_type": "stream",
     "text": [
      "Validando si existen registros duplicados, nos encontramos con que hay 0 tweets repetidos\n"
     ]
    }
   ],
   "source": [
    "print(f'Validando si existen registros duplicados, nos encontramos con que hay {np.sum(datos_ejercicio.duplicated(subset=\"tweet_text\"))} tweets repetidos')"
   ]
  },
  {
   "cell_type": "code",
   "execution_count": 14,
   "metadata": {
    "colab": {
     "base_uri": "https://localhost:8080/"
    },
    "id": "Y13GeuwshICX",
    "outputId": "187cf9ef-76bf-4f00-f08e-c65861cfb1b5"
   },
   "outputs": [
    {
     "name": "stdout",
     "output_type": "stream",
     "text": [
      "En el caso de valores nulos, el dataset contiene 0 faltantes en la columna de texto y 0 faltantes en la columna de etiqueta\n"
     ]
    }
   ],
   "source": [
    "print(f'En el caso de valores nulos, el dataset contiene {np.sum(datos_ejercicio.isnull())[1]} faltantes en la columna de texto y {np.sum(datos_ejercicio.isnull())[2]} faltantes en la columna de etiqueta')"
   ]
  },
  {
   "cell_type": "code",
   "execution_count": 15,
   "metadata": {
    "colab": {
     "base_uri": "https://localhost:8080/"
    },
    "id": "jGvV538uiChC",
    "outputId": "937250ad-45a0-4c04-ace1-c953878f56a9"
   },
   "outputs": [
    {
     "data": {
      "text/plain": [
       "0    0.76625\n",
       "1    0.23375\n",
       "Name: label, dtype: float64"
      ]
     },
     "execution_count": 15,
     "metadata": {},
     "output_type": "execute_result"
    }
   ],
   "source": [
    "datos_ejercicio.label.value_counts(normalize=True)"
   ]
  },
  {
   "cell_type": "code",
   "execution_count": 16,
   "metadata": {
    "colab": {
     "base_uri": "https://localhost:8080/",
     "height": 467
    },
    "id": "0ngbyD6viVtb",
    "outputId": "18720332-7f54-4ce5-d3aa-9f0cf4c628e5"
   },
   "outputs": [
    {
     "data": {
      "image/png": "[encoded data removed]",
      "text/plain": [
       "<Figure size 640x480 with 1 Axes>"
      ]
     },
     "metadata": {},
     "output_type": "display_data"
    }
   ],
   "source": [
    "ax, fig = plt.subplots()\n",
    "etiquetas = datos_ejercicio.label.value_counts()\n",
    "etiquetas.plot(kind='bar')\n",
    "plt.title('Bar Chart Labels')\n",
    "plt.xlabel('Mencion o no mencion')\n",
    "plt.ylabel('Count')\n",
    "plt.show();"
   ]
  },
  {
   "cell_type": "markdown",
   "metadata": {
    "id": "0AIRj5tAiNfy"
   },
   "source": [
    "Vemos que la variable objetivo esta desbalanceada, lo que podría suponer un problema más delante al entrenar el modelo."
   ]
  },
  {
   "cell_type": "code",
   "execution_count": 17,
   "metadata": {
    "id": "z3cdnuWLiWAa"
   },
   "outputs": [],
   "source": [
    "datos_ejercicio['tweets_len'] = datos_ejercicio['tweet_text'].apply(lambda x: len(x))"
   ]
  },
  {
   "cell_type": "code",
   "execution_count": 18,
   "metadata": {
    "colab": {
     "base_uri": "https://localhost:8080/",
     "height": 523
    },
    "id": "pVwr3XZTnbgL",
    "outputId": "d18d80fd-263a-4357-8dd0-4bd68f79ffaa"
   },
   "outputs": [
    {
     "data": {
      "text/plain": [
       "<Figure size 1200x1000 with 0 Axes>"
      ]
     },
     "metadata": {},
     "output_type": "display_data"
    },
    {
     "data": {
      "image/png": "[encoded data removed]",
      "text/plain": [
       "<Figure size 558.875x500 with 1 Axes>"
      ]
     },
     "metadata": {},
     "output_type": "display_data"
    }
   ],
   "source": [
    "fig = plt.figure(figsize=(12,10))\n",
    "plt1 = sns.displot(datos_ejercicio, x=\"tweets_len\", hue='label', kind=\"kde\",fill=True, common_norm=True,alpha=0.4)\n",
    "\n",
    "plt.show();"
   ]
  },
  {
   "cell_type": "code",
   "execution_count": 19,
   "metadata": {
    "colab": {
     "base_uri": "https://localhost:8080/",
     "height": 104
    },
    "id": "dh0OGOQ9rrsr",
    "outputId": "4ca9fecf-48ae-4129-ae08-bcd30c59bbb5"
   },
   "outputs": [
    {
     "name": "stdout",
     "output_type": "stream",
     "text": [
      "si se toma en cuenta un valor maximo de 35 caracteres por tweets, se puede observar la gran ocurrencia de etiquetas iguales a 0 sobre el total:\n",
      "Numero de tweets sin menciones con un maximo de 35 caracteres:\n"
     ]
    },
    {
     "data": {
      "text/plain": [
       "145"
      ]
     },
     "metadata": {},
     "output_type": "display_data"
    },
    {
     "name": "stdout",
     "output_type": "stream",
     "text": [
      "Numero total de tweets con un maximo de 35 caracteres\n"
     ]
    },
    {
     "data": {
      "text/plain": [
       "146"
      ]
     },
     "metadata": {},
     "output_type": "display_data"
    }
   ],
   "source": [
    "print('si se toma en cuenta un valor maximo de 35 caracteres por tweets, se puede observar la gran ocurrencia de etiquetas iguales a 0 sobre el total:')\n",
    "print('Numero de tweets sin menciones con un maximo de 35 caracteres:')\n",
    "display(datos_ejercicio[(datos_ejercicio.tweets_len < 35)&(datos_ejercicio.label == 0) ].shape[0])\n",
    "print('Numero total de tweets con un maximo de 35 caracteres')\n",
    "display(datos_ejercicio[(datos_ejercicio.tweets_len < 35) ].shape[0])\n"
   ]
  },
  {
   "cell_type": "markdown",
   "metadata": {
    "id": "OBbQfSHXVM-t"
   },
   "source": [
    "Llegando a un numero de caracteres (sin limpiar) como puede ser por ejemplo 35, no se suele apreciar menciones a profesiones, y seguramente se traten de mensajes con muchos caracteres especiales, menciones o páginas web."
   ]
  },
  {
   "cell_type": "markdown",
   "metadata": {
    "id": "TPaEMlpFqZmU"
   },
   "source": [
    "En conclusión, las distribuciones de las longitudes en los tweets para el caso en el que no haya menciones a profesiones es similar, a cuando si hay menciones, y no se pueden separar viendo únicamente sus distribuciones, ya que una se encuentra dentro de la silueta de la otra, por lo que se debería entrenar bien un modelo para clasificar estas dos. No obstante, cabe recalcar que cuando la cantidad de caracteres es muy pequeña, no suelen haber menciones a profesiones."
   ]
  },
  {
   "cell_type": "markdown",
   "metadata": {
    "id": "9wseifFy7b4-"
   },
   "source": [
    "## Preprocesado y Normalización"
   ]
  },
  {
   "cell_type": "markdown",
   "metadata": {
    "id": "RgUPy-3YSoAE"
   },
   "source": [
    "**Material y tratamiento de emoticonos en los tweets**"
   ]
  },
  {
   "cell_type": "markdown",
   "metadata": {
    "id": "0gkCdo0IQ3V9"
   },
   "source": [
    "Para el analisis de sentimiento, se descargan los siguientes recursos facilitados en el foro de clase."
   ]
  },
  {
   "cell_type": "code",
   "execution_count": 20,
   "metadata": {
    "colab": {
     "base_uri": "https://localhost:8080/"
    },
    "id": "ArXtIcykRTYC",
    "outputId": "5866cb21-f0fd-428a-eb70-1732b9d7af7a"
   },
   "outputs": [
    {
     "name": "stdout",
     "output_type": "stream",
     "text": [
      "--2023-05-14 23:47:46--  https://www.clarin.si/repository/xmlui/handle/11356/1048/allzip\n",
      "Resolving www.clarin.si (www.clarin.si)... 95.87.154.205\n",
      "Connecting to www.clarin.si (www.clarin.si)|95.87.154.205|:443... connected.\n",
      "HTTP request sent, awaiting response... 200 OK\n",
      "Length: unspecified [application/zip]\n",
      "Saving to: ‘allzip’\n",
      "\n",
      "allzip                  [        <=>         ]  94.61K  42.8KB/s    in 2.2s    \n",
      "\n",
      "2023-05-14 23:47:50 (42.8 KB/s) - ‘allzip’ saved [96878]\n",
      "\n",
      "Archive:  allzip\n",
      "  inflating: ESR_v1.0_format.txt     \n",
      "  inflating: Emoji_Sentiment_Data_v1.0.csv  \n",
      "  inflating: Emojitracker_20150604.csv  \n"
     ]
    }
   ],
   "source": [
    "# Download emoji sentiment\n",
    "!wget https://www.clarin.si/repository/xmlui/handle/11356/1048/allzip\n",
    "!unzip allzip"
   ]
  },
  {
   "cell_type": "code",
   "execution_count": 21,
   "metadata": {
    "id": "kysgnHbZSGhr"
   },
   "outputs": [],
   "source": [
    "# Preparar diccionario de emojis\n",
    "def load_emoji_sentiment(path):\n",
    "  # Cargamos el csv de emoji_sentiment\n",
    "  emoji_sent_df = pd.read_csv(path,sep=\",\")\n",
    "  # Calculamos los scores dividiendo el número de emojis negativos y entre el total\n",
    "  emoji_sent_df[\"Negative\"] = emoji_sent_df[\"Negative\"]/emoji_sent_df[\"Occurrences\"]\n",
    "  emoji_sent_df[\"Neutral\"] = emoji_sent_df[\"Neutral\"]/emoji_sent_df[\"Occurrences\"]\n",
    "  emoji_sent_df[\"Positive\"] = emoji_sent_df[\"Positive\"]/emoji_sent_df[\"Occurrences\"]\n",
    "  # Transformamos a dict\n",
    "  emoji_sent_df = emoji_sent_df.set_index('Emoji')\n",
    "  emoji_dict = emoji_sent_df.to_dict(orient=\"index\")\n",
    "  return emoji_dict"
   ]
  },
  {
   "cell_type": "code",
   "execution_count": 22,
   "metadata": {
    "colab": {
     "base_uri": "https://localhost:8080/"
    },
    "id": "zkjzKuXuNjdD",
    "outputId": "6bb83944-37b1-4146-f70c-5f22f238bfa9"
   },
   "outputs": [
    {
     "name": "stdout",
     "output_type": "stream",
     "text": [
      "Looking in indexes: https://pypi.org/simple, https://us-python.pkg.dev/colab-wheels/public/simple/\n",
      "Collecting emoji_extractor\n",
      "  Downloading emoji_extractor-2.0.0.tar.gz (34 kB)\n",
      "  Preparing metadata (setup.py) ... \u001b[?25l\u001b[?25hdone\n",
      "Building wheels for collected packages: emoji_extractor\n",
      "  Building wheel for emoji_extractor (setup.py) ... \u001b[?25l\u001b[?25hdone\n",
      "  Created wheel for emoji_extractor: filename=emoji_extractor-2.0.0-py3-none-any.whl size=64157 sha256=41e1810eb3561fd4abe6961e021bb523016459fba9e3f0663089c261346e958d\n",
      "  Stored in directory: /root/.cache/pip/wheels/14/89/95/33d1b161e1daa8fb2dec089e887d3620d3a318fdb0798e9f58\n",
      "Successfully built emoji_extractor\n",
      "Installing collected packages: emoji_extractor\n",
      "Successfully installed emoji_extractor-2.0.0\n",
      "Looking in indexes: https://pypi.org/simple, https://us-python.pkg.dev/colab-wheels/public/simple/\n",
      "Collecting emoji\n",
      "  Downloading emoji-2.2.0.tar.gz (240 kB)\n",
      "\u001b[2K     \u001b[90m━━━━━━━━━━━━━━━━━━━━━━━━━━━━━━━━━━━━━━\u001b[0m \u001b[32m240.9/240.9 kB\u001b[0m \u001b[31m20.9 MB/s\u001b[0m eta \u001b[36m0:00:00\u001b[0m\n",
      "\u001b[?25h  Preparing metadata (setup.py) ... \u001b[?25l\u001b[?25hdone\n",
      "Building wheels for collected packages: emoji\n",
      "  Building wheel for emoji (setup.py) ... \u001b[?25l\u001b[?25hdone\n",
      "  Created wheel for emoji: filename=emoji-2.2.0-py3-none-any.whl size=234911 sha256=18d9c045b513c1aea522f89e0663638fa54062d2f1ac98a72ea6411507b0099e\n",
      "  Stored in directory: /root/.cache/pip/wheels/02/3d/88/51a592b9ad17e7899126563698b4e3961983ebe85747228ba6\n",
      "Successfully built emoji\n",
      "Installing collected packages: emoji\n",
      "Successfully installed emoji-2.2.0\n"
     ]
    }
   ],
   "source": [
    "!pip install emoji_extractor\n",
    "!pip install emoji\n",
    "from emoji_extractor.extract import Extractor\n",
    "# Función para extraer emojis del texto en formato lista\n",
    "def extract_emojis(text):\n",
    "  extract = Extractor()\n",
    "  emojis = extract.count_emoji(text, check_first=False)\n",
    "  emojis_list = [key for key, _ in emojis.most_common()]\n",
    "  return emojis_list"
   ]
  },
  {
   "cell_type": "code",
   "execution_count": 23,
   "metadata": {
    "id": "fb8-1nStOXHL"
   },
   "outputs": [],
   "source": [
    "def get_emoji_sentiment(lista, option = \"positive\"):\n",
    "  output = 0\n",
    "  for emoji in lista:\n",
    "    try:\n",
    "      if option == \"positive\":\n",
    "        output = output + emoji_sent_dict[emoji][\"Positive\"]\n",
    "      elif option ==\"negative\":\n",
    "        output = output + emoji_sent_dict[emoji][\"Negative\"]\n",
    "      elif option ==\"neutral\":\n",
    "        output = output + emoji_sent_dict[emoji][\"Neutral\"]\n",
    "    except Exception as e: \n",
    "      continue\n",
    "  return output"
   ]
  },
  {
   "cell_type": "code",
   "execution_count": 24,
   "metadata": {
    "id": "EbKhHvZBSLs_"
   },
   "outputs": [],
   "source": [
    "emoji_sent_dict = load_emoji_sentiment(\"Emoji_Sentiment_Data_v1.0.csv\")\n",
    "#emoji_sent_dict"
   ]
  },
  {
   "cell_type": "code",
   "execution_count": 25,
   "metadata": {
    "id": "LsR1JCO1ShBJ"
   },
   "outputs": [],
   "source": [
    "datos_ejercicio[\"emoji_list\"] = datos_ejercicio[\"tweet_text\"].apply(lambda x: extract_emojis(x))"
   ]
  },
  {
   "cell_type": "code",
   "execution_count": 26,
   "metadata": {
    "id": "sRxDk2agUS-3"
   },
   "outputs": [],
   "source": [
    "#datos_ejercicio.emoji_list\n",
    "datos_ejercicio[\"sent_emoji_pos\"] = datos_ejercicio[\"emoji_list\"].apply(lambda x: get_emoji_sentiment(x, \"positive\"))\n",
    "datos_ejercicio[\"sent_emoji_neu\"] = datos_ejercicio[\"emoji_list\"].apply(lambda x: get_emoji_sentiment(x, \"neutral\"))\n",
    "datos_ejercicio[\"sent_emoji_neg\"] = datos_ejercicio[\"emoji_list\"].apply(lambda x: get_emoji_sentiment(x, \"negative\"))"
   ]
  },
  {
   "cell_type": "markdown",
   "metadata": {
    "id": "01x7yCWZTNdk"
   },
   "source": [
    "Se crean las 3 nuevas variables para expresar los índices de sentimiento que refleja cada emoji (algunos no están incluidos en esta lista por lo que tomaran valores de 0)."
   ]
  },
  {
   "cell_type": "markdown",
   "metadata": {
    "id": "lzSPmjTbTsB2"
   },
   "source": [
    "**Recursos y funciones para el preprocesado de tweets**"
   ]
  },
  {
   "cell_type": "code",
   "execution_count": 27,
   "metadata": {
    "colab": {
     "base_uri": "https://localhost:8080/"
    },
    "id": "sbjyeQyONxIv",
    "outputId": "755d9b43-682b-4846-ca50-d0f74695ab85"
   },
   "outputs": [
    {
     "name": "stdout",
     "output_type": "stream",
     "text": [
      "2023-05-14 23:48:30.624763: I tensorflow/core/platform/cpu_feature_guard.cc:182] This TensorFlow binary is optimized to use available CPU instructions in performance-critical operations.\n",
      "To enable the following instructions: AVX2 FMA, in other operations, rebuild TensorFlow with the appropriate compiler flags.\n",
      "2023-05-14 23:48:32.622889: W tensorflow/compiler/tf2tensorrt/utils/py_utils.cc:38] TF-TRT Warning: Could not find TensorRT\n",
      "Looking in indexes: https://pypi.org/simple, https://us-python.pkg.dev/colab-wheels/public/simple/\n",
      "Collecting es-core-news-sm==3.5.0\n",
      "  Downloading https://github.com/explosion/spacy-models/releases/download/es_core_news_sm-3.5.0/es_core_news_sm-3.5.0-py3-none-any.whl (12.9 MB)\n",
      "\u001b[2K     \u001b[90m━━━━━━━━━━━━━━━━━━━━━━━━━━━━━━━━━━━━━━━━\u001b[0m \u001b[32m12.9/12.9 MB\u001b[0m \u001b[31m63.6 MB/s\u001b[0m eta \u001b[36m0:00:00\u001b[0m\n",
      "\u001b[?25hRequirement already satisfied: spacy<3.6.0,>=3.5.0 in /usr/local/lib/python3.10/dist-packages (from es-core-news-sm==3.5.0) (3.5.2)\n",
      "Requirement already satisfied: spacy-legacy<3.1.0,>=3.0.11 in /usr/local/lib/python3.10/dist-packages (from spacy<3.6.0,>=3.5.0->es-core-news-sm==3.5.0) (3.0.12)\n",
      "Requirement already satisfied: spacy-loggers<2.0.0,>=1.0.0 in /usr/local/lib/python3.10/dist-packages (from spacy<3.6.0,>=3.5.0->es-core-news-sm==3.5.0) (1.0.4)\n",
      "Requirement already satisfied: murmurhash<1.1.0,>=0.28.0 in /usr/local/lib/python3.10/dist-packages (from spacy<3.6.0,>=3.5.0->es-core-news-sm==3.5.0) (1.0.9)\n",
      "Requirement already satisfied: cymem<2.1.0,>=2.0.2 in /usr/local/lib/python3.10/dist-packages (from spacy<3.6.0,>=3.5.0->es-core-news-sm==3.5.0) (2.0.7)\n",
      "Requirement already satisfied: preshed<3.1.0,>=3.0.2 in /usr/local/lib/python3.10/dist-packages (from spacy<3.6.0,>=3.5.0->es-core-news-sm==3.5.0) (3.0.8)\n",
      "Requirement already satisfied: thinc<8.2.0,>=8.1.8 in /usr/local/lib/python3.10/dist-packages (from spacy<3.6.0,>=3.5.0->es-core-news-sm==3.5.0) (8.1.9)\n",
      "Requirement already satisfied: wasabi<1.2.0,>=0.9.1 in /usr/local/lib/python3.10/dist-packages (from spacy<3.6.0,>=3.5.0->es-core-news-sm==3.5.0) (1.1.1)\n",
      "Requirement already satisfied: srsly<3.0.0,>=2.4.3 in /usr/local/lib/python3.10/dist-packages (from spacy<3.6.0,>=3.5.0->es-core-news-sm==3.5.0) (2.4.6)\n",
      "Requirement already satisfied: catalogue<2.1.0,>=2.0.6 in /usr/local/lib/python3.10/dist-packages (from spacy<3.6.0,>=3.5.0->es-core-news-sm==3.5.0) (2.0.8)\n",
      "Requirement already satisfied: typer<0.8.0,>=0.3.0 in /usr/local/lib/python3.10/dist-packages (from spacy<3.6.0,>=3.5.0->es-core-news-sm==3.5.0) (0.7.0)\n",
      "Requirement already satisfied: pathy>=0.10.0 in /usr/local/lib/python3.10/dist-packages (from spacy<3.6.0,>=3.5.0->es-core-news-sm==3.5.0) (0.10.1)\n",
      "Requirement already satisfied: smart-open<7.0.0,>=5.2.1 in /usr/local/lib/python3.10/dist-packages (from spacy<3.6.0,>=3.5.0->es-core-news-sm==3.5.0) (6.3.0)\n",
      "Requirement already satisfied: tqdm<5.0.0,>=4.38.0 in /usr/local/lib/python3.10/dist-packages (from spacy<3.6.0,>=3.5.0->es-core-news-sm==3.5.0) (4.65.0)\n",
      "Requirement already satisfied: numpy>=1.15.0 in /usr/local/lib/python3.10/dist-packages (from spacy<3.6.0,>=3.5.0->es-core-news-sm==3.5.0) (1.22.4)\n",
      "Requirement already satisfied: requests<3.0.0,>=2.13.0 in /usr/local/lib/python3.10/dist-packages (from spacy<3.6.0,>=3.5.0->es-core-news-sm==3.5.0) (2.27.1)\n",
      "Requirement already satisfied: pydantic!=1.8,!=1.8.1,<1.11.0,>=1.7.4 in /usr/local/lib/python3.10/dist-packages (from spacy<3.6.0,>=3.5.0->es-core-news-sm==3.5.0) (1.10.7)\n",
      "Requirement already satisfied: jinja2 in /usr/local/lib/python3.10/dist-packages (from spacy<3.6.0,>=3.5.0->es-core-news-sm==3.5.0) (3.1.2)\n",
      "Requirement already satisfied: setuptools in /usr/local/lib/python3.10/dist-packages (from spacy<3.6.0,>=3.5.0->es-core-news-sm==3.5.0) (67.7.2)\n",
      "Requirement already satisfied: packaging>=20.0 in /usr/local/lib/python3.10/dist-packages (from spacy<3.6.0,>=3.5.0->es-core-news-sm==3.5.0) (23.1)\n",
      "Requirement already satisfied: langcodes<4.0.0,>=3.2.0 in /usr/local/lib/python3.10/dist-packages (from spacy<3.6.0,>=3.5.0->es-core-news-sm==3.5.0) (3.3.0)\n",
      "Requirement already satisfied: typing-extensions>=4.2.0 in /usr/local/lib/python3.10/dist-packages (from pydantic!=1.8,!=1.8.1,<1.11.0,>=1.7.4->spacy<3.6.0,>=3.5.0->es-core-news-sm==3.5.0) (4.5.0)\n",
      "Requirement already satisfied: urllib3<1.27,>=1.21.1 in /usr/local/lib/python3.10/dist-packages (from requests<3.0.0,>=2.13.0->spacy<3.6.0,>=3.5.0->es-core-news-sm==3.5.0) (1.26.15)\n",
      "Requirement already satisfied: certifi>=2017.4.17 in /usr/local/lib/python3.10/dist-packages (from requests<3.0.0,>=2.13.0->spacy<3.6.0,>=3.5.0->es-core-news-sm==3.5.0) (2022.12.7)\n",
      "Requirement already satisfied: charset-normalizer~=2.0.0 in /usr/local/lib/python3.10/dist-packages (from requests<3.0.0,>=2.13.0->spacy<3.6.0,>=3.5.0->es-core-news-sm==3.5.0) (2.0.12)\n",
      "Requirement already satisfied: idna<4,>=2.5 in /usr/local/lib/python3.10/dist-packages (from requests<3.0.0,>=2.13.0->spacy<3.6.0,>=3.5.0->es-core-news-sm==3.5.0) (3.4)\n",
      "Requirement already satisfied: blis<0.8.0,>=0.7.8 in /usr/local/lib/python3.10/dist-packages (from thinc<8.2.0,>=8.1.8->spacy<3.6.0,>=3.5.0->es-core-news-sm==3.5.0) (0.7.9)\n",
      "Requirement already satisfied: confection<1.0.0,>=0.0.1 in /usr/local/lib/python3.10/dist-packages (from thinc<8.2.0,>=8.1.8->spacy<3.6.0,>=3.5.0->es-core-news-sm==3.5.0) (0.0.4)\n",
      "Requirement already satisfied: click<9.0.0,>=7.1.1 in /usr/local/lib/python3.10/dist-packages (from typer<0.8.0,>=0.3.0->spacy<3.6.0,>=3.5.0->es-core-news-sm==3.5.0) (8.1.3)\n",
      "Requirement already satisfied: MarkupSafe>=2.0 in /usr/local/lib/python3.10/dist-packages (from jinja2->spacy<3.6.0,>=3.5.0->es-core-news-sm==3.5.0) (2.1.2)\n",
      "Installing collected packages: es-core-news-sm\n",
      "Successfully installed es-core-news-sm-3.5.0\n",
      "\u001b[38;5;2m✔ Download and installation successful\u001b[0m\n",
      "You can now load the package via spacy.load('es_core_news_sm')\n",
      "Looking in indexes: https://pypi.org/simple, https://us-python.pkg.dev/colab-wheels/public/simple/\n",
      "Collecting spanlp\n",
      "  Downloading spanlp-1.1.0-py3-none-any.whl (40 kB)\n",
      "\u001b[2K     \u001b[90m━━━━━━━━━━━━━━━━━━━━━━━━━━━━━━━━━━━━━━━━\u001b[0m \u001b[32m40.5/40.5 kB\u001b[0m \u001b[31m4.4 MB/s\u001b[0m eta \u001b[36m0:00:00\u001b[0m\n",
      "\u001b[?25hInstalling collected packages: spanlp\n",
      "Successfully installed spanlp-1.1.0\n"
     ]
    }
   ],
   "source": [
    "!python -m spacy download es_core_news_sm\n",
    "!pip install spanlp"
   ]
  },
  {
   "cell_type": "code",
   "execution_count": 28,
   "metadata": {
    "id": "2DMm9aD5x5H-"
   },
   "outputs": [],
   "source": [
    "from nltk import word_tokenize\n",
    "from nltk.corpus import stopwords\n",
    "import spacy\n",
    "\n",
    "#Recursos en espanol\n",
    "from spanlp.domain.strategies import Preprocessing, RemoveConjunctions, RemoveAdverbs\n",
    "\n",
    "\n",
    "#el parser y ner se utilizan como componentes de análisis de sintaxis y reconocimiento de entidades nombradas (NER)\n",
    "#deshabilitarlos ayuda a que corra mas rapido el codigo\n",
    "#se carga en espanol el archivo de spacy.\n",
    "nlp = spacy.load('es_core_news_sm', disable=['parser', 'ner'])\n",
    "\n",
    "# Eliminar menciones y URLS\n",
    "def limpiar_tweets(text):\n",
    "  #menciones\n",
    "  #text = re.sub(r'@\\w+', '', text)\n",
    "  # Eliminar URLs\n",
    "  text = re.sub(r'http\\S+', 'url', text)\n",
    "  return text\n",
    "\n",
    "def eliminar_espacios(text):\n",
    "  return \" \".join(text.split())\n",
    "\n",
    "def texto_to_lower(text):\n",
    "  return text.lower()\n",
    "\n",
    "def replace_contractions(text): #En espanol no es necesario, omitir este paso\n",
    "  expanded_words = [contractions.fix(text) for text in text.split()]\n",
    "  expanded_text = ' '.join(expanded_words)\n",
    "  return expanded_text\n",
    "\n",
    "def tokenization(text): #ver libreria spanlp, tener en cuenta el tokenizador.\n",
    "  #ingles\n",
    "  #tokens = word_tokenize(text)\n",
    "  #se aprovecha para eliminar adverbios y conjuciones que no deberian ser de utilidad para que el modelo clasifique textos.\n",
    "  strategies = [RemoveConjunctions(), RemoveAdverbs()]\n",
    "  cleaned = Preprocessing().clean(data=text, clean_strategies=strategies)\n",
    "  doc = nlp(text)\n",
    "\n",
    "  tokens = [token.text for token in doc]\n",
    "\n",
    "  return tokens\n",
    "\n",
    "def no_stopwords(tokens):\n",
    "  stop_words = set(stopwords.words('spanish'))\n",
    "  filtered_sentence = [word for word in tokens if not word in stop_words]\n",
    "  return filtered_sentence\n",
    "# en este caso se quitaran numeros tambien, ya que no tienen relevancia\n",
    "def quitar_puntuaciones(tokens):\n",
    "  words = [word for word in tokens if word.isalpha()]\n",
    "  return words\n",
    "\n",
    "def lematizar(tokens):\n",
    "  sentence = ' '.join(tokens)\n",
    "  mytokens = nlp(sentence)\n",
    "  mytokens = [word.lemma_ if word.lemma_ != \"-PRON-\" else word.lower_ for word in mytokens]\n",
    "  return mytokens\n",
    "\n",
    "from nltk.stem import SnowballStemmer\n",
    "stemmer = SnowballStemmer('spanish')\n",
    "def stem(tokens):\n",
    "  tokens = [stemmer.stem(tokens) for token in tokens]\n",
    "  return tokens\n",
    "  \n"
   ]
  },
  {
   "cell_type": "code",
   "execution_count": 29,
   "metadata": {
    "id": "hs9T_OzgVJy-"
   },
   "outputs": [],
   "source": [
    "# Eliminar los emojis de un texto. Esto es útil porque una vez extraido los emojis\n",
    "# puede interesarnos tener un texto sin presencia de emojis para mejor análisis.\n",
    "def clean_emoji(text):\n",
    "    # Poner todos los comandos de http://www.unicode.org/Public/emoji/1.0/emoji-data.txt\n",
    "    emoji_pattern = re.compile(\"[\"\n",
    "        u\"\\U0001F300-\\U0001F6FF\"  # symbols & pictographs\n",
    "        u\"\\U0001F1E0-\\U0001F1FF\"  # flags (iOS)\n",
    "        u'\\u2600-\\u26FF\\u2700-\\u27BF'\n",
    "        u'\\u2934' u'\\u2935' u'\\u2B05' u'\\u2B06' u'\\u2B07' u'\\u2B1B' u'\\u2B1C' \n",
    "        u'\\u2B50' u'\\u2B55' u'\\u3030' u'\\u303D' u'\\u3297' u'\\u3299' u'\\u00A9'\n",
    "        u'\\u00AE' u'\\u203C' u'\\u2049' u'\\u2122' u'\\u2139' u'\\u2194-\\u2199' \n",
    "        u'\\u21A9' u'\\u21AA' u'\\u231A' u'\\u231B' u'\\u2328' u'\\u23CF'\n",
    "        u'\\u23E9-\\u23F3' u'\\u23F8' u'\\u23F9' u'\\u23FA' u'\\u24C2' u'\\u25AA'\n",
    "        u'\\u25AB' u'\\u25B6' u'\\u25C0' u'\\u25FB' u'\\u25FD' u'\\u25FC' u'\\u25FE'\n",
    "        ']+', flags=re.UNICODE)\n",
    "    string2 = re.sub(emoji_pattern,r' ',text)\n",
    "    return string2"
   ]
  },
  {
   "cell_type": "markdown",
   "metadata": {
    "id": "pKIBo46nV78V"
   },
   "source": [
    "Considerando que los datos provienen de una red social como lo es twitter, y que al explorar los datos se observan ocurrencias de enlaces web, se incluye un paso inicial para eliminar dichas páginas web para posteriormente aplicar el preprocesado del texto visto en clase, juntando todas las funciones brindadas en una sola."
   ]
  },
  {
   "cell_type": "code",
   "execution_count": 30,
   "metadata": {
    "id": "VLa2E4fYsK5r"
   },
   "outputs": [],
   "source": [
    "#Juntando las funciones en una sola:\n",
    "def procesar_texto(text, tokenizar=True, normalizar='stem'):\n",
    "    #reemplazar URLs\n",
    "    text = limpiar_tweets(text)\n",
    "    #Eliminar emojis\n",
    "    text = clean_emoji(text)\n",
    "    # eliminar espacios\n",
    "    text = eliminar_espacios(text)\n",
    "    # convertir texto a minúsculas\n",
    "    text2 = texto_to_lower(text)\n",
    "    # expandir contracciones\n",
    "    #text3 = replace_contractions(text2)\n",
    "    # tokenizar\n",
    "    if tokenizar:\n",
    "        tokens = tokenization(text2)\n",
    "\n",
    "    # eliminar stopwords\n",
    "    tokens = no_stopwords(tokens)\n",
    "    # quitar puntuaciones\n",
    "    tokens = quitar_puntuaciones(tokens)\n",
    "    # normalizar\n",
    "    if normalizar == 'lematizar':\n",
    "        tokens = lematizar(tokens)\n",
    "    elif normalizar == 'stem':\n",
    "        tokens = stem(tokens)\n",
    "    else:\n",
    "        raise ValueError('Valor no válido para el argumento \"normalizar\".')\n",
    "    return tokens"
   ]
  },
  {
   "cell_type": "markdown",
   "metadata": {
    "id": "_3BAH0roTBfO"
   },
   "source": [
    "**Recursos para el analisis de sentimiento de los tokens preprocesados**"
   ]
  },
  {
   "cell_type": "code",
   "execution_count": 31,
   "metadata": {
    "id": "eHDcLwxeqKwd"
   },
   "outputs": [],
   "source": [
    "url_path = \"https://www.cic.ipn.mx/~sidorov/SEL.txt\"\n",
    "sel_lexicon = pd.read_csv(url_path,sep=\"\\t\", encoding=\"latin-1\")"
   ]
  },
  {
   "cell_type": "code",
   "execution_count": 32,
   "metadata": {
    "id": "INr9PZsdQ-_r"
   },
   "outputs": [],
   "source": [
    "dicc_mapping = {\"Alegría\":\"positive\",\n",
    "                \"Sorpresa\":\"positive\",\n",
    "                \"Tristeza\":\"negative\",\n",
    "                \"Enojo\":\"negative\",\n",
    "                \"Miedo\":\"negative\",\n",
    "                \"Repulsión\":\"negative\"}\n",
    "                \n",
    "sel_lexicon[\"Categoría\"] = sel_lexicon[\"Categoría\"].map(dicc_mapping)"
   ]
  },
  {
   "cell_type": "code",
   "execution_count": 33,
   "metadata": {
    "id": "NVIBVSC5RF_L"
   },
   "outputs": [],
   "source": [
    "positive_words = dict(zip(sel_lexicon[sel_lexicon[\"Categoría\"]==\"positive\"].Palabra, sel_lexicon[sel_lexicon[\"Categoría\"]==\"positive\"][' PFA']))\n",
    "negative_words = dict(zip(sel_lexicon[sel_lexicon[\"Categoría\"]==\"negative\"].Palabra, sel_lexicon[sel_lexicon[\"Categoría\"]==\"negative\"][' PFA']))\n",
    "\n",
    "def calculate_sentiment(frase, positive_words, negative_words):\n",
    "  \"\"\"\n",
    "  Función para calcular el score de sentimiento de una frase\n",
    "\n",
    "  Args:\n",
    "    frase [str]: Frase pre-preprocesada en español. Debe venir lematizada.\n",
    "    positive_words [dict]: Diccionario de palabras positivas extraidas de SEL\n",
    "    negative_words [dict]: Diccionario de palabras negativas extraídas de SEL\n",
    "\n",
    "  Out:\n",
    "    Sentiment score  \n",
    "  \"\"\"\n",
    "  score = 0\n",
    "  for i in frase.split():\n",
    "    if i in positive_words:\n",
    "      score = score + float(positive_words[i])\n",
    "    elif i in negative_words:\n",
    "      score = score - float(negative_words[i])\n",
    "    else:\n",
    "      score = score + 0\n",
    "  \n",
    "  return score"
   ]
  },
  {
   "cell_type": "markdown",
   "metadata": {
    "id": "cpom9YwkT8O3"
   },
   "source": [
    "**Aplicacion del preprocesado de texto**"
   ]
  },
  {
   "cell_type": "code",
   "execution_count": 34,
   "metadata": {
    "colab": {
     "base_uri": "https://localhost:8080/",
     "height": 49,
     "referenced_widgets": [
      "1eaff0a1d60f4cb49fc9cbcf693bf9c9",
      "9390e764c6ef47a6870ff41e0ffa06a0",
      "0060894f59ef4286ac71521afc416fdf",
      "6a87d8526d2a40878ed22a6e7f84b892",
      "c19a9ee07d3a4c23bc5c0f2976fab16c",
      "268fbb3ab2b0451891e97c3b3e9bf160",
      "70291980cdf441c997c99bda04cf1af8",
      "e53baa5da4bc48f589f89b7f59236a1a",
      "45dea2190cc2473eaea0fea945af8d99",
      "be1a10ebc4e64afdad65850f67f5705b",
      "9234ba00754c4feba19bdf5fe65f0326"
     ]
    },
    "id": "XKCdGm_Ks_ce",
    "outputId": "46908e5b-8e06-42c7-d5a5-209fe3cd09fb"
   },
   "outputs": [
    {
     "data": {
      "application/vnd.jupyter.widget-view+json": {
       "model_id": "1eaff0a1d60f4cb49fc9cbcf693bf9c9",
       "version_major": 2,
       "version_minor": 0
      },
      "text/plain": [
       "  0%|          | 0/8000 [00:00<?, ?it/s]"
      ]
     },
     "metadata": {},
     "output_type": "display_data"
    }
   ],
   "source": [
    "datos_ejercicio['normalizado'] = datos_ejercicio['tweet_text'].progress_apply(lambda x : procesar_texto(x, tokenizar=True, normalizar='lematizar'))"
   ]
  },
  {
   "cell_type": "code",
   "execution_count": 35,
   "metadata": {
    "colab": {
     "base_uri": "https://localhost:8080/"
    },
    "id": "dRLtyS8Iwwbv",
    "outputId": "05fb2317-9ebd-4518-b71b-e8424f864198"
   },
   "outputs": [
    {
     "data": {
      "text/plain": [
       "0       [chino, libera, pandemia, libera, ovnis, argen...\n",
       "1       [san, francisco, eeuu, hacer, año, tras, vivir...\n",
       "2       [porfi, poneo, mascarilla, nuevo, canción, art...\n",
       "3       [nuevo, covid, norma, regla, recibimiento, com...\n",
       "4       [si, confinamiento, dejado, tocado, estabilida...\n",
       "                              ...                        \n",
       "7995    [lomásleer, nuevo, infectado, coronavirus, mul...\n",
       "7996    [ayuso, adjudico, dedo, contrato, euros, hacer...\n",
       "7997    [mes, encerrado, poder, viajar, provincia, ir,...\n",
       "7998    [gobierno, prohíbir, ley, lis, despido, crisis...\n",
       "7999         [rasgo, psicológico, lleva, mascarilla, url]\n",
       "Name: normalizado, Length: 8000, dtype: object"
      ]
     },
     "execution_count": 35,
     "metadata": {},
     "output_type": "execute_result"
    }
   ],
   "source": [
    "datos_ejercicio['normalizado']"
   ]
  },
  {
   "cell_type": "code",
   "execution_count": 36,
   "metadata": {
    "colab": {
     "base_uri": "https://localhost:8080/",
     "height": 257,
     "referenced_widgets": [
      "6050cb5293e943ae914fb832b05387f8",
      "4014f3b6d1b4423fa3febf1bbc3ce53e",
      "194174757f0a4dd5b83b64e04a8f6d55",
      "e11bedb8730a41b89e716faf43846f88",
      "01aa7897f08741798fc52a3bb2858293",
      "a32ab5dd426746b2a20eadd8b19e778a",
      "3c5ecc3c706e4c9ea73e72966f0bc952",
      "b33fe17a3c734fb2a1d92b2b866315b0",
      "6d9eacac8d6d479ea21a2dabb8baeab5",
      "724eca3fa1c84a299bd3351c1feeb948",
      "54eddd1f9af247c2b491a3cac82a3a79"
     ]
    },
    "id": "8Z2n5a5g8msM",
    "outputId": "00729554-48d8-4dcc-a69e-218ddfb0ca82"
   },
   "outputs": [
    {
     "data": {
      "application/vnd.jupyter.widget-view+json": {
       "model_id": "6050cb5293e943ae914fb832b05387f8",
       "version_major": 2,
       "version_minor": 0
      },
      "text/plain": [
       "  0%|          | 0/8000 [00:00<?, ?it/s]"
      ]
     },
     "metadata": {},
     "output_type": "display_data"
    },
    {
     "data": {
      "text/plain": [
       "0       chino libera pandemia libera ovnis argentino l...\n",
       "1       san francisco eeuu hacer año tras vivir pandem...\n",
       "2       porfi poneo mascarilla nuevo canción artista c...\n",
       "3       nuevo covid norma regla recibimiento comercio ...\n",
       "4       si confinamiento dejado tocado estabilidad men...\n",
       "                              ...                        \n",
       "7995    lomásleer nuevo infectado coronavirus multipli...\n",
       "7996    ayuso adjudico dedo contrato euros hacer vídeo...\n",
       "7997    mes encerrado poder viajar provincia ir restau...\n",
       "7998    gobierno prohíbir ley lis despido crisis coron...\n",
       "7999               rasgo psicológico lleva mascarilla url\n",
       "Name: clean_tweets, Length: 8000, dtype: object"
      ]
     },
     "execution_count": 36,
     "metadata": {},
     "output_type": "execute_result"
    }
   ],
   "source": [
    "datos_ejercicio['clean_tweets'] = datos_ejercicio['normalizado'].progress_apply(lambda x: \" \".join(x))\n",
    "datos_ejercicio.clean_tweets"
   ]
  },
  {
   "cell_type": "code",
   "execution_count": 37,
   "metadata": {
    "colab": {
     "base_uri": "https://localhost:8080/",
     "height": 461
    },
    "id": "IInlrPJ-V_eR",
    "outputId": "370f2d70-5215-42e2-baa1-6eb73fdde1f2"
   },
   "outputs": [
    {
     "data": {
      "text/html": [
       "\n",
       "  <div id=\"df-bdcb3585-6598-486f-ba26-907867ad1bcd\">\n",
       "    <div class=\"colab-df-container\">\n",
       "      <div>\n",
       "<style scoped>\n",
       "    .dataframe tbody tr th:only-of-type {\n",
       "        vertical-align: middle;\n",
       "    }\n",
       "\n",
       "    .dataframe tbody tr th {\n",
       "        vertical-align: top;\n",
       "    }\n",
       "\n",
       "    .dataframe thead th {\n",
       "        text-align: right;\n",
       "    }\n",
       "</style>\n",
       "<table border=\"1\" class=\"dataframe\">\n",
       "  <thead>\n",
       "    <tr style=\"text-align: right;\">\n",
       "      <th></th>\n",
       "      <th>tweet_id</th>\n",
       "      <th>tweet_text</th>\n",
       "      <th>label</th>\n",
       "      <th>set</th>\n",
       "      <th>tweets_len</th>\n",
       "      <th>emoji_list</th>\n",
       "      <th>sent_emoji_pos</th>\n",
       "      <th>sent_emoji_neu</th>\n",
       "      <th>sent_emoji_neg</th>\n",
       "      <th>normalizado</th>\n",
       "      <th>clean_tweets</th>\n",
       "    </tr>\n",
       "  </thead>\n",
       "  <tbody>\n",
       "    <tr>\n",
       "      <th>2531</th>\n",
       "      <td>1269154307066277895</td>\n",
       "      <td>La Guardia Civil pidió sin orden judicial a un...</td>\n",
       "      <td>1</td>\n",
       "      <td>train</td>\n",
       "      <td>192</td>\n",
       "      <td>[]</td>\n",
       "      <td>0.0</td>\n",
       "      <td>0.0</td>\n",
       "      <td>0.0</td>\n",
       "      <td>[guardia, civil, pedir, orden, judicial, super...</td>\n",
       "      <td>guardia civil pedir orden judicial supermercad...</td>\n",
       "    </tr>\n",
       "    <tr>\n",
       "      <th>3991</th>\n",
       "      <td>1254754135062327298</td>\n",
       "      <td>🇨🇳🇦🇺 | URGENTE - #CORONAVIRUS: China amenaza a...</td>\n",
       "      <td>0</td>\n",
       "      <td>train</td>\n",
       "      <td>141</td>\n",
       "      <td>[🇨🇳, 🇦🇺]</td>\n",
       "      <td>0.0</td>\n",
       "      <td>0.0</td>\n",
       "      <td>0.0</td>\n",
       "      <td>[urgente, coronavirus, china, amenaza, austral...</td>\n",
       "      <td>urgente coronavirus china amenaza australia to...</td>\n",
       "    </tr>\n",
       "    <tr>\n",
       "      <th>1156</th>\n",
       "      <td>1270038821162364938</td>\n",
       "      <td>#coronavirus #COVIDー19 #CoronavirusEnEcuador #...</td>\n",
       "      <td>0</td>\n",
       "      <td>train</td>\n",
       "      <td>300</td>\n",
       "      <td>[]</td>\n",
       "      <td>0.0</td>\n",
       "      <td>0.0</td>\n",
       "      <td>0.0</td>\n",
       "      <td>[coronaviru, coronavirusenecuador, coronavirus...</td>\n",
       "      <td>coronaviru coronavirusenecuador coronavirusenu...</td>\n",
       "    </tr>\n",
       "    <tr>\n",
       "      <th>1782</th>\n",
       "      <td>1255185180240883713</td>\n",
       "      <td>@TxabyJJ A 1,10 eché yo hoy en Repsol de la co...</td>\n",
       "      <td>0</td>\n",
       "      <td>train</td>\n",
       "      <td>142</td>\n",
       "      <td>[]</td>\n",
       "      <td>0.0</td>\n",
       "      <td>0.0</td>\n",
       "      <td>0.0</td>\n",
       "      <td>[eché, hoy, repsol, corredorio, x, mañana, apr...</td>\n",
       "      <td>eché hoy repsol corredorio x mañana aprovechar...</td>\n",
       "    </tr>\n",
       "    <tr>\n",
       "      <th>4630</th>\n",
       "      <td>1266482693082165250</td>\n",
       "      <td>¿POR QUÉ NO LO HACEN?   Tan sólo 3 millones de...</td>\n",
       "      <td>1</td>\n",
       "      <td>train</td>\n",
       "      <td>290</td>\n",
       "      <td>[]</td>\n",
       "      <td>0.0</td>\n",
       "      <td>0.0</td>\n",
       "      <td>0.0</td>\n",
       "      <td>[hacer, tanto, sólo, millón, euros, costar, co...</td>\n",
       "      <td>hacer tanto sólo millón euros costar contratar...</td>\n",
       "    </tr>\n",
       "  </tbody>\n",
       "</table>\n",
       "</div>\n",
       "      <button class=\"colab-df-convert\" onclick=\"convertToInteractive('df-bdcb3585-6598-486f-ba26-907867ad1bcd')\"\n",
       "              title=\"Convert this dataframe to an interactive table.\"\n",
       "              style=\"display:none;\">\n",
       "        \n",
       "  <svg xmlns=\"http://www.w3.org/2000/svg\" height=\"24px\"viewBox=\"0 0 24 24\"\n",
       "       width=\"24px\">\n",
       "    <path d=\"M0 0h24v24H0V0z\" fill=\"none\"/>\n",
       "    <path d=\"M18.56 5.44l.94 2.06.94-2.06 2.06-.94-2.06-.94-.94-2.06-.94 2.06-2.06.94zm-11 1L8.5 8.5l.94-2.06 2.06-.94-2.06-.94L8.5 2.5l-.94 2.06-2.06.94zm10 10l.94 2.06.94-2.06 2.06-.94-2.06-.94-.94-2.06-.94 2.06-2.06.94z\"/><path d=\"M17.41 7.96l-1.37-1.37c-.4-.4-.92-.59-1.43-.59-.52 0-1.04.2-1.43.59L10.3 9.45l-7.72 7.72c-.78.78-.78 2.05 0 2.83L4 21.41c.39.39.9.59 1.41.59.51 0 1.02-.2 1.41-.59l7.78-7.78 2.81-2.81c.8-.78.8-2.07 0-2.86zM5.41 20L4 18.59l7.72-7.72 1.47 1.35L5.41 20z\"/>\n",
       "  </svg>\n",
       "      </button>\n",
       "      \n",
       "  <style>\n",
       "    .colab-df-container {\n",
       "      display:flex;\n",
       "      flex-wrap:wrap;\n",
       "      gap: 12px;\n",
       "    }\n",
       "\n",
       "    .colab-df-convert {\n",
       "      background-color: #E8F0FE;\n",
       "      border: none;\n",
       "      border-radius: 50%;\n",
       "      cursor: pointer;\n",
       "      display: none;\n",
       "      fill: #1967D2;\n",
       "      height: 32px;\n",
       "      padding: 0 0 0 0;\n",
       "      width: 32px;\n",
       "    }\n",
       "\n",
       "    .colab-df-convert:hover {\n",
       "      background-color: #E2EBFA;\n",
       "      box-shadow: 0px 1px 2px rgba(60, 64, 67, 0.3), 0px 1px 3px 1px rgba(60, 64, 67, 0.15);\n",
       "      fill: #174EA6;\n",
       "    }\n",
       "\n",
       "    [theme=dark] .colab-df-convert {\n",
       "      background-color: #3B4455;\n",
       "      fill: #D2E3FC;\n",
       "    }\n",
       "\n",
       "    [theme=dark] .colab-df-convert:hover {\n",
       "      background-color: #434B5C;\n",
       "      box-shadow: 0px 1px 3px 1px rgba(0, 0, 0, 0.15);\n",
       "      filter: drop-shadow(0px 1px 2px rgba(0, 0, 0, 0.3));\n",
       "      fill: #FFFFFF;\n",
       "    }\n",
       "  </style>\n",
       "\n",
       "      <script>\n",
       "        const buttonEl =\n",
       "          document.querySelector('#df-bdcb3585-6598-486f-ba26-907867ad1bcd button.colab-df-convert');\n",
       "        buttonEl.style.display =\n",
       "          google.colab.kernel.accessAllowed ? 'block' : 'none';\n",
       "\n",
       "        async function convertToInteractive(key) {\n",
       "          const element = document.querySelector('#df-bdcb3585-6598-486f-ba26-907867ad1bcd');\n",
       "          const dataTable =\n",
       "            await google.colab.kernel.invokeFunction('convertToInteractive',\n",
       "                                                     [key], {});\n",
       "          if (!dataTable) return;\n",
       "\n",
       "          const docLinkHtml = 'Like what you see? Visit the ' +\n",
       "            '<a target=\"_blank\" href=https://colab.research.google.com/notebooks/data_table.ipynb>data table notebook</a>'\n",
       "            + ' to learn more about interactive tables.';\n",
       "          element.innerHTML = '';\n",
       "          dataTable['output_type'] = 'display_data';\n",
       "          await google.colab.output.renderOutput(dataTable, element);\n",
       "          const docLink = document.createElement('div');\n",
       "          docLink.innerHTML = docLinkHtml;\n",
       "          element.appendChild(docLink);\n",
       "        }\n",
       "      </script>\n",
       "    </div>\n",
       "  </div>\n",
       "  "
      ],
      "text/plain": [
       "                 tweet_id                                         tweet_text  \\\n",
       "2531  1269154307066277895  La Guardia Civil pidió sin orden judicial a un...   \n",
       "3991  1254754135062327298  🇨🇳🇦🇺 | URGENTE - #CORONAVIRUS: China amenaza a...   \n",
       "1156  1270038821162364938  #coronavirus #COVIDー19 #CoronavirusEnEcuador #...   \n",
       "1782  1255185180240883713  @TxabyJJ A 1,10 eché yo hoy en Repsol de la co...   \n",
       "4630  1266482693082165250  ¿POR QUÉ NO LO HACEN?   Tan sólo 3 millones de...   \n",
       "\n",
       "      label    set  tweets_len emoji_list  sent_emoji_pos  sent_emoji_neu  \\\n",
       "2531      1  train         192         []             0.0             0.0   \n",
       "3991      0  train         141   [🇨🇳, 🇦🇺]             0.0             0.0   \n",
       "1156      0  train         300         []             0.0             0.0   \n",
       "1782      0  train         142         []             0.0             0.0   \n",
       "4630      1  train         290         []             0.0             0.0   \n",
       "\n",
       "      sent_emoji_neg                                        normalizado  \\\n",
       "2531             0.0  [guardia, civil, pedir, orden, judicial, super...   \n",
       "3991             0.0  [urgente, coronavirus, china, amenaza, austral...   \n",
       "1156             0.0  [coronaviru, coronavirusenecuador, coronavirus...   \n",
       "1782             0.0  [eché, hoy, repsol, corredorio, x, mañana, apr...   \n",
       "4630             0.0  [hacer, tanto, sólo, millón, euros, costar, co...   \n",
       "\n",
       "                                           clean_tweets  \n",
       "2531  guardia civil pedir orden judicial supermercad...  \n",
       "3991  urgente coronavirus china amenaza australia to...  \n",
       "1156  coronaviru coronavirusenecuador coronavirusenu...  \n",
       "1782  eché hoy repsol corredorio x mañana aprovechar...  \n",
       "4630  hacer tanto sólo millón euros costar contratar...  "
      ]
     },
     "execution_count": 37,
     "metadata": {},
     "output_type": "execute_result"
    }
   ],
   "source": [
    "datos_ejercicio.sample(5)"
   ]
  },
  {
   "cell_type": "markdown",
   "metadata": {
    "id": "fGWhZ4-PUu_e"
   },
   "source": [
    "Ahora que se encuentra limpio el texto, se procede a extraer el sentimiento de este."
   ]
  },
  {
   "cell_type": "markdown",
   "metadata": {
    "id": "A51OEBTCU0RG"
   },
   "source": [
    "**Extraer sentimiento del texto preprocesado**"
   ]
  },
  {
   "cell_type": "code",
   "execution_count": 38,
   "metadata": {
    "id": "eHzaQULjeBmK"
   },
   "outputs": [],
   "source": [
    "datos_ejercicio[\"sent_frase_score\"] = datos_ejercicio[\"clean_tweets\"].apply(lambda x: calculate_sentiment(x, positive_words, negative_words))"
   ]
  },
  {
   "cell_type": "code",
   "execution_count": 39,
   "metadata": {
    "colab": {
     "base_uri": "https://localhost:8080/"
    },
    "id": "2296M8fqVRNx",
    "outputId": "12a69d1e-1b7d-4cae-de09-5ac8c0c5cac1"
   },
   "outputs": [
    {
     "data": {
      "text/plain": [
       "count    8000.000000\n",
       "mean       -0.005651\n",
       "std         0.645833\n",
       "min        -3.982000\n",
       "25%        -0.205000\n",
       "50%         0.000000\n",
       "75%         0.231000\n",
       "max         4.191000\n",
       "Name: sent_frase_score, dtype: float64"
      ]
     },
     "execution_count": 39,
     "metadata": {},
     "output_type": "execute_result"
    }
   ],
   "source": [
    "datos_ejercicio[\"sent_frase_score\"].describe()"
   ]
  },
  {
   "cell_type": "code",
   "execution_count": 40,
   "metadata": {
    "colab": {
     "base_uri": "https://localhost:8080/",
     "height": 469
    },
    "id": "edg99FeQ6DNR",
    "outputId": "fcf3421a-0b20-4215-9a1c-e923b87f44c4"
   },
   "outputs": [
    {
     "data": {
      "text/plain": [
       "Text(0.5, 1.0, 'Histograma Sentimiento tweets preprocesados')"
      ]
     },
     "execution_count": 40,
     "metadata": {},
     "output_type": "execute_result"
    },
    {
     "data": {
      "image/png": "[encoded data removed]",
      "text/plain": [
       "<Figure size 640x480 with 1 Axes>"
      ]
     },
     "metadata": {},
     "output_type": "display_data"
    }
   ],
   "source": [
    " plt.hist(datos_ejercicio[\"sent_frase_score\"], bins=30)\n",
    " plt.title('Histograma Sentimiento tweets preprocesados')"
   ]
  },
  {
   "cell_type": "markdown",
   "metadata": {
    "id": "woOAa_Nu529l"
   },
   "source": [
    "Predominan mucho los 0, lo que quiere decir que en cuanto a sentimiento, se prevee que es neutro para la mayoria de los tweets."
   ]
  },
  {
   "cell_type": "code",
   "execution_count": 41,
   "metadata": {
    "colab": {
     "base_uri": "https://localhost:8080/",
     "height": 49,
     "referenced_widgets": [
      "4be4e987091949f8875b58f0122fe859",
      "188ea5d06e1d42d6bd53b8912530ecdd",
      "8826565153b349849b50692624980e46",
      "e8b1ee158fcb421791f95473ef9905c9",
      "7e700233eb994a05a8e6a3fea6f6725a",
      "f5cd2c5c9543451b9c6f9cd1207e90f1",
      "cf7722c6258048d78e6459bcc5902ec3",
      "0c252b9cf4a94b5aa53813a2fdc95b67",
      "5c459ab33e8d4ba5a0c0cf75d1fbbbe1",
      "0b8a3faccb284f5e842de3516ae753fe",
      "0b5267aafc5341f1a9b9750bb7f09522"
     ]
    },
    "id": "PuKDf6sr9ae8",
    "outputId": "49e8bd83-423c-4eff-ad06-73bad56ace4b"
   },
   "outputs": [
    {
     "data": {
      "application/vnd.jupyter.widget-view+json": {
       "model_id": "4be4e987091949f8875b58f0122fe859",
       "version_major": 2,
       "version_minor": 0
      },
      "text/plain": [
       "  0%|          | 0/8000 [00:00<?, ?it/s]"
      ]
     },
     "metadata": {},
     "output_type": "display_data"
    }
   ],
   "source": [
    "datos_ejercicio['tokens_len'] = datos_ejercicio['normalizado'].progress_apply(lambda x: len(x))"
   ]
  },
  {
   "cell_type": "code",
   "execution_count": 42,
   "metadata": {
    "colab": {
     "base_uri": "https://localhost:8080/",
     "height": 523
    },
    "id": "m7ghampQ9az9",
    "outputId": "8430c1db-8652-4077-e73f-8bc374865a9c"
   },
   "outputs": [
    {
     "data": {
      "text/plain": [
       "<Figure size 1200x1000 with 0 Axes>"
      ]
     },
     "metadata": {},
     "output_type": "display_data"
    },
    {
     "data": {
      "image/png": "[encoded data removed]",
      "text/plain": [
       "<Figure size 558.875x500 with 1 Axes>"
      ]
     },
     "metadata": {},
     "output_type": "display_data"
    }
   ],
   "source": [
    "fig = plt.figure(figsize=(12,10))\n",
    "plt1 = sns.displot(datos_ejercicio, x=\"tokens_len\", hue='label', kind=\"kde\",fill=True, common_norm=False,alpha=0.4)\n",
    "\n",
    "plt.show();"
   ]
  },
  {
   "cell_type": "markdown",
   "metadata": {
    "id": "927_CMXzW2LH"
   },
   "source": [
    "Las distribuciones de las cantidades de tokens en las categorías con y sin mención de profesiones posee un comportamiento similar a la inicial sin el preprocesado de texto, se ve una reducción considerable de la cantidad de elementos (tokens) y se continua observando como a menor cantidad de tokens es más probable que no haya mención a profesiones (categoría \"0\")."
   ]
  },
  {
   "cell_type": "markdown",
   "metadata": {
    "id": "5vJkVg9X7cOx"
   },
   "source": [
    "## Vectorización"
   ]
  },
  {
   "cell_type": "code",
   "execution_count": 73,
   "metadata": {
    "id": "3TG0_Tea7cVz"
   },
   "outputs": [],
   "source": [
    "from sklearn.feature_extraction.text import TfidfVectorizer\n",
    "vectorizador = TfidfVectorizer(ngram_range=(1,3),\n",
    "                               min_df=0.001,\n",
    "                               lowercase=False)"
   ]
  },
  {
   "cell_type": "markdown",
   "metadata": {
    "id": "292zQiuycWoh"
   },
   "source": [
    "Se tomara en cuenta un valor en el argumento min_df de 0.005, dependiendo de los resultados que de el futuro modelo se revisara si hay o no que modificar este valor limite."
   ]
  },
  {
   "cell_type": "code",
   "execution_count": 74,
   "metadata": {
    "id": "sNjrDgSlbqCq"
   },
   "outputs": [],
   "source": [
    "tfidf_data = vectorizador.fit(datos_ejercicio['clean_tweets'])"
   ]
  },
  {
   "cell_type": "code",
   "execution_count": 75,
   "metadata": {
    "colab": {
     "base_uri": "https://localhost:8080/"
    },
    "id": "oNSf21XRqCFZ",
    "outputId": "6dad1bda-cd8a-4361-d57c-b9f5ae6ef5a7"
   },
   "outputs": [
    {
     "data": {
      "text/plain": [
       "array(['abajo', 'abandonado', 'abandonar', ..., 'último semana', 'único',\n",
       "       'útil'], dtype=object)"
      ]
     },
     "execution_count": 75,
     "metadata": {},
     "output_type": "execute_result"
    }
   ],
   "source": [
    "tfidf_data.get_feature_names_out()"
   ]
  },
  {
   "cell_type": "code",
   "execution_count": 76,
   "metadata": {
    "colab": {
     "base_uri": "https://localhost:8080/"
    },
    "id": "vc7T0olZ4EMy",
    "outputId": "a5bdea1f-32a7-4ceb-e5b6-5ff3d9c6030d"
   },
   "outputs": [
    {
     "data": {
      "text/plain": [
       "2711"
      ]
     },
     "execution_count": 76,
     "metadata": {},
     "output_type": "execute_result"
    }
   ],
   "source": [
    "len(list(tfidf_data.get_feature_names_out()))"
   ]
  },
  {
   "cell_type": "markdown",
   "metadata": {
    "id": "l8_ZSza-8FqZ"
   },
   "source": [
    "Se nota la presencia de muchos valores numéricos dentro del vocabulario generado, lo cual no sirve de mucho para este caso de clasificación de texto y no existe relevancia entre números y profesiones para este contexto de evaluar si existe o no una mención a profesiones)\n",
    "\n"
   ]
  },
  {
   "cell_type": "code",
   "execution_count": 77,
   "metadata": {
    "id": "rzL5oG_D4EY3"
   },
   "outputs": [],
   "source": [
    "vector_data = tfidf_data.transform(datos_ejercicio['clean_tweets']).toarray()"
   ]
  },
  {
   "cell_type": "code",
   "execution_count": 78,
   "metadata": {
    "colab": {
     "base_uri": "https://localhost:8080/"
    },
    "id": "l6TNKnnTg_wa",
    "outputId": "ad4b32fc-eb23-4a5a-f58a-b129d2ac4aa8"
   },
   "outputs": [
    {
     "data": {
      "text/plain": [
       "numpy.ndarray"
      ]
     },
     "execution_count": 78,
     "metadata": {},
     "output_type": "execute_result"
    }
   ],
   "source": [
    "extra_features = datos_ejercicio[['sent_emoji_pos','sent_emoji_neg','sent_emoji_neu','sent_frase_score', 'tokens_len']]\n",
    "type(vector_data)"
   ]
  },
  {
   "cell_type": "code",
   "execution_count": 79,
   "metadata": {
    "colab": {
     "base_uri": "https://localhost:8080/"
    },
    "id": "4pawuDjIeIWz",
    "outputId": "6f67680e-d8e4-4331-f343-014d1f276575"
   },
   "outputs": [
    {
     "data": {
      "text/plain": [
       "((8000, 2711), (8000, 5), (8000, 2716))"
      ]
     },
     "execution_count": 79,
     "metadata": {},
     "output_type": "execute_result"
    }
   ],
   "source": [
    "X = np.column_stack([vector_data, extra_features])\n",
    "vector_data.shape, extra_features.shape, X.shape"
   ]
  },
  {
   "cell_type": "code",
   "execution_count": 80,
   "metadata": {
    "id": "0X6q8EsuhZTA"
   },
   "outputs": [],
   "source": [
    "y = datos_ejercicio[\"label\"].values.astype(np.float32) "
   ]
  },
  {
   "cell_type": "markdown",
   "metadata": {
    "id": "Y1EtZHFx7ij9"
   },
   "source": [
    "## Entrenamiento y evaluación de modelos\n"
   ]
  },
  {
   "cell_type": "code",
   "execution_count": 82,
   "metadata": {
    "colab": {
     "base_uri": "https://localhost:8080/"
    },
    "id": "iIpob9PGepB4",
    "outputId": "672f0018-a5f7-4cf2-96e5-0e7866f01ea4"
   },
   "outputs": [
    {
     "name": "stdout",
     "output_type": "stream",
     "text": [
      "Training dataset shape: (6000, 2716) (6000,)\n"
     ]
    }
   ],
   "source": [
    "# Comprobamos dimensiones\n",
    "print('Training dataset shape:', X_train.shape, y_train.shape)"
   ]
  },
  {
   "cell_type": "code",
   "execution_count": 83,
   "metadata": {
    "id": "N8zexAIht8mr"
   },
   "outputs": [],
   "source": [
    "from sklearn.model_selection import (KFold, cross_val_score, GridSearchCV, RandomizedSearchCV)\n",
    "import warnings\n",
    "\n",
    "def model_evaluation(models, score, X, y):\n",
    "  results = []\n",
    "  names = []\n",
    "\n",
    "  for name, model in models:\n",
    "    warnings.filterwarnings('ignore')\n",
    "\n",
    "    KF = KFold(n_splits = 10, shuffle =True, random_state = 23)\n",
    "\n",
    "    cv_results = cross_val_score(model, X, y, cv = KF, scoring = score, verbose = False)\n",
    "\n",
    "    results.append(cv_results)\n",
    "    names.append(name)\n",
    "\n",
    "    print(f'Metric: {str(score)} , KFold')\n",
    "    print(\"%s: %f (%f) \" % (name, cv_results.mean(), cv_results.std()))\n",
    "\n",
    "  return results, names"
   ]
  },
  {
   "cell_type": "code",
   "execution_count": null,
   "metadata": {
    "colab": {
     "base_uri": "https://localhost:8080/"
    },
    "id": "21VV8iLLvtE5",
    "outputId": "273f9fa7-3c41-49ca-aa1a-8cb39d1e4a5e"
   },
   "outputs": [
    {
     "name": "stdout",
     "output_type": "stream",
     "text": [
      "Metric: f1 , KFold\n",
      "Logistic: 0.481866 (0.045322) \n",
      "Metric: f1 , KFold\n",
      "GaussianNB: 0.395602 (0.030139) \n",
      "Metric: f1 , KFold\n",
      "DecissionTree: 0.640434 (0.037475) \n",
      "Metric: f1 , KFold\n",
      "SMV: 0.652939 (0.042305) \n"
     ]
    }
   ],
   "source": [
    "from sklearn.linear_model import LogisticRegression\n",
    "from sklearn.tree import DecisionTreeClassifier\n",
    "from sklearn.naive_bayes import GaussianNB\n",
    "from sklearn.svm import LinearSVC\n",
    "from sklearn.ensemble import RandomForestClassifier\n",
    "\n",
    "models = [('Logistic', LogisticRegression(random_state=30)),\n",
    "          ('GaussianNB', GaussianNB()),\n",
    "          ('DecissionTree', DecisionTreeClassifier()),\n",
    "          ('SMV', LinearSVC(class_weight = 'balanced' )),\n",
    "          ('Random Forest', RandomForestClassifier(random_state=42))]\n",
    "\n",
    "evaluation_score = \"f1\"\n",
    "\n",
    "model_evaluation(models, evaluation_score, X_train, y_train)"
   ]
  },
  {
   "cell_type": "markdown",
   "metadata": {
    "id": "QXt_C1Lpxfrz"
   },
   "source": [
    "Probando con 5 tipos de clasificadores distintos, el que mejor valor de f1 da por diferencia es el Random Forest, por lo que se procederá a observar las demas metricas de precision para tener una idea del comportamiento del modelo."
   ]
  },
  {
   "cell_type": "code",
   "execution_count": 55,
   "metadata": {
    "colab": {
     "base_uri": "https://localhost:8080/",
     "height": 466
    },
    "id": "bGdnR2tFx1W3",
    "outputId": "8e465787-6329-4b14-9b52-581b62856379"
   },
   "outputs": [
    {
     "data": {
      "text/plain": [
       "<sklearn.metrics._plot.confusion_matrix.ConfusionMatrixDisplay at 0x7f2c61b9e4d0>"
      ]
     },
     "execution_count": 55,
     "metadata": {},
     "output_type": "execute_result"
    },
    {
     "data": {
      "image/png": "[encoded data removed]",
      "text/plain": [
       "<Figure size 640x480 with 2 Axes>"
      ]
     },
     "metadata": {},
     "output_type": "display_data"
    }
   ],
   "source": [
    "from sklearn.metrics import confusion_matrix\n",
    "from sklearn.metrics import ConfusionMatrixDisplay\n",
    "\n",
    "modelo_ganador = RandomForestClassifier(random_state=42)\n",
    "modelo_ganador.fit(X_train, y_train)\n",
    "y_pred = modelo_ganador.predict(X_test)\n",
    "y_pred_rounded = np.round(y_pred, decimals=0)\n",
    "cm = confusion_matrix(y_test, y_pred_rounded)\n",
    "\n",
    "cm_display = ConfusionMatrixDisplay(cm).plot()\n",
    "cm_display\n"
   ]
  },
  {
   "cell_type": "markdown",
   "metadata": {
    "id": "JKJO1wT7rdgg"
   },
   "source": []
  },
  {
   "cell_type": "code",
   "execution_count": 56,
   "metadata": {
    "colab": {
     "base_uri": "https://localhost:8080/"
    },
    "id": "-l93VpNLjiJY",
    "outputId": "f69d9fce-66e0-4413-ab92-e8ea1a5949b0"
   },
   "outputs": [
    {
     "name": "stdout",
     "output_type": "stream",
     "text": [
      "              precision    recall  f1-score   support\n",
      "\n",
      "         0.0       0.96      0.84      0.90      1750\n",
      "         1.0       0.41      0.78      0.54       250\n",
      "\n",
      "    accuracy                           0.83      2000\n",
      "   macro avg       0.69      0.81      0.72      2000\n",
      "weighted avg       0.89      0.83      0.85      2000\n",
      "\n"
     ]
    }
   ],
   "source": [
    "from sklearn import metrics\n",
    "from sklearn.metrics import classification_report\n",
    "print(metrics.classification_report(y_pred_rounded, y_test))"
   ]
  },
  {
   "cell_type": "markdown",
   "metadata": {
    "id": "FCydKO46rdqj"
   },
   "source": [
    "El modelo es capaz de predecir satisfactoriamente los casos en los que no hay mención a profesiones (valores de 0 ), sin embargo, a la hora de predecir los casos en los que si hay mención a profesión el modelo no es capaz de predecir con la misma precisión los valores verdaderos de esta clase. Esto pasa debido a lo que se ha estado comentando desde un inicio, que la variable objetivo esta desbalanceada y el modelo requiere de un mayor numero de casos positivos para que pueda distinguir con mayor eficiencia estos.\n",
    "\n",
    "Se intentará balancear esta clase para contrastar si se obtienen mejores resultados de precisión."
   ]
  },
  {
   "cell_type": "code",
   "execution_count": 57,
   "metadata": {
    "colab": {
     "base_uri": "https://localhost:8080/"
    },
    "id": "Yx1sDQgRY5gZ",
    "outputId": "82983db0-d0a8-427a-ad41-609df33d3f9c"
   },
   "outputs": [
    {
     "name": "stdout",
     "output_type": "stream",
     "text": [
      "Accuracy: 0.845 (0.007)\n"
     ]
    }
   ],
   "source": [
    "from sklearn.model_selection import StratifiedKFold\n",
    "cv = StratifiedKFold(n_splits=5, shuffle=True, random_state=42)\n",
    "\n",
    "# Realiza la validación cruzada\n",
    "scores = cross_val_score(modelo_ganador, X_train, y_train, cv=cv, n_jobs=-1)\n",
    "\n",
    "# Evalúa el rendimiento del modelo\n",
    "print('Accuracy: %.3f (%.3f)' % (np.mean(scores), np.std(scores)))"
   ]
  },
  {
   "cell_type": "markdown",
   "metadata": {
    "id": "7v2bWTYujhVH"
   },
   "source": [
    "**Balanceo de la variable objetivo**"
   ]
  },
  {
   "cell_type": "code",
   "execution_count": 58,
   "metadata": {
    "id": "1uL_BoK5I-ec"
   },
   "outputs": [],
   "source": [
    "from imblearn.over_sampling import SMOTE\n",
    "# Creamos objeto SMOTE\n",
    "#sampling_strategy = {1: 6130, 0:6130}\n",
    "sm = SMOTE(random_state=25)\n",
    "# Aplicamos objeto SMOTE \n",
    "X_smote, y_smote = sm.fit_resample(X_train, y_train)"
   ]
  },
  {
   "cell_type": "code",
   "execution_count": 59,
   "metadata": {
    "colab": {
     "base_uri": "https://localhost:8080/"
    },
    "id": "pbWXBvc6kOT5",
    "outputId": "b0e55429-1a7b-4bc9-a961-d99d1a170091"
   },
   "outputs": [
    {
     "name": "stdout",
     "output_type": "stream",
     "text": [
      "After OverSampling, the shape of train_X: (6000, 486)\n",
      "After OverSampling, the shape of train_y: (6000,)\n",
      "Before OverSampling, counts of label '1': 1870\n",
      "Before OverSampling, counts of label '0': 6130\n",
      "After OverSampling, the shape of train_X: (9214, 486)\n",
      "After OverSampling, the shape of train_y: (9214,)\n",
      "After OverSampling, counts of label '1': 4607\n",
      "After OverSampling, counts of label '0': 4607\n"
     ]
    }
   ],
   "source": [
    "print('After OverSampling, the shape of train_X: {}'.format(X_train.shape))\n",
    "print('After OverSampling, the shape of train_y: {}'.format(y_train.shape))\n",
    "\n",
    "print(\"Before OverSampling, counts of label '1': {}\".format(sum(datos_ejercicio.label==1)))\n",
    "print(\"Before OverSampling, counts of label '0': {}\".format(sum(datos_ejercicio.label==0)))\n",
    "\n",
    "\n",
    "\n",
    "print('After OverSampling, the shape of train_X: {}'.format(X_smote.shape))\n",
    "print('After OverSampling, the shape of train_y: {}'.format(y_smote.shape))\n",
    "\n",
    "print(\"After OverSampling, counts of label '1': {}\".format(sum(y_smote==1)))\n",
    "print(\"After OverSampling, counts of label '0': {}\".format(sum(y_smote==0)))"
   ]
  },
  {
   "cell_type": "code",
   "execution_count": 60,
   "metadata": {
    "colab": {
     "base_uri": "https://localhost:8080/"
    },
    "id": "VbJsB7Z2j-z5",
    "outputId": "c4953182-5bea-4117-98b2-6fb6a18002a8"
   },
   "outputs": [
    {
     "name": "stdout",
     "output_type": "stream",
     "text": [
      "Metric: f1 , KFold\n",
      "Logistic: 0.778546 (0.016074) \n",
      "Metric: f1 , KFold\n",
      "GaussianNB: 0.751701 (0.016661) \n",
      "Metric: f1 , KFold\n",
      "DecissionTree: 0.836991 (0.013193) \n",
      "Metric: f1 , KFold\n",
      "SMV: 0.782797 (0.023193) \n",
      "Metric: f1 , KFold\n",
      "Random Forest: 0.900164 (0.010338) \n"
     ]
    },
    {
     "data": {
      "text/plain": [
       "([array([0.78611422, 0.77434135, 0.77483444, 0.78290214, 0.75963719,\n",
       "         0.77375566, 0.81497797, 0.75175644, 0.78329571, 0.78384279]),\n",
       "  array([0.76623377, 0.73532669, 0.75757576, 0.75687104, 0.74433657,\n",
       "         0.73456121, 0.78518519, 0.72489083, 0.7537797 , 0.75825346]),\n",
       "  array([0.83905579, 0.83552632, 0.83696781, 0.84582441, 0.84473398,\n",
       "         0.81767956, 0.86554622, 0.81737194, 0.8336933 , 0.83351007]),\n",
       "  array([0.80174292, 0.76779463, 0.79443255, 0.79510022, 0.7688734 ,\n",
       "         0.7323601 , 0.82154171, 0.78280543, 0.77010193, 0.79321315]),\n",
       "  array([0.90033595, 0.89906103, 0.90849673, 0.89491525, 0.91240046,\n",
       "         0.8960739 , 0.92087912, 0.88604651, 0.89576174, 0.8876652 ])],\n",
       " ['Logistic', 'GaussianNB', 'DecissionTree', 'SMV', 'Random Forest'])"
      ]
     },
     "execution_count": 60,
     "metadata": {},
     "output_type": "execute_result"
    }
   ],
   "source": [
    "model_evaluation(models, evaluation_score, X_smote, y_smote)"
   ]
  },
  {
   "cell_type": "markdown",
   "metadata": {
    "id": "4-fgK7xRsnWs"
   },
   "source": [
    "Al balancear las categorías en el conjunto de prueba utilizando el método Over Samppling, se observa que ahora el modelo que mejor resultados obtiene sigue siendo el Random Forest, mejorando considerablemente el f1 score del modelo ganador cuando las categorías de la variable objetivo no estaban balanceadas."
   ]
  },
  {
   "cell_type": "code",
   "execution_count": 61,
   "metadata": {
    "colab": {
     "base_uri": "https://localhost:8080/",
     "height": 466
    },
    "id": "j-SKZ6G1oqZq",
    "outputId": "63c1076c-f204-4472-db4f-a4f92db9e69e"
   },
   "outputs": [
    {
     "data": {
      "text/plain": [
       "<sklearn.metrics._plot.confusion_matrix.ConfusionMatrixDisplay at 0x7f2c607a5de0>"
      ]
     },
     "execution_count": 61,
     "metadata": {},
     "output_type": "execute_result"
    },
    {
     "data": {
      "image/png": "[encoded data removed]",
      "text/plain": [
       "<Figure size 640x480 with 2 Axes>"
      ]
     },
     "metadata": {},
     "output_type": "display_data"
    }
   ],
   "source": [
    "modelo_ranFor = RandomForestClassifier(random_state=35)\n",
    "modelo_ranFor.fit(X_smote, y_smote)\n",
    "y_pred_sm = modelo_ranFor.predict(X_test)\n",
    "y_pred_rounded_sm = np.round(y_pred_sm, decimals=0)\n",
    "cm = confusion_matrix(y_test, y_pred_rounded_sm)\n",
    "\n",
    "cm_display = ConfusionMatrixDisplay(cm).plot()\n",
    "cm_display\n"
   ]
  },
  {
   "cell_type": "code",
   "execution_count": 62,
   "metadata": {
    "colab": {
     "base_uri": "https://localhost:8080/"
    },
    "id": "pxrP92XGoxVa",
    "outputId": "4cb532a9-dc8b-43ca-ebfd-63e8b12db166"
   },
   "outputs": [
    {
     "name": "stdout",
     "output_type": "stream",
     "text": [
      "              precision    recall  f1-score   support\n",
      "\n",
      "         0.0       0.94      0.85      0.89      1695\n",
      "         1.0       0.45      0.71      0.55       305\n",
      "\n",
      "    accuracy                           0.83      2000\n",
      "   macro avg       0.70      0.78      0.72      2000\n",
      "weighted avg       0.87      0.83      0.84      2000\n",
      "\n"
     ]
    }
   ],
   "source": [
    "print(metrics.classification_report(y_pred_rounded_sm, y_test))"
   ]
  },
  {
   "cell_type": "code",
   "execution_count": 63,
   "metadata": {
    "colab": {
     "base_uri": "https://localhost:8080/",
     "height": 472
    },
    "id": "WcE6rRDMtXV-",
    "outputId": "390776e1-89e0-419d-eebb-1e7ee1acf447"
   },
   "outputs": [
    {
     "data": {
      "image/png": "[encoded data removed]",
      "text/plain": [
       "<Figure size 640x480 with 1 Axes>"
      ]
     },
     "metadata": {},
     "output_type": "display_data"
    }
   ],
   "source": [
    "predicciones = modelo_ranFor.predict_proba(X_test)\n",
    "pred = predicciones[:, 1]\n",
    "fpr, tpr, threshold = metrics.roc_curve(y_test, pred)\n",
    "roc_auc = metrics.auc(fpr, tpr)\n",
    "\n",
    "plt.title('Curva ROC')\n",
    "plt.plot(fpr, tpr, 'b', label= 'AUC+%0.2f' % roc_auc)\n",
    "plt.legend(loc='lower right')\n",
    "plt.plot([0,1], [0,1], 'r--')\n",
    "plt.xlim([0,1])\n",
    "plt.ylim([0,1])\n",
    "plt.ylabel('True Positive Rate')\n",
    "plt.xlabel('False Positive Rate')\n",
    "plt.show();"
   ]
  },
  {
   "cell_type": "code",
   "execution_count": 64,
   "metadata": {
    "colab": {
     "base_uri": "https://localhost:8080/"
    },
    "id": "AghaU4Mtt92Y",
    "outputId": "5d2d82eb-5745-4313-882d-e29179d2b44b"
   },
   "outputs": [
    {
     "name": "stdout",
     "output_type": "stream",
     "text": [
      "Accuracy: 0.902 (0.005)\n"
     ]
    }
   ],
   "source": [
    "from sklearn.model_selection import StratifiedKFold\n",
    "cv = StratifiedKFold(n_splits=5, shuffle=True, random_state=42)\n",
    "\n",
    "# Realiza la validación cruzada\n",
    "scores = cross_val_score(modelo_ranFor, X_smote, y_smote, cv=cv, n_jobs=-1)\n",
    "\n",
    "# Evalúa el rendimiento del modelo\n",
    "print('Accuracy: %.3f (%.3f)' % (np.mean(scores), np.std(scores)))"
   ]
  },
  {
   "cell_type": "markdown",
   "metadata": {
    "id": "BFbfT5VltYIn"
   },
   "source": [
    "Se observa que los resultados en efecto mejoran al balancear las clases, pero esto a nivel de entrenamiento, ya que, al probar nuevamente los resultados con el conjunto de test, los resultados son un pelo mejor, especificamente 0,01 puntos emjor en cuanto a la metrica de f1, señal de que el modelo podria estar sobre ajustado. Es posible que con otros valores de prueba se obtengan mejores resultados, pero con los que se cuentan no se tuvo esta suerte."
   ]
  },
  {
   "cell_type": "code",
   "execution_count": 65,
   "metadata": {
    "id": "OVlTY2q6nus6"
   },
   "outputs": [],
   "source": [
    "from sklearn.model_selection import GridSearchCV\n",
    "grid_param = {\n",
    "    'n_estimators': [30, 50, 100, 200],\n",
    "    'criterion': ['gini', 'entropy'],\n",
    "    'bootstrap': [True, False],\n",
    "    'max_depth': [20,22,24]\n",
    "}\n",
    "\n",
    "modelo_ranFor_tuned = RandomForestClassifier().fit(X_smote, y_smote)\n",
    "model_grid_smoted = GridSearchCV(estimator=modelo_ranFor_tuned,\n",
    "                     param_grid=grid_param,\n",
    "                     scoring='f1',\n",
    "                     cv=5,\n",
    "                     n_jobs=-1)"
   ]
  },
  {
   "cell_type": "code",
   "execution_count": 66,
   "metadata": {
    "colab": {
     "base_uri": "https://localhost:8080/",
     "height": 118
    },
    "id": "GNUq-Z01ufJf",
    "outputId": "87e5281e-6d62-4e39-e3ce-b7264f7b3596"
   },
   "outputs": [
    {
     "data": {
      "text/html": [
       "<style>#sk-container-id-1 {color: black;background-color: white;}#sk-container-id-1 pre{padding: 0;}#sk-container-id-1 div.sk-toggleable {background-color: white;}#sk-container-id-1 label.sk-toggleable__label {cursor: pointer;display: block;width: 100%;margin-bottom: 0;padding: 0.3em;box-sizing: border-box;text-align: center;}#sk-container-id-1 label.sk-toggleable__label-arrow:before {content: \"▸\";float: left;margin-right: 0.25em;color: #696969;}#sk-container-id-1 label.sk-toggleable__label-arrow:hover:before {color: black;}#sk-container-id-1 div.sk-estimator:hover label.sk-toggleable__label-arrow:before {color: black;}#sk-container-id-1 div.sk-toggleable__content {max-height: 0;max-width: 0;overflow: hidden;text-align: left;background-color: #f0f8ff;}#sk-container-id-1 div.sk-toggleable__content pre {margin: 0.2em;color: black;border-radius: 0.25em;background-color: #f0f8ff;}#sk-container-id-1 input.sk-toggleable__control:checked~div.sk-toggleable__content {max-height: 200px;max-width: 100%;overflow: auto;}#sk-container-id-1 input.sk-toggleable__control:checked~label.sk-toggleable__label-arrow:before {content: \"▾\";}#sk-container-id-1 div.sk-estimator input.sk-toggleable__control:checked~label.sk-toggleable__label {background-color: #d4ebff;}#sk-container-id-1 div.sk-label input.sk-toggleable__control:checked~label.sk-toggleable__label {background-color: #d4ebff;}#sk-container-id-1 input.sk-hidden--visually {border: 0;clip: rect(1px 1px 1px 1px);clip: rect(1px, 1px, 1px, 1px);height: 1px;margin: -1px;overflow: hidden;padding: 0;position: absolute;width: 1px;}#sk-container-id-1 div.sk-estimator {font-family: monospace;background-color: #f0f8ff;border: 1px dotted black;border-radius: 0.25em;box-sizing: border-box;margin-bottom: 0.5em;}#sk-container-id-1 div.sk-estimator:hover {background-color: #d4ebff;}#sk-container-id-1 div.sk-parallel-item::after {content: \"\";width: 100%;border-bottom: 1px solid gray;flex-grow: 1;}#sk-container-id-1 div.sk-label:hover label.sk-toggleable__label {background-color: #d4ebff;}#sk-container-id-1 div.sk-serial::before {content: \"\";position: absolute;border-left: 1px solid gray;box-sizing: border-box;top: 0;bottom: 0;left: 50%;z-index: 0;}#sk-container-id-1 div.sk-serial {display: flex;flex-direction: column;align-items: center;background-color: white;padding-right: 0.2em;padding-left: 0.2em;position: relative;}#sk-container-id-1 div.sk-item {position: relative;z-index: 1;}#sk-container-id-1 div.sk-parallel {display: flex;align-items: stretch;justify-content: center;background-color: white;position: relative;}#sk-container-id-1 div.sk-item::before, #sk-container-id-1 div.sk-parallel-item::before {content: \"\";position: absolute;border-left: 1px solid gray;box-sizing: border-box;top: 0;bottom: 0;left: 50%;z-index: -1;}#sk-container-id-1 div.sk-parallel-item {display: flex;flex-direction: column;z-index: 1;position: relative;background-color: white;}#sk-container-id-1 div.sk-parallel-item:first-child::after {align-self: flex-end;width: 50%;}#sk-container-id-1 div.sk-parallel-item:last-child::after {align-self: flex-start;width: 50%;}#sk-container-id-1 div.sk-parallel-item:only-child::after {width: 0;}#sk-container-id-1 div.sk-dashed-wrapped {border: 1px dashed gray;margin: 0 0.4em 0.5em 0.4em;box-sizing: border-box;padding-bottom: 0.4em;background-color: white;}#sk-container-id-1 div.sk-label label {font-family: monospace;font-weight: bold;display: inline-block;line-height: 1.2em;}#sk-container-id-1 div.sk-label-container {text-align: center;}#sk-container-id-1 div.sk-container {/* jupyter's `normalize.less` sets `[hidden] { display: none; }` but bootstrap.min.css set `[hidden] { display: none !important; }` so we also need the `!important` here to be able to override the default hidden behavior on the sphinx rendered scikit-learn.org. See: https://github.com/scikit-learn/scikit-learn/issues/21755 */display: inline-block !important;position: relative;}#sk-container-id-1 div.sk-text-repr-fallback {display: none;}</style><div id=\"sk-container-id-1\" class=\"sk-top-container\"><div class=\"sk-text-repr-fallback\"><pre>GridSearchCV(cv=5, estimator=RandomForestClassifier(), n_jobs=-1,\n",
       "             param_grid={&#x27;bootstrap&#x27;: [True, False],\n",
       "                         &#x27;criterion&#x27;: [&#x27;gini&#x27;, &#x27;entropy&#x27;],\n",
       "                         &#x27;max_depth&#x27;: [20, 22, 24],\n",
       "                         &#x27;n_estimators&#x27;: [30, 50, 100, 200]},\n",
       "             scoring=&#x27;f1&#x27;)</pre><b>In a Jupyter environment, please rerun this cell to show the HTML representation or trust the notebook. <br />On GitHub, the HTML representation is unable to render, please try loading this page with nbviewer.org.</b></div><div class=\"sk-container\" hidden><div class=\"sk-item sk-dashed-wrapped\"><div class=\"sk-label-container\"><div class=\"sk-label sk-toggleable\"><input class=\"sk-toggleable__control sk-hidden--visually\" id=\"sk-estimator-id-1\" type=\"checkbox\" ><label for=\"sk-estimator-id-1\" class=\"sk-toggleable__label sk-toggleable__label-arrow\">GridSearchCV</label><div class=\"sk-toggleable__content\"><pre>GridSearchCV(cv=5, estimator=RandomForestClassifier(), n_jobs=-1,\n",
       "             param_grid={&#x27;bootstrap&#x27;: [True, False],\n",
       "                         &#x27;criterion&#x27;: [&#x27;gini&#x27;, &#x27;entropy&#x27;],\n",
       "                         &#x27;max_depth&#x27;: [20, 22, 24],\n",
       "                         &#x27;n_estimators&#x27;: [30, 50, 100, 200]},\n",
       "             scoring=&#x27;f1&#x27;)</pre></div></div></div><div class=\"sk-parallel\"><div class=\"sk-parallel-item\"><div class=\"sk-item\"><div class=\"sk-label-container\"><div class=\"sk-label sk-toggleable\"><input class=\"sk-toggleable__control sk-hidden--visually\" id=\"sk-estimator-id-2\" type=\"checkbox\" ><label for=\"sk-estimator-id-2\" class=\"sk-toggleable__label sk-toggleable__label-arrow\">estimator: RandomForestClassifier</label><div class=\"sk-toggleable__content\"><pre>RandomForestClassifier()</pre></div></div></div><div class=\"sk-serial\"><div class=\"sk-item\"><div class=\"sk-estimator sk-toggleable\"><input class=\"sk-toggleable__control sk-hidden--visually\" id=\"sk-estimator-id-3\" type=\"checkbox\" ><label for=\"sk-estimator-id-3\" class=\"sk-toggleable__label sk-toggleable__label-arrow\">RandomForestClassifier</label><div class=\"sk-toggleable__content\"><pre>RandomForestClassifier()</pre></div></div></div></div></div></div></div></div></div></div>"
      ],
      "text/plain": [
       "GridSearchCV(cv=5, estimator=RandomForestClassifier(), n_jobs=-1,\n",
       "             param_grid={'bootstrap': [True, False],\n",
       "                         'criterion': ['gini', 'entropy'],\n",
       "                         'max_depth': [20, 22, 24],\n",
       "                         'n_estimators': [30, 50, 100, 200]},\n",
       "             scoring='f1')"
      ]
     },
     "execution_count": 66,
     "metadata": {},
     "output_type": "execute_result"
    }
   ],
   "source": [
    "model_grid_smoted.fit(X_smote, y_smote)"
   ]
  },
  {
   "cell_type": "code",
   "execution_count": 67,
   "metadata": {
    "colab": {
     "base_uri": "https://localhost:8080/"
    },
    "id": "MCCNs3gAutyP",
    "outputId": "b054f99b-4a4d-49b0-9ebd-e1b6af53e927"
   },
   "outputs": [
    {
     "name": "stdout",
     "output_type": "stream",
     "text": [
      "{'bootstrap': False, 'criterion': 'gini', 'max_depth': 24, 'n_estimators': 50}\n"
     ]
    }
   ],
   "source": [
    "print(model_grid_smoted.best_params_)"
   ]
  },
  {
   "cell_type": "code",
   "execution_count": 68,
   "metadata": {
    "colab": {
     "base_uri": "https://localhost:8080/"
    },
    "id": "kzWbjc9yuuWZ",
    "outputId": "dcf56d3d-8076-47cc-fada-3e08ef5f8490"
   },
   "outputs": [
    {
     "name": "stdout",
     "output_type": "stream",
     "text": [
      "0.8616109626343249\n"
     ]
    }
   ],
   "source": [
    "print(model_grid_smoted.best_score_)"
   ]
  },
  {
   "cell_type": "markdown",
   "metadata": {
    "id": "rb3EBaxTqYNq"
   },
   "source": [
    "\n",
    "Obteniendo los mejores hiperparametros para el modelo que mejor resultados arroja tras hacer las distintas validaciones, se vuelven a probar los valores predictivos del nuevo modelo tuneado."
   ]
  },
  {
   "cell_type": "markdown",
   "metadata": {
    "id": "ivKDLJ98OoVS"
   },
   "source": [
    "Modelo Random Forest Tuneado."
   ]
  },
  {
   "cell_type": "code",
   "execution_count": 69,
   "metadata": {
    "colab": {
     "base_uri": "https://localhost:8080/",
     "height": 466
    },
    "id": "TaocTPOouU0p",
    "outputId": "29393209-decc-457a-c423-43cc89d22ba8"
   },
   "outputs": [
    {
     "data": {
      "text/plain": [
       "<sklearn.metrics._plot.confusion_matrix.ConfusionMatrixDisplay at 0x7f2c61d78bb0>"
      ]
     },
     "execution_count": 69,
     "metadata": {},
     "output_type": "execute_result"
    },
    {
     "data": {
      "image/png": "[encoded data removed]",
      "text/plain": [
       "<Figure size 640x480 with 2 Axes>"
      ]
     },
     "metadata": {},
     "output_type": "display_data"
    }
   ],
   "source": [
    "modelo_ran_tuned = RandomForestClassifier(bootstrap = False, criterion= 'gini', max_depth= 24, n_estimators= 50).fit(X_smote, y_smote)\n",
    "y_pred_tuned = modelo_ran_tuned.predict(X_test)\n",
    "y_pred_rounded_tuned = np.round(y_pred_tuned, decimals=0)\n",
    "cm = confusion_matrix(y_test, y_pred_rounded_tuned)\n",
    "\n",
    "cm_display = ConfusionMatrixDisplay(cm).plot()\n",
    "cm_display"
   ]
  },
  {
   "cell_type": "code",
   "execution_count": 70,
   "metadata": {
    "colab": {
     "base_uri": "https://localhost:8080/"
    },
    "id": "zk53z5qwivmq",
    "outputId": "99bc4c8e-7e37-48c2-8afc-5b8323f82a52"
   },
   "outputs": [
    {
     "name": "stdout",
     "output_type": "stream",
     "text": [
      "              precision    recall  f1-score   support\n",
      "\n",
      "         0.0       0.95      0.85      0.90      1714\n",
      "         1.0       0.45      0.75      0.56       286\n",
      "\n",
      "    accuracy                           0.83      2000\n",
      "   macro avg       0.70      0.80      0.73      2000\n",
      "weighted avg       0.88      0.83      0.85      2000\n",
      "\n"
     ]
    }
   ],
   "source": [
    "print(metrics.classification_report(y_pred_rounded_tuned, y_test))"
   ]
  },
  {
   "cell_type": "code",
   "execution_count": 72,
   "metadata": {
    "colab": {
     "base_uri": "https://localhost:8080/",
     "height": 472
    },
    "id": "K1KQbAOCidxM",
    "outputId": "274b775f-1a2e-4009-b6e2-ef5ce8e5b585"
   },
   "outputs": [
    {
     "data": {
      "image/png": "[encoded data removed]",
      "text/plain": [
       "<Figure size 640x480 with 1 Axes>"
      ]
     },
     "metadata": {},
     "output_type": "display_data"
    }
   ],
   "source": [
    "predicciones = modelo_ran_tuned.predict_proba(X_test)\n",
    "pred = predicciones[:, 1]\n",
    "fpr, tpr, threshold = metrics.roc_curve(y_test, pred)\n",
    "roc_auc = metrics.auc(fpr, tpr)\n",
    "\n",
    "plt.title('Curva ROC')\n",
    "plt.plot(fpr, tpr, 'b', label= 'AUC+%0.2f' % roc_auc)\n",
    "plt.legend(loc='lower right')\n",
    "plt.plot([0,1], [0,1], 'r--')\n",
    "plt.xlim([0,1])\n",
    "plt.ylim([0,1])\n",
    "plt.ylabel('True Positive Rate')\n",
    "plt.xlabel('False Positive Rate')\n",
    "plt.show();"
   ]
  },
  {
   "cell_type": "markdown",
   "metadata": {
    "id": "sLSTE9abv7Lk"
   },
   "source": [
    "El modelo reconoce mejor ahora la clase positiva, pero se sacrifico o disminuyo la precision en cuanto a la clase negativa. Se aumenta el valor del f1 score, lo que quiere decir que las precisiones de clase estan mas balanceadas y en general el modelo predice muy bien, pero existe margen de mejora."
   ]
  }
 ],
 "metadata": {
  "colab": {
   "provenance": []
  },
  "kernelspec": {
   "display_name": "Python 3 (ipykernel)",
   "language": "python",
   "name": "python3"
  },
  "language_info": {
   "codemirror_mode": {
    "name": "ipython",
    "version": 3
   },
   "file_extension": ".py",
   "mimetype": "text/x-python",
   "name": "python",
   "nbconvert_exporter": "python",
   "pygments_lexer": "ipython3",
   "version": "3.9.12"
  },
  "widgets": {
   "application/vnd.jupyter.widget-state+json": {
    "0060894f59ef4286ac71521afc416fdf": {
     "model_module": "@jupyter-widgets/controls",
     "model_module_version": "1.5.0",
     "model_name": "FloatProgressModel",
     "state": {
      "_dom_classes": [],
      "_model_module": "@jupyter-widgets/controls",
      "_model_module_version": "1.5.0",
      "_model_name": "FloatProgressModel",
      "_view_count": null,
      "_view_module": "@jupyter-widgets/controls",
      "_view_module_version": "1.5.0",
      "_view_name": "ProgressView",
      "bar_style": "success",
      "description": "",
      "description_tooltip": null,
      "layout": "IPY_MODEL_e53baa5da4bc48f589f89b7f59236a1a",
      "max": 8000,
      "min": 0,
      "orientation": "horizontal",
      "style": "IPY_MODEL_45dea2190cc2473eaea0fea945af8d99",
      "value": 8000
     }
    },
    "01aa7897f08741798fc52a3bb2858293": {
     "model_module": "@jupyter-widgets/base",
     "model_module_version": "1.2.0",
     "model_name": "LayoutModel",
     "state": {
      "_model_module": "@jupyter-widgets/base",
      "_model_module_version": "1.2.0",
      "_model_name": "LayoutModel",
      "_view_count": null,
      "_view_module": "@jupyter-widgets/base",
      "_view_module_version": "1.2.0",
      "_view_name": "LayoutView",
      "align_content": null,
      "align_items": null,
      "align_self": null,
      "border": null,
      "bottom": null,
      "display": null,
      "flex": null,
      "flex_flow": null,
      "grid_area": null,
      "grid_auto_columns": null,
      "grid_auto_flow": null,
      "grid_auto_rows": null,
      "grid_column": null,
      "grid_gap": null,
      "grid_row": null,
      "grid_template_areas": null,
      "grid_template_columns": null,
      "grid_template_rows": null,
      "height": null,
      "justify_content": null,
      "justify_items": null,
      "left": null,
      "margin": null,
      "max_height": null,
      "max_width": null,
      "min_height": null,
      "min_width": null,
      "object_fit": null,
      "object_position": null,
      "order": null,
      "overflow": null,
      "overflow_x": null,
      "overflow_y": null,
      "padding": null,
      "right": null,
      "top": null,
      "visibility": null,
      "width": null
     }
    },
    "0b5267aafc5341f1a9b9750bb7f09522": {
     "model_module": "@jupyter-widgets/controls",
     "model_module_version": "1.5.0",
     "model_name": "DescriptionStyleModel",
     "state": {
      "_model_module": "@jupyter-widgets/controls",
      "_model_module_version": "1.5.0",
      "_model_name": "DescriptionStyleModel",
      "_view_count": null,
      "_view_module": "@jupyter-widgets/base",
      "_view_module_version": "1.2.0",
      "_view_name": "StyleView",
      "description_width": ""
     }
    },
    "0b8a3faccb284f5e842de3516ae753fe": {
     "model_module": "@jupyter-widgets/base",
     "model_module_version": "1.2.0",
     "model_name": "LayoutModel",
     "state": {
      "_model_module": "@jupyter-widgets/base",
      "_model_module_version": "1.2.0",
      "_model_name": "LayoutModel",
      "_view_count": null,
      "_view_module": "@jupyter-widgets/base",
      "_view_module_version": "1.2.0",
      "_view_name": "LayoutView",
      "align_content": null,
      "align_items": null,
      "align_self": null,
      "border": null,
      "bottom": null,
      "display": null,
      "flex": null,
      "flex_flow": null,
      "grid_area": null,
      "grid_auto_columns": null,
      "grid_auto_flow": null,
      "grid_auto_rows": null,
      "grid_column": null,
      "grid_gap": null,
      "grid_row": null,
      "grid_template_areas": null,
      "grid_template_columns": null,
      "grid_template_rows": null,
      "height": null,
      "justify_content": null,
      "justify_items": null,
      "left": null,
      "margin": null,
      "max_height": null,
      "max_width": null,
      "min_height": null,
      "min_width": null,
      "object_fit": null,
      "object_position": null,
      "order": null,
      "overflow": null,
      "overflow_x": null,
      "overflow_y": null,
      "padding": null,
      "right": null,
      "top": null,
      "visibility": null,
      "width": null
     }
    },
    "0c252b9cf4a94b5aa53813a2fdc95b67": {
     "model_module": "@jupyter-widgets/base",
     "model_module_version": "1.2.0",
     "model_name": "LayoutModel",
     "state": {
      "_model_module": "@jupyter-widgets/base",
      "_model_module_version": "1.2.0",
      "_model_name": "LayoutModel",
      "_view_count": null,
      "_view_module": "@jupyter-widgets/base",
      "_view_module_version": "1.2.0",
      "_view_name": "LayoutView",
      "align_content": null,
      "align_items": null,
      "align_self": null,
      "border": null,
      "bottom": null,
      "display": null,
      "flex": null,
      "flex_flow": null,
      "grid_area": null,
      "grid_auto_columns": null,
      "grid_auto_flow": null,
      "grid_auto_rows": null,
      "grid_column": null,
      "grid_gap": null,
      "grid_row": null,
      "grid_template_areas": null,
      "grid_template_columns": null,
      "grid_template_rows": null,
      "height": null,
      "justify_content": null,
      "justify_items": null,
      "left": null,
      "margin": null,
      "max_height": null,
      "max_width": null,
      "min_height": null,
      "min_width": null,
      "object_fit": null,
      "object_position": null,
      "order": null,
      "overflow": null,
      "overflow_x": null,
      "overflow_y": null,
      "padding": null,
      "right": null,
      "top": null,
      "visibility": null,
      "width": null
     }
    },
    "188ea5d06e1d42d6bd53b8912530ecdd": {
     "model_module": "@jupyter-widgets/controls",
     "model_module_version": "1.5.0",
     "model_name": "HTMLModel",
     "state": {
      "_dom_classes": [],
      "_model_module": "@jupyter-widgets/controls",
      "_model_module_version": "1.5.0",
      "_model_name": "HTMLModel",
      "_view_count": null,
      "_view_module": "@jupyter-widgets/controls",
      "_view_module_version": "1.5.0",
      "_view_name": "HTMLView",
      "description": "",
      "description_tooltip": null,
      "layout": "IPY_MODEL_f5cd2c5c9543451b9c6f9cd1207e90f1",
      "placeholder": "​",
      "style": "IPY_MODEL_cf7722c6258048d78e6459bcc5902ec3",
      "value": "100%"
     }
    },
    "194174757f0a4dd5b83b64e04a8f6d55": {
     "model_module": "@jupyter-widgets/controls",
     "model_module_version": "1.5.0",
     "model_name": "FloatProgressModel",
     "state": {
      "_dom_classes": [],
      "_model_module": "@jupyter-widgets/controls",
      "_model_module_version": "1.5.0",
      "_model_name": "FloatProgressModel",
      "_view_count": null,
      "_view_module": "@jupyter-widgets/controls",
      "_view_module_version": "1.5.0",
      "_view_name": "ProgressView",
      "bar_style": "success",
      "description": "",
      "description_tooltip": null,
      "layout": "IPY_MODEL_b33fe17a3c734fb2a1d92b2b866315b0",
      "max": 8000,
      "min": 0,
      "orientation": "horizontal",
      "style": "IPY_MODEL_6d9eacac8d6d479ea21a2dabb8baeab5",
      "value": 8000
     }
    },
    "1eaff0a1d60f4cb49fc9cbcf693bf9c9": {
     "model_module": "@jupyter-widgets/controls",
     "model_module_version": "1.5.0",
     "model_name": "HBoxModel",
     "state": {
      "_dom_classes": [],
      "_model_module": "@jupyter-widgets/controls",
      "_model_module_version": "1.5.0",
      "_model_name": "HBoxModel",
      "_view_count": null,
      "_view_module": "@jupyter-widgets/controls",
      "_view_module_version": "1.5.0",
      "_view_name": "HBoxView",
      "box_style": "",
      "children": [
       "IPY_MODEL_9390e764c6ef47a6870ff41e0ffa06a0",
       "IPY_MODEL_0060894f59ef4286ac71521afc416fdf",
       "IPY_MODEL_6a87d8526d2a40878ed22a6e7f84b892"
      ],
      "layout": "IPY_MODEL_c19a9ee07d3a4c23bc5c0f2976fab16c"
     }
    },
    "268fbb3ab2b0451891e97c3b3e9bf160": {
     "model_module": "@jupyter-widgets/base",
     "model_module_version": "1.2.0",
     "model_name": "LayoutModel",
     "state": {
      "_model_module": "@jupyter-widgets/base",
      "_model_module_version": "1.2.0",
      "_model_name": "LayoutModel",
      "_view_count": null,
      "_view_module": "@jupyter-widgets/base",
      "_view_module_version": "1.2.0",
      "_view_name": "LayoutView",
      "align_content": null,
      "align_items": null,
      "align_self": null,
      "border": null,
      "bottom": null,
      "display": null,
      "flex": null,
      "flex_flow": null,
      "grid_area": null,
      "grid_auto_columns": null,
      "grid_auto_flow": null,
      "grid_auto_rows": null,
      "grid_column": null,
      "grid_gap": null,
      "grid_row": null,
      "grid_template_areas": null,
      "grid_template_columns": null,
      "grid_template_rows": null,
      "height": null,
      "justify_content": null,
      "justify_items": null,
      "left": null,
      "margin": null,
      "max_height": null,
      "max_width": null,
      "min_height": null,
      "min_width": null,
      "object_fit": null,
      "object_position": null,
      "order": null,
      "overflow": null,
      "overflow_x": null,
      "overflow_y": null,
      "padding": null,
      "right": null,
      "top": null,
      "visibility": null,
      "width": null
     }
    },
    "3c5ecc3c706e4c9ea73e72966f0bc952": {
     "model_module": "@jupyter-widgets/controls",
     "model_module_version": "1.5.0",
     "model_name": "DescriptionStyleModel",
     "state": {
      "_model_module": "@jupyter-widgets/controls",
      "_model_module_version": "1.5.0",
      "_model_name": "DescriptionStyleModel",
      "_view_count": null,
      "_view_module": "@jupyter-widgets/base",
      "_view_module_version": "1.2.0",
      "_view_name": "StyleView",
      "description_width": ""
     }
    },
    "4014f3b6d1b4423fa3febf1bbc3ce53e": {
     "model_module": "@jupyter-widgets/controls",
     "model_module_version": "1.5.0",
     "model_name": "HTMLModel",
     "state": {
      "_dom_classes": [],
      "_model_module": "@jupyter-widgets/controls",
      "_model_module_version": "1.5.0",
      "_model_name": "HTMLModel",
      "_view_count": null,
      "_view_module": "@jupyter-widgets/controls",
      "_view_module_version": "1.5.0",
      "_view_name": "HTMLView",
      "description": "",
      "description_tooltip": null,
      "layout": "IPY_MODEL_a32ab5dd426746b2a20eadd8b19e778a",
      "placeholder": "​",
      "style": "IPY_MODEL_3c5ecc3c706e4c9ea73e72966f0bc952",
      "value": "100%"
     }
    },
    "45dea2190cc2473eaea0fea945af8d99": {
     "model_module": "@jupyter-widgets/controls",
     "model_module_version": "1.5.0",
     "model_name": "ProgressStyleModel",
     "state": {
      "_model_module": "@jupyter-widgets/controls",
      "_model_module_version": "1.5.0",
      "_model_name": "ProgressStyleModel",
      "_view_count": null,
      "_view_module": "@jupyter-widgets/base",
      "_view_module_version": "1.2.0",
      "_view_name": "StyleView",
      "bar_color": null,
      "description_width": ""
     }
    },
    "4be4e987091949f8875b58f0122fe859": {
     "model_module": "@jupyter-widgets/controls",
     "model_module_version": "1.5.0",
     "model_name": "HBoxModel",
     "state": {
      "_dom_classes": [],
      "_model_module": "@jupyter-widgets/controls",
      "_model_module_version": "1.5.0",
      "_model_name": "HBoxModel",
      "_view_count": null,
      "_view_module": "@jupyter-widgets/controls",
      "_view_module_version": "1.5.0",
      "_view_name": "HBoxView",
      "box_style": "",
      "children": [
       "IPY_MODEL_188ea5d06e1d42d6bd53b8912530ecdd",
       "IPY_MODEL_8826565153b349849b50692624980e46",
       "IPY_MODEL_e8b1ee158fcb421791f95473ef9905c9"
      ],
      "layout": "IPY_MODEL_7e700233eb994a05a8e6a3fea6f6725a"
     }
    },
    "54eddd1f9af247c2b491a3cac82a3a79": {
     "model_module": "@jupyter-widgets/controls",
     "model_module_version": "1.5.0",
     "model_name": "DescriptionStyleModel",
     "state": {
      "_model_module": "@jupyter-widgets/controls",
      "_model_module_version": "1.5.0",
      "_model_name": "DescriptionStyleModel",
      "_view_count": null,
      "_view_module": "@jupyter-widgets/base",
      "_view_module_version": "1.2.0",
      "_view_name": "StyleView",
      "description_width": ""
     }
    },
    "5c459ab33e8d4ba5a0c0cf75d1fbbbe1": {
     "model_module": "@jupyter-widgets/controls",
     "model_module_version": "1.5.0",
     "model_name": "ProgressStyleModel",
     "state": {
      "_model_module": "@jupyter-widgets/controls",
      "_model_module_version": "1.5.0",
      "_model_name": "ProgressStyleModel",
      "_view_count": null,
      "_view_module": "@jupyter-widgets/base",
      "_view_module_version": "1.2.0",
      "_view_name": "StyleView",
      "bar_color": null,
      "description_width": ""
     }
    },
    "6050cb5293e943ae914fb832b05387f8": {
     "model_module": "@jupyter-widgets/controls",
     "model_module_version": "1.5.0",
     "model_name": "HBoxModel",
     "state": {
      "_dom_classes": [],
      "_model_module": "@jupyter-widgets/controls",
      "_model_module_version": "1.5.0",
      "_model_name": "HBoxModel",
      "_view_count": null,
      "_view_module": "@jupyter-widgets/controls",
      "_view_module_version": "1.5.0",
      "_view_name": "HBoxView",
      "box_style": "",
      "children": [
       "IPY_MODEL_4014f3b6d1b4423fa3febf1bbc3ce53e",
       "IPY_MODEL_194174757f0a4dd5b83b64e04a8f6d55",
       "IPY_MODEL_e11bedb8730a41b89e716faf43846f88"
      ],
      "layout": "IPY_MODEL_01aa7897f08741798fc52a3bb2858293"
     }
    },
    "6a87d8526d2a40878ed22a6e7f84b892": {
     "model_module": "@jupyter-widgets/controls",
     "model_module_version": "1.5.0",
     "model_name": "HTMLModel",
     "state": {
      "_dom_classes": [],
      "_model_module": "@jupyter-widgets/controls",
      "_model_module_version": "1.5.0",
      "_model_name": "HTMLModel",
      "_view_count": null,
      "_view_module": "@jupyter-widgets/controls",
      "_view_module_version": "1.5.0",
      "_view_name": "HTMLView",
      "description": "",
      "description_tooltip": null,
      "layout": "IPY_MODEL_be1a10ebc4e64afdad65850f67f5705b",
      "placeholder": "​",
      "style": "IPY_MODEL_9234ba00754c4feba19bdf5fe65f0326",
      "value": " 8000/8000 [02:00&lt;00:00, 113.56it/s]"
     }
    },
    "6d9eacac8d6d479ea21a2dabb8baeab5": {
     "model_module": "@jupyter-widgets/controls",
     "model_module_version": "1.5.0",
     "model_name": "ProgressStyleModel",
     "state": {
      "_model_module": "@jupyter-widgets/controls",
      "_model_module_version": "1.5.0",
      "_model_name": "ProgressStyleModel",
      "_view_count": null,
      "_view_module": "@jupyter-widgets/base",
      "_view_module_version": "1.2.0",
      "_view_name": "StyleView",
      "bar_color": null,
      "description_width": ""
     }
    },
    "70291980cdf441c997c99bda04cf1af8": {
     "model_module": "@jupyter-widgets/controls",
     "model_module_version": "1.5.0",
     "model_name": "DescriptionStyleModel",
     "state": {
      "_model_module": "@jupyter-widgets/controls",
      "_model_module_version": "1.5.0",
      "_model_name": "DescriptionStyleModel",
      "_view_count": null,
      "_view_module": "@jupyter-widgets/base",
      "_view_module_version": "1.2.0",
      "_view_name": "StyleView",
      "description_width": ""
     }
    },
    "724eca3fa1c84a299bd3351c1feeb948": {
     "model_module": "@jupyter-widgets/base",
     "model_module_version": "1.2.0",
     "model_name": "LayoutModel",
     "state": {
      "_model_module": "@jupyter-widgets/base",
      "_model_module_version": "1.2.0",
      "_model_name": "LayoutModel",
      "_view_count": null,
      "_view_module": "@jupyter-widgets/base",
      "_view_module_version": "1.2.0",
      "_view_name": "LayoutView",
      "align_content": null,
      "align_items": null,
      "align_self": null,
      "border": null,
      "bottom": null,
      "display": null,
      "flex": null,
      "flex_flow": null,
      "grid_area": null,
      "grid_auto_columns": null,
      "grid_auto_flow": null,
      "grid_auto_rows": null,
      "grid_column": null,
      "grid_gap": null,
      "grid_row": null,
      "grid_template_areas": null,
      "grid_template_columns": null,
      "grid_template_rows": null,
      "height": null,
      "justify_content": null,
      "justify_items": null,
      "left": null,
      "margin": null,
      "max_height": null,
      "max_width": null,
      "min_height": null,
      "min_width": null,
      "object_fit": null,
      "object_position": null,
      "order": null,
      "overflow": null,
      "overflow_x": null,
      "overflow_y": null,
      "padding": null,
      "right": null,
      "top": null,
      "visibility": null,
      "width": null
     }
    },
    "7e700233eb994a05a8e6a3fea6f6725a": {
     "model_module": "@jupyter-widgets/base",
     "model_module_version": "1.2.0",
     "model_name": "LayoutModel",
     "state": {
      "_model_module": "@jupyter-widgets/base",
      "_model_module_version": "1.2.0",
      "_model_name": "LayoutModel",
      "_view_count": null,
      "_view_module": "@jupyter-widgets/base",
      "_view_module_version": "1.2.0",
      "_view_name": "LayoutView",
      "align_content": null,
      "align_items": null,
      "align_self": null,
      "border": null,
      "bottom": null,
      "display": null,
      "flex": null,
      "flex_flow": null,
      "grid_area": null,
      "grid_auto_columns": null,
      "grid_auto_flow": null,
      "grid_auto_rows": null,
      "grid_column": null,
      "grid_gap": null,
      "grid_row": null,
      "grid_template_areas": null,
      "grid_template_columns": null,
      "grid_template_rows": null,
      "height": null,
      "justify_content": null,
      "justify_items": null,
      "left": null,
      "margin": null,
      "max_height": null,
      "max_width": null,
      "min_height": null,
      "min_width": null,
      "object_fit": null,
      "object_position": null,
      "order": null,
      "overflow": null,
      "overflow_x": null,
      "overflow_y": null,
      "padding": null,
      "right": null,
      "top": null,
      "visibility": null,
      "width": null
     }
    },
    "8826565153b349849b50692624980e46": {
     "model_module": "@jupyter-widgets/controls",
     "model_module_version": "1.5.0",
     "model_name": "FloatProgressModel",
     "state": {
      "_dom_classes": [],
      "_model_module": "@jupyter-widgets/controls",
      "_model_module_version": "1.5.0",
      "_model_name": "FloatProgressModel",
      "_view_count": null,
      "_view_module": "@jupyter-widgets/controls",
      "_view_module_version": "1.5.0",
      "_view_name": "ProgressView",
      "bar_style": "success",
      "description": "",
      "description_tooltip": null,
      "layout": "IPY_MODEL_0c252b9cf4a94b5aa53813a2fdc95b67",
      "max": 8000,
      "min": 0,
      "orientation": "horizontal",
      "style": "IPY_MODEL_5c459ab33e8d4ba5a0c0cf75d1fbbbe1",
      "value": 8000
     }
    },
    "9234ba00754c4feba19bdf5fe65f0326": {
     "model_module": "@jupyter-widgets/controls",
     "model_module_version": "1.5.0",
     "model_name": "DescriptionStyleModel",
     "state": {
      "_model_module": "@jupyter-widgets/controls",
      "_model_module_version": "1.5.0",
      "_model_name": "DescriptionStyleModel",
      "_view_count": null,
      "_view_module": "@jupyter-widgets/base",
      "_view_module_version": "1.2.0",
      "_view_name": "StyleView",
      "description_width": ""
     }
    },
    "9390e764c6ef47a6870ff41e0ffa06a0": {
     "model_module": "@jupyter-widgets/controls",
     "model_module_version": "1.5.0",
     "model_name": "HTMLModel",
     "state": {
      "_dom_classes": [],
      "_model_module": "@jupyter-widgets/controls",
      "_model_module_version": "1.5.0",
      "_model_name": "HTMLModel",
      "_view_count": null,
      "_view_module": "@jupyter-widgets/controls",
      "_view_module_version": "1.5.0",
      "_view_name": "HTMLView",
      "description": "",
      "description_tooltip": null,
      "layout": "IPY_MODEL_268fbb3ab2b0451891e97c3b3e9bf160",
      "placeholder": "​",
      "style": "IPY_MODEL_70291980cdf441c997c99bda04cf1af8",
      "value": "100%"
     }
    },
    "a32ab5dd426746b2a20eadd8b19e778a": {
     "model_module": "@jupyter-widgets/base",
     "model_module_version": "1.2.0",
     "model_name": "LayoutModel",
     "state": {
      "_model_module": "@jupyter-widgets/base",
      "_model_module_version": "1.2.0",
      "_model_name": "LayoutModel",
      "_view_count": null,
      "_view_module": "@jupyter-widgets/base",
      "_view_module_version": "1.2.0",
      "_view_name": "LayoutView",
      "align_content": null,
      "align_items": null,
      "align_self": null,
      "border": null,
      "bottom": null,
      "display": null,
      "flex": null,
      "flex_flow": null,
      "grid_area": null,
      "grid_auto_columns": null,
      "grid_auto_flow": null,
      "grid_auto_rows": null,
      "grid_column": null,
      "grid_gap": null,
      "grid_row": null,
      "grid_template_areas": null,
      "grid_template_columns": null,
      "grid_template_rows": null,
      "height": null,
      "justify_content": null,
      "justify_items": null,
      "left": null,
      "margin": null,
      "max_height": null,
      "max_width": null,
      "min_height": null,
      "min_width": null,
      "object_fit": null,
      "object_position": null,
      "order": null,
      "overflow": null,
      "overflow_x": null,
      "overflow_y": null,
      "padding": null,
      "right": null,
      "top": null,
      "visibility": null,
      "width": null
     }
    },
    "b33fe17a3c734fb2a1d92b2b866315b0": {
     "model_module": "@jupyter-widgets/base",
     "model_module_version": "1.2.0",
     "model_name": "LayoutModel",
     "state": {
      "_model_module": "@jupyter-widgets/base",
      "_model_module_version": "1.2.0",
      "_model_name": "LayoutModel",
      "_view_count": null,
      "_view_module": "@jupyter-widgets/base",
      "_view_module_version": "1.2.0",
      "_view_name": "LayoutView",
      "align_content": null,
      "align_items": null,
      "align_self": null,
      "border": null,
      "bottom": null,
      "display": null,
      "flex": null,
      "flex_flow": null,
      "grid_area": null,
      "grid_auto_columns": null,
      "grid_auto_flow": null,
      "grid_auto_rows": null,
      "grid_column": null,
      "grid_gap": null,
      "grid_row": null,
      "grid_template_areas": null,
      "grid_template_columns": null,
      "grid_template_rows": null,
      "height": null,
      "justify_content": null,
      "justify_items": null,
      "left": null,
      "margin": null,
      "max_height": null,
      "max_width": null,
      "min_height": null,
      "min_width": null,
      "object_fit": null,
      "object_position": null,
      "order": null,
      "overflow": null,
      "overflow_x": null,
      "overflow_y": null,
      "padding": null,
      "right": null,
      "top": null,
      "visibility": null,
      "width": null
     }
    },
    "be1a10ebc4e64afdad65850f67f5705b": {
     "model_module": "@jupyter-widgets/base",
     "model_module_version": "1.2.0",
     "model_name": "LayoutModel",
     "state": {
      "_model_module": "@jupyter-widgets/base",
      "_model_module_version": "1.2.0",
      "_model_name": "LayoutModel",
      "_view_count": null,
      "_view_module": "@jupyter-widgets/base",
      "_view_module_version": "1.2.0",
      "_view_name": "LayoutView",
      "align_content": null,
      "align_items": null,
      "align_self": null,
      "border": null,
      "bottom": null,
      "display": null,
      "flex": null,
      "flex_flow": null,
      "grid_area": null,
      "grid_auto_columns": null,
      "grid_auto_flow": null,
      "grid_auto_rows": null,
      "grid_column": null,
      "grid_gap": null,
      "grid_row": null,
      "grid_template_areas": null,
      "grid_template_columns": null,
      "grid_template_rows": null,
      "height": null,
      "justify_content": null,
      "justify_items": null,
      "left": null,
      "margin": null,
      "max_height": null,
      "max_width": null,
      "min_height": null,
      "min_width": null,
      "object_fit": null,
      "object_position": null,
      "order": null,
      "overflow": null,
      "overflow_x": null,
      "overflow_y": null,
      "padding": null,
      "right": null,
      "top": null,
      "visibility": null,
      "width": null
     }
    },
    "c19a9ee07d3a4c23bc5c0f2976fab16c": {
     "model_module": "@jupyter-widgets/base",
     "model_module_version": "1.2.0",
     "model_name": "LayoutModel",
     "state": {
      "_model_module": "@jupyter-widgets/base",
      "_model_module_version": "1.2.0",
      "_model_name": "LayoutModel",
      "_view_count": null,
      "_view_module": "@jupyter-widgets/base",
      "_view_module_version": "1.2.0",
      "_view_name": "LayoutView",
      "align_content": null,
      "align_items": null,
      "align_self": null,
      "border": null,
      "bottom": null,
      "display": null,
      "flex": null,
      "flex_flow": null,
      "grid_area": null,
      "grid_auto_columns": null,
      "grid_auto_flow": null,
      "grid_auto_rows": null,
      "grid_column": null,
      "grid_gap": null,
      "grid_row": null,
      "grid_template_areas": null,
      "grid_template_columns": null,
      "grid_template_rows": null,
      "height": null,
      "justify_content": null,
      "justify_items": null,
      "left": null,
      "margin": null,
      "max_height": null,
      "max_width": null,
      "min_height": null,
      "min_width": null,
      "object_fit": null,
      "object_position": null,
      "order": null,
      "overflow": null,
      "overflow_x": null,
      "overflow_y": null,
      "padding": null,
      "right": null,
      "top": null,
      "visibility": null,
      "width": null
     }
    },
    "cf7722c6258048d78e6459bcc5902ec3": {
     "model_module": "@jupyter-widgets/controls",
     "model_module_version": "1.5.0",
     "model_name": "DescriptionStyleModel",
     "state": {
      "_model_module": "@jupyter-widgets/controls",
      "_model_module_version": "1.5.0",
      "_model_name": "DescriptionStyleModel",
      "_view_count": null,
      "_view_module": "@jupyter-widgets/base",
      "_view_module_version": "1.2.0",
      "_view_name": "StyleView",
      "description_width": ""
     }
    },
    "e11bedb8730a41b89e716faf43846f88": {
     "model_module": "@jupyter-widgets/controls",
     "model_module_version": "1.5.0",
     "model_name": "HTMLModel",
     "state": {
      "_dom_classes": [],
      "_model_module": "@jupyter-widgets/controls",
      "_model_module_version": "1.5.0",
      "_model_name": "HTMLModel",
      "_view_count": null,
      "_view_module": "@jupyter-widgets/controls",
      "_view_module_version": "1.5.0",
      "_view_name": "HTMLView",
      "description": "",
      "description_tooltip": null,
      "layout": "IPY_MODEL_724eca3fa1c84a299bd3351c1feeb948",
      "placeholder": "​",
      "style": "IPY_MODEL_54eddd1f9af247c2b491a3cac82a3a79",
      "value": " 8000/8000 [00:00&lt;00:00, 145671.59it/s]"
     }
    },
    "e53baa5da4bc48f589f89b7f59236a1a": {
     "model_module": "@jupyter-widgets/base",
     "model_module_version": "1.2.0",
     "model_name": "LayoutModel",
     "state": {
      "_model_module": "@jupyter-widgets/base",
      "_model_module_version": "1.2.0",
      "_model_name": "LayoutModel",
      "_view_count": null,
      "_view_module": "@jupyter-widgets/base",
      "_view_module_version": "1.2.0",
      "_view_name": "LayoutView",
      "align_content": null,
      "align_items": null,
      "align_self": null,
      "border": null,
      "bottom": null,
      "display": null,
      "flex": null,
      "flex_flow": null,
      "grid_area": null,
      "grid_auto_columns": null,
      "grid_auto_flow": null,
      "grid_auto_rows": null,
      "grid_column": null,
      "grid_gap": null,
      "grid_row": null,
      "grid_template_areas": null,
      "grid_template_columns": null,
      "grid_template_rows": null,
      "height": null,
      "justify_content": null,
      "justify_items": null,
      "left": null,
      "margin": null,
      "max_height": null,
      "max_width": null,
      "min_height": null,
      "min_width": null,
      "object_fit": null,
      "object_position": null,
      "order": null,
      "overflow": null,
      "overflow_x": null,
      "overflow_y": null,
      "padding": null,
      "right": null,
      "top": null,
      "visibility": null,
      "width": null
     }
    },
    "e8b1ee158fcb421791f95473ef9905c9": {
     "model_module": "@jupyter-widgets/controls",
     "model_module_version": "1.5.0",
     "model_name": "HTMLModel",
     "state": {
      "_dom_classes": [],
      "_model_module": "@jupyter-widgets/controls",
      "_model_module_version": "1.5.0",
      "_model_name": "HTMLModel",
      "_view_count": null,
      "_view_module": "@jupyter-widgets/controls",
      "_view_module_version": "1.5.0",
      "_view_name": "HTMLView",
      "description": "",
      "description_tooltip": null,
      "layout": "IPY_MODEL_0b8a3faccb284f5e842de3516ae753fe",
      "placeholder": "​",
      "style": "IPY_MODEL_0b5267aafc5341f1a9b9750bb7f09522",
      "value": " 8000/8000 [00:00&lt;00:00, 136167.65it/s]"
     }
    },
    "f5cd2c5c9543451b9c6f9cd1207e90f1": {
     "model_module": "@jupyter-widgets/base",
     "model_module_version": "1.2.0",
     "model_name": "LayoutModel",
     "state": {
      "_model_module": "@jupyter-widgets/base",
      "_model_module_version": "1.2.0",
      "_model_name": "LayoutModel",
      "_view_count": null,
      "_view_module": "@jupyter-widgets/base",
      "_view_module_version": "1.2.0",
      "_view_name": "LayoutView",
      "align_content": null,
      "align_items": null,
      "align_self": null,
      "border": null,
      "bottom": null,
      "display": null,
      "flex": null,
      "flex_flow": null,
      "grid_area": null,
      "grid_auto_columns": null,
      "grid_auto_flow": null,
      "grid_auto_rows": null,
      "grid_column": null,
      "grid_gap": null,
      "grid_row": null,
      "grid_template_areas": null,
      "grid_template_columns": null,
      "grid_template_rows": null,
      "height": null,
      "justify_content": null,
      "justify_items": null,
      "left": null,
      "margin": null,
      "max_height": null,
      "max_width": null,
      "min_height": null,
      "min_width": null,
      "object_fit": null,
      "object_position": null,
      "order": null,
      "overflow": null,
      "overflow_x": null,
      "overflow_y": null,
      "padding": null,
      "right": null,
      "top": null,
      "visibility": null,
      "width": null
     }
    }
   }
  }
 },
 "nbformat": 4,
 "nbformat_minor": 1
}
