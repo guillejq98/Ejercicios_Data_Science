{
 "cells": [
  {
   "cell_type": "markdown",
   "id": "98144d6c",
   "metadata": {},
   "source": [
    "# Modelos no Supervisados - Clustering y PCA"
   ]
  },
  {
   "cell_type": "code",
   "execution_count": null,
   "id": "4c6aee50",
   "metadata": {},
   "outputs": [],
   "source": [
    "import pandas as pd\n",
    "import matplotlib.pyplot as plt\n",
    "import numpy as np\n",
    "import plotly.express as px\n",
    "import scipy.stats as stats\n",
    "import seaborn as sns\n",
    "\n",
    "from sklearn.preprocessing import StandardScaler\n",
    "from sklearn.preprocessing import RobustScaler\n",
    "from sklearn.decomposition import PCA\n",
    "\n",
    "#Factor Analysis\n",
    "from sklearn.decomposition import FactorAnalysis\n",
    "from factor_analyzer import FactorAnalyzer\n",
    "from factor_analyzer.factor_analyzer import calculate_bartlett_sphericity\n",
    "from factor_analyzer.factor_analyzer import calculate_kmo\n",
    "\n",
    "#Encoding\n",
    "from sklearn.preprocessing import LabelEncoder"
   ]
  },
  {
   "cell_type": "code",
   "execution_count": 154,
   "id": "4e6862a1",
   "metadata": {},
   "outputs": [
    {
     "data": {
      "text/html": [
       "<div>\n",
       "<style scoped>\n",
       "    .dataframe tbody tr th:only-of-type {\n",
       "        vertical-align: middle;\n",
       "    }\n",
       "\n",
       "    .dataframe tbody tr th {\n",
       "        vertical-align: top;\n",
       "    }\n",
       "\n",
       "    .dataframe thead th {\n",
       "        text-align: right;\n",
       "    }\n",
       "</style>\n",
       "<table border=\"1\" class=\"dataframe\">\n",
       "  <thead>\n",
       "    <tr style=\"text-align: right;\">\n",
       "      <th></th>\n",
       "      <th>Name</th>\n",
       "      <th>CodigoProvincia</th>\n",
       "      <th>CCAA</th>\n",
       "      <th>Population</th>\n",
       "      <th>TotalCensus</th>\n",
       "      <th>AbstentionPtge</th>\n",
       "      <th>AbstencionAlta</th>\n",
       "      <th>Izda_Pct</th>\n",
       "      <th>Dcha_Pct</th>\n",
       "      <th>Otros_Pct</th>\n",
       "      <th>Izquierda</th>\n",
       "      <th>Derecha</th>\n",
       "      <th>Age_0-4_Ptge</th>\n",
       "      <th>Age_under19_Ptge</th>\n",
       "      <th>Age_19_65_pct</th>\n",
       "      <th>Age_over65_pct</th>\n",
       "      <th>WomanPopulationPtge</th>\n",
       "      <th>ForeignersPtge</th>\n",
       "      <th>SameComAutonPtge</th>\n",
       "      <th>SameComAutonDiffProvPtge</th>\n",
       "      <th>DifComAutonPtge</th>\n",
       "      <th>UnemployLess25_Ptge</th>\n",
       "      <th>Unemploy25_40_Ptge</th>\n",
       "      <th>UnemployMore40_Ptge</th>\n",
       "      <th>AgricultureUnemploymentPtge</th>\n",
       "      <th>IndustryUnemploymentPtge</th>\n",
       "      <th>ConstructionUnemploymentPtge</th>\n",
       "      <th>ServicesUnemploymentPtge</th>\n",
       "      <th>totalEmpresas</th>\n",
       "      <th>Industria</th>\n",
       "      <th>Construccion</th>\n",
       "      <th>ComercTTEHosteleria</th>\n",
       "      <th>Servicios</th>\n",
       "      <th>ActividadPpal</th>\n",
       "      <th>inmuebles</th>\n",
       "      <th>Pob2010</th>\n",
       "      <th>SUPERFICIE</th>\n",
       "      <th>Densidad</th>\n",
       "      <th>PobChange_pct</th>\n",
       "      <th>PersonasInmueble</th>\n",
       "      <th>Explotaciones</th>\n",
       "    </tr>\n",
       "  </thead>\n",
       "  <tbody>\n",
       "    <tr>\n",
       "      <th>0</th>\n",
       "      <td>Abadía</td>\n",
       "      <td>10</td>\n",
       "      <td>Extremadura</td>\n",
       "      <td>336</td>\n",
       "      <td>282</td>\n",
       "      <td>20.213</td>\n",
       "      <td>0</td>\n",
       "      <td>60.444</td>\n",
       "      <td>35.555</td>\n",
       "      <td>1.778</td>\n",
       "      <td>1</td>\n",
       "      <td>0</td>\n",
       "      <td>3.869</td>\n",
       "      <td>18.155</td>\n",
       "      <td>55.059</td>\n",
       "      <td>26.785</td>\n",
       "      <td>44.048</td>\n",
       "      <td>0.89</td>\n",
       "      <td>79.762</td>\n",
       "      <td>0.298</td>\n",
       "      <td>19.345</td>\n",
       "      <td>2.381</td>\n",
       "      <td>54.762</td>\n",
       "      <td>42.857</td>\n",
       "      <td>4.762</td>\n",
       "      <td>9.524</td>\n",
       "      <td>11.905</td>\n",
       "      <td>73.810</td>\n",
       "      <td>15.0</td>\n",
       "      <td>0.0</td>\n",
       "      <td>0.0</td>\n",
       "      <td>0.0</td>\n",
       "      <td>0.0</td>\n",
       "      <td>Otro</td>\n",
       "      <td>216.0</td>\n",
       "      <td>326.0</td>\n",
       "      <td>4507.5593</td>\n",
       "      <td>MuyBaja</td>\n",
       "      <td>3.07</td>\n",
       "      <td>1.56</td>\n",
       "      <td>28</td>\n",
       "    </tr>\n",
       "    <tr>\n",
       "      <th>1</th>\n",
       "      <td>Abertura</td>\n",
       "      <td>10</td>\n",
       "      <td>Extremadura</td>\n",
       "      <td>429</td>\n",
       "      <td>364</td>\n",
       "      <td>25.275</td>\n",
       "      <td>0</td>\n",
       "      <td>54.779</td>\n",
       "      <td>44.118</td>\n",
       "      <td>0.368</td>\n",
       "      <td>1</td>\n",
       "      <td>0</td>\n",
       "      <td>1.632</td>\n",
       "      <td>13.055</td>\n",
       "      <td>56.643</td>\n",
       "      <td>30.304</td>\n",
       "      <td>50.117</td>\n",
       "      <td>1.63</td>\n",
       "      <td>90.909</td>\n",
       "      <td>2.797</td>\n",
       "      <td>7.226</td>\n",
       "      <td>16.216</td>\n",
       "      <td>32.432</td>\n",
       "      <td>51.351</td>\n",
       "      <td>8.108</td>\n",
       "      <td>8.108</td>\n",
       "      <td>10.811</td>\n",
       "      <td>67.568</td>\n",
       "      <td>11.0</td>\n",
       "      <td>0.0</td>\n",
       "      <td>0.0</td>\n",
       "      <td>0.0</td>\n",
       "      <td>0.0</td>\n",
       "      <td>Otro</td>\n",
       "      <td>382.0</td>\n",
       "      <td>459.0</td>\n",
       "      <td>6270.7646</td>\n",
       "      <td>MuyBaja</td>\n",
       "      <td>-6.54</td>\n",
       "      <td>1.12</td>\n",
       "      <td>67</td>\n",
       "    </tr>\n",
       "    <tr>\n",
       "      <th>2</th>\n",
       "      <td>Acebo</td>\n",
       "      <td>10</td>\n",
       "      <td>Extremadura</td>\n",
       "      <td>569</td>\n",
       "      <td>569</td>\n",
       "      <td>27.241</td>\n",
       "      <td>0</td>\n",
       "      <td>44.203</td>\n",
       "      <td>53.140</td>\n",
       "      <td>0.966</td>\n",
       "      <td>0</td>\n",
       "      <td>1</td>\n",
       "      <td>1.230</td>\n",
       "      <td>9.139</td>\n",
       "      <td>54.834</td>\n",
       "      <td>36.028</td>\n",
       "      <td>49.033</td>\n",
       "      <td>0.70</td>\n",
       "      <td>78.910</td>\n",
       "      <td>0.703</td>\n",
       "      <td>18.102</td>\n",
       "      <td>8.197</td>\n",
       "      <td>36.066</td>\n",
       "      <td>55.738</td>\n",
       "      <td>22.951</td>\n",
       "      <td>9.836</td>\n",
       "      <td>13.115</td>\n",
       "      <td>49.180</td>\n",
       "      <td>49.0</td>\n",
       "      <td>0.0</td>\n",
       "      <td>0.0</td>\n",
       "      <td>0.0</td>\n",
       "      <td>0.0</td>\n",
       "      <td>Otro</td>\n",
       "      <td>918.0</td>\n",
       "      <td>674.0</td>\n",
       "      <td>5702.1000</td>\n",
       "      <td>MuyBaja</td>\n",
       "      <td>-15.58</td>\n",
       "      <td>0.62</td>\n",
       "      <td>74</td>\n",
       "    </tr>\n",
       "    <tr>\n",
       "      <th>3</th>\n",
       "      <td>Acehúche</td>\n",
       "      <td>10</td>\n",
       "      <td>Extremadura</td>\n",
       "      <td>822</td>\n",
       "      <td>704</td>\n",
       "      <td>30.114</td>\n",
       "      <td>1</td>\n",
       "      <td>50.813</td>\n",
       "      <td>45.325</td>\n",
       "      <td>0.000</td>\n",
       "      <td>1</td>\n",
       "      <td>0</td>\n",
       "      <td>4.258</td>\n",
       "      <td>14.964</td>\n",
       "      <td>60.098</td>\n",
       "      <td>24.940</td>\n",
       "      <td>51.095</td>\n",
       "      <td>0.12</td>\n",
       "      <td>93.917</td>\n",
       "      <td>0.487</td>\n",
       "      <td>5.109</td>\n",
       "      <td>7.407</td>\n",
       "      <td>61.111</td>\n",
       "      <td>31.481</td>\n",
       "      <td>16.667</td>\n",
       "      <td>5.556</td>\n",
       "      <td>16.667</td>\n",
       "      <td>59.259</td>\n",
       "      <td>50.0</td>\n",
       "      <td>0.0</td>\n",
       "      <td>0.0</td>\n",
       "      <td>0.0</td>\n",
       "      <td>0.0</td>\n",
       "      <td>Otro</td>\n",
       "      <td>599.0</td>\n",
       "      <td>842.0</td>\n",
       "      <td>9106.4649</td>\n",
       "      <td>MuyBaja</td>\n",
       "      <td>-2.38</td>\n",
       "      <td>1.37</td>\n",
       "      <td>66</td>\n",
       "    </tr>\n",
       "    <tr>\n",
       "      <th>4</th>\n",
       "      <td>Aceituna</td>\n",
       "      <td>10</td>\n",
       "      <td>Extremadura</td>\n",
       "      <td>623</td>\n",
       "      <td>540</td>\n",
       "      <td>30.185</td>\n",
       "      <td>1</td>\n",
       "      <td>44.562</td>\n",
       "      <td>49.867</td>\n",
       "      <td>0.796</td>\n",
       "      <td>0</td>\n",
       "      <td>1</td>\n",
       "      <td>3.531</td>\n",
       "      <td>15.569</td>\n",
       "      <td>59.391</td>\n",
       "      <td>25.042</td>\n",
       "      <td>48.154</td>\n",
       "      <td>0.64</td>\n",
       "      <td>93.258</td>\n",
       "      <td>0.161</td>\n",
       "      <td>4.173</td>\n",
       "      <td>15.385</td>\n",
       "      <td>48.077</td>\n",
       "      <td>36.538</td>\n",
       "      <td>21.154</td>\n",
       "      <td>0.000</td>\n",
       "      <td>11.538</td>\n",
       "      <td>61.538</td>\n",
       "      <td>22.0</td>\n",
       "      <td>0.0</td>\n",
       "      <td>0.0</td>\n",
       "      <td>0.0</td>\n",
       "      <td>0.0</td>\n",
       "      <td>Otro</td>\n",
       "      <td>394.0</td>\n",
       "      <td>625.0</td>\n",
       "      <td>4007.6141</td>\n",
       "      <td>MuyBaja</td>\n",
       "      <td>-0.32</td>\n",
       "      <td>1.58</td>\n",
       "      <td>96</td>\n",
       "    </tr>\n",
       "  </tbody>\n",
       "</table>\n",
       "</div>"
      ],
      "text/plain": [
       "       Name  CodigoProvincia         CCAA  Population  TotalCensus  \\\n",
       "0    Abadía               10  Extremadura         336          282   \n",
       "1  Abertura               10  Extremadura         429          364   \n",
       "2     Acebo               10  Extremadura         569          569   \n",
       "3  Acehúche               10  Extremadura         822          704   \n",
       "4  Aceituna               10  Extremadura         623          540   \n",
       "\n",
       "   AbstentionPtge  AbstencionAlta  Izda_Pct  Dcha_Pct  Otros_Pct  Izquierda  \\\n",
       "0          20.213               0    60.444    35.555      1.778          1   \n",
       "1          25.275               0    54.779    44.118      0.368          1   \n",
       "2          27.241               0    44.203    53.140      0.966          0   \n",
       "3          30.114               1    50.813    45.325      0.000          1   \n",
       "4          30.185               1    44.562    49.867      0.796          0   \n",
       "\n",
       "   Derecha  Age_0-4_Ptge  Age_under19_Ptge  Age_19_65_pct  Age_over65_pct  \\\n",
       "0        0         3.869            18.155         55.059          26.785   \n",
       "1        0         1.632            13.055         56.643          30.304   \n",
       "2        1         1.230             9.139         54.834          36.028   \n",
       "3        0         4.258            14.964         60.098          24.940   \n",
       "4        1         3.531            15.569         59.391          25.042   \n",
       "\n",
       "   WomanPopulationPtge  ForeignersPtge  SameComAutonPtge  \\\n",
       "0               44.048            0.89            79.762   \n",
       "1               50.117            1.63            90.909   \n",
       "2               49.033            0.70            78.910   \n",
       "3               51.095            0.12            93.917   \n",
       "4               48.154            0.64            93.258   \n",
       "\n",
       "   SameComAutonDiffProvPtge  DifComAutonPtge  UnemployLess25_Ptge  \\\n",
       "0                     0.298           19.345                2.381   \n",
       "1                     2.797            7.226               16.216   \n",
       "2                     0.703           18.102                8.197   \n",
       "3                     0.487            5.109                7.407   \n",
       "4                     0.161            4.173               15.385   \n",
       "\n",
       "   Unemploy25_40_Ptge  UnemployMore40_Ptge  AgricultureUnemploymentPtge  \\\n",
       "0              54.762               42.857                        4.762   \n",
       "1              32.432               51.351                        8.108   \n",
       "2              36.066               55.738                       22.951   \n",
       "3              61.111               31.481                       16.667   \n",
       "4              48.077               36.538                       21.154   \n",
       "\n",
       "   IndustryUnemploymentPtge  ConstructionUnemploymentPtge  \\\n",
       "0                     9.524                        11.905   \n",
       "1                     8.108                        10.811   \n",
       "2                     9.836                        13.115   \n",
       "3                     5.556                        16.667   \n",
       "4                     0.000                        11.538   \n",
       "\n",
       "   ServicesUnemploymentPtge  totalEmpresas  Industria  Construccion  \\\n",
       "0                    73.810           15.0        0.0           0.0   \n",
       "1                    67.568           11.0        0.0           0.0   \n",
       "2                    49.180           49.0        0.0           0.0   \n",
       "3                    59.259           50.0        0.0           0.0   \n",
       "4                    61.538           22.0        0.0           0.0   \n",
       "\n",
       "   ComercTTEHosteleria  Servicios ActividadPpal  inmuebles  Pob2010  \\\n",
       "0                  0.0        0.0          Otro      216.0    326.0   \n",
       "1                  0.0        0.0          Otro      382.0    459.0   \n",
       "2                  0.0        0.0          Otro      918.0    674.0   \n",
       "3                  0.0        0.0          Otro      599.0    842.0   \n",
       "4                  0.0        0.0          Otro      394.0    625.0   \n",
       "\n",
       "   SUPERFICIE Densidad  PobChange_pct  PersonasInmueble  Explotaciones  \n",
       "0   4507.5593  MuyBaja           3.07              1.56             28  \n",
       "1   6270.7646  MuyBaja          -6.54              1.12             67  \n",
       "2   5702.1000  MuyBaja         -15.58              0.62             74  \n",
       "3   9106.4649  MuyBaja          -2.38              1.37             66  \n",
       "4   4007.6141  MuyBaja          -0.32              1.58             96  "
      ]
     },
     "metadata": {},
     "output_type": "display_data"
    }
   ],
   "source": [
    "elecciones = pd.read_excel('DatosEleccionesEspaña.xlsx')\n",
    "display(elecciones.head())"
   ]
  },
  {
   "cell_type": "code",
   "execution_count": 155,
   "id": "b3f3da1a",
   "metadata": {},
   "outputs": [
    {
     "data": {
      "text/html": [
       "<div>\n",
       "<style scoped>\n",
       "    .dataframe tbody tr th:only-of-type {\n",
       "        vertical-align: middle;\n",
       "    }\n",
       "\n",
       "    .dataframe tbody tr th {\n",
       "        vertical-align: top;\n",
       "    }\n",
       "\n",
       "    .dataframe thead th {\n",
       "        text-align: right;\n",
       "    }\n",
       "</style>\n",
       "<table border=\"1\" class=\"dataframe\">\n",
       "  <thead>\n",
       "    <tr style=\"text-align: right;\">\n",
       "      <th></th>\n",
       "      <th>Name</th>\n",
       "      <th>CodigoProvincia</th>\n",
       "      <th>CCAA</th>\n",
       "      <th>Population</th>\n",
       "      <th>AbstentionPtge</th>\n",
       "      <th>Izda_Pct</th>\n",
       "      <th>Dcha_Pct</th>\n",
       "      <th>Age_under19_Ptge</th>\n",
       "      <th>Age_19_65_pct</th>\n",
       "      <th>Age_over65_pct</th>\n",
       "      <th>ForeignersPtge</th>\n",
       "      <th>totalEmpresas</th>\n",
       "      <th>PobChange_pct</th>\n",
       "    </tr>\n",
       "  </thead>\n",
       "  <tbody>\n",
       "    <tr>\n",
       "      <th>0</th>\n",
       "      <td>Abadía</td>\n",
       "      <td>10</td>\n",
       "      <td>Extremadura</td>\n",
       "      <td>336</td>\n",
       "      <td>20.213</td>\n",
       "      <td>60.444</td>\n",
       "      <td>35.555</td>\n",
       "      <td>18.155</td>\n",
       "      <td>55.059</td>\n",
       "      <td>26.785</td>\n",
       "      <td>0.89</td>\n",
       "      <td>15.0</td>\n",
       "      <td>3.07</td>\n",
       "    </tr>\n",
       "    <tr>\n",
       "      <th>1</th>\n",
       "      <td>Abertura</td>\n",
       "      <td>10</td>\n",
       "      <td>Extremadura</td>\n",
       "      <td>429</td>\n",
       "      <td>25.275</td>\n",
       "      <td>54.779</td>\n",
       "      <td>44.118</td>\n",
       "      <td>13.055</td>\n",
       "      <td>56.643</td>\n",
       "      <td>30.304</td>\n",
       "      <td>1.63</td>\n",
       "      <td>11.0</td>\n",
       "      <td>-6.54</td>\n",
       "    </tr>\n",
       "    <tr>\n",
       "      <th>2</th>\n",
       "      <td>Acebo</td>\n",
       "      <td>10</td>\n",
       "      <td>Extremadura</td>\n",
       "      <td>569</td>\n",
       "      <td>27.241</td>\n",
       "      <td>44.203</td>\n",
       "      <td>53.140</td>\n",
       "      <td>9.139</td>\n",
       "      <td>54.834</td>\n",
       "      <td>36.028</td>\n",
       "      <td>0.70</td>\n",
       "      <td>49.0</td>\n",
       "      <td>-15.58</td>\n",
       "    </tr>\n",
       "    <tr>\n",
       "      <th>3</th>\n",
       "      <td>Acehúche</td>\n",
       "      <td>10</td>\n",
       "      <td>Extremadura</td>\n",
       "      <td>822</td>\n",
       "      <td>30.114</td>\n",
       "      <td>50.813</td>\n",
       "      <td>45.325</td>\n",
       "      <td>14.964</td>\n",
       "      <td>60.098</td>\n",
       "      <td>24.940</td>\n",
       "      <td>0.12</td>\n",
       "      <td>50.0</td>\n",
       "      <td>-2.38</td>\n",
       "    </tr>\n",
       "    <tr>\n",
       "      <th>4</th>\n",
       "      <td>Aceituna</td>\n",
       "      <td>10</td>\n",
       "      <td>Extremadura</td>\n",
       "      <td>623</td>\n",
       "      <td>30.185</td>\n",
       "      <td>44.562</td>\n",
       "      <td>49.867</td>\n",
       "      <td>15.569</td>\n",
       "      <td>59.391</td>\n",
       "      <td>25.042</td>\n",
       "      <td>0.64</td>\n",
       "      <td>22.0</td>\n",
       "      <td>-0.32</td>\n",
       "    </tr>\n",
       "  </tbody>\n",
       "</table>\n",
       "</div>"
      ],
      "text/plain": [
       "       Name  CodigoProvincia         CCAA  Population  AbstentionPtge  \\\n",
       "0    Abadía               10  Extremadura         336          20.213   \n",
       "1  Abertura               10  Extremadura         429          25.275   \n",
       "2     Acebo               10  Extremadura         569          27.241   \n",
       "3  Acehúche               10  Extremadura         822          30.114   \n",
       "4  Aceituna               10  Extremadura         623          30.185   \n",
       "\n",
       "   Izda_Pct  Dcha_Pct  Age_under19_Ptge  Age_19_65_pct  Age_over65_pct  \\\n",
       "0    60.444    35.555            18.155         55.059          26.785   \n",
       "1    54.779    44.118            13.055         56.643          30.304   \n",
       "2    44.203    53.140             9.139         54.834          36.028   \n",
       "3    50.813    45.325            14.964         60.098          24.940   \n",
       "4    44.562    49.867            15.569         59.391          25.042   \n",
       "\n",
       "   ForeignersPtge  totalEmpresas  PobChange_pct  \n",
       "0            0.89           15.0           3.07  \n",
       "1            1.63           11.0          -6.54  \n",
       "2            0.70           49.0         -15.58  \n",
       "3            0.12           50.0          -2.38  \n",
       "4            0.64           22.0          -0.32  "
      ]
     },
     "metadata": {},
     "output_type": "display_data"
    }
   ],
   "source": [
    "elec = elecciones.iloc[:, [0,1,2,3,5,7,8,13,14,15,17,28, 38]]\n",
    "display(elec.head())"
   ]
  },
  {
   "cell_type": "markdown",
   "id": "c514b236",
   "metadata": {},
   "source": [
    "Se escogen las diez variables numéricas más la variable CCAA, en este caso se intentará enfocar en la abstinencia de los votos contra la población, los rangos de edades, la participación de extranjeros y el total de empresas y cambio en la población, y así conocer los efectos entre ellas. A ver que agrupacions nos espera."
   ]
  },
  {
   "cell_type": "code",
   "execution_count": 156,
   "id": "150e79fa",
   "metadata": {},
   "outputs": [
    {
     "name": "stdout",
     "output_type": "stream",
     "text": [
      "<class 'pandas.core.frame.DataFrame'>\n",
      "RangeIndex: 8119 entries, 0 to 8118\n",
      "Data columns (total 13 columns):\n",
      " #   Column            Non-Null Count  Dtype  \n",
      "---  ------            --------------  -----  \n",
      " 0   Name              8119 non-null   object \n",
      " 1   CodigoProvincia   8119 non-null   int64  \n",
      " 2   CCAA              8119 non-null   object \n",
      " 3   Population        8119 non-null   int64  \n",
      " 4   AbstentionPtge    8119 non-null   float64\n",
      " 5   Izda_Pct          8119 non-null   float64\n",
      " 6   Dcha_Pct          8119 non-null   float64\n",
      " 7   Age_under19_Ptge  8119 non-null   float64\n",
      " 8   Age_19_65_pct     8119 non-null   float64\n",
      " 9   Age_over65_pct    8119 non-null   float64\n",
      " 10  ForeignersPtge    8119 non-null   float64\n",
      " 11  totalEmpresas     8114 non-null   float64\n",
      " 12  PobChange_pct     8112 non-null   float64\n",
      "dtypes: float64(9), int64(2), object(2)\n",
      "memory usage: 824.7+ KB\n"
     ]
    },
    {
     "data": {
      "text/plain": [
       "None"
      ]
     },
     "metadata": {},
     "output_type": "display_data"
    },
    {
     "data": {
      "text/plain": [
       "Name                8102\n",
       "CodigoProvincia       52\n",
       "CCAA                  19\n",
       "Population          3597\n",
       "AbstentionPtge      5675\n",
       "Izda_Pct            6569\n",
       "Dcha_Pct            6682\n",
       "Age_under19_Ptge    5891\n",
       "Age_19_65_pct       6215\n",
       "Age_over65_pct      6778\n",
       "ForeignersPtge      2329\n",
       "totalEmpresas       1225\n",
       "PobChange_pct       3048\n",
       "dtype: int64"
      ]
     },
     "metadata": {},
     "output_type": "display_data"
    }
   ],
   "source": [
    "display(elec.info())\n",
    "display(elec.nunique())"
   ]
  },
  {
   "cell_type": "markdown",
   "id": "346dec9b",
   "metadata": {},
   "source": [
    "Existen valores nulos parala variable total empresas y pobChange"
   ]
  },
  {
   "cell_type": "code",
   "execution_count": 157,
   "id": "d9a943ff",
   "metadata": {},
   "outputs": [
    {
     "data": {
      "text/html": [
       "<div>\n",
       "<style scoped>\n",
       "    .dataframe tbody tr th:only-of-type {\n",
       "        vertical-align: middle;\n",
       "    }\n",
       "\n",
       "    .dataframe tbody tr th {\n",
       "        vertical-align: top;\n",
       "    }\n",
       "\n",
       "    .dataframe thead th {\n",
       "        text-align: right;\n",
       "    }\n",
       "</style>\n",
       "<table border=\"1\" class=\"dataframe\">\n",
       "  <thead>\n",
       "    <tr style=\"text-align: right;\">\n",
       "      <th></th>\n",
       "      <th>CodigoProvincia</th>\n",
       "      <th>Population</th>\n",
       "      <th>AbstentionPtge</th>\n",
       "      <th>Izda_Pct</th>\n",
       "      <th>Dcha_Pct</th>\n",
       "      <th>Age_under19_Ptge</th>\n",
       "      <th>Age_19_65_pct</th>\n",
       "      <th>Age_over65_pct</th>\n",
       "      <th>ForeignersPtge</th>\n",
       "      <th>totalEmpresas</th>\n",
       "      <th>PobChange_pct</th>\n",
       "    </tr>\n",
       "  </thead>\n",
       "  <tbody>\n",
       "    <tr>\n",
       "      <th>count</th>\n",
       "      <td>8119.000000</td>\n",
       "      <td>8.119000e+03</td>\n",
       "      <td>8119.000000</td>\n",
       "      <td>8119.000000</td>\n",
       "      <td>8119.000000</td>\n",
       "      <td>8119.000000</td>\n",
       "      <td>8119.000000</td>\n",
       "      <td>8119.000000</td>\n",
       "      <td>8119.000000</td>\n",
       "      <td>8114.000000</td>\n",
       "      <td>8112.000000</td>\n",
       "    </tr>\n",
       "    <tr>\n",
       "      <th>mean</th>\n",
       "      <td>26.670772</td>\n",
       "      <td>5.741855e+03</td>\n",
       "      <td>26.506951</td>\n",
       "      <td>34.403789</td>\n",
       "      <td>48.915409</td>\n",
       "      <td>13.567747</td>\n",
       "      <td>57.371541</td>\n",
       "      <td>29.073583</td>\n",
       "      <td>5.619553</td>\n",
       "      <td>398.603032</td>\n",
       "      <td>-4.897406</td>\n",
       "    </tr>\n",
       "    <tr>\n",
       "      <th>std</th>\n",
       "      <td>14.896717</td>\n",
       "      <td>4.621520e+04</td>\n",
       "      <td>7.540091</td>\n",
       "      <td>16.482285</td>\n",
       "      <td>19.945087</td>\n",
       "      <td>6.780648</td>\n",
       "      <td>6.818072</td>\n",
       "      <td>11.745849</td>\n",
       "      <td>7.348553</td>\n",
       "      <td>4219.366083</td>\n",
       "      <td>10.383417</td>\n",
       "    </tr>\n",
       "    <tr>\n",
       "      <th>min</th>\n",
       "      <td>1.000000</td>\n",
       "      <td>5.000000e+00</td>\n",
       "      <td>0.000000</td>\n",
       "      <td>0.000000</td>\n",
       "      <td>0.000000</td>\n",
       "      <td>0.000000</td>\n",
       "      <td>23.459000</td>\n",
       "      <td>0.000000</td>\n",
       "      <td>-8.960000</td>\n",
       "      <td>0.000000</td>\n",
       "      <td>-52.270000</td>\n",
       "    </tr>\n",
       "    <tr>\n",
       "      <th>25%</th>\n",
       "      <td>13.000000</td>\n",
       "      <td>1.660000e+02</td>\n",
       "      <td>21.678000</td>\n",
       "      <td>21.892500</td>\n",
       "      <td>38.690500</td>\n",
       "      <td>8.334000</td>\n",
       "      <td>53.845000</td>\n",
       "      <td>19.824500</td>\n",
       "      <td>1.060000</td>\n",
       "      <td>7.000000</td>\n",
       "      <td>-10.400000</td>\n",
       "    </tr>\n",
       "    <tr>\n",
       "      <th>50%</th>\n",
       "      <td>26.000000</td>\n",
       "      <td>5.490000e+02</td>\n",
       "      <td>26.429000</td>\n",
       "      <td>35.165000</td>\n",
       "      <td>51.582000</td>\n",
       "      <td>13.889000</td>\n",
       "      <td>58.655000</td>\n",
       "      <td>27.559000</td>\n",
       "      <td>3.590000</td>\n",
       "      <td>30.000000</td>\n",
       "      <td>-4.960000</td>\n",
       "    </tr>\n",
       "    <tr>\n",
       "      <th>75%</th>\n",
       "      <td>41.000000</td>\n",
       "      <td>2.427500e+03</td>\n",
       "      <td>31.475000</td>\n",
       "      <td>46.032000</td>\n",
       "      <td>62.201000</td>\n",
       "      <td>19.058500</td>\n",
       "      <td>61.818000</td>\n",
       "      <td>36.908000</td>\n",
       "      <td>8.180000</td>\n",
       "      <td>147.000000</td>\n",
       "      <td>0.092500</td>\n",
       "    </tr>\n",
       "    <tr>\n",
       "      <th>max</th>\n",
       "      <td>52.000000</td>\n",
       "      <td>3.141991e+06</td>\n",
       "      <td>57.576000</td>\n",
       "      <td>94.117000</td>\n",
       "      <td>100.000000</td>\n",
       "      <td>33.696000</td>\n",
       "      <td>100.002000</td>\n",
       "      <td>76.471000</td>\n",
       "      <td>71.470000</td>\n",
       "      <td>299397.000000</td>\n",
       "      <td>138.460000</td>\n",
       "    </tr>\n",
       "  </tbody>\n",
       "</table>\n",
       "</div>"
      ],
      "text/plain": [
       "       CodigoProvincia    Population  AbstentionPtge     Izda_Pct  \\\n",
       "count      8119.000000  8.119000e+03     8119.000000  8119.000000   \n",
       "mean         26.670772  5.741855e+03       26.506951    34.403789   \n",
       "std          14.896717  4.621520e+04        7.540091    16.482285   \n",
       "min           1.000000  5.000000e+00        0.000000     0.000000   \n",
       "25%          13.000000  1.660000e+02       21.678000    21.892500   \n",
       "50%          26.000000  5.490000e+02       26.429000    35.165000   \n",
       "75%          41.000000  2.427500e+03       31.475000    46.032000   \n",
       "max          52.000000  3.141991e+06       57.576000    94.117000   \n",
       "\n",
       "          Dcha_Pct  Age_under19_Ptge  Age_19_65_pct  Age_over65_pct  \\\n",
       "count  8119.000000       8119.000000    8119.000000     8119.000000   \n",
       "mean     48.915409         13.567747      57.371541       29.073583   \n",
       "std      19.945087          6.780648       6.818072       11.745849   \n",
       "min       0.000000          0.000000      23.459000        0.000000   \n",
       "25%      38.690500          8.334000      53.845000       19.824500   \n",
       "50%      51.582000         13.889000      58.655000       27.559000   \n",
       "75%      62.201000         19.058500      61.818000       36.908000   \n",
       "max     100.000000         33.696000     100.002000       76.471000   \n",
       "\n",
       "       ForeignersPtge  totalEmpresas  PobChange_pct  \n",
       "count     8119.000000    8114.000000    8112.000000  \n",
       "mean         5.619553     398.603032      -4.897406  \n",
       "std          7.348553    4219.366083      10.383417  \n",
       "min         -8.960000       0.000000     -52.270000  \n",
       "25%          1.060000       7.000000     -10.400000  \n",
       "50%          3.590000      30.000000      -4.960000  \n",
       "75%          8.180000     147.000000       0.092500  \n",
       "max         71.470000  299397.000000     138.460000  "
      ]
     },
     "execution_count": 157,
     "metadata": {},
     "output_type": "execute_result"
    }
   ],
   "source": [
    "elec.describe()"
   ]
  },
  {
   "cell_type": "markdown",
   "id": "3f690873",
   "metadata": {},
   "source": [
    "Errores:\n",
    "- Age_19_65_pct posee un porcentaje con unas centésimas mayor a 100, lo cual no es posible\n",
    "- ForeignersPtge tiene un porcentaje mínimo que es negativo, tampoco suena razonable (por  el tipo de variable y descripcion revisada sobre esta)\n",
    "- El tema de la población es delicado, pero parece extraño que los municipios tengan solo 5 habitantes.\n",
    "\n",
    "Esto pasando por alto errores como que la suma de porcentajes de voto s a izq, der y otros no de 100 y muchos otros “pequeños temas”"
   ]
  },
  {
   "cell_type": "code",
   "execution_count": 158,
   "id": "291d7d64",
   "metadata": {},
   "outputs": [
    {
     "name": "stdout",
     "output_type": "stream",
     "text": [
      "Numero de Municipios con Menos de 100 habitantes\n"
     ]
    },
    {
     "data": {
      "text/plain": [
       "1222"
      ]
     },
     "metadata": {},
     "output_type": "display_data"
    },
    {
     "name": "stdout",
     "output_type": "stream",
     "text": [
      "Error en porcentaje maximo\n"
     ]
    },
    {
     "data": {
      "text/html": [
       "<div>\n",
       "<style scoped>\n",
       "    .dataframe tbody tr th:only-of-type {\n",
       "        vertical-align: middle;\n",
       "    }\n",
       "\n",
       "    .dataframe tbody tr th {\n",
       "        vertical-align: top;\n",
       "    }\n",
       "\n",
       "    .dataframe thead th {\n",
       "        text-align: right;\n",
       "    }\n",
       "</style>\n",
       "<table border=\"1\" class=\"dataframe\">\n",
       "  <thead>\n",
       "    <tr style=\"text-align: right;\">\n",
       "      <th></th>\n",
       "      <th>Name</th>\n",
       "      <th>CodigoProvincia</th>\n",
       "      <th>CCAA</th>\n",
       "      <th>Population</th>\n",
       "      <th>AbstentionPtge</th>\n",
       "      <th>Izda_Pct</th>\n",
       "      <th>Dcha_Pct</th>\n",
       "      <th>Age_under19_Ptge</th>\n",
       "      <th>Age_19_65_pct</th>\n",
       "      <th>Age_over65_pct</th>\n",
       "      <th>ForeignersPtge</th>\n",
       "      <th>totalEmpresas</th>\n",
       "      <th>PobChange_pct</th>\n",
       "    </tr>\n",
       "  </thead>\n",
       "  <tbody>\n",
       "    <tr>\n",
       "      <th>5304</th>\n",
       "      <td>Illán de Vacas</td>\n",
       "      <td>45</td>\n",
       "      <td>CastillaMancha</td>\n",
       "      <td>6</td>\n",
       "      <td>0.000</td>\n",
       "      <td>16.667</td>\n",
       "      <td>66.667</td>\n",
       "      <td>0.000</td>\n",
       "      <td>100.002</td>\n",
       "      <td>0.000</td>\n",
       "      <td>0.00</td>\n",
       "      <td>0.0</td>\n",
       "      <td>20.00</td>\n",
       "    </tr>\n",
       "    <tr>\n",
       "      <th>1360</th>\n",
       "      <td>Castilnuevo</td>\n",
       "      <td>19</td>\n",
       "      <td>CastillaMancha</td>\n",
       "      <td>8</td>\n",
       "      <td>0.000</td>\n",
       "      <td>0.000</td>\n",
       "      <td>87.500</td>\n",
       "      <td>0.000</td>\n",
       "      <td>100.000</td>\n",
       "      <td>0.000</td>\n",
       "      <td>0.00</td>\n",
       "      <td>0.0</td>\n",
       "      <td>-38.46</td>\n",
       "    </tr>\n",
       "    <tr>\n",
       "      <th>1147</th>\n",
       "      <td>Arenas del Rey</td>\n",
       "      <td>18</td>\n",
       "      <td>Andalucía</td>\n",
       "      <td>1241</td>\n",
       "      <td>32.782</td>\n",
       "      <td>59.913</td>\n",
       "      <td>37.916</td>\n",
       "      <td>24.255</td>\n",
       "      <td>93.797</td>\n",
       "      <td>32.232</td>\n",
       "      <td>13.14</td>\n",
       "      <td>36.0</td>\n",
       "      <td>-38.84</td>\n",
       "    </tr>\n",
       "  </tbody>\n",
       "</table>\n",
       "</div>"
      ],
      "text/plain": [
       "                Name  CodigoProvincia            CCAA  Population  \\\n",
       "5304  Illán de Vacas               45  CastillaMancha           6   \n",
       "1360     Castilnuevo               19  CastillaMancha           8   \n",
       "1147  Arenas del Rey               18       Andalucía        1241   \n",
       "\n",
       "      AbstentionPtge  Izda_Pct  Dcha_Pct  Age_under19_Ptge  Age_19_65_pct  \\\n",
       "5304           0.000    16.667    66.667             0.000        100.002   \n",
       "1360           0.000     0.000    87.500             0.000        100.000   \n",
       "1147          32.782    59.913    37.916            24.255         93.797   \n",
       "\n",
       "      Age_over65_pct  ForeignersPtge  totalEmpresas  PobChange_pct  \n",
       "5304           0.000            0.00            0.0          20.00  \n",
       "1360           0.000            0.00            0.0         -38.46  \n",
       "1147          32.232           13.14           36.0         -38.84  "
      ]
     },
     "metadata": {},
     "output_type": "display_data"
    },
    {
     "name": "stdout",
     "output_type": "stream",
     "text": [
      "Error en porcentaje minimo\n"
     ]
    },
    {
     "data": {
      "text/html": [
       "<div>\n",
       "<style scoped>\n",
       "    .dataframe tbody tr th:only-of-type {\n",
       "        vertical-align: middle;\n",
       "    }\n",
       "\n",
       "    .dataframe tbody tr th {\n",
       "        vertical-align: top;\n",
       "    }\n",
       "\n",
       "    .dataframe thead th {\n",
       "        text-align: right;\n",
       "    }\n",
       "</style>\n",
       "<table border=\"1\" class=\"dataframe\">\n",
       "  <thead>\n",
       "    <tr style=\"text-align: right;\">\n",
       "      <th></th>\n",
       "      <th>Name</th>\n",
       "      <th>CodigoProvincia</th>\n",
       "      <th>CCAA</th>\n",
       "      <th>Population</th>\n",
       "      <th>AbstentionPtge</th>\n",
       "      <th>Izda_Pct</th>\n",
       "      <th>Dcha_Pct</th>\n",
       "      <th>Age_under19_Ptge</th>\n",
       "      <th>Age_19_65_pct</th>\n",
       "      <th>Age_over65_pct</th>\n",
       "      <th>ForeignersPtge</th>\n",
       "      <th>totalEmpresas</th>\n",
       "      <th>PobChange_pct</th>\n",
       "    </tr>\n",
       "  </thead>\n",
       "  <tbody>\n",
       "    <tr>\n",
       "      <th>841</th>\n",
       "      <td>San Lorenzo de la Parrilla</td>\n",
       "      <td>16</td>\n",
       "      <td>CastillaMancha</td>\n",
       "      <td>1153</td>\n",
       "      <td>24.917</td>\n",
       "      <td>41.037</td>\n",
       "      <td>57.333</td>\n",
       "      <td>15.352</td>\n",
       "      <td>54.728</td>\n",
       "      <td>29.920</td>\n",
       "      <td>-8.96</td>\n",
       "      <td>129.0</td>\n",
       "      <td>-10.48</td>\n",
       "    </tr>\n",
       "    <tr>\n",
       "      <th>7362</th>\n",
       "      <td>Villanueva del Fresno</td>\n",
       "      <td>6</td>\n",
       "      <td>Extremadura</td>\n",
       "      <td>3489</td>\n",
       "      <td>31.370</td>\n",
       "      <td>47.946</td>\n",
       "      <td>48.622</td>\n",
       "      <td>20.293</td>\n",
       "      <td>59.759</td>\n",
       "      <td>19.948</td>\n",
       "      <td>-8.90</td>\n",
       "      <td>151.0</td>\n",
       "      <td>-4.75</td>\n",
       "    </tr>\n",
       "    <tr>\n",
       "      <th>6613</th>\n",
       "      <td>Peñacerrada-Urizaharra</td>\n",
       "      <td>1</td>\n",
       "      <td>PaísVasco</td>\n",
       "      <td>270</td>\n",
       "      <td>28.390</td>\n",
       "      <td>40.828</td>\n",
       "      <td>28.403</td>\n",
       "      <td>12.223</td>\n",
       "      <td>64.075</td>\n",
       "      <td>23.703</td>\n",
       "      <td>-8.80</td>\n",
       "      <td>23.0</td>\n",
       "      <td>-8.78</td>\n",
       "    </tr>\n",
       "  </tbody>\n",
       "</table>\n",
       "</div>"
      ],
      "text/plain": [
       "                            Name  CodigoProvincia            CCAA  Population  \\\n",
       "841   San Lorenzo de la Parrilla               16  CastillaMancha        1153   \n",
       "7362       Villanueva del Fresno                6     Extremadura        3489   \n",
       "6613      Peñacerrada-Urizaharra                1       PaísVasco         270   \n",
       "\n",
       "      AbstentionPtge  Izda_Pct  Dcha_Pct  Age_under19_Ptge  Age_19_65_pct  \\\n",
       "841           24.917    41.037    57.333            15.352         54.728   \n",
       "7362          31.370    47.946    48.622            20.293         59.759   \n",
       "6613          28.390    40.828    28.403            12.223         64.075   \n",
       "\n",
       "      Age_over65_pct  ForeignersPtge  totalEmpresas  PobChange_pct  \n",
       "841           29.920           -8.96          129.0         -10.48  \n",
       "7362          19.948           -8.90          151.0          -4.75  \n",
       "6613          23.703           -8.80           23.0          -8.78  "
      ]
     },
     "metadata": {},
     "output_type": "display_data"
    },
    {
     "name": "stdout",
     "output_type": "stream",
     "text": [
      "Numero de porcentajes negativos\n",
      "653\n"
     ]
    }
   ],
   "source": [
    "pocos_habitantes = np.where( elec['Population']  < 100)\n",
    "print('Numero de Municipios con Menos de 100 habitantes')\n",
    "display(len(pocos_habitantes[0]))\n",
    "print('Error en porcentaje maximo')\n",
    "display(elec.sort_values(by='Age_19_65_pct', ascending=False).head(3))\n",
    "print('Error en porcentaje minimo')\n",
    "display(elec.sort_values(by='ForeignersPtge').head(3))\n",
    "print('Numero de porcentajes negativos')\n",
    "negativos = np.where( elec['ForeignersPtge']  < 0)\n",
    "print (len(negativos[0]))"
   ]
  },
  {
   "cell_type": "code",
   "execution_count": 159,
   "id": "7adc5116",
   "metadata": {},
   "outputs": [
    {
     "data": {
      "text/html": [
       "<div>\n",
       "<style scoped>\n",
       "    .dataframe tbody tr th:only-of-type {\n",
       "        vertical-align: middle;\n",
       "    }\n",
       "\n",
       "    .dataframe tbody tr th {\n",
       "        vertical-align: top;\n",
       "    }\n",
       "\n",
       "    .dataframe thead th {\n",
       "        text-align: right;\n",
       "    }\n",
       "</style>\n",
       "<table border=\"1\" class=\"dataframe\">\n",
       "  <thead>\n",
       "    <tr style=\"text-align: right;\">\n",
       "      <th></th>\n",
       "      <th>CodigoProvincia</th>\n",
       "      <th>Population</th>\n",
       "      <th>AbstentionPtge</th>\n",
       "      <th>Izda_Pct</th>\n",
       "      <th>Dcha_Pct</th>\n",
       "      <th>Age_under19_Ptge</th>\n",
       "      <th>Age_19_65_pct</th>\n",
       "      <th>Age_over65_pct</th>\n",
       "      <th>ForeignersPtge</th>\n",
       "      <th>totalEmpresas</th>\n",
       "      <th>PobChange_pct</th>\n",
       "    </tr>\n",
       "  </thead>\n",
       "  <tbody>\n",
       "    <tr>\n",
       "      <th>count</th>\n",
       "      <td>468.000000</td>\n",
       "      <td>468.000000</td>\n",
       "      <td>468.000000</td>\n",
       "      <td>468.000000</td>\n",
       "      <td>468.000000</td>\n",
       "      <td>468.000000</td>\n",
       "      <td>468.000000</td>\n",
       "      <td>468.000000</td>\n",
       "      <td>468.000000</td>\n",
       "      <td>468.000000</td>\n",
       "      <td>468.000000</td>\n",
       "    </tr>\n",
       "    <tr>\n",
       "      <th>mean</th>\n",
       "      <td>27.709402</td>\n",
       "      <td>32.664530</td>\n",
       "      <td>19.956613</td>\n",
       "      <td>31.467194</td>\n",
       "      <td>62.753564</td>\n",
       "      <td>4.775299</td>\n",
       "      <td>53.016562</td>\n",
       "      <td>42.208177</td>\n",
       "      <td>2.737756</td>\n",
       "      <td>0.391026</td>\n",
       "      <td>-10.705171</td>\n",
       "    </tr>\n",
       "    <tr>\n",
       "      <th>std</th>\n",
       "      <td>14.401439</td>\n",
       "      <td>10.505462</td>\n",
       "      <td>10.526392</td>\n",
       "      <td>18.963070</td>\n",
       "      <td>20.544316</td>\n",
       "      <td>5.312491</td>\n",
       "      <td>12.354724</td>\n",
       "      <td>13.619242</td>\n",
       "      <td>5.961551</td>\n",
       "      <td>1.407720</td>\n",
       "      <td>18.993047</td>\n",
       "    </tr>\n",
       "    <tr>\n",
       "      <th>min</th>\n",
       "      <td>5.000000</td>\n",
       "      <td>5.000000</td>\n",
       "      <td>0.000000</td>\n",
       "      <td>0.000000</td>\n",
       "      <td>0.000000</td>\n",
       "      <td>0.000000</td>\n",
       "      <td>23.528000</td>\n",
       "      <td>0.000000</td>\n",
       "      <td>-8.710000</td>\n",
       "      <td>0.000000</td>\n",
       "      <td>-52.270000</td>\n",
       "    </tr>\n",
       "    <tr>\n",
       "      <th>25%</th>\n",
       "      <td>16.000000</td>\n",
       "      <td>26.000000</td>\n",
       "      <td>13.008000</td>\n",
       "      <td>16.532500</td>\n",
       "      <td>48.571000</td>\n",
       "      <td>0.000000</td>\n",
       "      <td>45.161750</td>\n",
       "      <td>32.258750</td>\n",
       "      <td>0.000000</td>\n",
       "      <td>0.000000</td>\n",
       "      <td>-22.220000</td>\n",
       "    </tr>\n",
       "    <tr>\n",
       "      <th>50%</th>\n",
       "      <td>26.000000</td>\n",
       "      <td>34.000000</td>\n",
       "      <td>20.000000</td>\n",
       "      <td>30.000000</td>\n",
       "      <td>63.636000</td>\n",
       "      <td>3.226000</td>\n",
       "      <td>52.941500</td>\n",
       "      <td>42.105000</td>\n",
       "      <td>0.000000</td>\n",
       "      <td>0.000000</td>\n",
       "      <td>-13.210000</td>\n",
       "    </tr>\n",
       "    <tr>\n",
       "      <th>75%</th>\n",
       "      <td>42.000000</td>\n",
       "      <td>41.000000</td>\n",
       "      <td>26.707500</td>\n",
       "      <td>44.444000</td>\n",
       "      <td>78.827750</td>\n",
       "      <td>7.895250</td>\n",
       "      <td>61.580000</td>\n",
       "      <td>51.724250</td>\n",
       "      <td>3.570000</td>\n",
       "      <td>0.000000</td>\n",
       "      <td>-4.625000</td>\n",
       "    </tr>\n",
       "    <tr>\n",
       "      <th>max</th>\n",
       "      <td>50.000000</td>\n",
       "      <td>49.000000</td>\n",
       "      <td>51.429000</td>\n",
       "      <td>94.117000</td>\n",
       "      <td>100.000000</td>\n",
       "      <td>26.088000</td>\n",
       "      <td>100.002000</td>\n",
       "      <td>76.471000</td>\n",
       "      <td>40.740000</td>\n",
       "      <td>10.000000</td>\n",
       "      <td>138.460000</td>\n",
       "    </tr>\n",
       "  </tbody>\n",
       "</table>\n",
       "</div>"
      ],
      "text/plain": [
       "       CodigoProvincia  Population  AbstentionPtge    Izda_Pct    Dcha_Pct  \\\n",
       "count       468.000000  468.000000      468.000000  468.000000  468.000000   \n",
       "mean         27.709402   32.664530       19.956613   31.467194   62.753564   \n",
       "std          14.401439   10.505462       10.526392   18.963070   20.544316   \n",
       "min           5.000000    5.000000        0.000000    0.000000    0.000000   \n",
       "25%          16.000000   26.000000       13.008000   16.532500   48.571000   \n",
       "50%          26.000000   34.000000       20.000000   30.000000   63.636000   \n",
       "75%          42.000000   41.000000       26.707500   44.444000   78.827750   \n",
       "max          50.000000   49.000000       51.429000   94.117000  100.000000   \n",
       "\n",
       "       Age_under19_Ptge  Age_19_65_pct  Age_over65_pct  ForeignersPtge  \\\n",
       "count        468.000000     468.000000      468.000000      468.000000   \n",
       "mean           4.775299      53.016562       42.208177        2.737756   \n",
       "std            5.312491      12.354724       13.619242        5.961551   \n",
       "min            0.000000      23.528000        0.000000       -8.710000   \n",
       "25%            0.000000      45.161750       32.258750        0.000000   \n",
       "50%            3.226000      52.941500       42.105000        0.000000   \n",
       "75%            7.895250      61.580000       51.724250        3.570000   \n",
       "max           26.088000     100.002000       76.471000       40.740000   \n",
       "\n",
       "       totalEmpresas  PobChange_pct  \n",
       "count     468.000000     468.000000  \n",
       "mean        0.391026     -10.705171  \n",
       "std         1.407720      18.993047  \n",
       "min         0.000000     -52.270000  \n",
       "25%         0.000000     -22.220000  \n",
       "50%         0.000000     -13.210000  \n",
       "75%         0.000000      -4.625000  \n",
       "max        10.000000     138.460000  "
      ]
     },
     "execution_count": 159,
     "metadata": {},
     "output_type": "execute_result"
    }
   ],
   "source": [
    "elec.loc[elec.Population < 50,:].describe()"
   ]
  },
  {
   "cell_type": "markdown",
   "id": "6e7545c7",
   "metadata": {},
   "source": [
    "Lo de las poblaciones es raro, pero se evaluara mas adelante con la comprobación de outliers de la función gestiona_outliers. Por otro lado el tema de los porcentajes negativos podría ser un error al imputar el valor, en donde se coló el símbolo -, pero al no saber con certeza y comprobar que no representa en incidencia a más del 10 por ciento de los datos, se pondrán como valores nulos."
   ]
  },
  {
   "cell_type": "code",
   "execution_count": 160,
   "id": "ded6ffdf",
   "metadata": {},
   "outputs": [
    {
     "name": "stdout",
     "output_type": "stream",
     "text": [
      "<class 'pandas.core.frame.DataFrame'>\n",
      "RangeIndex: 8119 entries, 0 to 8118\n",
      "Data columns (total 13 columns):\n",
      " #   Column            Non-Null Count  Dtype  \n",
      "---  ------            --------------  -----  \n",
      " 0   Name              8119 non-null   object \n",
      " 1   CodigoProvincia   8119 non-null   int64  \n",
      " 2   CCAA              8119 non-null   object \n",
      " 3   Population        8119 non-null   int64  \n",
      " 4   AbstentionPtge    8119 non-null   float64\n",
      " 5   Izda_Pct          8119 non-null   float64\n",
      " 6   Dcha_Pct          8119 non-null   float64\n",
      " 7   Age_under19_Ptge  8119 non-null   float64\n",
      " 8   Age_19_65_pct     8119 non-null   float64\n",
      " 9   Age_over65_pct    8119 non-null   float64\n",
      " 10  ForeignersPtge    7466 non-null   float64\n",
      " 11  totalEmpresas     8114 non-null   float64\n",
      " 12  PobChange_pct     8112 non-null   float64\n",
      "dtypes: float64(9), int64(2), object(2)\n",
      "memory usage: 824.7+ KB\n"
     ]
    }
   ],
   "source": [
    "elec.loc[elec.ForeignersPtge < 0, 'ForeignersPtge'] = np.nan\n",
    "elec.info()"
   ]
  },
  {
   "cell_type": "code",
   "execution_count": 161,
   "id": "38d203bc",
   "metadata": {},
   "outputs": [
    {
     "data": {
      "text/html": [
       "<div>\n",
       "<style scoped>\n",
       "    .dataframe tbody tr th:only-of-type {\n",
       "        vertical-align: middle;\n",
       "    }\n",
       "\n",
       "    .dataframe tbody tr th {\n",
       "        vertical-align: top;\n",
       "    }\n",
       "\n",
       "    .dataframe thead th {\n",
       "        text-align: right;\n",
       "    }\n",
       "</style>\n",
       "<table border=\"1\" class=\"dataframe\">\n",
       "  <thead>\n",
       "    <tr style=\"text-align: right;\">\n",
       "      <th></th>\n",
       "      <th>Name</th>\n",
       "      <th>CCAA</th>\n",
       "      <th>Population</th>\n",
       "      <th>AbstentionPtge</th>\n",
       "      <th>Izda_Pct</th>\n",
       "      <th>Dcha_Pct</th>\n",
       "      <th>Age_under19_Ptge</th>\n",
       "      <th>Age_19_65_pct</th>\n",
       "      <th>Age_over65_pct</th>\n",
       "      <th>ForeignersPtge</th>\n",
       "      <th>totalEmpresas</th>\n",
       "      <th>PobChange_pct</th>\n",
       "    </tr>\n",
       "  </thead>\n",
       "  <tbody>\n",
       "    <tr>\n",
       "      <th>0</th>\n",
       "      <td>Abadía</td>\n",
       "      <td>Extremadura</td>\n",
       "      <td>336</td>\n",
       "      <td>20.213</td>\n",
       "      <td>60.444</td>\n",
       "      <td>35.555</td>\n",
       "      <td>18.155</td>\n",
       "      <td>55.059</td>\n",
       "      <td>26.785</td>\n",
       "      <td>0.89</td>\n",
       "      <td>15.0</td>\n",
       "      <td>3.07</td>\n",
       "    </tr>\n",
       "    <tr>\n",
       "      <th>1</th>\n",
       "      <td>Abertura</td>\n",
       "      <td>Extremadura</td>\n",
       "      <td>429</td>\n",
       "      <td>25.275</td>\n",
       "      <td>54.779</td>\n",
       "      <td>44.118</td>\n",
       "      <td>13.055</td>\n",
       "      <td>56.643</td>\n",
       "      <td>30.304</td>\n",
       "      <td>1.63</td>\n",
       "      <td>11.0</td>\n",
       "      <td>-6.54</td>\n",
       "    </tr>\n",
       "    <tr>\n",
       "      <th>2</th>\n",
       "      <td>Acebo</td>\n",
       "      <td>Extremadura</td>\n",
       "      <td>569</td>\n",
       "      <td>27.241</td>\n",
       "      <td>44.203</td>\n",
       "      <td>53.140</td>\n",
       "      <td>9.139</td>\n",
       "      <td>54.834</td>\n",
       "      <td>36.028</td>\n",
       "      <td>0.70</td>\n",
       "      <td>49.0</td>\n",
       "      <td>-15.58</td>\n",
       "    </tr>\n",
       "    <tr>\n",
       "      <th>3</th>\n",
       "      <td>Acehúche</td>\n",
       "      <td>Extremadura</td>\n",
       "      <td>822</td>\n",
       "      <td>30.114</td>\n",
       "      <td>50.813</td>\n",
       "      <td>45.325</td>\n",
       "      <td>14.964</td>\n",
       "      <td>60.098</td>\n",
       "      <td>24.940</td>\n",
       "      <td>0.12</td>\n",
       "      <td>50.0</td>\n",
       "      <td>-2.38</td>\n",
       "    </tr>\n",
       "    <tr>\n",
       "      <th>4</th>\n",
       "      <td>Aceituna</td>\n",
       "      <td>Extremadura</td>\n",
       "      <td>623</td>\n",
       "      <td>30.185</td>\n",
       "      <td>44.562</td>\n",
       "      <td>49.867</td>\n",
       "      <td>15.569</td>\n",
       "      <td>59.391</td>\n",
       "      <td>25.042</td>\n",
       "      <td>0.64</td>\n",
       "      <td>22.0</td>\n",
       "      <td>-0.32</td>\n",
       "    </tr>\n",
       "  </tbody>\n",
       "</table>\n",
       "</div>"
      ],
      "text/plain": [
       "       Name         CCAA  Population  AbstentionPtge  Izda_Pct  Dcha_Pct  \\\n",
       "0    Abadía  Extremadura         336          20.213    60.444    35.555   \n",
       "1  Abertura  Extremadura         429          25.275    54.779    44.118   \n",
       "2     Acebo  Extremadura         569          27.241    44.203    53.140   \n",
       "3  Acehúche  Extremadura         822          30.114    50.813    45.325   \n",
       "4  Aceituna  Extremadura         623          30.185    44.562    49.867   \n",
       "\n",
       "   Age_under19_Ptge  Age_19_65_pct  Age_over65_pct  ForeignersPtge  \\\n",
       "0            18.155         55.059          26.785            0.89   \n",
       "1            13.055         56.643          30.304            1.63   \n",
       "2             9.139         54.834          36.028            0.70   \n",
       "3            14.964         60.098          24.940            0.12   \n",
       "4            15.569         59.391          25.042            0.64   \n",
       "\n",
       "   totalEmpresas  PobChange_pct  \n",
       "0           15.0           3.07  \n",
       "1           11.0          -6.54  \n",
       "2           49.0         -15.58  \n",
       "3           50.0          -2.38  \n",
       "4           22.0          -0.32  "
      ]
     },
     "execution_count": 161,
     "metadata": {},
     "output_type": "execute_result"
    }
   ],
   "source": [
    "codigoP = elec.CodigoProvincia\n",
    "imput = elec.drop('CodigoProvincia', axis=1)\n",
    "imput.head()"
   ]
  },
  {
   "cell_type": "code",
   "execution_count": 162,
   "id": "84ec8f73",
   "metadata": {},
   "outputs": [
    {
     "data": {
      "text/plain": [
       "Population          45.996406\n",
       "AbstentionPtge      -0.049941\n",
       "Izda_Pct             0.059920\n",
       "Dcha_Pct            -0.468014\n",
       "Age_under19_Ptge    -0.103561\n",
       "Age_19_65_pct       -0.814636\n",
       "Age_over65_pct       0.598441\n",
       "ForeignersPtge       2.755577\n",
       "totalEmpresas       53.704675\n",
       "PobChange_pct        1.505331\n",
       "dtype: float64"
      ]
     },
     "execution_count": 162,
     "metadata": {},
     "output_type": "execute_result"
    }
   ],
   "source": [
    "imput.select_dtypes(include=np.number).apply(lambda x: x.skew())"
   ]
  },
  {
   "cell_type": "markdown",
   "id": "d533fda4",
   "metadata": {},
   "source": [
    "existen muchas variables con sesgos marcados como lo son votos diferentes a izq o derecha, el porcentaje de extranjeros y sobre todo el total de empresas."
   ]
  },
  {
   "cell_type": "code",
   "execution_count": 163,
   "id": "4e36b29f",
   "metadata": {},
   "outputs": [
    {
     "name": "stdout",
     "output_type": "stream",
     "text": [
      "Population\n",
      "AbstentionPtge\n",
      "Izda_Pct\n",
      "Dcha_Pct\n",
      "Age_under19_Ptge\n",
      "Age_19_65_pct\n",
      "Age_over65_pct\n",
      "ForeignersPtge\n",
      "totalEmpresas\n",
      "PobChange_pct\n"
     ]
    },
    {
     "data": {
      "text/html": [
       "<div>\n",
       "<style scoped>\n",
       "    .dataframe tbody tr th:only-of-type {\n",
       "        vertical-align: middle;\n",
       "    }\n",
       "\n",
       "    .dataframe tbody tr th {\n",
       "        vertical-align: top;\n",
       "    }\n",
       "\n",
       "    .dataframe thead th {\n",
       "        text-align: right;\n",
       "    }\n",
       "</style>\n",
       "<table border=\"1\" class=\"dataframe\">\n",
       "  <thead>\n",
       "    <tr style=\"text-align: right;\">\n",
       "      <th></th>\n",
       "      <th>Population</th>\n",
       "      <th>AbstentionPtge</th>\n",
       "      <th>Izda_Pct</th>\n",
       "      <th>Dcha_Pct</th>\n",
       "      <th>Age_under19_Ptge</th>\n",
       "      <th>Age_19_65_pct</th>\n",
       "      <th>Age_over65_pct</th>\n",
       "      <th>ForeignersPtge</th>\n",
       "      <th>totalEmpresas</th>\n",
       "      <th>PobChange_pct</th>\n",
       "    </tr>\n",
       "  </thead>\n",
       "  <tbody>\n",
       "    <tr>\n",
       "      <th>0</th>\n",
       "      <td>0.000000</td>\n",
       "      <td>0.0</td>\n",
       "      <td>0.0</td>\n",
       "      <td>0.0</td>\n",
       "      <td>0.0</td>\n",
       "      <td>0.258653</td>\n",
       "      <td>0.0</td>\n",
       "      <td>0.000000</td>\n",
       "      <td>0.000000</td>\n",
       "      <td>0.000000</td>\n",
       "    </tr>\n",
       "    <tr>\n",
       "      <th>1</th>\n",
       "      <td>1.391797</td>\n",
       "      <td>0.0</td>\n",
       "      <td>0.0</td>\n",
       "      <td>0.0</td>\n",
       "      <td>0.0</td>\n",
       "      <td>0.036950</td>\n",
       "      <td>0.0</td>\n",
       "      <td>0.388428</td>\n",
       "      <td>1.281735</td>\n",
       "      <td>0.135602</td>\n",
       "    </tr>\n",
       "    <tr>\n",
       "      <th>2</th>\n",
       "      <td>1.391797</td>\n",
       "      <td>0.0</td>\n",
       "      <td>0.0</td>\n",
       "      <td>0.0</td>\n",
       "      <td>0.0</td>\n",
       "      <td>0.295603</td>\n",
       "      <td>0.0</td>\n",
       "      <td>0.388428</td>\n",
       "      <td>1.281735</td>\n",
       "      <td>0.135602</td>\n",
       "    </tr>\n",
       "  </tbody>\n",
       "</table>\n",
       "</div>"
      ],
      "text/plain": [
       "   Population  AbstentionPtge  Izda_Pct  Dcha_Pct  Age_under19_Ptge  \\\n",
       "0    0.000000             0.0       0.0       0.0               0.0   \n",
       "1    1.391797             0.0       0.0       0.0               0.0   \n",
       "2    1.391797             0.0       0.0       0.0               0.0   \n",
       "\n",
       "   Age_19_65_pct  Age_over65_pct  ForeignersPtge  totalEmpresas  PobChange_pct  \n",
       "0       0.258653             0.0        0.000000       0.000000       0.000000  \n",
       "1       0.036950             0.0        0.388428       1.281735       0.135602  \n",
       "2       0.295603             0.0        0.388428       1.281735       0.135602  "
      ]
     },
     "execution_count": 163,
     "metadata": {},
     "output_type": "execute_result"
    }
   ],
   "source": [
    "imput.select_dtypes(include=np.number).copy().apply(lambda x: gestiona_outliers(x))"
   ]
  },
  {
   "cell_type": "code",
   "execution_count": 164,
   "id": "78a358b2",
   "metadata": {},
   "outputs": [],
   "source": [
    "#sns.boxplot(imput.Population)"
   ]
  },
  {
   "cell_type": "markdown",
   "id": "b0184878",
   "metadata": {},
   "source": [
    "El máximo porcentaje de outliers es de 1.4% valor muy pequeño y que por lo tanto se mantendrán dentro del data set para continuar con el ejercicio (se dejan principalmente al ser valores atípicos pero que no por ello sean falsos, los únicos casos raros son los de poca población pero existen muchos casos así)"
   ]
  },
  {
   "cell_type": "code",
   "execution_count": 165,
   "id": "c9802560",
   "metadata": {},
   "outputs": [
    {
     "data": {
      "text/html": [
       "<div>\n",
       "<style scoped>\n",
       "    .dataframe tbody tr th:only-of-type {\n",
       "        vertical-align: middle;\n",
       "    }\n",
       "\n",
       "    .dataframe tbody tr th {\n",
       "        vertical-align: top;\n",
       "    }\n",
       "\n",
       "    .dataframe thead th {\n",
       "        text-align: right;\n",
       "    }\n",
       "</style>\n",
       "<table border=\"1\" class=\"dataframe\">\n",
       "  <thead>\n",
       "    <tr style=\"text-align: right;\">\n",
       "      <th></th>\n",
       "      <th>Population</th>\n",
       "      <th>AbstentionPtge</th>\n",
       "      <th>Izda_Pct</th>\n",
       "      <th>Dcha_Pct</th>\n",
       "      <th>Age_under19_Ptge</th>\n",
       "      <th>Age_19_65_pct</th>\n",
       "      <th>Age_over65_pct</th>\n",
       "      <th>ForeignersPtge</th>\n",
       "      <th>totalEmpresas</th>\n",
       "      <th>PobChange_pct</th>\n",
       "    </tr>\n",
       "    <tr>\n",
       "      <th>CCAA</th>\n",
       "      <th></th>\n",
       "      <th></th>\n",
       "      <th></th>\n",
       "      <th></th>\n",
       "      <th></th>\n",
       "      <th></th>\n",
       "      <th></th>\n",
       "      <th></th>\n",
       "      <th></th>\n",
       "      <th></th>\n",
       "    </tr>\n",
       "  </thead>\n",
       "  <tbody>\n",
       "    <tr>\n",
       "      <th>Andalucía</th>\n",
       "      <td>8393616</td>\n",
       "      <td>28.702028</td>\n",
       "      <td>55.177999</td>\n",
       "      <td>41.409270</td>\n",
       "      <td>18.304943</td>\n",
       "      <td>60.876649</td>\n",
       "      <td>20.938508</td>\n",
       "      <td>6.268234</td>\n",
       "      <td>489236.0</td>\n",
       "      <td>-2.588117</td>\n",
       "    </tr>\n",
       "    <tr>\n",
       "      <th>Aragón</th>\n",
       "      <td>1317847</td>\n",
       "      <td>25.033557</td>\n",
       "      <td>41.598175</td>\n",
       "      <td>54.711115</td>\n",
       "      <td>11.171264</td>\n",
       "      <td>55.521389</td>\n",
       "      <td>33.307423</td>\n",
       "      <td>7.410950</td>\n",
       "      <td>90048.0</td>\n",
       "      <td>-6.309685</td>\n",
       "    </tr>\n",
       "    <tr>\n",
       "      <th>Asturias</th>\n",
       "      <td>1051229</td>\n",
       "      <td>33.762987</td>\n",
       "      <td>49.701974</td>\n",
       "      <td>46.295385</td>\n",
       "      <td>11.563526</td>\n",
       "      <td>58.626064</td>\n",
       "      <td>29.810372</td>\n",
       "      <td>2.600959</td>\n",
       "      <td>67674.0</td>\n",
       "      <td>-5.716538</td>\n",
       "    </tr>\n",
       "    <tr>\n",
       "      <th>Baleares</th>\n",
       "      <td>1104479</td>\n",
       "      <td>33.574701</td>\n",
       "      <td>44.388761</td>\n",
       "      <td>48.681119</td>\n",
       "      <td>19.773448</td>\n",
       "      <td>62.421522</td>\n",
       "      <td>17.805015</td>\n",
       "      <td>16.095000</td>\n",
       "      <td>89341.0</td>\n",
       "      <td>-0.539104</td>\n",
       "    </tr>\n",
       "    <tr>\n",
       "      <th>Canarias</th>\n",
       "      <td>2100306</td>\n",
       "      <td>34.843398</td>\n",
       "      <td>39.926080</td>\n",
       "      <td>45.635125</td>\n",
       "      <td>17.961705</td>\n",
       "      <td>64.421011</td>\n",
       "      <td>17.617239</td>\n",
       "      <td>11.479125</td>\n",
       "      <td>135909.0</td>\n",
       "      <td>-2.417045</td>\n",
       "    </tr>\n",
       "    <tr>\n",
       "      <th>Cantabria</th>\n",
       "      <td>585179</td>\n",
       "      <td>26.880235</td>\n",
       "      <td>38.197441</td>\n",
       "      <td>58.299588</td>\n",
       "      <td>14.450471</td>\n",
       "      <td>61.367000</td>\n",
       "      <td>24.182500</td>\n",
       "      <td>3.330575</td>\n",
       "      <td>37692.0</td>\n",
       "      <td>-1.560686</td>\n",
       "    </tr>\n",
       "    <tr>\n",
       "      <th>CastillaLeón</th>\n",
       "      <td>2472052</td>\n",
       "      <td>23.822925</td>\n",
       "      <td>31.514937</td>\n",
       "      <td>64.860948</td>\n",
       "      <td>8.723355</td>\n",
       "      <td>54.563655</td>\n",
       "      <td>36.713069</td>\n",
       "      <td>3.829932</td>\n",
       "      <td>160390.0</td>\n",
       "      <td>-7.552451</td>\n",
       "    </tr>\n",
       "    <tr>\n",
       "      <th>CastillaMancha</th>\n",
       "      <td>2059191</td>\n",
       "      <td>22.698995</td>\n",
       "      <td>42.159800</td>\n",
       "      <td>54.733021</td>\n",
       "      <td>12.399628</td>\n",
       "      <td>55.366363</td>\n",
       "      <td>32.234108</td>\n",
       "      <td>7.221686</td>\n",
       "      <td>126143.0</td>\n",
       "      <td>-8.291893</td>\n",
       "    </tr>\n",
       "    <tr>\n",
       "      <th>Cataluña</th>\n",
       "      <td>7508106</td>\n",
       "      <td>34.286721</td>\n",
       "      <td>9.709147</td>\n",
       "      <td>15.489498</td>\n",
       "      <td>18.674294</td>\n",
       "      <td>60.009161</td>\n",
       "      <td>21.316567</td>\n",
       "      <td>9.184219</td>\n",
       "      <td>596172.0</td>\n",
       "      <td>-1.313171</td>\n",
       "    </tr>\n",
       "    <tr>\n",
       "      <th>Ceuta</th>\n",
       "      <td>84263</td>\n",
       "      <td>47.411000</td>\n",
       "      <td>33.027000</td>\n",
       "      <td>62.709000</td>\n",
       "      <td>27.162000</td>\n",
       "      <td>61.811000</td>\n",
       "      <td>11.028000</td>\n",
       "      <td>6.110000</td>\n",
       "      <td>3762.0</td>\n",
       "      <td>4.570000</td>\n",
       "    </tr>\n",
       "    <tr>\n",
       "      <th>ComValenciana</th>\n",
       "      <td>4980689</td>\n",
       "      <td>21.888273</td>\n",
       "      <td>22.619101</td>\n",
       "      <td>49.068886</td>\n",
       "      <td>16.338419</td>\n",
       "      <td>59.472661</td>\n",
       "      <td>24.188871</td>\n",
       "      <td>11.743380</td>\n",
       "      <td>344518.0</td>\n",
       "      <td>-3.714723</td>\n",
       "    </tr>\n",
       "    <tr>\n",
       "      <th>Extremadura</th>\n",
       "      <td>1092161</td>\n",
       "      <td>26.541096</td>\n",
       "      <td>51.445243</td>\n",
       "      <td>45.760687</td>\n",
       "      <td>14.409016</td>\n",
       "      <td>57.336966</td>\n",
       "      <td>28.283207</td>\n",
       "      <td>2.158768</td>\n",
       "      <td>65281.0</td>\n",
       "      <td>-4.072260</td>\n",
       "    </tr>\n",
       "    <tr>\n",
       "      <th>Galicia</th>\n",
       "      <td>2732347</td>\n",
       "      <td>30.870268</td>\n",
       "      <td>22.624306</td>\n",
       "      <td>55.873277</td>\n",
       "      <td>11.653592</td>\n",
       "      <td>55.989828</td>\n",
       "      <td>32.356656</td>\n",
       "      <td>2.466771</td>\n",
       "      <td>197234.0</td>\n",
       "      <td>-6.746486</td>\n",
       "    </tr>\n",
       "    <tr>\n",
       "      <th>Madrid</th>\n",
       "      <td>6436996</td>\n",
       "      <td>25.072363</td>\n",
       "      <td>38.733570</td>\n",
       "      <td>57.527793</td>\n",
       "      <td>21.340352</td>\n",
       "      <td>62.678698</td>\n",
       "      <td>15.980966</td>\n",
       "      <td>12.341173</td>\n",
       "      <td>516402.0</td>\n",
       "      <td>3.305363</td>\n",
       "    </tr>\n",
       "    <tr>\n",
       "      <th>Melilla</th>\n",
       "      <td>85584</td>\n",
       "      <td>48.650000</td>\n",
       "      <td>34.417000</td>\n",
       "      <td>61.451000</td>\n",
       "      <td>29.676000</td>\n",
       "      <td>60.640000</td>\n",
       "      <td>9.684000</td>\n",
       "      <td>15.120000</td>\n",
       "      <td>4349.0</td>\n",
       "      <td>12.560000</td>\n",
       "    </tr>\n",
       "    <tr>\n",
       "      <th>Murcia</th>\n",
       "      <td>1467288</td>\n",
       "      <td>27.383689</td>\n",
       "      <td>37.337111</td>\n",
       "      <td>59.297022</td>\n",
       "      <td>21.892933</td>\n",
       "      <td>61.581400</td>\n",
       "      <td>16.525956</td>\n",
       "      <td>13.127619</td>\n",
       "      <td>92008.0</td>\n",
       "      <td>0.161111</td>\n",
       "    </tr>\n",
       "    <tr>\n",
       "      <th>Navarra</th>\n",
       "      <td>640476</td>\n",
       "      <td>30.024482</td>\n",
       "      <td>40.204996</td>\n",
       "      <td>35.973989</td>\n",
       "      <td>15.935044</td>\n",
       "      <td>58.106338</td>\n",
       "      <td>25.958614</td>\n",
       "      <td>5.123451</td>\n",
       "      <td>43866.0</td>\n",
       "      <td>-2.364743</td>\n",
       "    </tr>\n",
       "    <tr>\n",
       "      <th>PaísVasco</th>\n",
       "      <td>2189257</td>\n",
       "      <td>31.964825</td>\n",
       "      <td>31.297908</td>\n",
       "      <td>9.794203</td>\n",
       "      <td>19.275510</td>\n",
       "      <td>60.657606</td>\n",
       "      <td>20.066888</td>\n",
       "      <td>5.039550</td>\n",
       "      <td>151216.0</td>\n",
       "      <td>1.312311</td>\n",
       "    </tr>\n",
       "    <tr>\n",
       "      <th>Rioja</th>\n",
       "      <td>317053</td>\n",
       "      <td>19.049741</td>\n",
       "      <td>37.199534</td>\n",
       "      <td>59.471718</td>\n",
       "      <td>10.022897</td>\n",
       "      <td>57.214155</td>\n",
       "      <td>32.763080</td>\n",
       "      <td>6.492013</td>\n",
       "      <td>23024.0</td>\n",
       "      <td>-5.963103</td>\n",
       "    </tr>\n",
       "  </tbody>\n",
       "</table>\n",
       "</div>"
      ],
      "text/plain": [
       "                Population  AbstentionPtge   Izda_Pct   Dcha_Pct  \\\n",
       "CCAA                                                               \n",
       "Andalucía          8393616       28.702028  55.177999  41.409270   \n",
       "Aragón             1317847       25.033557  41.598175  54.711115   \n",
       "Asturias           1051229       33.762987  49.701974  46.295385   \n",
       "Baleares           1104479       33.574701  44.388761  48.681119   \n",
       "Canarias           2100306       34.843398  39.926080  45.635125   \n",
       "Cantabria           585179       26.880235  38.197441  58.299588   \n",
       "CastillaLeón       2472052       23.822925  31.514937  64.860948   \n",
       "CastillaMancha     2059191       22.698995  42.159800  54.733021   \n",
       "Cataluña           7508106       34.286721   9.709147  15.489498   \n",
       "Ceuta                84263       47.411000  33.027000  62.709000   \n",
       "ComValenciana      4980689       21.888273  22.619101  49.068886   \n",
       "Extremadura        1092161       26.541096  51.445243  45.760687   \n",
       "Galicia            2732347       30.870268  22.624306  55.873277   \n",
       "Madrid             6436996       25.072363  38.733570  57.527793   \n",
       "Melilla              85584       48.650000  34.417000  61.451000   \n",
       "Murcia             1467288       27.383689  37.337111  59.297022   \n",
       "Navarra             640476       30.024482  40.204996  35.973989   \n",
       "PaísVasco          2189257       31.964825  31.297908   9.794203   \n",
       "Rioja               317053       19.049741  37.199534  59.471718   \n",
       "\n",
       "                Age_under19_Ptge  Age_19_65_pct  Age_over65_pct  \\\n",
       "CCAA                                                              \n",
       "Andalucía              18.304943      60.876649       20.938508   \n",
       "Aragón                 11.171264      55.521389       33.307423   \n",
       "Asturias               11.563526      58.626064       29.810372   \n",
       "Baleares               19.773448      62.421522       17.805015   \n",
       "Canarias               17.961705      64.421011       17.617239   \n",
       "Cantabria              14.450471      61.367000       24.182500   \n",
       "CastillaLeón            8.723355      54.563655       36.713069   \n",
       "CastillaMancha         12.399628      55.366363       32.234108   \n",
       "Cataluña               18.674294      60.009161       21.316567   \n",
       "Ceuta                  27.162000      61.811000       11.028000   \n",
       "ComValenciana          16.338419      59.472661       24.188871   \n",
       "Extremadura            14.409016      57.336966       28.283207   \n",
       "Galicia                11.653592      55.989828       32.356656   \n",
       "Madrid                 21.340352      62.678698       15.980966   \n",
       "Melilla                29.676000      60.640000        9.684000   \n",
       "Murcia                 21.892933      61.581400       16.525956   \n",
       "Navarra                15.935044      58.106338       25.958614   \n",
       "PaísVasco              19.275510      60.657606       20.066888   \n",
       "Rioja                  10.022897      57.214155       32.763080   \n",
       "\n",
       "                ForeignersPtge  totalEmpresas  PobChange_pct  \n",
       "CCAA                                                          \n",
       "Andalucía             6.268234       489236.0      -2.588117  \n",
       "Aragón                7.410950        90048.0      -6.309685  \n",
       "Asturias              2.600959        67674.0      -5.716538  \n",
       "Baleares             16.095000        89341.0      -0.539104  \n",
       "Canarias             11.479125       135909.0      -2.417045  \n",
       "Cantabria             3.330575        37692.0      -1.560686  \n",
       "CastillaLeón          3.829932       160390.0      -7.552451  \n",
       "CastillaMancha        7.221686       126143.0      -8.291893  \n",
       "Cataluña              9.184219       596172.0      -1.313171  \n",
       "Ceuta                 6.110000         3762.0       4.570000  \n",
       "ComValenciana        11.743380       344518.0      -3.714723  \n",
       "Extremadura           2.158768        65281.0      -4.072260  \n",
       "Galicia               2.466771       197234.0      -6.746486  \n",
       "Madrid               12.341173       516402.0       3.305363  \n",
       "Melilla              15.120000         4349.0      12.560000  \n",
       "Murcia               13.127619        92008.0       0.161111  \n",
       "Navarra               5.123451        43866.0      -2.364743  \n",
       "PaísVasco             5.039550       151216.0       1.312311  \n",
       "Rioja                 6.492013        23024.0      -5.963103  "
      ]
     },
     "execution_count": 165,
     "metadata": {},
     "output_type": "execute_result"
    }
   ],
   "source": [
    "grupos = imput.groupby('CCAA').agg({'Population': 'sum', 'AbstentionPtge': 'mean',\n",
    "                                   'Izda_Pct': 'mean', 'Dcha_Pct': 'mean', \n",
    "                                   'Age_under19_Ptge': 'mean', 'Age_19_65_pct': 'mean',\n",
    "                                    'Age_over65_pct':'mean','ForeignersPtge': 'mean',\n",
    "                                   'totalEmpresas': 'sum', 'PobChange_pct': 'mean'}, )\n",
    "grupos"
   ]
  },
  {
   "cell_type": "code",
   "execution_count": 166,
   "id": "ead19b45",
   "metadata": {},
   "outputs": [],
   "source": [
    "X_scaled = scale(grupos)"
   ]
  },
  {
   "cell_type": "markdown",
   "id": "7df19a02",
   "metadata": {},
   "source": [
    "En este caso si se debe escalar los datos ya que para las variables población y total de empresas se realiza agregación por suma."
   ]
  },
  {
   "cell_type": "code",
   "execution_count": 167,
   "id": "4d02f70f",
   "metadata": {},
   "outputs": [
    {
     "name": "stdout",
     "output_type": "stream",
     "text": [
      "ward :\t0.01s\n"
     ]
    },
    {
     "data": {
      "image/png": "[encoded data removed]",
      "text/plain": [
       "<Figure size 748.8x514.8 with 1 Axes>"
      ]
     },
     "metadata": {},
     "output_type": "display_data"
    },
    {
     "name": "stdout",
     "output_type": "stream",
     "text": [
      "average :\t0.00s\n"
     ]
    },
    {
     "data": {
      "image/png": "[encoded data removed]",
      "text/plain": [
       "<Figure size 748.8x514.8 with 1 Axes>"
      ]
     },
     "metadata": {},
     "output_type": "display_data"
    },
    {
     "name": "stdout",
     "output_type": "stream",
     "text": [
      "complete :\t0.00s\n"
     ]
    },
    {
     "data": {
      "image/png": "[encoded data removed]",
      "text/plain": [
       "<Figure size 748.8x514.8 with 1 Axes>"
      ]
     },
     "metadata": {},
     "output_type": "display_data"
    },
    {
     "name": "stdout",
     "output_type": "stream",
     "text": [
      "single :\t0.00s\n"
     ]
    },
    {
     "data": {
      "image/png": "[encoded data removed]",
      "text/plain": [
       "<Figure size 748.8x514.8 with 1 Axes>"
      ]
     },
     "metadata": {},
     "output_type": "display_data"
    }
   ],
   "source": [
    "from sklearn.cluster import AgglomerativeClustering\n",
    "from scipy.cluster.hierarchy import dendrogram\n",
    "from time import time\n",
    "\n",
    "for linkage in (\"ward\", \"average\", \"complete\", \"single\"):\n",
    "    clustering = AgglomerativeClustering(linkage=linkage, n_clusters=None,\n",
    "                            distance_threshold = 0)\n",
    "    t0 = time()\n",
    "    clustering.fit(X_scaled)\n",
    "    print(\"%s :\\t%.2fs\" % (linkage, time() - t0))\n",
    "    \n",
    "    plt.clf()\n",
    "    plot_dendogram(clustering)"
   ]
  },
  {
   "cell_type": "markdown",
   "id": "95d5d756",
   "metadata": {},
   "source": [
    "el modelo mas adecuado parece ser el de Ward y el numero de grupos optimo parece ser de 3. El tipo de metodo para calcular la distancia sera el euclidean."
   ]
  },
  {
   "cell_type": "code",
   "execution_count": 168,
   "id": "6a9d9e8c",
   "metadata": {},
   "outputs": [
    {
     "data": {
      "text/plain": [
       "AgglomerativeClustering(n_clusters=3)"
      ]
     },
     "execution_count": 168,
     "metadata": {},
     "output_type": "execute_result"
    }
   ],
   "source": [
    "modelo_hclust_ward = AgglomerativeClustering(\n",
    "                            affinity = 'euclidean',\n",
    "                            linkage  = 'ward',\n",
    "                            n_clusters  = 3 \n",
    "                     )\n",
    "modelo_hclust_ward.fit(X=X_scaled)"
   ]
  },
  {
   "cell_type": "code",
   "execution_count": 169,
   "id": "08ca493f",
   "metadata": {},
   "outputs": [
    {
     "data": {
      "text/plain": [
       "0.35510973632052056"
      ]
     },
     "execution_count": 169,
     "metadata": {},
     "output_type": "execute_result"
    }
   ],
   "source": [
    "cluster_labels = modelo_hclust_ward.fit_predict(X_scaled)\n",
    "\n",
    "silhouette_score(X_scaled, cluster_labels)"
   ]
  },
  {
   "cell_type": "markdown",
   "id": "c777cb93",
   "metadata": {},
   "source": [
    "Un valor bastante bajo de la silueta, por lo que se augura un modelo poco preciso"
   ]
  },
  {
   "cell_type": "code",
   "execution_count": 170,
   "id": "6027ac0d",
   "metadata": {},
   "outputs": [
    {
     "data": {
      "text/plain": [
       "10.274547285098052"
      ]
     },
     "execution_count": 170,
     "metadata": {},
     "output_type": "execute_result"
    }
   ],
   "source": [
    "from sklearn import metrics\n",
    "metrics.calinski_harabasz_score(X_scaled, cluster_labels)"
   ]
  },
  {
   "cell_type": "markdown",
   "id": "32c7980f",
   "metadata": {},
   "source": [
    "El valor de este índice es muy pequeña, otra señal de la poca efectividad que tendrá este modelo para el agrupamiento de variables."
   ]
  },
  {
   "cell_type": "code",
   "execution_count": 171,
   "id": "4ee95527",
   "metadata": {},
   "outputs": [
    {
     "data": {
      "text/plain": [
       "NearestCentroid()"
      ]
     },
     "execution_count": 171,
     "metadata": {},
     "output_type": "execute_result"
    }
   ],
   "source": [
    "from sklearn.neighbors import NearestCentroid\n",
    "\n",
    "clf = NearestCentroid()\n",
    "clf.fit(X_scaled, cluster_labels)"
   ]
  },
  {
   "cell_type": "code",
   "execution_count": 172,
   "id": "b1888e9b",
   "metadata": {},
   "outputs": [
    {
     "data": {
      "application/vnd.plotly.v1+json": {
       "config": {
        "plotlyServerURL": "https://plot.ly"
       },
       "data": [
        {
         "hovertemplate": "Population=%{x}<br>AbstentionPtge=%{y}<br>CCAA=%{text}<br>cluster=%{marker.color}<extra></extra>",
         "legendgroup": "",
         "marker": {
          "color": [
           2,
           1,
           1,
           0,
           0,
           1,
           1,
           1,
           2,
           0,
           2,
           1,
           1,
           2,
           0,
           0,
           1,
           2,
           1
          ],
          "coloraxis": "coloraxis",
          "symbol": "circle"
         },
         "mode": "markers+text",
         "name": "",
         "orientation": "v",
         "showlegend": false,
         "text": [
          "Andalucía",
          "Aragón",
          "Asturias",
          "Baleares",
          "Canarias",
          "Cantabria",
          "CastillaLeón",
          "CastillaMancha",
          "Cataluña",
          "Ceuta",
          "ComValenciana",
          "Extremadura",
          "Galicia",
          "Madrid",
          "Melilla",
          "Murcia",
          "Navarra",
          "PaísVasco",
          "Rioja"
         ],
         "type": "scatter",
         "x": [
          8393616,
          1317847,
          1051229,
          1104479,
          2100306,
          585179,
          2472052,
          2059191,
          7508106,
          84263,
          4980689,
          1092161,
          2732347,
          6436996,
          85584,
          1467288,
          640476,
          2189257,
          317053
         ],
         "xaxis": "x",
         "y": [
          28.70202846054334,
          25.033556771545825,
          33.762987179487176,
          33.574701492537315,
          34.84339772727273,
          26.880235294117647,
          23.822925266903916,
          22.698994559303593,
          34.286721224920804,
          47.411,
          21.888273062730626,
          26.541095607235142,
          30.870267515923565,
          25.072363128491624,
          48.65,
          27.38368888888889,
          30.02448161764706,
          31.96482470119522,
          19.049741379310348
         ],
         "yaxis": "y"
        }
       ],
       "layout": {
        "coloraxis": {
         "colorbar": {
          "title": {
           "text": "cluster"
          }
         },
         "colorscale": [
          [
           0,
           "#0d0887"
          ],
          [
           0.1111111111111111,
           "#46039f"
          ],
          [
           0.2222222222222222,
           "#7201a8"
          ],
          [
           0.3333333333333333,
           "#9c179e"
          ],
          [
           0.4444444444444444,
           "#bd3786"
          ],
          [
           0.5555555555555556,
           "#d8576b"
          ],
          [
           0.6666666666666666,
           "#ed7953"
          ],
          [
           0.7777777777777778,
           "#fb9f3a"
          ],
          [
           0.8888888888888888,
           "#fdca26"
          ],
          [
           1,
           "#f0f921"
          ]
         ]
        },
        "legend": {
         "tracegroupgap": 0
        },
        "margin": {
         "t": 60
        },
        "template": {
         "data": {
          "bar": [
           {
            "error_x": {
             "color": "#2a3f5f"
            },
            "error_y": {
             "color": "#2a3f5f"
            },
            "marker": {
             "line": {
              "color": "#E5ECF6",
              "width": 0.5
             },
             "pattern": {
              "fillmode": "overlay",
              "size": 10,
              "solidity": 0.2
             }
            },
            "type": "bar"
           }
          ],
          "barpolar": [
           {
            "marker": {
             "line": {
              "color": "#E5ECF6",
              "width": 0.5
             },
             "pattern": {
              "fillmode": "overlay",
              "size": 10,
              "solidity": 0.2
             }
            },
            "type": "barpolar"
           }
          ],
          "carpet": [
           {
            "aaxis": {
             "endlinecolor": "#2a3f5f",
             "gridcolor": "white",
             "linecolor": "white",
             "minorgridcolor": "white",
             "startlinecolor": "#2a3f5f"
            },
            "baxis": {
             "endlinecolor": "#2a3f5f",
             "gridcolor": "white",
             "linecolor": "white",
             "minorgridcolor": "white",
             "startlinecolor": "#2a3f5f"
            },
            "type": "carpet"
           }
          ],
          "choropleth": [
           {
            "colorbar": {
             "outlinewidth": 0,
             "ticks": ""
            },
            "type": "choropleth"
           }
          ],
          "contour": [
           {
            "colorbar": {
             "outlinewidth": 0,
             "ticks": ""
            },
            "colorscale": [
             [
              0,
              "#0d0887"
             ],
             [
              0.1111111111111111,
              "#46039f"
             ],
             [
              0.2222222222222222,
              "#7201a8"
             ],
             [
              0.3333333333333333,
              "#9c179e"
             ],
             [
              0.4444444444444444,
              "#bd3786"
             ],
             [
              0.5555555555555556,
              "#d8576b"
             ],
             [
              0.6666666666666666,
              "#ed7953"
             ],
             [
              0.7777777777777778,
              "#fb9f3a"
             ],
             [
              0.8888888888888888,
              "#fdca26"
             ],
             [
              1,
              "#f0f921"
             ]
            ],
            "type": "contour"
           }
          ],
          "contourcarpet": [
           {
            "colorbar": {
             "outlinewidth": 0,
             "ticks": ""
            },
            "type": "contourcarpet"
           }
          ],
          "heatmap": [
           {
            "colorbar": {
             "outlinewidth": 0,
             "ticks": ""
            },
            "colorscale": [
             [
              0,
              "#0d0887"
             ],
             [
              0.1111111111111111,
              "#46039f"
             ],
             [
              0.2222222222222222,
              "#7201a8"
             ],
             [
              0.3333333333333333,
              "#9c179e"
             ],
             [
              0.4444444444444444,
              "#bd3786"
             ],
             [
              0.5555555555555556,
              "#d8576b"
             ],
             [
              0.6666666666666666,
              "#ed7953"
             ],
             [
              0.7777777777777778,
              "#fb9f3a"
             ],
             [
              0.8888888888888888,
              "#fdca26"
             ],
             [
              1,
              "#f0f921"
             ]
            ],
            "type": "heatmap"
           }
          ],
          "heatmapgl": [
           {
            "colorbar": {
             "outlinewidth": 0,
             "ticks": ""
            },
            "colorscale": [
             [
              0,
              "#0d0887"
             ],
             [
              0.1111111111111111,
              "#46039f"
             ],
             [
              0.2222222222222222,
              "#7201a8"
             ],
             [
              0.3333333333333333,
              "#9c179e"
             ],
             [
              0.4444444444444444,
              "#bd3786"
             ],
             [
              0.5555555555555556,
              "#d8576b"
             ],
             [
              0.6666666666666666,
              "#ed7953"
             ],
             [
              0.7777777777777778,
              "#fb9f3a"
             ],
             [
              0.8888888888888888,
              "#fdca26"
             ],
             [
              1,
              "#f0f921"
             ]
            ],
            "type": "heatmapgl"
           }
          ],
          "histogram": [
           {
            "marker": {
             "pattern": {
              "fillmode": "overlay",
              "size": 10,
              "solidity": 0.2
             }
            },
            "type": "histogram"
           }
          ],
          "histogram2d": [
           {
            "colorbar": {
             "outlinewidth": 0,
             "ticks": ""
            },
            "colorscale": [
             [
              0,
              "#0d0887"
             ],
             [
              0.1111111111111111,
              "#46039f"
             ],
             [
              0.2222222222222222,
              "#7201a8"
             ],
             [
              0.3333333333333333,
              "#9c179e"
             ],
             [
              0.4444444444444444,
              "#bd3786"
             ],
             [
              0.5555555555555556,
              "#d8576b"
             ],
             [
              0.6666666666666666,
              "#ed7953"
             ],
             [
              0.7777777777777778,
              "#fb9f3a"
             ],
             [
              0.8888888888888888,
              "#fdca26"
             ],
             [
              1,
              "#f0f921"
             ]
            ],
            "type": "histogram2d"
           }
          ],
          "histogram2dcontour": [
           {
            "colorbar": {
             "outlinewidth": 0,
             "ticks": ""
            },
            "colorscale": [
             [
              0,
              "#0d0887"
             ],
             [
              0.1111111111111111,
              "#46039f"
             ],
             [
              0.2222222222222222,
              "#7201a8"
             ],
             [
              0.3333333333333333,
              "#9c179e"
             ],
             [
              0.4444444444444444,
              "#bd3786"
             ],
             [
              0.5555555555555556,
              "#d8576b"
             ],
             [
              0.6666666666666666,
              "#ed7953"
             ],
             [
              0.7777777777777778,
              "#fb9f3a"
             ],
             [
              0.8888888888888888,
              "#fdca26"
             ],
             [
              1,
              "#f0f921"
             ]
            ],
            "type": "histogram2dcontour"
           }
          ],
          "mesh3d": [
           {
            "colorbar": {
             "outlinewidth": 0,
             "ticks": ""
            },
            "type": "mesh3d"
           }
          ],
          "parcoords": [
           {
            "line": {
             "colorbar": {
              "outlinewidth": 0,
              "ticks": ""
             }
            },
            "type": "parcoords"
           }
          ],
          "pie": [
           {
            "automargin": true,
            "type": "pie"
           }
          ],
          "scatter": [
           {
            "marker": {
             "colorbar": {
              "outlinewidth": 0,
              "ticks": ""
             }
            },
            "type": "scatter"
           }
          ],
          "scatter3d": [
           {
            "line": {
             "colorbar": {
              "outlinewidth": 0,
              "ticks": ""
             }
            },
            "marker": {
             "colorbar": {
              "outlinewidth": 0,
              "ticks": ""
             }
            },
            "type": "scatter3d"
           }
          ],
          "scattercarpet": [
           {
            "marker": {
             "colorbar": {
              "outlinewidth": 0,
              "ticks": ""
             }
            },
            "type": "scattercarpet"
           }
          ],
          "scattergeo": [
           {
            "marker": {
             "colorbar": {
              "outlinewidth": 0,
              "ticks": ""
             }
            },
            "type": "scattergeo"
           }
          ],
          "scattergl": [
           {
            "marker": {
             "colorbar": {
              "outlinewidth": 0,
              "ticks": ""
             }
            },
            "type": "scattergl"
           }
          ],
          "scattermapbox": [
           {
            "marker": {
             "colorbar": {
              "outlinewidth": 0,
              "ticks": ""
             }
            },
            "type": "scattermapbox"
           }
          ],
          "scatterpolar": [
           {
            "marker": {
             "colorbar": {
              "outlinewidth": 0,
              "ticks": ""
             }
            },
            "type": "scatterpolar"
           }
          ],
          "scatterpolargl": [
           {
            "marker": {
             "colorbar": {
              "outlinewidth": 0,
              "ticks": ""
             }
            },
            "type": "scatterpolargl"
           }
          ],
          "scatterternary": [
           {
            "marker": {
             "colorbar": {
              "outlinewidth": 0,
              "ticks": ""
             }
            },
            "type": "scatterternary"
           }
          ],
          "surface": [
           {
            "colorbar": {
             "outlinewidth": 0,
             "ticks": ""
            },
            "colorscale": [
             [
              0,
              "#0d0887"
             ],
             [
              0.1111111111111111,
              "#46039f"
             ],
             [
              0.2222222222222222,
              "#7201a8"
             ],
             [
              0.3333333333333333,
              "#9c179e"
             ],
             [
              0.4444444444444444,
              "#bd3786"
             ],
             [
              0.5555555555555556,
              "#d8576b"
             ],
             [
              0.6666666666666666,
              "#ed7953"
             ],
             [
              0.7777777777777778,
              "#fb9f3a"
             ],
             [
              0.8888888888888888,
              "#fdca26"
             ],
             [
              1,
              "#f0f921"
             ]
            ],
            "type": "surface"
           }
          ],
          "table": [
           {
            "cells": {
             "fill": {
              "color": "#EBF0F8"
             },
             "line": {
              "color": "white"
             }
            },
            "header": {
             "fill": {
              "color": "#C8D4E3"
             },
             "line": {
              "color": "white"
             }
            },
            "type": "table"
           }
          ]
         },
         "layout": {
          "annotationdefaults": {
           "arrowcolor": "#2a3f5f",
           "arrowhead": 0,
           "arrowwidth": 1
          },
          "autotypenumbers": "strict",
          "coloraxis": {
           "colorbar": {
            "outlinewidth": 0,
            "ticks": ""
           }
          },
          "colorscale": {
           "diverging": [
            [
             0,
             "#8e0152"
            ],
            [
             0.1,
             "#c51b7d"
            ],
            [
             0.2,
             "#de77ae"
            ],
            [
             0.3,
             "#f1b6da"
            ],
            [
             0.4,
             "#fde0ef"
            ],
            [
             0.5,
             "#f7f7f7"
            ],
            [
             0.6,
             "#e6f5d0"
            ],
            [
             0.7,
             "#b8e186"
            ],
            [
             0.8,
             "#7fbc41"
            ],
            [
             0.9,
             "#4d9221"
            ],
            [
             1,
             "#276419"
            ]
           ],
           "sequential": [
            [
             0,
             "#0d0887"
            ],
            [
             0.1111111111111111,
             "#46039f"
            ],
            [
             0.2222222222222222,
             "#7201a8"
            ],
            [
             0.3333333333333333,
             "#9c179e"
            ],
            [
             0.4444444444444444,
             "#bd3786"
            ],
            [
             0.5555555555555556,
             "#d8576b"
            ],
            [
             0.6666666666666666,
             "#ed7953"
            ],
            [
             0.7777777777777778,
             "#fb9f3a"
            ],
            [
             0.8888888888888888,
             "#fdca26"
            ],
            [
             1,
             "#f0f921"
            ]
           ],
           "sequentialminus": [
            [
             0,
             "#0d0887"
            ],
            [
             0.1111111111111111,
             "#46039f"
            ],
            [
             0.2222222222222222,
             "#7201a8"
            ],
            [
             0.3333333333333333,
             "#9c179e"
            ],
            [
             0.4444444444444444,
             "#bd3786"
            ],
            [
             0.5555555555555556,
             "#d8576b"
            ],
            [
             0.6666666666666666,
             "#ed7953"
            ],
            [
             0.7777777777777778,
             "#fb9f3a"
            ],
            [
             0.8888888888888888,
             "#fdca26"
            ],
            [
             1,
             "#f0f921"
            ]
           ]
          },
          "colorway": [
           "#636efa",
           "#EF553B",
           "#00cc96",
           "#ab63fa",
           "#FFA15A",
           "#19d3f3",
           "#FF6692",
           "#B6E880",
           "#FF97FF",
           "#FECB52"
          ],
          "font": {
           "color": "#2a3f5f"
          },
          "geo": {
           "bgcolor": "white",
           "lakecolor": "white",
           "landcolor": "#E5ECF6",
           "showlakes": true,
           "showland": true,
           "subunitcolor": "white"
          },
          "hoverlabel": {
           "align": "left"
          },
          "hovermode": "closest",
          "mapbox": {
           "style": "light"
          },
          "paper_bgcolor": "white",
          "plot_bgcolor": "#E5ECF6",
          "polar": {
           "angularaxis": {
            "gridcolor": "white",
            "linecolor": "white",
            "ticks": ""
           },
           "bgcolor": "#E5ECF6",
           "radialaxis": {
            "gridcolor": "white",
            "linecolor": "white",
            "ticks": ""
           }
          },
          "scene": {
           "xaxis": {
            "backgroundcolor": "#E5ECF6",
            "gridcolor": "white",
            "gridwidth": 2,
            "linecolor": "white",
            "showbackground": true,
            "ticks": "",
            "zerolinecolor": "white"
           },
           "yaxis": {
            "backgroundcolor": "#E5ECF6",
            "gridcolor": "white",
            "gridwidth": 2,
            "linecolor": "white",
            "showbackground": true,
            "ticks": "",
            "zerolinecolor": "white"
           },
           "zaxis": {
            "backgroundcolor": "#E5ECF6",
            "gridcolor": "white",
            "gridwidth": 2,
            "linecolor": "white",
            "showbackground": true,
            "ticks": "",
            "zerolinecolor": "white"
           }
          },
          "shapedefaults": {
           "line": {
            "color": "#2a3f5f"
           }
          },
          "ternary": {
           "aaxis": {
            "gridcolor": "white",
            "linecolor": "white",
            "ticks": ""
           },
           "baxis": {
            "gridcolor": "white",
            "linecolor": "white",
            "ticks": ""
           },
           "bgcolor": "#E5ECF6",
           "caxis": {
            "gridcolor": "white",
            "linecolor": "white",
            "ticks": ""
           }
          },
          "title": {
           "x": 0.05
          },
          "xaxis": {
           "automargin": true,
           "gridcolor": "white",
           "linecolor": "white",
           "ticks": "",
           "title": {
            "standoff": 15
           },
           "zerolinecolor": "white",
           "zerolinewidth": 2
          },
          "yaxis": {
           "automargin": true,
           "gridcolor": "white",
           "linecolor": "white",
           "ticks": "",
           "title": {
            "standoff": 15
           },
           "zerolinecolor": "white",
           "zerolinewidth": 2
          }
         }
        },
        "xaxis": {
         "anchor": "y",
         "domain": [
          0,
          1
         ],
         "title": {
          "text": "Population"
         }
        },
        "yaxis": {
         "anchor": "x",
         "domain": [
          0,
          1
         ],
         "title": {
          "text": "AbstentionPtge"
         }
        }
       }
      },
      "text/html": [
       "<div>                            <div id=\"e7b5a80e-4fb5-42a0-a138-a8f55cf796e9\" class=\"plotly-graph-div\" style=\"height:525px; width:100%;\"></div>            <script type=\"text/javascript\">                require([\"plotly\"], function(Plotly) {                    window.PLOTLYENV=window.PLOTLYENV || {};                                    if (document.getElementById(\"e7b5a80e-4fb5-42a0-a138-a8f55cf796e9\")) {                    Plotly.newPlot(                        \"e7b5a80e-4fb5-42a0-a138-a8f55cf796e9\",                        [{\"hovertemplate\":\"Population=%{x}<br>AbstentionPtge=%{y}<br>CCAA=%{text}<br>cluster=%{marker.color}<extra></extra>\",\"legendgroup\":\"\",\"marker\":{\"color\":[2,1,1,0,0,1,1,1,2,0,2,1,1,2,0,0,1,2,1],\"coloraxis\":\"coloraxis\",\"symbol\":\"circle\"},\"mode\":\"markers+text\",\"name\":\"\",\"orientation\":\"v\",\"showlegend\":false,\"text\":[\"Andaluc\\u00eda\",\"Arag\\u00f3n\",\"Asturias\",\"Baleares\",\"Canarias\",\"Cantabria\",\"CastillaLe\\u00f3n\",\"CastillaMancha\",\"Catalu\\u00f1a\",\"Ceuta\",\"ComValenciana\",\"Extremadura\",\"Galicia\",\"Madrid\",\"Melilla\",\"Murcia\",\"Navarra\",\"Pa\\u00edsVasco\",\"Rioja\"],\"x\":[8393616,1317847,1051229,1104479,2100306,585179,2472052,2059191,7508106,84263,4980689,1092161,2732347,6436996,85584,1467288,640476,2189257,317053],\"xaxis\":\"x\",\"y\":[28.70202846054334,25.033556771545825,33.762987179487176,33.574701492537315,34.84339772727273,26.880235294117647,23.822925266903916,22.698994559303593,34.286721224920804,47.411,21.888273062730626,26.541095607235142,30.870267515923565,25.072363128491624,48.65,27.38368888888889,30.02448161764706,31.96482470119522,19.049741379310348],\"yaxis\":\"y\",\"type\":\"scatter\"}],                        {\"template\":{\"data\":{\"bar\":[{\"error_x\":{\"color\":\"#2a3f5f\"},\"error_y\":{\"color\":\"#2a3f5f\"},\"marker\":{\"line\":{\"color\":\"#E5ECF6\",\"width\":0.5},\"pattern\":{\"fillmode\":\"overlay\",\"size\":10,\"solidity\":0.2}},\"type\":\"bar\"}],\"barpolar\":[{\"marker\":{\"line\":{\"color\":\"#E5ECF6\",\"width\":0.5},\"pattern\":{\"fillmode\":\"overlay\",\"size\":10,\"solidity\":0.2}},\"type\":\"barpolar\"}],\"carpet\":[{\"aaxis\":{\"endlinecolor\":\"#2a3f5f\",\"gridcolor\":\"white\",\"linecolor\":\"white\",\"minorgridcolor\":\"white\",\"startlinecolor\":\"#2a3f5f\"},\"baxis\":{\"endlinecolor\":\"#2a3f5f\",\"gridcolor\":\"white\",\"linecolor\":\"white\",\"minorgridcolor\":\"white\",\"startlinecolor\":\"#2a3f5f\"},\"type\":\"carpet\"}],\"choropleth\":[{\"colorbar\":{\"outlinewidth\":0,\"ticks\":\"\"},\"type\":\"choropleth\"}],\"contour\":[{\"colorbar\":{\"outlinewidth\":0,\"ticks\":\"\"},\"colorscale\":[[0.0,\"#0d0887\"],[0.1111111111111111,\"#46039f\"],[0.2222222222222222,\"#7201a8\"],[0.3333333333333333,\"#9c179e\"],[0.4444444444444444,\"#bd3786\"],[0.5555555555555556,\"#d8576b\"],[0.6666666666666666,\"#ed7953\"],[0.7777777777777778,\"#fb9f3a\"],[0.8888888888888888,\"#fdca26\"],[1.0,\"#f0f921\"]],\"type\":\"contour\"}],\"contourcarpet\":[{\"colorbar\":{\"outlinewidth\":0,\"ticks\":\"\"},\"type\":\"contourcarpet\"}],\"heatmap\":[{\"colorbar\":{\"outlinewidth\":0,\"ticks\":\"\"},\"colorscale\":[[0.0,\"#0d0887\"],[0.1111111111111111,\"#46039f\"],[0.2222222222222222,\"#7201a8\"],[0.3333333333333333,\"#9c179e\"],[0.4444444444444444,\"#bd3786\"],[0.5555555555555556,\"#d8576b\"],[0.6666666666666666,\"#ed7953\"],[0.7777777777777778,\"#fb9f3a\"],[0.8888888888888888,\"#fdca26\"],[1.0,\"#f0f921\"]],\"type\":\"heatmap\"}],\"heatmapgl\":[{\"colorbar\":{\"outlinewidth\":0,\"ticks\":\"\"},\"colorscale\":[[0.0,\"#0d0887\"],[0.1111111111111111,\"#46039f\"],[0.2222222222222222,\"#7201a8\"],[0.3333333333333333,\"#9c179e\"],[0.4444444444444444,\"#bd3786\"],[0.5555555555555556,\"#d8576b\"],[0.6666666666666666,\"#ed7953\"],[0.7777777777777778,\"#fb9f3a\"],[0.8888888888888888,\"#fdca26\"],[1.0,\"#f0f921\"]],\"type\":\"heatmapgl\"}],\"histogram\":[{\"marker\":{\"pattern\":{\"fillmode\":\"overlay\",\"size\":10,\"solidity\":0.2}},\"type\":\"histogram\"}],\"histogram2d\":[{\"colorbar\":{\"outlinewidth\":0,\"ticks\":\"\"},\"colorscale\":[[0.0,\"#0d0887\"],[0.1111111111111111,\"#46039f\"],[0.2222222222222222,\"#7201a8\"],[0.3333333333333333,\"#9c179e\"],[0.4444444444444444,\"#bd3786\"],[0.5555555555555556,\"#d8576b\"],[0.6666666666666666,\"#ed7953\"],[0.7777777777777778,\"#fb9f3a\"],[0.8888888888888888,\"#fdca26\"],[1.0,\"#f0f921\"]],\"type\":\"histogram2d\"}],\"histogram2dcontour\":[{\"colorbar\":{\"outlinewidth\":0,\"ticks\":\"\"},\"colorscale\":[[0.0,\"#0d0887\"],[0.1111111111111111,\"#46039f\"],[0.2222222222222222,\"#7201a8\"],[0.3333333333333333,\"#9c179e\"],[0.4444444444444444,\"#bd3786\"],[0.5555555555555556,\"#d8576b\"],[0.6666666666666666,\"#ed7953\"],[0.7777777777777778,\"#fb9f3a\"],[0.8888888888888888,\"#fdca26\"],[1.0,\"#f0f921\"]],\"type\":\"histogram2dcontour\"}],\"mesh3d\":[{\"colorbar\":{\"outlinewidth\":0,\"ticks\":\"\"},\"type\":\"mesh3d\"}],\"parcoords\":[{\"line\":{\"colorbar\":{\"outlinewidth\":0,\"ticks\":\"\"}},\"type\":\"parcoords\"}],\"pie\":[{\"automargin\":true,\"type\":\"pie\"}],\"scatter\":[{\"marker\":{\"colorbar\":{\"outlinewidth\":0,\"ticks\":\"\"}},\"type\":\"scatter\"}],\"scatter3d\":[{\"line\":{\"colorbar\":{\"outlinewidth\":0,\"ticks\":\"\"}},\"marker\":{\"colorbar\":{\"outlinewidth\":0,\"ticks\":\"\"}},\"type\":\"scatter3d\"}],\"scattercarpet\":[{\"marker\":{\"colorbar\":{\"outlinewidth\":0,\"ticks\":\"\"}},\"type\":\"scattercarpet\"}],\"scattergeo\":[{\"marker\":{\"colorbar\":{\"outlinewidth\":0,\"ticks\":\"\"}},\"type\":\"scattergeo\"}],\"scattergl\":[{\"marker\":{\"colorbar\":{\"outlinewidth\":0,\"ticks\":\"\"}},\"type\":\"scattergl\"}],\"scattermapbox\":[{\"marker\":{\"colorbar\":{\"outlinewidth\":0,\"ticks\":\"\"}},\"type\":\"scattermapbox\"}],\"scatterpolar\":[{\"marker\":{\"colorbar\":{\"outlinewidth\":0,\"ticks\":\"\"}},\"type\":\"scatterpolar\"}],\"scatterpolargl\":[{\"marker\":{\"colorbar\":{\"outlinewidth\":0,\"ticks\":\"\"}},\"type\":\"scatterpolargl\"}],\"scatterternary\":[{\"marker\":{\"colorbar\":{\"outlinewidth\":0,\"ticks\":\"\"}},\"type\":\"scatterternary\"}],\"surface\":[{\"colorbar\":{\"outlinewidth\":0,\"ticks\":\"\"},\"colorscale\":[[0.0,\"#0d0887\"],[0.1111111111111111,\"#46039f\"],[0.2222222222222222,\"#7201a8\"],[0.3333333333333333,\"#9c179e\"],[0.4444444444444444,\"#bd3786\"],[0.5555555555555556,\"#d8576b\"],[0.6666666666666666,\"#ed7953\"],[0.7777777777777778,\"#fb9f3a\"],[0.8888888888888888,\"#fdca26\"],[1.0,\"#f0f921\"]],\"type\":\"surface\"}],\"table\":[{\"cells\":{\"fill\":{\"color\":\"#EBF0F8\"},\"line\":{\"color\":\"white\"}},\"header\":{\"fill\":{\"color\":\"#C8D4E3\"},\"line\":{\"color\":\"white\"}},\"type\":\"table\"}]},\"layout\":{\"annotationdefaults\":{\"arrowcolor\":\"#2a3f5f\",\"arrowhead\":0,\"arrowwidth\":1},\"autotypenumbers\":\"strict\",\"coloraxis\":{\"colorbar\":{\"outlinewidth\":0,\"ticks\":\"\"}},\"colorscale\":{\"diverging\":[[0,\"#8e0152\"],[0.1,\"#c51b7d\"],[0.2,\"#de77ae\"],[0.3,\"#f1b6da\"],[0.4,\"#fde0ef\"],[0.5,\"#f7f7f7\"],[0.6,\"#e6f5d0\"],[0.7,\"#b8e186\"],[0.8,\"#7fbc41\"],[0.9,\"#4d9221\"],[1,\"#276419\"]],\"sequential\":[[0.0,\"#0d0887\"],[0.1111111111111111,\"#46039f\"],[0.2222222222222222,\"#7201a8\"],[0.3333333333333333,\"#9c179e\"],[0.4444444444444444,\"#bd3786\"],[0.5555555555555556,\"#d8576b\"],[0.6666666666666666,\"#ed7953\"],[0.7777777777777778,\"#fb9f3a\"],[0.8888888888888888,\"#fdca26\"],[1.0,\"#f0f921\"]],\"sequentialminus\":[[0.0,\"#0d0887\"],[0.1111111111111111,\"#46039f\"],[0.2222222222222222,\"#7201a8\"],[0.3333333333333333,\"#9c179e\"],[0.4444444444444444,\"#bd3786\"],[0.5555555555555556,\"#d8576b\"],[0.6666666666666666,\"#ed7953\"],[0.7777777777777778,\"#fb9f3a\"],[0.8888888888888888,\"#fdca26\"],[1.0,\"#f0f921\"]]},\"colorway\":[\"#636efa\",\"#EF553B\",\"#00cc96\",\"#ab63fa\",\"#FFA15A\",\"#19d3f3\",\"#FF6692\",\"#B6E880\",\"#FF97FF\",\"#FECB52\"],\"font\":{\"color\":\"#2a3f5f\"},\"geo\":{\"bgcolor\":\"white\",\"lakecolor\":\"white\",\"landcolor\":\"#E5ECF6\",\"showlakes\":true,\"showland\":true,\"subunitcolor\":\"white\"},\"hoverlabel\":{\"align\":\"left\"},\"hovermode\":\"closest\",\"mapbox\":{\"style\":\"light\"},\"paper_bgcolor\":\"white\",\"plot_bgcolor\":\"#E5ECF6\",\"polar\":{\"angularaxis\":{\"gridcolor\":\"white\",\"linecolor\":\"white\",\"ticks\":\"\"},\"bgcolor\":\"#E5ECF6\",\"radialaxis\":{\"gridcolor\":\"white\",\"linecolor\":\"white\",\"ticks\":\"\"}},\"scene\":{\"xaxis\":{\"backgroundcolor\":\"#E5ECF6\",\"gridcolor\":\"white\",\"gridwidth\":2,\"linecolor\":\"white\",\"showbackground\":true,\"ticks\":\"\",\"zerolinecolor\":\"white\"},\"yaxis\":{\"backgroundcolor\":\"#E5ECF6\",\"gridcolor\":\"white\",\"gridwidth\":2,\"linecolor\":\"white\",\"showbackground\":true,\"ticks\":\"\",\"zerolinecolor\":\"white\"},\"zaxis\":{\"backgroundcolor\":\"#E5ECF6\",\"gridcolor\":\"white\",\"gridwidth\":2,\"linecolor\":\"white\",\"showbackground\":true,\"ticks\":\"\",\"zerolinecolor\":\"white\"}},\"shapedefaults\":{\"line\":{\"color\":\"#2a3f5f\"}},\"ternary\":{\"aaxis\":{\"gridcolor\":\"white\",\"linecolor\":\"white\",\"ticks\":\"\"},\"baxis\":{\"gridcolor\":\"white\",\"linecolor\":\"white\",\"ticks\":\"\"},\"bgcolor\":\"#E5ECF6\",\"caxis\":{\"gridcolor\":\"white\",\"linecolor\":\"white\",\"ticks\":\"\"}},\"title\":{\"x\":0.05},\"xaxis\":{\"automargin\":true,\"gridcolor\":\"white\",\"linecolor\":\"white\",\"ticks\":\"\",\"title\":{\"standoff\":15},\"zerolinecolor\":\"white\",\"zerolinewidth\":2},\"yaxis\":{\"automargin\":true,\"gridcolor\":\"white\",\"linecolor\":\"white\",\"ticks\":\"\",\"title\":{\"standoff\":15},\"zerolinecolor\":\"white\",\"zerolinewidth\":2}}},\"xaxis\":{\"anchor\":\"y\",\"domain\":[0.0,1.0],\"title\":{\"text\":\"Population\"}},\"yaxis\":{\"anchor\":\"x\",\"domain\":[0.0,1.0],\"title\":{\"text\":\"AbstentionPtge\"}},\"coloraxis\":{\"colorbar\":{\"title\":{\"text\":\"cluster\"}},\"colorscale\":[[0.0,\"#0d0887\"],[0.1111111111111111,\"#46039f\"],[0.2222222222222222,\"#7201a8\"],[0.3333333333333333,\"#9c179e\"],[0.4444444444444444,\"#bd3786\"],[0.5555555555555556,\"#d8576b\"],[0.6666666666666666,\"#ed7953\"],[0.7777777777777778,\"#fb9f3a\"],[0.8888888888888888,\"#fdca26\"],[1.0,\"#f0f921\"]]},\"legend\":{\"tracegroupgap\":0},\"margin\":{\"t\":60}},                        {\"responsive\": true}                    ).then(function(){\n",
       "                            \n",
       "var gd = document.getElementById('e7b5a80e-4fb5-42a0-a138-a8f55cf796e9');\n",
       "var x = new MutationObserver(function (mutations, observer) {{\n",
       "        var display = window.getComputedStyle(gd).display;\n",
       "        if (!display || display === 'none') {{\n",
       "            console.log([gd, 'removed!']);\n",
       "            Plotly.purge(gd);\n",
       "            observer.disconnect();\n",
       "        }}\n",
       "}});\n",
       "\n",
       "// Listen for the removal of the full notebook cells\n",
       "var notebookContainer = gd.closest('#notebook-container');\n",
       "if (notebookContainer) {{\n",
       "    x.observe(notebookContainer, {childList: true});\n",
       "}}\n",
       "\n",
       "// Listen for the clearing of the current output cell\n",
       "var outputEl = gd.closest('.output');\n",
       "if (outputEl) {{\n",
       "    x.observe(outputEl, {childList: true});\n",
       "}}\n",
       "\n",
       "                        })                };                });            </script>        </div>"
      ]
     },
     "metadata": {},
     "output_type": "display_data"
    }
   ],
   "source": [
    "import plotly.express as px\n",
    "grupos['cluster'] = cluster_labels\n",
    "fig = px.scatter(grupos, x='Population',y='AbstentionPtge', color='cluster', text=grupos.index)\n",
    "fig.show()"
   ]
  },
  {
   "cell_type": "markdown",
   "id": "2a9a6860",
   "metadata": {},
   "source": [
    "Se ve un patrón discriminado por el número de población, por ejemplo, el grupo amarillo constituye el de mayor población y con porcentaje menor al 35% de personas que se abstuvieron a votar, la única excepción parece ser el país vasco; el grupo azul oscuro parece ser de población no mayor a 2. pocos millones, pero con un porcentaje de no votantes arriba del 30 con la clara excepción de Murcia. Por último, está el grupo rosado que parece el de un patrón menos claro, pero reúne varias comunidades Autónomas con poca población y poco porcentaje de no votantes."
   ]
  },
  {
   "cell_type": "markdown",
   "id": "a64fdf69",
   "metadata": {},
   "source": [
    "## Metodo Kmeans"
   ]
  },
  {
   "cell_type": "markdown",
   "id": "7a76ab03",
   "metadata": {},
   "source": [
    "Se graficara para explorar que valor de clusters sería el óptimo por utilizar"
   ]
  },
  {
   "cell_type": "code",
   "execution_count": 173,
   "id": "6cd7f4f6",
   "metadata": {},
   "outputs": [
    {
     "data": {
      "image/png": "[encoded data removed]",
      "text/plain": [
       "<Figure size 1152x432 with 3 Axes>"
      ]
     },
     "metadata": {},
     "output_type": "display_data"
    }
   ],
   "source": [
    "scree_plot_kmeans(grupos,8)\n",
    "plt.show()"
   ]
  },
  {
   "cell_type": "markdown",
   "id": "b4358c56",
   "metadata": {},
   "source": [
    "En efecto parece ser la mejor opcion 3 grupos, y si acaso 4."
   ]
  },
  {
   "cell_type": "code",
   "execution_count": 174,
   "id": "19ef3d2d",
   "metadata": {},
   "outputs": [
    {
     "data": {
      "text/plain": [
       "KMeans(n_clusters=3, n_init=25, random_state=25)"
      ]
     },
     "execution_count": 174,
     "metadata": {},
     "output_type": "execute_result"
    }
   ],
   "source": [
    "modelo_kmeans = KMeans(n_clusters=3, n_init=25, random_state=25)\n",
    "modelo_kmeans.fit(X=X_scaled)"
   ]
  },
  {
   "cell_type": "code",
   "execution_count": 175,
   "id": "431ecaf4",
   "metadata": {},
   "outputs": [
    {
     "name": "stdout",
     "output_type": "stream",
     "text": [
      "Varianza intra: 83.17579507096636\n",
      "Centroides\n",
      "\n",
      "[[-0.44524184 -0.47861135  0.23913536  0.28229659 -0.8438001  -0.83223195\n",
      "   0.89785172 -0.7550634  -0.45488128 -0.70583031]\n",
      " [ 1.40781597 -0.23163617 -0.51761207 -0.97435892  0.34803389  0.48714438\n",
      "  -0.41982911  0.27377407  1.41612029  0.27933572]\n",
      " [-0.60638065  1.09313661  0.08716843  0.46622506  1.17080629  1.01087314\n",
      "  -1.19630399  1.08534005 -0.597334    0.99115884]]\n"
     ]
    }
   ],
   "source": [
    "print(f'Varianza intra: {modelo_kmeans.inertia_}')\n",
    "print('Centroides')\n",
    "print()\n",
    "print (modelo_kmeans.cluster_centers_)"
   ]
  },
  {
   "cell_type": "code",
   "execution_count": 176,
   "id": "7546121c",
   "metadata": {},
   "outputs": [
    {
     "data": {
      "text/plain": [
       "array([1, 0, 0, 2])"
      ]
     },
     "execution_count": 176,
     "metadata": {},
     "output_type": "execute_result"
    }
   ],
   "source": [
    "modelo_kmeans.labels_[:4]"
   ]
  },
  {
   "cell_type": "code",
   "execution_count": 177,
   "id": "f5250b38",
   "metadata": {},
   "outputs": [
    {
     "data": {
      "text/plain": [
       "0.35510973632052056"
      ]
     },
     "execution_count": 177,
     "metadata": {},
     "output_type": "execute_result"
    }
   ],
   "source": [
    "y_predict = modelo_kmeans.predict(X=X_scaled)\n",
    "\n",
    "silhouette_score(X_scaled, y_predict)"
   ]
  },
  {
   "cell_type": "code",
   "execution_count": 178,
   "id": "793aa045",
   "metadata": {},
   "outputs": [
    {
     "data": {
      "text/plain": [
       "10.274547285098052"
      ]
     },
     "execution_count": 178,
     "metadata": {},
     "output_type": "execute_result"
    }
   ],
   "source": [
    "from sklearn import metrics\n",
    "metrics.calinski_harabasz_score(X_scaled, y_predict)"
   ]
  },
  {
   "cell_type": "markdown",
   "id": "c12af735",
   "metadata": {},
   "source": [
    "El índice de Calinski-Harabasz, y el de la silueta se mantienen iguales al usar la misma cantidad de grupos o clusters."
   ]
  },
  {
   "cell_type": "markdown",
   "id": "b40a5636",
   "metadata": {},
   "source": [
    "Para poder evaluar mejor la influencia de las variables escogidas, se realizara un análisis de Componentes principales"
   ]
  },
  {
   "cell_type": "markdown",
   "id": "03e17dc3",
   "metadata": {},
   "source": [
    "### PCA"
   ]
  },
  {
   "cell_type": "code",
   "execution_count": 179,
   "id": "efd5043c",
   "metadata": {},
   "outputs": [
    {
     "data": {
      "text/html": [
       "<style type=\"text/css\">\n",
       "#T_f0b90_row0_col0, #T_f0b90_row1_col1, #T_f0b90_row2_col2, #T_f0b90_row3_col3, #T_f0b90_row4_col4, #T_f0b90_row5_col5, #T_f0b90_row6_col6, #T_f0b90_row7_col7, #T_f0b90_row8_col8, #T_f0b90_row9_col9 {\n",
       "  background-color: #b40426;\n",
       "  color: #f1f1f1;\n",
       "}\n",
       "#T_f0b90_row0_col1, #T_f0b90_row9_col3 {\n",
       "  background-color: #97b8ff;\n",
       "  color: #000000;\n",
       "}\n",
       "#T_f0b90_row0_col2 {\n",
       "  background-color: #516ddb;\n",
       "  color: #f1f1f1;\n",
       "}\n",
       "#T_f0b90_row0_col3 {\n",
       "  background-color: #3e51c5;\n",
       "  color: #f1f1f1;\n",
       "}\n",
       "#T_f0b90_row0_col4 {\n",
       "  background-color: #dedcdb;\n",
       "  color: #000000;\n",
       "}\n",
       "#T_f0b90_row0_col5, #T_f0b90_row7_col1 {\n",
       "  background-color: #e9d5cb;\n",
       "  color: #000000;\n",
       "}\n",
       "#T_f0b90_row0_col6, #T_f0b90_row2_col3 {\n",
       "  background-color: #cfdaea;\n",
       "  color: #000000;\n",
       "}\n",
       "#T_f0b90_row0_col7 {\n",
       "  background-color: #d4dbe6;\n",
       "  color: #000000;\n",
       "}\n",
       "#T_f0b90_row0_col8, #T_f0b90_row8_col0 {\n",
       "  background-color: #b8122a;\n",
       "  color: #f1f1f1;\n",
       "}\n",
       "#T_f0b90_row0_col9 {\n",
       "  background-color: #cbd8ee;\n",
       "  color: #000000;\n",
       "}\n",
       "#T_f0b90_row1_col0 {\n",
       "  background-color: #5d7ce6;\n",
       "  color: #f1f1f1;\n",
       "}\n",
       "#T_f0b90_row1_col2, #T_f0b90_row5_col3 {\n",
       "  background-color: #6f92f3;\n",
       "  color: #f1f1f1;\n",
       "}\n",
       "#T_f0b90_row1_col3 {\n",
       "  background-color: #88abfd;\n",
       "  color: #000000;\n",
       "}\n",
       "#T_f0b90_row1_col4 {\n",
       "  background-color: #de614d;\n",
       "  color: #f1f1f1;\n",
       "}\n",
       "#T_f0b90_row1_col5 {\n",
       "  background-color: #f7a98b;\n",
       "  color: #000000;\n",
       "}\n",
       "#T_f0b90_row1_col6 {\n",
       "  background-color: #6687ed;\n",
       "  color: #f1f1f1;\n",
       "}\n",
       "#T_f0b90_row1_col7 {\n",
       "  background-color: #e5d8d1;\n",
       "  color: #000000;\n",
       "}\n",
       "#T_f0b90_row1_col8 {\n",
       "  background-color: #6485ec;\n",
       "  color: #f1f1f1;\n",
       "}\n",
       "#T_f0b90_row1_col9 {\n",
       "  background-color: #e16751;\n",
       "  color: #f1f1f1;\n",
       "}\n",
       "#T_f0b90_row2_col0 {\n",
       "  background-color: #5b7ae5;\n",
       "  color: #f1f1f1;\n",
       "}\n",
       "#T_f0b90_row2_col1, #T_f0b90_row6_col3 {\n",
       "  background-color: #aec9fc;\n",
       "  color: #000000;\n",
       "}\n",
       "#T_f0b90_row2_col4, #T_f0b90_row8_col6 {\n",
       "  background-color: #ccd9ed;\n",
       "  color: #000000;\n",
       "}\n",
       "#T_f0b90_row2_col5 {\n",
       "  background-color: #dadce0;\n",
       "  color: #000000;\n",
       "}\n",
       "#T_f0b90_row2_col6 {\n",
       "  background-color: #e2dad5;\n",
       "  color: #000000;\n",
       "}\n",
       "#T_f0b90_row2_col7 {\n",
       "  background-color: #a3c2fe;\n",
       "  color: #000000;\n",
       "}\n",
       "#T_f0b90_row2_col8 {\n",
       "  background-color: #485fd1;\n",
       "  color: #f1f1f1;\n",
       "}\n",
       "#T_f0b90_row2_col9 {\n",
       "  background-color: #c6d6f1;\n",
       "  color: #000000;\n",
       "}\n",
       "#T_f0b90_row3_col0, #T_f0b90_row3_col8, #T_f0b90_row4_col6, #T_f0b90_row6_col1, #T_f0b90_row6_col4, #T_f0b90_row6_col5, #T_f0b90_row6_col7, #T_f0b90_row6_col9, #T_f0b90_row8_col2, #T_f0b90_row8_col3 {\n",
       "  background-color: #3b4cc0;\n",
       "  color: #f1f1f1;\n",
       "}\n",
       "#T_f0b90_row3_col1 {\n",
       "  background-color: #b7cff9;\n",
       "  color: #000000;\n",
       "}\n",
       "#T_f0b90_row3_col2 {\n",
       "  background-color: #c9d7f0;\n",
       "  color: #000000;\n",
       "}\n",
       "#T_f0b90_row3_col4, #T_f0b90_row3_col9 {\n",
       "  background-color: #d5dbe5;\n",
       "  color: #000000;\n",
       "}\n",
       "#T_f0b90_row3_col5 {\n",
       "  background-color: #b9d0f9;\n",
       "  color: #000000;\n",
       "}\n",
       "#T_f0b90_row3_col6 {\n",
       "  background-color: #e6d7cf;\n",
       "  color: #000000;\n",
       "}\n",
       "#T_f0b90_row3_col7 {\n",
       "  background-color: #d1dae9;\n",
       "  color: #000000;\n",
       "}\n",
       "#T_f0b90_row4_col0 {\n",
       "  background-color: #9dbdff;\n",
       "  color: #000000;\n",
       "}\n",
       "#T_f0b90_row4_col1 {\n",
       "  background-color: #e36b54;\n",
       "  color: #f1f1f1;\n",
       "}\n",
       "#T_f0b90_row4_col2 {\n",
       "  background-color: #7295f4;\n",
       "  color: #f1f1f1;\n",
       "}\n",
       "#T_f0b90_row4_col3 {\n",
       "  background-color: #8db0fe;\n",
       "  color: #000000;\n",
       "}\n",
       "#T_f0b90_row4_col5 {\n",
       "  background-color: #e36c55;\n",
       "  color: #f1f1f1;\n",
       "}\n",
       "#T_f0b90_row4_col7, #T_f0b90_row7_col5 {\n",
       "  background-color: #f39475;\n",
       "  color: #000000;\n",
       "}\n",
       "#T_f0b90_row4_col8 {\n",
       "  background-color: #a6c4fe;\n",
       "  color: #000000;\n",
       "}\n",
       "#T_f0b90_row4_col9, #T_f0b90_row9_col4 {\n",
       "  background-color: #c0282f;\n",
       "  color: #f1f1f1;\n",
       "}\n",
       "#T_f0b90_row5_col0 {\n",
       "  background-color: #bcd2f7;\n",
       "  color: #000000;\n",
       "}\n",
       "#T_f0b90_row5_col1 {\n",
       "  background-color: #f7b497;\n",
       "  color: #000000;\n",
       "}\n",
       "#T_f0b90_row5_col2 {\n",
       "  background-color: #9abbff;\n",
       "  color: #000000;\n",
       "}\n",
       "#T_f0b90_row5_col4 {\n",
       "  background-color: #e26952;\n",
       "  color: #f1f1f1;\n",
       "}\n",
       "#T_f0b90_row5_col6 {\n",
       "  background-color: #4a63d3;\n",
       "  color: #f1f1f1;\n",
       "}\n",
       "#T_f0b90_row5_col7 {\n",
       "  background-color: #f5a081;\n",
       "  color: #000000;\n",
       "}\n",
       "#T_f0b90_row5_col8 {\n",
       "  background-color: #c4d5f3;\n",
       "  color: #000000;\n",
       "}\n",
       "#T_f0b90_row5_col9 {\n",
       "  background-color: #eb7d62;\n",
       "  color: #f1f1f1;\n",
       "}\n",
       "#T_f0b90_row6_col0 {\n",
       "  background-color: #81a4fb;\n",
       "  color: #f1f1f1;\n",
       "}\n",
       "#T_f0b90_row6_col2, #T_f0b90_row8_col1 {\n",
       "  background-color: #9bbcff;\n",
       "  color: #000000;\n",
       "}\n",
       "#T_f0b90_row6_col8 {\n",
       "  background-color: #80a3fa;\n",
       "  color: #f1f1f1;\n",
       "}\n",
       "#T_f0b90_row7_col0 {\n",
       "  background-color: #b6cefa;\n",
       "  color: #000000;\n",
       "}\n",
       "#T_f0b90_row7_col2 {\n",
       "  background-color: #6c8ff1;\n",
       "  color: #f1f1f1;\n",
       "}\n",
       "#T_f0b90_row7_col3 {\n",
       "  background-color: #b3cdfb;\n",
       "  color: #000000;\n",
       "}\n",
       "#T_f0b90_row7_col4 {\n",
       "  background-color: #ed8366;\n",
       "  color: #f1f1f1;\n",
       "}\n",
       "#T_f0b90_row7_col6, #T_f0b90_row9_col2 {\n",
       "  background-color: #7093f3;\n",
       "  color: #f1f1f1;\n",
       "}\n",
       "#T_f0b90_row7_col8 {\n",
       "  background-color: #c3d5f4;\n",
       "  color: #000000;\n",
       "}\n",
       "#T_f0b90_row7_col9 {\n",
       "  background-color: #f39577;\n",
       "  color: #000000;\n",
       "}\n",
       "#T_f0b90_row8_col4 {\n",
       "  background-color: #e1dad6;\n",
       "  color: #000000;\n",
       "}\n",
       "#T_f0b90_row8_col5 {\n",
       "  background-color: #ebd3c6;\n",
       "  color: #000000;\n",
       "}\n",
       "#T_f0b90_row8_col7 {\n",
       "  background-color: #dbdcde;\n",
       "  color: #000000;\n",
       "}\n",
       "#T_f0b90_row8_col9 {\n",
       "  background-color: #d2dbe8;\n",
       "  color: #000000;\n",
       "}\n",
       "#T_f0b90_row9_col0 {\n",
       "  background-color: #84a7fc;\n",
       "  color: #f1f1f1;\n",
       "}\n",
       "#T_f0b90_row9_col1 {\n",
       "  background-color: #e46e56;\n",
       "  color: #f1f1f1;\n",
       "}\n",
       "#T_f0b90_row9_col5 {\n",
       "  background-color: #ec7f63;\n",
       "  color: #f1f1f1;\n",
       "}\n",
       "#T_f0b90_row9_col6 {\n",
       "  background-color: #445acc;\n",
       "  color: #f1f1f1;\n",
       "}\n",
       "#T_f0b90_row9_col7 {\n",
       "  background-color: #f6a586;\n",
       "  color: #000000;\n",
       "}\n",
       "#T_f0b90_row9_col8 {\n",
       "  background-color: #92b4fe;\n",
       "  color: #000000;\n",
       "}\n",
       "</style>\n",
       "<table id=\"T_f0b90\">\n",
       "  <thead>\n",
       "    <tr>\n",
       "      <th class=\"blank level0\" >&nbsp;</th>\n",
       "      <th id=\"T_f0b90_level0_col0\" class=\"col_heading level0 col0\" >Population</th>\n",
       "      <th id=\"T_f0b90_level0_col1\" class=\"col_heading level0 col1\" >AbstentionPtge</th>\n",
       "      <th id=\"T_f0b90_level0_col2\" class=\"col_heading level0 col2\" >Izda_Pct</th>\n",
       "      <th id=\"T_f0b90_level0_col3\" class=\"col_heading level0 col3\" >Dcha_Pct</th>\n",
       "      <th id=\"T_f0b90_level0_col4\" class=\"col_heading level0 col4\" >Age_under19_Ptge</th>\n",
       "      <th id=\"T_f0b90_level0_col5\" class=\"col_heading level0 col5\" >Age_19_65_pct</th>\n",
       "      <th id=\"T_f0b90_level0_col6\" class=\"col_heading level0 col6\" >Age_over65_pct</th>\n",
       "      <th id=\"T_f0b90_level0_col7\" class=\"col_heading level0 col7\" >ForeignersPtge</th>\n",
       "      <th id=\"T_f0b90_level0_col8\" class=\"col_heading level0 col8\" >totalEmpresas</th>\n",
       "      <th id=\"T_f0b90_level0_col9\" class=\"col_heading level0 col9\" >PobChange_pct</th>\n",
       "    </tr>\n",
       "  </thead>\n",
       "  <tbody>\n",
       "    <tr>\n",
       "      <th id=\"T_f0b90_level0_row0\" class=\"row_heading level0 row0\" >Population</th>\n",
       "      <td id=\"T_f0b90_row0_col0\" class=\"data row0 col0\" >1.000</td>\n",
       "      <td id=\"T_f0b90_row0_col1\" class=\"data row0 col1\" >-0.225</td>\n",
       "      <td id=\"T_f0b90_row0_col2\" class=\"data row0 col2\" >-0.229</td>\n",
       "      <td id=\"T_f0b90_row0_col3\" class=\"data row0 col3\" >-0.378</td>\n",
       "      <td id=\"T_f0b90_row0_col4\" class=\"data row0 col4\" >0.030</td>\n",
       "      <td id=\"T_f0b90_row0_col5\" class=\"data row0 col5\" >0.159</td>\n",
       "      <td id=\"T_f0b90_row0_col6\" class=\"data row0 col6\" >-0.077</td>\n",
       "      <td id=\"T_f0b90_row0_col7\" class=\"data row0 col7\" >0.129</td>\n",
       "      <td id=\"T_f0b90_row0_col8\" class=\"data row0 col8\" >0.983</td>\n",
       "      <td id=\"T_f0b90_row0_col9\" class=\"data row0 col9\" >-0.070</td>\n",
       "    </tr>\n",
       "    <tr>\n",
       "      <th id=\"T_f0b90_level0_row1\" class=\"row_heading level0 row1\" >AbstentionPtge</th>\n",
       "      <td id=\"T_f0b90_row1_col0\" class=\"data row1 col0\" >-0.225</td>\n",
       "      <td id=\"T_f0b90_row1_col1\" class=\"data row1 col1\" >1.000</td>\n",
       "      <td id=\"T_f0b90_row1_col2\" class=\"data row1 col2\" >-0.113</td>\n",
       "      <td id=\"T_f0b90_row1_col3\" class=\"data row1 col3\" >-0.063</td>\n",
       "      <td id=\"T_f0b90_row1_col4\" class=\"data row1 col4\" >0.753</td>\n",
       "      <td id=\"T_f0b90_row1_col5\" class=\"data row1 col5\" >0.454</td>\n",
       "      <td id=\"T_f0b90_row1_col6\" class=\"data row1 col6\" >-0.699</td>\n",
       "      <td id=\"T_f0b90_row1_col7\" class=\"data row1 col7\" >0.233</td>\n",
       "      <td id=\"T_f0b90_row1_col8\" class=\"data row1 col8\" >-0.206</td>\n",
       "      <td id=\"T_f0b90_row1_col9\" class=\"data row1 col9\" >0.737</td>\n",
       "    </tr>\n",
       "    <tr>\n",
       "      <th id=\"T_f0b90_level0_row2\" class=\"row_heading level0 row2\" >Izda_Pct</th>\n",
       "      <td id=\"T_f0b90_row2_col0\" class=\"data row2 col0\" >-0.229</td>\n",
       "      <td id=\"T_f0b90_row2_col1\" class=\"data row2 col1\" >-0.113</td>\n",
       "      <td id=\"T_f0b90_row2_col2\" class=\"data row2 col2\" >1.000</td>\n",
       "      <td id=\"T_f0b90_row2_col3\" class=\"data row2 col3\" >0.236</td>\n",
       "      <td id=\"T_f0b90_row2_col4\" class=\"data row2 col4\" >-0.100</td>\n",
       "      <td id=\"T_f0b90_row2_col5\" class=\"data row2 col5\" >0.051</td>\n",
       "      <td id=\"T_f0b90_row2_col6\" class=\"data row2 col6\" >0.055</td>\n",
       "      <td id=\"T_f0b90_row2_col7\" class=\"data row2 col7\" >-0.124</td>\n",
       "      <td id=\"T_f0b90_row2_col8\" class=\"data row2 col8\" >-0.332</td>\n",
       "      <td id=\"T_f0b90_row2_col9\" class=\"data row2 col9\" >-0.104</td>\n",
       "    </tr>\n",
       "    <tr>\n",
       "      <th id=\"T_f0b90_level0_row3\" class=\"row_heading level0 row3\" >Dcha_Pct</th>\n",
       "      <td id=\"T_f0b90_row3_col0\" class=\"data row3 col0\" >-0.378</td>\n",
       "      <td id=\"T_f0b90_row3_col1\" class=\"data row3 col1\" >-0.063</td>\n",
       "      <td id=\"T_f0b90_row3_col2\" class=\"data row3 col2\" >0.236</td>\n",
       "      <td id=\"T_f0b90_row3_col3\" class=\"data row3 col3\" >1.000</td>\n",
       "      <td id=\"T_f0b90_row3_col4\" class=\"data row3 col4\" >-0.042</td>\n",
       "      <td id=\"T_f0b90_row3_col5\" class=\"data row3 col5\" >-0.164</td>\n",
       "      <td id=\"T_f0b90_row3_col6\" class=\"data row3 col6\" >0.088</td>\n",
       "      <td id=\"T_f0b90_row3_col7\" class=\"data row3 col7\" >0.108</td>\n",
       "      <td id=\"T_f0b90_row3_col8\" class=\"data row3 col8\" >-0.396</td>\n",
       "      <td id=\"T_f0b90_row3_col9\" class=\"data row3 col9\" >-0.004</td>\n",
       "    </tr>\n",
       "    <tr>\n",
       "      <th id=\"T_f0b90_level0_row4\" class=\"row_heading level0 row4\" >Age_under19_Ptge</th>\n",
       "      <td id=\"T_f0b90_row4_col0\" class=\"data row4 col0\" >0.030</td>\n",
       "      <td id=\"T_f0b90_row4_col1\" class=\"data row4 col1\" >0.753</td>\n",
       "      <td id=\"T_f0b90_row4_col2\" class=\"data row4 col2\" >-0.100</td>\n",
       "      <td id=\"T_f0b90_row4_col3\" class=\"data row4 col3\" >-0.042</td>\n",
       "      <td id=\"T_f0b90_row4_col4\" class=\"data row4 col4\" >1.000</td>\n",
       "      <td id=\"T_f0b90_row4_col5\" class=\"data row4 col5\" >0.717</td>\n",
       "      <td id=\"T_f0b90_row4_col6\" class=\"data row4 col6\" >-0.969</td>\n",
       "      <td id=\"T_f0b90_row4_col7\" class=\"data row4 col7\" >0.611</td>\n",
       "      <td id=\"T_f0b90_row4_col8\" class=\"data row4 col8\" >0.053</td>\n",
       "      <td id=\"T_f0b90_row4_col9\" class=\"data row4 col9\" >0.938</td>\n",
       "    </tr>\n",
       "    <tr>\n",
       "      <th id=\"T_f0b90_level0_row5\" class=\"row_heading level0 row5\" >Age_19_65_pct</th>\n",
       "      <td id=\"T_f0b90_row5_col0\" class=\"data row5 col0\" >0.159</td>\n",
       "      <td id=\"T_f0b90_row5_col1\" class=\"data row5 col1\" >0.454</td>\n",
       "      <td id=\"T_f0b90_row5_col2\" class=\"data row5 col2\" >0.051</td>\n",
       "      <td id=\"T_f0b90_row5_col3\" class=\"data row5 col3\" >-0.164</td>\n",
       "      <td id=\"T_f0b90_row5_col4\" class=\"data row5 col4\" >0.717</td>\n",
       "      <td id=\"T_f0b90_row5_col5\" class=\"data row5 col5\" >1.000</td>\n",
       "      <td id=\"T_f0b90_row5_col6\" class=\"data row5 col6\" >-0.868</td>\n",
       "      <td id=\"T_f0b90_row5_col7\" class=\"data row5 col7\" >0.560</td>\n",
       "      <td id=\"T_f0b90_row5_col8\" class=\"data row5 col8\" >0.177</td>\n",
       "      <td id=\"T_f0b90_row5_col9\" class=\"data row5 col9\" >0.647</td>\n",
       "    </tr>\n",
       "    <tr>\n",
       "      <th id=\"T_f0b90_level0_row6\" class=\"row_heading level0 row6\" >Age_over65_pct</th>\n",
       "      <td id=\"T_f0b90_row6_col0\" class=\"data row6 col0\" >-0.077</td>\n",
       "      <td id=\"T_f0b90_row6_col1\" class=\"data row6 col1\" >-0.699</td>\n",
       "      <td id=\"T_f0b90_row6_col2\" class=\"data row6 col2\" >0.055</td>\n",
       "      <td id=\"T_f0b90_row6_col3\" class=\"data row6 col3\" >0.088</td>\n",
       "      <td id=\"T_f0b90_row6_col4\" class=\"data row6 col4\" >-0.969</td>\n",
       "      <td id=\"T_f0b90_row6_col5\" class=\"data row6 col5\" >-0.868</td>\n",
       "      <td id=\"T_f0b90_row6_col6\" class=\"data row6 col6\" >1.000</td>\n",
       "      <td id=\"T_f0b90_row6_col7\" class=\"data row6 col7\" >-0.636</td>\n",
       "      <td id=\"T_f0b90_row6_col8\" class=\"data row6 col8\" >-0.100</td>\n",
       "      <td id=\"T_f0b90_row6_col9\" class=\"data row6 col9\" >-0.900</td>\n",
       "    </tr>\n",
       "    <tr>\n",
       "      <th id=\"T_f0b90_level0_row7\" class=\"row_heading level0 row7\" >ForeignersPtge</th>\n",
       "      <td id=\"T_f0b90_row7_col0\" class=\"data row7 col0\" >0.129</td>\n",
       "      <td id=\"T_f0b90_row7_col1\" class=\"data row7 col1\" >0.233</td>\n",
       "      <td id=\"T_f0b90_row7_col2\" class=\"data row7 col2\" >-0.124</td>\n",
       "      <td id=\"T_f0b90_row7_col3\" class=\"data row7 col3\" >0.108</td>\n",
       "      <td id=\"T_f0b90_row7_col4\" class=\"data row7 col4\" >0.611</td>\n",
       "      <td id=\"T_f0b90_row7_col5\" class=\"data row7 col5\" >0.560</td>\n",
       "      <td id=\"T_f0b90_row7_col6\" class=\"data row7 col6\" >-0.636</td>\n",
       "      <td id=\"T_f0b90_row7_col7\" class=\"data row7 col7\" >1.000</td>\n",
       "      <td id=\"T_f0b90_row7_col8\" class=\"data row7 col8\" >0.172</td>\n",
       "      <td id=\"T_f0b90_row7_col9\" class=\"data row7 col9\" >0.545</td>\n",
       "    </tr>\n",
       "    <tr>\n",
       "      <th id=\"T_f0b90_level0_row8\" class=\"row_heading level0 row8\" >totalEmpresas</th>\n",
       "      <td id=\"T_f0b90_row8_col0\" class=\"data row8 col0\" >0.983</td>\n",
       "      <td id=\"T_f0b90_row8_col1\" class=\"data row8 col1\" >-0.206</td>\n",
       "      <td id=\"T_f0b90_row8_col2\" class=\"data row8 col2\" >-0.332</td>\n",
       "      <td id=\"T_f0b90_row8_col3\" class=\"data row8 col3\" >-0.396</td>\n",
       "      <td id=\"T_f0b90_row8_col4\" class=\"data row8 col4\" >0.053</td>\n",
       "      <td id=\"T_f0b90_row8_col5\" class=\"data row8 col5\" >0.177</td>\n",
       "      <td id=\"T_f0b90_row8_col6\" class=\"data row8 col6\" >-0.100</td>\n",
       "      <td id=\"T_f0b90_row8_col7\" class=\"data row8 col7\" >0.172</td>\n",
       "      <td id=\"T_f0b90_row8_col8\" class=\"data row8 col8\" >1.000</td>\n",
       "      <td id=\"T_f0b90_row8_col9\" class=\"data row8 col9\" >-0.030</td>\n",
       "    </tr>\n",
       "    <tr>\n",
       "      <th id=\"T_f0b90_level0_row9\" class=\"row_heading level0 row9\" >PobChange_pct</th>\n",
       "      <td id=\"T_f0b90_row9_col0\" class=\"data row9 col0\" >-0.070</td>\n",
       "      <td id=\"T_f0b90_row9_col1\" class=\"data row9 col1\" >0.737</td>\n",
       "      <td id=\"T_f0b90_row9_col2\" class=\"data row9 col2\" >-0.104</td>\n",
       "      <td id=\"T_f0b90_row9_col3\" class=\"data row9 col3\" >-0.004</td>\n",
       "      <td id=\"T_f0b90_row9_col4\" class=\"data row9 col4\" >0.938</td>\n",
       "      <td id=\"T_f0b90_row9_col5\" class=\"data row9 col5\" >0.647</td>\n",
       "      <td id=\"T_f0b90_row9_col6\" class=\"data row9 col6\" >-0.900</td>\n",
       "      <td id=\"T_f0b90_row9_col7\" class=\"data row9 col7\" >0.545</td>\n",
       "      <td id=\"T_f0b90_row9_col8\" class=\"data row9 col8\" >-0.030</td>\n",
       "      <td id=\"T_f0b90_row9_col9\" class=\"data row9 col9\" >1.000</td>\n",
       "    </tr>\n",
       "  </tbody>\n",
       "</table>\n"
      ],
      "text/plain": [
       "<pandas.io.formats.style.Styler at 0x1f10fdb6bb0>"
      ]
     },
     "execution_count": 179,
     "metadata": {},
     "output_type": "execute_result"
    }
   ],
   "source": [
    "corr = grupos.iloc[:, :-1].corr()\n",
    "corr.style.background_gradient(cmap='coolwarm').format(precision=3)"
   ]
  },
  {
   "cell_type": "code",
   "execution_count": 180,
   "id": "fcde33df",
   "metadata": {},
   "outputs": [
    {
     "data": {
      "text/plain": [
       "(347.53466166284744, 4.415824313983707e-44)"
      ]
     },
     "execution_count": 180,
     "metadata": {},
     "output_type": "execute_result"
    }
   ],
   "source": [
    "calculate_bartlett_sphericity(grupos)"
   ]
  },
  {
   "cell_type": "markdown",
   "id": "db50583b",
   "metadata": {},
   "source": [
    "Pasa el test de esfericidad, por lo que no se cuenta con una matriz parecida a la identidad (existen correlaciones importantes entre las variables). Se puede continuar!"
   ]
  },
  {
   "cell_type": "code",
   "execution_count": 181,
   "id": "32feab0d",
   "metadata": {},
   "outputs": [
    {
     "data": {
      "text/plain": [
       "(array([0.26378584, 0.92307331, 0.15079145, 0.80709349, 0.45002026,\n",
       "        0.36347584, 0.45997642, 0.68278151, 0.2977025 , 0.89071008]),\n",
       " 0.46429023425717975)"
      ]
     },
     "execution_count": 181,
     "metadata": {},
     "output_type": "execute_result"
    }
   ],
   "source": [
    "calculate_kmo(grupos.iloc[:, :-1])"
   ]
  },
  {
   "cell_type": "markdown",
   "id": "95a77549",
   "metadata": {},
   "source": [
    "Se obtienen varios valores bajos de este coeficiente lo cual podría perjudicar un poco el estudio, pero se mantendrán las 10 variables para seguir las indicaciones del problema. "
   ]
  },
  {
   "cell_type": "code",
   "execution_count": 182,
   "id": "e2ffa1a4",
   "metadata": {},
   "outputs": [],
   "source": [
    "scaler = StandardScaler()\n",
    "scaler.fit(grupos.iloc[:, :-1])\n",
    "\n",
    "X = scaler.transform(grupos.iloc[:, :-1])"
   ]
  },
  {
   "cell_type": "code",
   "execution_count": 183,
   "id": "d5b5d820",
   "metadata": {},
   "outputs": [
    {
     "data": {
      "text/html": [
       "<div>\n",
       "<style scoped>\n",
       "    .dataframe tbody tr th:only-of-type {\n",
       "        vertical-align: middle;\n",
       "    }\n",
       "\n",
       "    .dataframe tbody tr th {\n",
       "        vertical-align: top;\n",
       "    }\n",
       "\n",
       "    .dataframe thead th {\n",
       "        text-align: right;\n",
       "    }\n",
       "</style>\n",
       "<table border=\"1\" class=\"dataframe\">\n",
       "  <thead>\n",
       "    <tr style=\"text-align: right;\">\n",
       "      <th></th>\n",
       "      <th>0</th>\n",
       "      <th>1</th>\n",
       "      <th>2</th>\n",
       "      <th>3</th>\n",
       "      <th>4</th>\n",
       "      <th>5</th>\n",
       "      <th>6</th>\n",
       "      <th>7</th>\n",
       "      <th>8</th>\n",
       "      <th>9</th>\n",
       "    </tr>\n",
       "  </thead>\n",
       "  <tbody>\n",
       "    <tr>\n",
       "      <th>0</th>\n",
       "      <td>0.362602</td>\n",
       "      <td>2.326062</td>\n",
       "      <td>-1.565893</td>\n",
       "      <td>1.817934</td>\n",
       "      <td>1.296857</td>\n",
       "      <td>-0.310255</td>\n",
       "      <td>0.125262</td>\n",
       "      <td>0.126014</td>\n",
       "      <td>-0.199510</td>\n",
       "      <td>0.000692</td>\n",
       "    </tr>\n",
       "    <tr>\n",
       "      <th>1</th>\n",
       "      <td>-2.342696</td>\n",
       "      <td>-0.659233</td>\n",
       "      <td>-0.279530</td>\n",
       "      <td>-0.364422</td>\n",
       "      <td>-0.155255</td>\n",
       "      <td>-0.709130</td>\n",
       "      <td>0.167852</td>\n",
       "      <td>-0.087550</td>\n",
       "      <td>0.031090</td>\n",
       "      <td>0.000071</td>\n",
       "    </tr>\n",
       "    <tr>\n",
       "      <th>2</th>\n",
       "      <td>-1.590470</td>\n",
       "      <td>-1.033625</td>\n",
       "      <td>0.267881</td>\n",
       "      <td>1.350497</td>\n",
       "      <td>0.354071</td>\n",
       "      <td>0.072091</td>\n",
       "      <td>0.640109</td>\n",
       "      <td>-0.288483</td>\n",
       "      <td>0.074851</td>\n",
       "      <td>-0.001192</td>\n",
       "    </tr>\n",
       "    <tr>\n",
       "      <th>3</th>\n",
       "      <td>1.852911</td>\n",
       "      <td>-0.758367</td>\n",
       "      <td>-1.051715</td>\n",
       "      <td>0.074808</td>\n",
       "      <td>-1.211164</td>\n",
       "      <td>-0.356559</td>\n",
       "      <td>0.705138</td>\n",
       "      <td>-0.061882</td>\n",
       "      <td>0.055738</td>\n",
       "      <td>0.001054</td>\n",
       "    </tr>\n",
       "    <tr>\n",
       "      <th>4</th>\n",
       "      <td>1.606178</td>\n",
       "      <td>-0.154542</td>\n",
       "      <td>-0.526484</td>\n",
       "      <td>0.566542</td>\n",
       "      <td>-0.857759</td>\n",
       "      <td>0.797436</td>\n",
       "      <td>0.887514</td>\n",
       "      <td>-0.084920</td>\n",
       "      <td>-0.054846</td>\n",
       "      <td>-0.000538</td>\n",
       "    </tr>\n",
       "  </tbody>\n",
       "</table>\n",
       "</div>"
      ],
      "text/plain": [
       "          0         1         2         3         4         5         6  \\\n",
       "0  0.362602  2.326062 -1.565893  1.817934  1.296857 -0.310255  0.125262   \n",
       "1 -2.342696 -0.659233 -0.279530 -0.364422 -0.155255 -0.709130  0.167852   \n",
       "2 -1.590470 -1.033625  0.267881  1.350497  0.354071  0.072091  0.640109   \n",
       "3  1.852911 -0.758367 -1.051715  0.074808 -1.211164 -0.356559  0.705138   \n",
       "4  1.606178 -0.154542 -0.526484  0.566542 -0.857759  0.797436  0.887514   \n",
       "\n",
       "          7         8         9  \n",
       "0  0.126014 -0.199510  0.000692  \n",
       "1 -0.087550  0.031090  0.000071  \n",
       "2 -0.288483  0.074851 -0.001192  \n",
       "3 -0.061882  0.055738  0.001054  \n",
       "4 -0.084920 -0.054846 -0.000538  "
      ]
     },
     "execution_count": 183,
     "metadata": {},
     "output_type": "execute_result"
    }
   ],
   "source": [
    "pca = PCA()\n",
    "scores_elec = pca.fit_transform(X)\n",
    "scores_pd= pd.DataFrame(scores_elec)\n",
    "scores_pd.head()\n"
   ]
  },
  {
   "cell_type": "code",
   "execution_count": 184,
   "id": "880b364e",
   "metadata": {},
   "outputs": [
    {
     "data": {
      "image/png": "[encoded data removed]",
      "text/plain": [
       "<Figure size 748.8x514.8 with 1 Axes>"
      ]
     },
     "metadata": {},
     "output_type": "display_data"
    }
   ],
   "source": [
    "plt.style.use('seaborn-talk')\n",
    "\n",
    "pca_scree(pca, marker='o', markersize=16, lw=3)\n",
    "\n",
    "plt.show()"
   ]
  },
  {
   "cell_type": "markdown",
   "id": "f5b781c1",
   "metadata": {},
   "source": [
    "3 componentes es lo ideal."
   ]
  },
  {
   "cell_type": "code",
   "execution_count": 185,
   "id": "0af5d1c7",
   "metadata": {},
   "outputs": [],
   "source": [
    "#!pip install pca"
   ]
  },
  {
   "cell_type": "code",
   "execution_count": 186,
   "id": "5512e21e",
   "metadata": {},
   "outputs": [
    {
     "name": "stdout",
     "output_type": "stream",
     "text": [
      "[pca] >Processing dataframe..\n",
      "[pca] >Normalizing input data per feature (zero mean and unit variance)..\n",
      "[pca] >The PCA reduction is performed on the [10] columns of the input dataframe.\n",
      "[pca] >Fit using PCA.\n",
      "[pca] >Compute loadings and PCs.\n",
      "[pca] >Compute explained variance.\n",
      "[pca] >Outlier detection using Hotelling T2 test with alpha=[0.05] and n_components=[3]\n",
      "[pca] >Multiple test correction applied for Hotelling T2 test: [fdr_bh]\n",
      "[pca] >Outlier detection using SPE/DmodX with n_std=[3]\n"
     ]
    }
   ],
   "source": [
    "from pca import pca\n",
    "\n",
    "pcaModel = pca(normalize=True,n_components=3)\n",
    "results = pcaModel.fit_transform(grupos.iloc[:,:-1])"
   ]
  },
  {
   "cell_type": "code",
   "execution_count": 187,
   "id": "8691277c",
   "metadata": {},
   "outputs": [
    {
     "data": {
      "image/png": "[encoded data removed]",
      "text/plain": [
       "<Figure size 1080x720 with 1 Axes>"
      ]
     },
     "metadata": {},
     "output_type": "display_data"
    },
    {
     "data": {
      "text/plain": [
       "(<Figure size 1080x720 with 1 Axes>,\n",
       " <AxesSubplot:title={'center':'Cumulative explained variance\\n 3 Principal Components explain [80.32%] of the variance.'}, xlabel='Principle Component', ylabel='Percentage explained variance'>)"
      ]
     },
     "execution_count": 187,
     "metadata": {},
     "output_type": "execute_result"
    },
    {
     "data": {
      "text/plain": [
       "<Figure size 748.8x514.8 with 0 Axes>"
      ]
     },
     "metadata": {},
     "output_type": "display_data"
    }
   ],
   "source": [
    "pcaModel.plot()"
   ]
  },
  {
   "cell_type": "code",
   "execution_count": 188,
   "id": "4d235724",
   "metadata": {},
   "outputs": [
    {
     "data": {
      "text/html": [
       "<div>\n",
       "<style scoped>\n",
       "    .dataframe tbody tr th:only-of-type {\n",
       "        vertical-align: middle;\n",
       "    }\n",
       "\n",
       "    .dataframe tbody tr th {\n",
       "        vertical-align: top;\n",
       "    }\n",
       "\n",
       "    .dataframe thead th {\n",
       "        text-align: right;\n",
       "    }\n",
       "</style>\n",
       "<table border=\"1\" class=\"dataframe\">\n",
       "  <thead>\n",
       "    <tr style=\"text-align: right;\">\n",
       "      <th></th>\n",
       "      <th>Population</th>\n",
       "      <th>AbstentionPtge</th>\n",
       "      <th>Izda_Pct</th>\n",
       "      <th>Dcha_Pct</th>\n",
       "      <th>Age_under19_Ptge</th>\n",
       "      <th>Age_19_65_pct</th>\n",
       "      <th>Age_over65_pct</th>\n",
       "      <th>ForeignersPtge</th>\n",
       "      <th>totalEmpresas</th>\n",
       "      <th>PobChange_pct</th>\n",
       "    </tr>\n",
       "  </thead>\n",
       "  <tbody>\n",
       "    <tr>\n",
       "      <th>PC1</th>\n",
       "      <td>0.035805</td>\n",
       "      <td>0.349931</td>\n",
       "      <td>-0.060199</td>\n",
       "      <td>-0.045927</td>\n",
       "      <td>0.456778</td>\n",
       "      <td>0.389146</td>\n",
       "      <td>-0.464471</td>\n",
       "      <td>0.320113</td>\n",
       "      <td>0.052058</td>\n",
       "      <td>0.435358</td>\n",
       "    </tr>\n",
       "    <tr>\n",
       "      <th>PC2</th>\n",
       "      <td>0.601349</td>\n",
       "      <td>-0.188950</td>\n",
       "      <td>-0.273441</td>\n",
       "      <td>-0.362819</td>\n",
       "      <td>-0.043508</td>\n",
       "      <td>0.067164</td>\n",
       "      <td>0.007743</td>\n",
       "      <td>0.060363</td>\n",
       "      <td>0.613712</td>\n",
       "      <td>-0.097561</td>\n",
       "    </tr>\n",
       "    <tr>\n",
       "      <th>PC3</th>\n",
       "      <td>-0.198797</td>\n",
       "      <td>0.406759</td>\n",
       "      <td>-0.568014</td>\n",
       "      <td>-0.487758</td>\n",
       "      <td>0.030180</td>\n",
       "      <td>-0.212316</td>\n",
       "      <td>0.053043</td>\n",
       "      <td>-0.397322</td>\n",
       "      <td>-0.144349</td>\n",
       "      <td>0.083519</td>\n",
       "    </tr>\n",
       "  </tbody>\n",
       "</table>\n",
       "</div>"
      ],
      "text/plain": [
       "     Population  AbstentionPtge  Izda_Pct  Dcha_Pct  Age_under19_Ptge  \\\n",
       "PC1    0.035805        0.349931 -0.060199 -0.045927          0.456778   \n",
       "PC2    0.601349       -0.188950 -0.273441 -0.362819         -0.043508   \n",
       "PC3   -0.198797        0.406759 -0.568014 -0.487758          0.030180   \n",
       "\n",
       "     Age_19_65_pct  Age_over65_pct  ForeignersPtge  totalEmpresas  \\\n",
       "PC1       0.389146       -0.464471        0.320113       0.052058   \n",
       "PC2       0.067164        0.007743        0.060363       0.613712   \n",
       "PC3      -0.212316        0.053043       -0.397322      -0.144349   \n",
       "\n",
       "     PobChange_pct  \n",
       "PC1       0.435358  \n",
       "PC2      -0.097561  \n",
       "PC3       0.083519  "
      ]
     },
     "execution_count": 188,
     "metadata": {},
     "output_type": "execute_result"
    }
   ],
   "source": [
    "pcaModel.results['loadings']"
   ]
  },
  {
   "cell_type": "markdown",
   "id": "f29c8ede",
   "metadata": {},
   "source": [
    "Esta componente toma en mayor consideración los valores de personas que no votaron, rango de edades menos a 19 y entre 19 y 65, el porcentaje de extranjeros y el cambio de la población. Se ve muy afectado por valores del porcentaje de gente mayor a 65 anos, y menos por los de votantes de izquierda o derecha, ya que son negativos."
   ]
  },
  {
   "cell_type": "markdown",
   "id": "542f55d2",
   "metadata": {},
   "source": [
    "La segunda componente se centra principalmente en la población  y el total de empresas de la comunidad autónoma. Se ve muy afectada por los votos a derecha, un poco menos por los votos a izquierda"
   ]
  },
  {
   "cell_type": "markdown",
   "id": "5cc65ae4",
   "metadata": {},
   "source": [
    "La última componente, que es la 3, se centra  únicamente en el porcentaje de gente que no voto y un poco en las personas menorea a 19 y mayores a 65."
   ]
  },
  {
   "cell_type": "markdown",
   "id": "77fc7cda",
   "metadata": {},
   "source": [
    "En resumen:\n",
    "- Componente 1 = reúne los rangos de edad, el porcentaje de extranjeros y el porcentaje de cambio en la población\n",
    "- Componente 2: Se centra en la cantidad de población y número de empresas\n",
    "- Componente 3: Se centra la cantidad de gente que se abstuvo de votar, por ello suman las variables de gente menor de edad y gente mayor (3ra edad)\n"
   ]
  },
  {
   "cell_type": "code",
   "execution_count": 189,
   "id": "a42fe6c9",
   "metadata": {},
   "outputs": [
    {
     "data": {
      "text/html": [
       "<div>\n",
       "<style scoped>\n",
       "    .dataframe tbody tr th:only-of-type {\n",
       "        vertical-align: middle;\n",
       "    }\n",
       "\n",
       "    .dataframe tbody tr th {\n",
       "        vertical-align: top;\n",
       "    }\n",
       "\n",
       "    .dataframe thead th {\n",
       "        text-align: right;\n",
       "    }\n",
       "</style>\n",
       "<table border=\"1\" class=\"dataframe\">\n",
       "  <thead>\n",
       "    <tr style=\"text-align: right;\">\n",
       "      <th></th>\n",
       "      <th>PC1</th>\n",
       "      <th>PC2</th>\n",
       "      <th>PC3</th>\n",
       "      <th>cluster</th>\n",
       "    </tr>\n",
       "  </thead>\n",
       "  <tbody>\n",
       "    <tr>\n",
       "      <th>Andalucía</th>\n",
       "      <td>0.362602</td>\n",
       "      <td>2.326062</td>\n",
       "      <td>-1.565893</td>\n",
       "      <td>2</td>\n",
       "    </tr>\n",
       "    <tr>\n",
       "      <th>Aragón</th>\n",
       "      <td>-2.342696</td>\n",
       "      <td>-0.659233</td>\n",
       "      <td>-0.279530</td>\n",
       "      <td>1</td>\n",
       "    </tr>\n",
       "    <tr>\n",
       "      <th>Asturias</th>\n",
       "      <td>-1.590470</td>\n",
       "      <td>-1.033625</td>\n",
       "      <td>0.267881</td>\n",
       "      <td>1</td>\n",
       "    </tr>\n",
       "    <tr>\n",
       "      <th>Baleares</th>\n",
       "      <td>1.852911</td>\n",
       "      <td>-0.758367</td>\n",
       "      <td>-1.051715</td>\n",
       "      <td>0</td>\n",
       "    </tr>\n",
       "    <tr>\n",
       "      <th>Canarias</th>\n",
       "      <td>1.606178</td>\n",
       "      <td>-0.154542</td>\n",
       "      <td>-0.526484</td>\n",
       "      <td>0</td>\n",
       "    </tr>\n",
       "    <tr>\n",
       "      <th>Cantabria</th>\n",
       "      <td>-0.501123</td>\n",
       "      <td>-1.113352</td>\n",
       "      <td>-0.050152</td>\n",
       "      <td>1</td>\n",
       "    </tr>\n",
       "    <tr>\n",
       "      <th>CastillaLeón</th>\n",
       "      <td>-3.260228</td>\n",
       "      <td>-0.116185</td>\n",
       "      <td>0.106853</td>\n",
       "      <td>1</td>\n",
       "    </tr>\n",
       "    <tr>\n",
       "      <th>CastillaMancha</th>\n",
       "      <td>-2.478874</td>\n",
       "      <td>-0.285742</td>\n",
       "      <td>-0.531582</td>\n",
       "      <td>1</td>\n",
       "    </tr>\n",
       "    <tr>\n",
       "      <th>Cataluña</th>\n",
       "      <td>1.201837</td>\n",
       "      <td>4.172983</td>\n",
       "      <td>1.888621</td>\n",
       "      <td>2</td>\n",
       "    </tr>\n",
       "    <tr>\n",
       "      <th>Ceuta</th>\n",
       "      <td>3.124462</td>\n",
       "      <td>-2.030834</td>\n",
       "      <td>1.050726</td>\n",
       "      <td>0</td>\n",
       "    </tr>\n",
       "    <tr>\n",
       "      <th>ComValenciana</th>\n",
       "      <td>-0.133384</td>\n",
       "      <td>1.900162</td>\n",
       "      <td>-0.430867</td>\n",
       "      <td>2</td>\n",
       "    </tr>\n",
       "    <tr>\n",
       "      <th>Extremadura</th>\n",
       "      <td>-1.673524</td>\n",
       "      <td>-0.978157</td>\n",
       "      <td>-0.025710</td>\n",
       "      <td>1</td>\n",
       "    </tr>\n",
       "    <tr>\n",
       "      <th>Galicia</th>\n",
       "      <td>-2.158618</td>\n",
       "      <td>0.329213</td>\n",
       "      <td>1.237859</td>\n",
       "      <td>1</td>\n",
       "    </tr>\n",
       "    <tr>\n",
       "      <th>Madrid</th>\n",
       "      <td>2.007358</td>\n",
       "      <td>2.041718</td>\n",
       "      <td>-1.892249</td>\n",
       "      <td>2</td>\n",
       "    </tr>\n",
       "    <tr>\n",
       "      <th>Melilla</th>\n",
       "      <td>4.691440</td>\n",
       "      <td>-2.147370</td>\n",
       "      <td>0.478878</td>\n",
       "      <td>0</td>\n",
       "    </tr>\n",
       "    <tr>\n",
       "      <th>Murcia</th>\n",
       "      <td>1.554108</td>\n",
       "      <td>-0.680238</td>\n",
       "      <td>-1.034891</td>\n",
       "      <td>0</td>\n",
       "    </tr>\n",
       "    <tr>\n",
       "      <th>Navarra</th>\n",
       "      <td>-0.677480</td>\n",
       "      <td>-0.699689</td>\n",
       "      <td>0.843920</td>\n",
       "      <td>1</td>\n",
       "    </tr>\n",
       "    <tr>\n",
       "      <th>PaísVasco</th>\n",
       "      <td>0.920451</td>\n",
       "      <td>0.849570</td>\n",
       "      <td>1.950973</td>\n",
       "      <td>2</td>\n",
       "    </tr>\n",
       "    <tr>\n",
       "      <th>Rioja</th>\n",
       "      <td>-2.504947</td>\n",
       "      <td>-0.962375</td>\n",
       "      <td>-0.436639</td>\n",
       "      <td>1</td>\n",
       "    </tr>\n",
       "  </tbody>\n",
       "</table>\n",
       "</div>"
      ],
      "text/plain": [
       "                     PC1       PC2       PC3  cluster\n",
       "Andalucía       0.362602  2.326062 -1.565893        2\n",
       "Aragón         -2.342696 -0.659233 -0.279530        1\n",
       "Asturias       -1.590470 -1.033625  0.267881        1\n",
       "Baleares        1.852911 -0.758367 -1.051715        0\n",
       "Canarias        1.606178 -0.154542 -0.526484        0\n",
       "Cantabria      -0.501123 -1.113352 -0.050152        1\n",
       "CastillaLeón   -3.260228 -0.116185  0.106853        1\n",
       "CastillaMancha -2.478874 -0.285742 -0.531582        1\n",
       "Cataluña        1.201837  4.172983  1.888621        2\n",
       "Ceuta           3.124462 -2.030834  1.050726        0\n",
       "ComValenciana  -0.133384  1.900162 -0.430867        2\n",
       "Extremadura    -1.673524 -0.978157 -0.025710        1\n",
       "Galicia        -2.158618  0.329213  1.237859        1\n",
       "Madrid          2.007358  2.041718 -1.892249        2\n",
       "Melilla         4.691440 -2.147370  0.478878        0\n",
       "Murcia          1.554108 -0.680238 -1.034891        0\n",
       "Navarra        -0.677480 -0.699689  0.843920        1\n",
       "PaísVasco       0.920451  0.849570  1.950973        2\n",
       "Rioja          -2.504947 -0.962375 -0.436639        1"
      ]
     },
     "execution_count": 189,
     "metadata": {},
     "output_type": "execute_result"
    }
   ],
   "source": [
    "grupos_pca = pcaModel.results['PC'].join(grupos['cluster'])\n",
    "grupos_pca\n"
   ]
  },
  {
   "cell_type": "code",
   "execution_count": 190,
   "id": "c1f12fae",
   "metadata": {},
   "outputs": [
    {
     "data": {
      "application/vnd.plotly.v1+json": {
       "config": {
        "plotlyServerURL": "https://plot.ly"
       },
       "data": [
        {
         "hovertemplate": "PC1=%{x}<br>PC2=%{y}<br>index=%{text}<br>cluster=%{marker.color}<extra></extra>",
         "legendgroup": "",
         "marker": {
          "color": [
           2,
           1,
           1,
           0,
           0,
           1,
           1,
           1,
           2,
           0,
           2,
           1,
           1,
           2,
           0,
           0,
           1,
           2,
           1
          ],
          "coloraxis": "coloraxis",
          "symbol": "circle"
         },
         "mode": "markers+text",
         "name": "",
         "orientation": "v",
         "showlegend": false,
         "text": [
          "Andalucía",
          "Aragón",
          "Asturias",
          "Baleares",
          "Canarias",
          "Cantabria",
          "CastillaLeón",
          "CastillaMancha",
          "Cataluña",
          "Ceuta",
          "ComValenciana",
          "Extremadura",
          "Galicia",
          "Madrid",
          "Melilla",
          "Murcia",
          "Navarra",
          "PaísVasco",
          "Rioja"
         ],
         "type": "scatter",
         "x": [
          0.36260187301443725,
          -2.342695987673795,
          -1.5904704516468493,
          1.8529105590314394,
          1.606178400327588,
          -0.5011233854407482,
          -3.2602284806176454,
          -2.4788744194925774,
          1.201837104609487,
          3.1244616181485725,
          -0.1333836136672609,
          -1.6735240485035818,
          -2.158617793383485,
          2.0073579606729837,
          4.6914397730831485,
          1.5541076388829167,
          -0.6774803378157181,
          0.9204509816352033,
          -2.504947391164116
         ],
         "xaxis": "x",
         "y": [
          2.3260616896588893,
          -0.6592325179380191,
          -1.0336249282322896,
          -0.7583672542369184,
          -0.15454218023399205,
          -1.1133518784369154,
          -0.11618517236308247,
          -0.28574196509068894,
          4.172983176787555,
          -2.0308341222502064,
          1.9001620275703888,
          -0.9781567567799928,
          0.32921340665568427,
          2.041718277420396,
          -2.1473697284859115,
          -0.6802382052119399,
          -0.6996889003101682,
          0.8495702609482444,
          -0.9623752294710324
         ],
         "yaxis": "y"
        }
       ],
       "layout": {
        "coloraxis": {
         "colorbar": {
          "title": {
           "text": "cluster"
          }
         },
         "colorscale": [
          [
           0,
           "#0d0887"
          ],
          [
           0.1111111111111111,
           "#46039f"
          ],
          [
           0.2222222222222222,
           "#7201a8"
          ],
          [
           0.3333333333333333,
           "#9c179e"
          ],
          [
           0.4444444444444444,
           "#bd3786"
          ],
          [
           0.5555555555555556,
           "#d8576b"
          ],
          [
           0.6666666666666666,
           "#ed7953"
          ],
          [
           0.7777777777777778,
           "#fb9f3a"
          ],
          [
           0.8888888888888888,
           "#fdca26"
          ],
          [
           1,
           "#f0f921"
          ]
         ]
        },
        "legend": {
         "tracegroupgap": 0
        },
        "margin": {
         "t": 60
        },
        "template": {
         "data": {
          "bar": [
           {
            "error_x": {
             "color": "#2a3f5f"
            },
            "error_y": {
             "color": "#2a3f5f"
            },
            "marker": {
             "line": {
              "color": "#E5ECF6",
              "width": 0.5
             },
             "pattern": {
              "fillmode": "overlay",
              "size": 10,
              "solidity": 0.2
             }
            },
            "type": "bar"
           }
          ],
          "barpolar": [
           {
            "marker": {
             "line": {
              "color": "#E5ECF6",
              "width": 0.5
             },
             "pattern": {
              "fillmode": "overlay",
              "size": 10,
              "solidity": 0.2
             }
            },
            "type": "barpolar"
           }
          ],
          "carpet": [
           {
            "aaxis": {
             "endlinecolor": "#2a3f5f",
             "gridcolor": "white",
             "linecolor": "white",
             "minorgridcolor": "white",
             "startlinecolor": "#2a3f5f"
            },
            "baxis": {
             "endlinecolor": "#2a3f5f",
             "gridcolor": "white",
             "linecolor": "white",
             "minorgridcolor": "white",
             "startlinecolor": "#2a3f5f"
            },
            "type": "carpet"
           }
          ],
          "choropleth": [
           {
            "colorbar": {
             "outlinewidth": 0,
             "ticks": ""
            },
            "type": "choropleth"
           }
          ],
          "contour": [
           {
            "colorbar": {
             "outlinewidth": 0,
             "ticks": ""
            },
            "colorscale": [
             [
              0,
              "#0d0887"
             ],
             [
              0.1111111111111111,
              "#46039f"
             ],
             [
              0.2222222222222222,
              "#7201a8"
             ],
             [
              0.3333333333333333,
              "#9c179e"
             ],
             [
              0.4444444444444444,
              "#bd3786"
             ],
             [
              0.5555555555555556,
              "#d8576b"
             ],
             [
              0.6666666666666666,
              "#ed7953"
             ],
             [
              0.7777777777777778,
              "#fb9f3a"
             ],
             [
              0.8888888888888888,
              "#fdca26"
             ],
             [
              1,
              "#f0f921"
             ]
            ],
            "type": "contour"
           }
          ],
          "contourcarpet": [
           {
            "colorbar": {
             "outlinewidth": 0,
             "ticks": ""
            },
            "type": "contourcarpet"
           }
          ],
          "heatmap": [
           {
            "colorbar": {
             "outlinewidth": 0,
             "ticks": ""
            },
            "colorscale": [
             [
              0,
              "#0d0887"
             ],
             [
              0.1111111111111111,
              "#46039f"
             ],
             [
              0.2222222222222222,
              "#7201a8"
             ],
             [
              0.3333333333333333,
              "#9c179e"
             ],
             [
              0.4444444444444444,
              "#bd3786"
             ],
             [
              0.5555555555555556,
              "#d8576b"
             ],
             [
              0.6666666666666666,
              "#ed7953"
             ],
             [
              0.7777777777777778,
              "#fb9f3a"
             ],
             [
              0.8888888888888888,
              "#fdca26"
             ],
             [
              1,
              "#f0f921"
             ]
            ],
            "type": "heatmap"
           }
          ],
          "heatmapgl": [
           {
            "colorbar": {
             "outlinewidth": 0,
             "ticks": ""
            },
            "colorscale": [
             [
              0,
              "#0d0887"
             ],
             [
              0.1111111111111111,
              "#46039f"
             ],
             [
              0.2222222222222222,
              "#7201a8"
             ],
             [
              0.3333333333333333,
              "#9c179e"
             ],
             [
              0.4444444444444444,
              "#bd3786"
             ],
             [
              0.5555555555555556,
              "#d8576b"
             ],
             [
              0.6666666666666666,
              "#ed7953"
             ],
             [
              0.7777777777777778,
              "#fb9f3a"
             ],
             [
              0.8888888888888888,
              "#fdca26"
             ],
             [
              1,
              "#f0f921"
             ]
            ],
            "type": "heatmapgl"
           }
          ],
          "histogram": [
           {
            "marker": {
             "pattern": {
              "fillmode": "overlay",
              "size": 10,
              "solidity": 0.2
             }
            },
            "type": "histogram"
           }
          ],
          "histogram2d": [
           {
            "colorbar": {
             "outlinewidth": 0,
             "ticks": ""
            },
            "colorscale": [
             [
              0,
              "#0d0887"
             ],
             [
              0.1111111111111111,
              "#46039f"
             ],
             [
              0.2222222222222222,
              "#7201a8"
             ],
             [
              0.3333333333333333,
              "#9c179e"
             ],
             [
              0.4444444444444444,
              "#bd3786"
             ],
             [
              0.5555555555555556,
              "#d8576b"
             ],
             [
              0.6666666666666666,
              "#ed7953"
             ],
             [
              0.7777777777777778,
              "#fb9f3a"
             ],
             [
              0.8888888888888888,
              "#fdca26"
             ],
             [
              1,
              "#f0f921"
             ]
            ],
            "type": "histogram2d"
           }
          ],
          "histogram2dcontour": [
           {
            "colorbar": {
             "outlinewidth": 0,
             "ticks": ""
            },
            "colorscale": [
             [
              0,
              "#0d0887"
             ],
             [
              0.1111111111111111,
              "#46039f"
             ],
             [
              0.2222222222222222,
              "#7201a8"
             ],
             [
              0.3333333333333333,
              "#9c179e"
             ],
             [
              0.4444444444444444,
              "#bd3786"
             ],
             [
              0.5555555555555556,
              "#d8576b"
             ],
             [
              0.6666666666666666,
              "#ed7953"
             ],
             [
              0.7777777777777778,
              "#fb9f3a"
             ],
             [
              0.8888888888888888,
              "#fdca26"
             ],
             [
              1,
              "#f0f921"
             ]
            ],
            "type": "histogram2dcontour"
           }
          ],
          "mesh3d": [
           {
            "colorbar": {
             "outlinewidth": 0,
             "ticks": ""
            },
            "type": "mesh3d"
           }
          ],
          "parcoords": [
           {
            "line": {
             "colorbar": {
              "outlinewidth": 0,
              "ticks": ""
             }
            },
            "type": "parcoords"
           }
          ],
          "pie": [
           {
            "automargin": true,
            "type": "pie"
           }
          ],
          "scatter": [
           {
            "marker": {
             "colorbar": {
              "outlinewidth": 0,
              "ticks": ""
             }
            },
            "type": "scatter"
           }
          ],
          "scatter3d": [
           {
            "line": {
             "colorbar": {
              "outlinewidth": 0,
              "ticks": ""
             }
            },
            "marker": {
             "colorbar": {
              "outlinewidth": 0,
              "ticks": ""
             }
            },
            "type": "scatter3d"
           }
          ],
          "scattercarpet": [
           {
            "marker": {
             "colorbar": {
              "outlinewidth": 0,
              "ticks": ""
             }
            },
            "type": "scattercarpet"
           }
          ],
          "scattergeo": [
           {
            "marker": {
             "colorbar": {
              "outlinewidth": 0,
              "ticks": ""
             }
            },
            "type": "scattergeo"
           }
          ],
          "scattergl": [
           {
            "marker": {
             "colorbar": {
              "outlinewidth": 0,
              "ticks": ""
             }
            },
            "type": "scattergl"
           }
          ],
          "scattermapbox": [
           {
            "marker": {
             "colorbar": {
              "outlinewidth": 0,
              "ticks": ""
             }
            },
            "type": "scattermapbox"
           }
          ],
          "scatterpolar": [
           {
            "marker": {
             "colorbar": {
              "outlinewidth": 0,
              "ticks": ""
             }
            },
            "type": "scatterpolar"
           }
          ],
          "scatterpolargl": [
           {
            "marker": {
             "colorbar": {
              "outlinewidth": 0,
              "ticks": ""
             }
            },
            "type": "scatterpolargl"
           }
          ],
          "scatterternary": [
           {
            "marker": {
             "colorbar": {
              "outlinewidth": 0,
              "ticks": ""
             }
            },
            "type": "scatterternary"
           }
          ],
          "surface": [
           {
            "colorbar": {
             "outlinewidth": 0,
             "ticks": ""
            },
            "colorscale": [
             [
              0,
              "#0d0887"
             ],
             [
              0.1111111111111111,
              "#46039f"
             ],
             [
              0.2222222222222222,
              "#7201a8"
             ],
             [
              0.3333333333333333,
              "#9c179e"
             ],
             [
              0.4444444444444444,
              "#bd3786"
             ],
             [
              0.5555555555555556,
              "#d8576b"
             ],
             [
              0.6666666666666666,
              "#ed7953"
             ],
             [
              0.7777777777777778,
              "#fb9f3a"
             ],
             [
              0.8888888888888888,
              "#fdca26"
             ],
             [
              1,
              "#f0f921"
             ]
            ],
            "type": "surface"
           }
          ],
          "table": [
           {
            "cells": {
             "fill": {
              "color": "#EBF0F8"
             },
             "line": {
              "color": "white"
             }
            },
            "header": {
             "fill": {
              "color": "#C8D4E3"
             },
             "line": {
              "color": "white"
             }
            },
            "type": "table"
           }
          ]
         },
         "layout": {
          "annotationdefaults": {
           "arrowcolor": "#2a3f5f",
           "arrowhead": 0,
           "arrowwidth": 1
          },
          "autotypenumbers": "strict",
          "coloraxis": {
           "colorbar": {
            "outlinewidth": 0,
            "ticks": ""
           }
          },
          "colorscale": {
           "diverging": [
            [
             0,
             "#8e0152"
            ],
            [
             0.1,
             "#c51b7d"
            ],
            [
             0.2,
             "#de77ae"
            ],
            [
             0.3,
             "#f1b6da"
            ],
            [
             0.4,
             "#fde0ef"
            ],
            [
             0.5,
             "#f7f7f7"
            ],
            [
             0.6,
             "#e6f5d0"
            ],
            [
             0.7,
             "#b8e186"
            ],
            [
             0.8,
             "#7fbc41"
            ],
            [
             0.9,
             "#4d9221"
            ],
            [
             1,
             "#276419"
            ]
           ],
           "sequential": [
            [
             0,
             "#0d0887"
            ],
            [
             0.1111111111111111,
             "#46039f"
            ],
            [
             0.2222222222222222,
             "#7201a8"
            ],
            [
             0.3333333333333333,
             "#9c179e"
            ],
            [
             0.4444444444444444,
             "#bd3786"
            ],
            [
             0.5555555555555556,
             "#d8576b"
            ],
            [
             0.6666666666666666,
             "#ed7953"
            ],
            [
             0.7777777777777778,
             "#fb9f3a"
            ],
            [
             0.8888888888888888,
             "#fdca26"
            ],
            [
             1,
             "#f0f921"
            ]
           ],
           "sequentialminus": [
            [
             0,
             "#0d0887"
            ],
            [
             0.1111111111111111,
             "#46039f"
            ],
            [
             0.2222222222222222,
             "#7201a8"
            ],
            [
             0.3333333333333333,
             "#9c179e"
            ],
            [
             0.4444444444444444,
             "#bd3786"
            ],
            [
             0.5555555555555556,
             "#d8576b"
            ],
            [
             0.6666666666666666,
             "#ed7953"
            ],
            [
             0.7777777777777778,
             "#fb9f3a"
            ],
            [
             0.8888888888888888,
             "#fdca26"
            ],
            [
             1,
             "#f0f921"
            ]
           ]
          },
          "colorway": [
           "#636efa",
           "#EF553B",
           "#00cc96",
           "#ab63fa",
           "#FFA15A",
           "#19d3f3",
           "#FF6692",
           "#B6E880",
           "#FF97FF",
           "#FECB52"
          ],
          "font": {
           "color": "#2a3f5f"
          },
          "geo": {
           "bgcolor": "white",
           "lakecolor": "white",
           "landcolor": "#E5ECF6",
           "showlakes": true,
           "showland": true,
           "subunitcolor": "white"
          },
          "hoverlabel": {
           "align": "left"
          },
          "hovermode": "closest",
          "mapbox": {
           "style": "light"
          },
          "paper_bgcolor": "white",
          "plot_bgcolor": "#E5ECF6",
          "polar": {
           "angularaxis": {
            "gridcolor": "white",
            "linecolor": "white",
            "ticks": ""
           },
           "bgcolor": "#E5ECF6",
           "radialaxis": {
            "gridcolor": "white",
            "linecolor": "white",
            "ticks": ""
           }
          },
          "scene": {
           "xaxis": {
            "backgroundcolor": "#E5ECF6",
            "gridcolor": "white",
            "gridwidth": 2,
            "linecolor": "white",
            "showbackground": true,
            "ticks": "",
            "zerolinecolor": "white"
           },
           "yaxis": {
            "backgroundcolor": "#E5ECF6",
            "gridcolor": "white",
            "gridwidth": 2,
            "linecolor": "white",
            "showbackground": true,
            "ticks": "",
            "zerolinecolor": "white"
           },
           "zaxis": {
            "backgroundcolor": "#E5ECF6",
            "gridcolor": "white",
            "gridwidth": 2,
            "linecolor": "white",
            "showbackground": true,
            "ticks": "",
            "zerolinecolor": "white"
           }
          },
          "shapedefaults": {
           "line": {
            "color": "#2a3f5f"
           }
          },
          "ternary": {
           "aaxis": {
            "gridcolor": "white",
            "linecolor": "white",
            "ticks": ""
           },
           "baxis": {
            "gridcolor": "white",
            "linecolor": "white",
            "ticks": ""
           },
           "bgcolor": "#E5ECF6",
           "caxis": {
            "gridcolor": "white",
            "linecolor": "white",
            "ticks": ""
           }
          },
          "title": {
           "x": 0.05
          },
          "xaxis": {
           "automargin": true,
           "gridcolor": "white",
           "linecolor": "white",
           "ticks": "",
           "title": {
            "standoff": 15
           },
           "zerolinecolor": "white",
           "zerolinewidth": 2
          },
          "yaxis": {
           "automargin": true,
           "gridcolor": "white",
           "linecolor": "white",
           "ticks": "",
           "title": {
            "standoff": 15
           },
           "zerolinecolor": "white",
           "zerolinewidth": 2
          }
         }
        },
        "xaxis": {
         "anchor": "y",
         "domain": [
          0,
          1
         ],
         "title": {
          "text": "PC1"
         }
        },
        "yaxis": {
         "anchor": "x",
         "domain": [
          0,
          1
         ],
         "title": {
          "text": "PC2"
         }
        }
       }
      },
      "text/html": [
       "<div>                            <div id=\"0679293d-f616-45f6-a4b1-0338f8de08bc\" class=\"plotly-graph-div\" style=\"height:525px; width:100%;\"></div>            <script type=\"text/javascript\">                require([\"plotly\"], function(Plotly) {                    window.PLOTLYENV=window.PLOTLYENV || {};                                    if (document.getElementById(\"0679293d-f616-45f6-a4b1-0338f8de08bc\")) {                    Plotly.newPlot(                        \"0679293d-f616-45f6-a4b1-0338f8de08bc\",                        [{\"hovertemplate\":\"PC1=%{x}<br>PC2=%{y}<br>index=%{text}<br>cluster=%{marker.color}<extra></extra>\",\"legendgroup\":\"\",\"marker\":{\"color\":[2,1,1,0,0,1,1,1,2,0,2,1,1,2,0,0,1,2,1],\"coloraxis\":\"coloraxis\",\"symbol\":\"circle\"},\"mode\":\"markers+text\",\"name\":\"\",\"orientation\":\"v\",\"showlegend\":false,\"text\":[\"Andaluc\\u00eda\",\"Arag\\u00f3n\",\"Asturias\",\"Baleares\",\"Canarias\",\"Cantabria\",\"CastillaLe\\u00f3n\",\"CastillaMancha\",\"Catalu\\u00f1a\",\"Ceuta\",\"ComValenciana\",\"Extremadura\",\"Galicia\",\"Madrid\",\"Melilla\",\"Murcia\",\"Navarra\",\"Pa\\u00edsVasco\",\"Rioja\"],\"x\":[0.36260187301443725,-2.342695987673795,-1.5904704516468493,1.8529105590314394,1.606178400327588,-0.5011233854407482,-3.2602284806176454,-2.4788744194925774,1.201837104609487,3.1244616181485725,-0.1333836136672609,-1.6735240485035818,-2.158617793383485,2.0073579606729837,4.6914397730831485,1.5541076388829167,-0.6774803378157181,0.9204509816352033,-2.504947391164116],\"xaxis\":\"x\",\"y\":[2.3260616896588893,-0.6592325179380191,-1.0336249282322896,-0.7583672542369184,-0.15454218023399205,-1.1133518784369154,-0.11618517236308247,-0.28574196509068894,4.172983176787555,-2.0308341222502064,1.9001620275703888,-0.9781567567799928,0.32921340665568427,2.041718277420396,-2.1473697284859115,-0.6802382052119399,-0.6996889003101682,0.8495702609482444,-0.9623752294710324],\"yaxis\":\"y\",\"type\":\"scatter\"}],                        {\"template\":{\"data\":{\"bar\":[{\"error_x\":{\"color\":\"#2a3f5f\"},\"error_y\":{\"color\":\"#2a3f5f\"},\"marker\":{\"line\":{\"color\":\"#E5ECF6\",\"width\":0.5},\"pattern\":{\"fillmode\":\"overlay\",\"size\":10,\"solidity\":0.2}},\"type\":\"bar\"}],\"barpolar\":[{\"marker\":{\"line\":{\"color\":\"#E5ECF6\",\"width\":0.5},\"pattern\":{\"fillmode\":\"overlay\",\"size\":10,\"solidity\":0.2}},\"type\":\"barpolar\"}],\"carpet\":[{\"aaxis\":{\"endlinecolor\":\"#2a3f5f\",\"gridcolor\":\"white\",\"linecolor\":\"white\",\"minorgridcolor\":\"white\",\"startlinecolor\":\"#2a3f5f\"},\"baxis\":{\"endlinecolor\":\"#2a3f5f\",\"gridcolor\":\"white\",\"linecolor\":\"white\",\"minorgridcolor\":\"white\",\"startlinecolor\":\"#2a3f5f\"},\"type\":\"carpet\"}],\"choropleth\":[{\"colorbar\":{\"outlinewidth\":0,\"ticks\":\"\"},\"type\":\"choropleth\"}],\"contour\":[{\"colorbar\":{\"outlinewidth\":0,\"ticks\":\"\"},\"colorscale\":[[0.0,\"#0d0887\"],[0.1111111111111111,\"#46039f\"],[0.2222222222222222,\"#7201a8\"],[0.3333333333333333,\"#9c179e\"],[0.4444444444444444,\"#bd3786\"],[0.5555555555555556,\"#d8576b\"],[0.6666666666666666,\"#ed7953\"],[0.7777777777777778,\"#fb9f3a\"],[0.8888888888888888,\"#fdca26\"],[1.0,\"#f0f921\"]],\"type\":\"contour\"}],\"contourcarpet\":[{\"colorbar\":{\"outlinewidth\":0,\"ticks\":\"\"},\"type\":\"contourcarpet\"}],\"heatmap\":[{\"colorbar\":{\"outlinewidth\":0,\"ticks\":\"\"},\"colorscale\":[[0.0,\"#0d0887\"],[0.1111111111111111,\"#46039f\"],[0.2222222222222222,\"#7201a8\"],[0.3333333333333333,\"#9c179e\"],[0.4444444444444444,\"#bd3786\"],[0.5555555555555556,\"#d8576b\"],[0.6666666666666666,\"#ed7953\"],[0.7777777777777778,\"#fb9f3a\"],[0.8888888888888888,\"#fdca26\"],[1.0,\"#f0f921\"]],\"type\":\"heatmap\"}],\"heatmapgl\":[{\"colorbar\":{\"outlinewidth\":0,\"ticks\":\"\"},\"colorscale\":[[0.0,\"#0d0887\"],[0.1111111111111111,\"#46039f\"],[0.2222222222222222,\"#7201a8\"],[0.3333333333333333,\"#9c179e\"],[0.4444444444444444,\"#bd3786\"],[0.5555555555555556,\"#d8576b\"],[0.6666666666666666,\"#ed7953\"],[0.7777777777777778,\"#fb9f3a\"],[0.8888888888888888,\"#fdca26\"],[1.0,\"#f0f921\"]],\"type\":\"heatmapgl\"}],\"histogram\":[{\"marker\":{\"pattern\":{\"fillmode\":\"overlay\",\"size\":10,\"solidity\":0.2}},\"type\":\"histogram\"}],\"histogram2d\":[{\"colorbar\":{\"outlinewidth\":0,\"ticks\":\"\"},\"colorscale\":[[0.0,\"#0d0887\"],[0.1111111111111111,\"#46039f\"],[0.2222222222222222,\"#7201a8\"],[0.3333333333333333,\"#9c179e\"],[0.4444444444444444,\"#bd3786\"],[0.5555555555555556,\"#d8576b\"],[0.6666666666666666,\"#ed7953\"],[0.7777777777777778,\"#fb9f3a\"],[0.8888888888888888,\"#fdca26\"],[1.0,\"#f0f921\"]],\"type\":\"histogram2d\"}],\"histogram2dcontour\":[{\"colorbar\":{\"outlinewidth\":0,\"ticks\":\"\"},\"colorscale\":[[0.0,\"#0d0887\"],[0.1111111111111111,\"#46039f\"],[0.2222222222222222,\"#7201a8\"],[0.3333333333333333,\"#9c179e\"],[0.4444444444444444,\"#bd3786\"],[0.5555555555555556,\"#d8576b\"],[0.6666666666666666,\"#ed7953\"],[0.7777777777777778,\"#fb9f3a\"],[0.8888888888888888,\"#fdca26\"],[1.0,\"#f0f921\"]],\"type\":\"histogram2dcontour\"}],\"mesh3d\":[{\"colorbar\":{\"outlinewidth\":0,\"ticks\":\"\"},\"type\":\"mesh3d\"}],\"parcoords\":[{\"line\":{\"colorbar\":{\"outlinewidth\":0,\"ticks\":\"\"}},\"type\":\"parcoords\"}],\"pie\":[{\"automargin\":true,\"type\":\"pie\"}],\"scatter\":[{\"marker\":{\"colorbar\":{\"outlinewidth\":0,\"ticks\":\"\"}},\"type\":\"scatter\"}],\"scatter3d\":[{\"line\":{\"colorbar\":{\"outlinewidth\":0,\"ticks\":\"\"}},\"marker\":{\"colorbar\":{\"outlinewidth\":0,\"ticks\":\"\"}},\"type\":\"scatter3d\"}],\"scattercarpet\":[{\"marker\":{\"colorbar\":{\"outlinewidth\":0,\"ticks\":\"\"}},\"type\":\"scattercarpet\"}],\"scattergeo\":[{\"marker\":{\"colorbar\":{\"outlinewidth\":0,\"ticks\":\"\"}},\"type\":\"scattergeo\"}],\"scattergl\":[{\"marker\":{\"colorbar\":{\"outlinewidth\":0,\"ticks\":\"\"}},\"type\":\"scattergl\"}],\"scattermapbox\":[{\"marker\":{\"colorbar\":{\"outlinewidth\":0,\"ticks\":\"\"}},\"type\":\"scattermapbox\"}],\"scatterpolar\":[{\"marker\":{\"colorbar\":{\"outlinewidth\":0,\"ticks\":\"\"}},\"type\":\"scatterpolar\"}],\"scatterpolargl\":[{\"marker\":{\"colorbar\":{\"outlinewidth\":0,\"ticks\":\"\"}},\"type\":\"scatterpolargl\"}],\"scatterternary\":[{\"marker\":{\"colorbar\":{\"outlinewidth\":0,\"ticks\":\"\"}},\"type\":\"scatterternary\"}],\"surface\":[{\"colorbar\":{\"outlinewidth\":0,\"ticks\":\"\"},\"colorscale\":[[0.0,\"#0d0887\"],[0.1111111111111111,\"#46039f\"],[0.2222222222222222,\"#7201a8\"],[0.3333333333333333,\"#9c179e\"],[0.4444444444444444,\"#bd3786\"],[0.5555555555555556,\"#d8576b\"],[0.6666666666666666,\"#ed7953\"],[0.7777777777777778,\"#fb9f3a\"],[0.8888888888888888,\"#fdca26\"],[1.0,\"#f0f921\"]],\"type\":\"surface\"}],\"table\":[{\"cells\":{\"fill\":{\"color\":\"#EBF0F8\"},\"line\":{\"color\":\"white\"}},\"header\":{\"fill\":{\"color\":\"#C8D4E3\"},\"line\":{\"color\":\"white\"}},\"type\":\"table\"}]},\"layout\":{\"annotationdefaults\":{\"arrowcolor\":\"#2a3f5f\",\"arrowhead\":0,\"arrowwidth\":1},\"autotypenumbers\":\"strict\",\"coloraxis\":{\"colorbar\":{\"outlinewidth\":0,\"ticks\":\"\"}},\"colorscale\":{\"diverging\":[[0,\"#8e0152\"],[0.1,\"#c51b7d\"],[0.2,\"#de77ae\"],[0.3,\"#f1b6da\"],[0.4,\"#fde0ef\"],[0.5,\"#f7f7f7\"],[0.6,\"#e6f5d0\"],[0.7,\"#b8e186\"],[0.8,\"#7fbc41\"],[0.9,\"#4d9221\"],[1,\"#276419\"]],\"sequential\":[[0.0,\"#0d0887\"],[0.1111111111111111,\"#46039f\"],[0.2222222222222222,\"#7201a8\"],[0.3333333333333333,\"#9c179e\"],[0.4444444444444444,\"#bd3786\"],[0.5555555555555556,\"#d8576b\"],[0.6666666666666666,\"#ed7953\"],[0.7777777777777778,\"#fb9f3a\"],[0.8888888888888888,\"#fdca26\"],[1.0,\"#f0f921\"]],\"sequentialminus\":[[0.0,\"#0d0887\"],[0.1111111111111111,\"#46039f\"],[0.2222222222222222,\"#7201a8\"],[0.3333333333333333,\"#9c179e\"],[0.4444444444444444,\"#bd3786\"],[0.5555555555555556,\"#d8576b\"],[0.6666666666666666,\"#ed7953\"],[0.7777777777777778,\"#fb9f3a\"],[0.8888888888888888,\"#fdca26\"],[1.0,\"#f0f921\"]]},\"colorway\":[\"#636efa\",\"#EF553B\",\"#00cc96\",\"#ab63fa\",\"#FFA15A\",\"#19d3f3\",\"#FF6692\",\"#B6E880\",\"#FF97FF\",\"#FECB52\"],\"font\":{\"color\":\"#2a3f5f\"},\"geo\":{\"bgcolor\":\"white\",\"lakecolor\":\"white\",\"landcolor\":\"#E5ECF6\",\"showlakes\":true,\"showland\":true,\"subunitcolor\":\"white\"},\"hoverlabel\":{\"align\":\"left\"},\"hovermode\":\"closest\",\"mapbox\":{\"style\":\"light\"},\"paper_bgcolor\":\"white\",\"plot_bgcolor\":\"#E5ECF6\",\"polar\":{\"angularaxis\":{\"gridcolor\":\"white\",\"linecolor\":\"white\",\"ticks\":\"\"},\"bgcolor\":\"#E5ECF6\",\"radialaxis\":{\"gridcolor\":\"white\",\"linecolor\":\"white\",\"ticks\":\"\"}},\"scene\":{\"xaxis\":{\"backgroundcolor\":\"#E5ECF6\",\"gridcolor\":\"white\",\"gridwidth\":2,\"linecolor\":\"white\",\"showbackground\":true,\"ticks\":\"\",\"zerolinecolor\":\"white\"},\"yaxis\":{\"backgroundcolor\":\"#E5ECF6\",\"gridcolor\":\"white\",\"gridwidth\":2,\"linecolor\":\"white\",\"showbackground\":true,\"ticks\":\"\",\"zerolinecolor\":\"white\"},\"zaxis\":{\"backgroundcolor\":\"#E5ECF6\",\"gridcolor\":\"white\",\"gridwidth\":2,\"linecolor\":\"white\",\"showbackground\":true,\"ticks\":\"\",\"zerolinecolor\":\"white\"}},\"shapedefaults\":{\"line\":{\"color\":\"#2a3f5f\"}},\"ternary\":{\"aaxis\":{\"gridcolor\":\"white\",\"linecolor\":\"white\",\"ticks\":\"\"},\"baxis\":{\"gridcolor\":\"white\",\"linecolor\":\"white\",\"ticks\":\"\"},\"bgcolor\":\"#E5ECF6\",\"caxis\":{\"gridcolor\":\"white\",\"linecolor\":\"white\",\"ticks\":\"\"}},\"title\":{\"x\":0.05},\"xaxis\":{\"automargin\":true,\"gridcolor\":\"white\",\"linecolor\":\"white\",\"ticks\":\"\",\"title\":{\"standoff\":15},\"zerolinecolor\":\"white\",\"zerolinewidth\":2},\"yaxis\":{\"automargin\":true,\"gridcolor\":\"white\",\"linecolor\":\"white\",\"ticks\":\"\",\"title\":{\"standoff\":15},\"zerolinecolor\":\"white\",\"zerolinewidth\":2}}},\"xaxis\":{\"anchor\":\"y\",\"domain\":[0.0,1.0],\"title\":{\"text\":\"PC1\"}},\"yaxis\":{\"anchor\":\"x\",\"domain\":[0.0,1.0],\"title\":{\"text\":\"PC2\"}},\"coloraxis\":{\"colorbar\":{\"title\":{\"text\":\"cluster\"}},\"colorscale\":[[0.0,\"#0d0887\"],[0.1111111111111111,\"#46039f\"],[0.2222222222222222,\"#7201a8\"],[0.3333333333333333,\"#9c179e\"],[0.4444444444444444,\"#bd3786\"],[0.5555555555555556,\"#d8576b\"],[0.6666666666666666,\"#ed7953\"],[0.7777777777777778,\"#fb9f3a\"],[0.8888888888888888,\"#fdca26\"],[1.0,\"#f0f921\"]]},\"legend\":{\"tracegroupgap\":0},\"margin\":{\"t\":60}},                        {\"responsive\": true}                    ).then(function(){\n",
       "                            \n",
       "var gd = document.getElementById('0679293d-f616-45f6-a4b1-0338f8de08bc');\n",
       "var x = new MutationObserver(function (mutations, observer) {{\n",
       "        var display = window.getComputedStyle(gd).display;\n",
       "        if (!display || display === 'none') {{\n",
       "            console.log([gd, 'removed!']);\n",
       "            Plotly.purge(gd);\n",
       "            observer.disconnect();\n",
       "        }}\n",
       "}});\n",
       "\n",
       "// Listen for the removal of the full notebook cells\n",
       "var notebookContainer = gd.closest('#notebook-container');\n",
       "if (notebookContainer) {{\n",
       "    x.observe(notebookContainer, {childList: true});\n",
       "}}\n",
       "\n",
       "// Listen for the clearing of the current output cell\n",
       "var outputEl = gd.closest('.output');\n",
       "if (outputEl) {{\n",
       "    x.observe(outputEl, {childList: true});\n",
       "}}\n",
       "\n",
       "                        })                };                });            </script>        </div>"
      ]
     },
     "metadata": {},
     "output_type": "display_data"
    }
   ],
   "source": [
    "fig = px.scatter(grupos_pca, x='PC1',y='PC2', color='cluster', text=grupos_pca.index)\n",
    "fig.show()"
   ]
  },
  {
   "cell_type": "code",
   "execution_count": 191,
   "id": "eebd4b5b",
   "metadata": {},
   "outputs": [
    {
     "data": {
      "application/vnd.plotly.v1+json": {
       "config": {
        "plotlyServerURL": "https://plot.ly"
       },
       "data": [
        {
         "hovertemplate": "PC1=%{x}<br>PC3=%{y}<br>index=%{text}<br>cluster=%{marker.color}<extra></extra>",
         "legendgroup": "",
         "marker": {
          "color": [
           2,
           1,
           1,
           0,
           0,
           1,
           1,
           1,
           2,
           0,
           2,
           1,
           1,
           2,
           0,
           0,
           1,
           2,
           1
          ],
          "coloraxis": "coloraxis",
          "symbol": "circle"
         },
         "mode": "markers+text",
         "name": "",
         "orientation": "v",
         "showlegend": false,
         "text": [
          "Andalucía",
          "Aragón",
          "Asturias",
          "Baleares",
          "Canarias",
          "Cantabria",
          "CastillaLeón",
          "CastillaMancha",
          "Cataluña",
          "Ceuta",
          "ComValenciana",
          "Extremadura",
          "Galicia",
          "Madrid",
          "Melilla",
          "Murcia",
          "Navarra",
          "PaísVasco",
          "Rioja"
         ],
         "type": "scatter",
         "x": [
          0.36260187301443725,
          -2.342695987673795,
          -1.5904704516468493,
          1.8529105590314394,
          1.606178400327588,
          -0.5011233854407482,
          -3.2602284806176454,
          -2.4788744194925774,
          1.201837104609487,
          3.1244616181485725,
          -0.1333836136672609,
          -1.6735240485035818,
          -2.158617793383485,
          2.0073579606729837,
          4.6914397730831485,
          1.5541076388829167,
          -0.6774803378157181,
          0.9204509816352033,
          -2.504947391164116
         ],
         "xaxis": "x",
         "y": [
          -1.5658930134234694,
          -0.2795300824280166,
          0.26788129998945337,
          -1.0517151743581892,
          -0.526484071493936,
          -0.05015184993683269,
          0.10685292857945607,
          -0.5315824021027397,
          1.8886211540644742,
          1.0507260590729044,
          -0.4308665279075715,
          -0.025709872072139817,
          1.2378594653651078,
          -1.8922489764614578,
          0.4788778811087686,
          -1.034891225383615,
          0.8439202699961318,
          1.9509734344895187,
          -0.436639297097848
         ],
         "yaxis": "y"
        }
       ],
       "layout": {
        "coloraxis": {
         "colorbar": {
          "title": {
           "text": "cluster"
          }
         },
         "colorscale": [
          [
           0,
           "#0d0887"
          ],
          [
           0.1111111111111111,
           "#46039f"
          ],
          [
           0.2222222222222222,
           "#7201a8"
          ],
          [
           0.3333333333333333,
           "#9c179e"
          ],
          [
           0.4444444444444444,
           "#bd3786"
          ],
          [
           0.5555555555555556,
           "#d8576b"
          ],
          [
           0.6666666666666666,
           "#ed7953"
          ],
          [
           0.7777777777777778,
           "#fb9f3a"
          ],
          [
           0.8888888888888888,
           "#fdca26"
          ],
          [
           1,
           "#f0f921"
          ]
         ]
        },
        "legend": {
         "tracegroupgap": 0
        },
        "margin": {
         "t": 60
        },
        "template": {
         "data": {
          "bar": [
           {
            "error_x": {
             "color": "#2a3f5f"
            },
            "error_y": {
             "color": "#2a3f5f"
            },
            "marker": {
             "line": {
              "color": "#E5ECF6",
              "width": 0.5
             },
             "pattern": {
              "fillmode": "overlay",
              "size": 10,
              "solidity": 0.2
             }
            },
            "type": "bar"
           }
          ],
          "barpolar": [
           {
            "marker": {
             "line": {
              "color": "#E5ECF6",
              "width": 0.5
             },
             "pattern": {
              "fillmode": "overlay",
              "size": 10,
              "solidity": 0.2
             }
            },
            "type": "barpolar"
           }
          ],
          "carpet": [
           {
            "aaxis": {
             "endlinecolor": "#2a3f5f",
             "gridcolor": "white",
             "linecolor": "white",
             "minorgridcolor": "white",
             "startlinecolor": "#2a3f5f"
            },
            "baxis": {
             "endlinecolor": "#2a3f5f",
             "gridcolor": "white",
             "linecolor": "white",
             "minorgridcolor": "white",
             "startlinecolor": "#2a3f5f"
            },
            "type": "carpet"
           }
          ],
          "choropleth": [
           {
            "colorbar": {
             "outlinewidth": 0,
             "ticks": ""
            },
            "type": "choropleth"
           }
          ],
          "contour": [
           {
            "colorbar": {
             "outlinewidth": 0,
             "ticks": ""
            },
            "colorscale": [
             [
              0,
              "#0d0887"
             ],
             [
              0.1111111111111111,
              "#46039f"
             ],
             [
              0.2222222222222222,
              "#7201a8"
             ],
             [
              0.3333333333333333,
              "#9c179e"
             ],
             [
              0.4444444444444444,
              "#bd3786"
             ],
             [
              0.5555555555555556,
              "#d8576b"
             ],
             [
              0.6666666666666666,
              "#ed7953"
             ],
             [
              0.7777777777777778,
              "#fb9f3a"
             ],
             [
              0.8888888888888888,
              "#fdca26"
             ],
             [
              1,
              "#f0f921"
             ]
            ],
            "type": "contour"
           }
          ],
          "contourcarpet": [
           {
            "colorbar": {
             "outlinewidth": 0,
             "ticks": ""
            },
            "type": "contourcarpet"
           }
          ],
          "heatmap": [
           {
            "colorbar": {
             "outlinewidth": 0,
             "ticks": ""
            },
            "colorscale": [
             [
              0,
              "#0d0887"
             ],
             [
              0.1111111111111111,
              "#46039f"
             ],
             [
              0.2222222222222222,
              "#7201a8"
             ],
             [
              0.3333333333333333,
              "#9c179e"
             ],
             [
              0.4444444444444444,
              "#bd3786"
             ],
             [
              0.5555555555555556,
              "#d8576b"
             ],
             [
              0.6666666666666666,
              "#ed7953"
             ],
             [
              0.7777777777777778,
              "#fb9f3a"
             ],
             [
              0.8888888888888888,
              "#fdca26"
             ],
             [
              1,
              "#f0f921"
             ]
            ],
            "type": "heatmap"
           }
          ],
          "heatmapgl": [
           {
            "colorbar": {
             "outlinewidth": 0,
             "ticks": ""
            },
            "colorscale": [
             [
              0,
              "#0d0887"
             ],
             [
              0.1111111111111111,
              "#46039f"
             ],
             [
              0.2222222222222222,
              "#7201a8"
             ],
             [
              0.3333333333333333,
              "#9c179e"
             ],
             [
              0.4444444444444444,
              "#bd3786"
             ],
             [
              0.5555555555555556,
              "#d8576b"
             ],
             [
              0.6666666666666666,
              "#ed7953"
             ],
             [
              0.7777777777777778,
              "#fb9f3a"
             ],
             [
              0.8888888888888888,
              "#fdca26"
             ],
             [
              1,
              "#f0f921"
             ]
            ],
            "type": "heatmapgl"
           }
          ],
          "histogram": [
           {
            "marker": {
             "pattern": {
              "fillmode": "overlay",
              "size": 10,
              "solidity": 0.2
             }
            },
            "type": "histogram"
           }
          ],
          "histogram2d": [
           {
            "colorbar": {
             "outlinewidth": 0,
             "ticks": ""
            },
            "colorscale": [
             [
              0,
              "#0d0887"
             ],
             [
              0.1111111111111111,
              "#46039f"
             ],
             [
              0.2222222222222222,
              "#7201a8"
             ],
             [
              0.3333333333333333,
              "#9c179e"
             ],
             [
              0.4444444444444444,
              "#bd3786"
             ],
             [
              0.5555555555555556,
              "#d8576b"
             ],
             [
              0.6666666666666666,
              "#ed7953"
             ],
             [
              0.7777777777777778,
              "#fb9f3a"
             ],
             [
              0.8888888888888888,
              "#fdca26"
             ],
             [
              1,
              "#f0f921"
             ]
            ],
            "type": "histogram2d"
           }
          ],
          "histogram2dcontour": [
           {
            "colorbar": {
             "outlinewidth": 0,
             "ticks": ""
            },
            "colorscale": [
             [
              0,
              "#0d0887"
             ],
             [
              0.1111111111111111,
              "#46039f"
             ],
             [
              0.2222222222222222,
              "#7201a8"
             ],
             [
              0.3333333333333333,
              "#9c179e"
             ],
             [
              0.4444444444444444,
              "#bd3786"
             ],
             [
              0.5555555555555556,
              "#d8576b"
             ],
             [
              0.6666666666666666,
              "#ed7953"
             ],
             [
              0.7777777777777778,
              "#fb9f3a"
             ],
             [
              0.8888888888888888,
              "#fdca26"
             ],
             [
              1,
              "#f0f921"
             ]
            ],
            "type": "histogram2dcontour"
           }
          ],
          "mesh3d": [
           {
            "colorbar": {
             "outlinewidth": 0,
             "ticks": ""
            },
            "type": "mesh3d"
           }
          ],
          "parcoords": [
           {
            "line": {
             "colorbar": {
              "outlinewidth": 0,
              "ticks": ""
             }
            },
            "type": "parcoords"
           }
          ],
          "pie": [
           {
            "automargin": true,
            "type": "pie"
           }
          ],
          "scatter": [
           {
            "marker": {
             "colorbar": {
              "outlinewidth": 0,
              "ticks": ""
             }
            },
            "type": "scatter"
           }
          ],
          "scatter3d": [
           {
            "line": {
             "colorbar": {
              "outlinewidth": 0,
              "ticks": ""
             }
            },
            "marker": {
             "colorbar": {
              "outlinewidth": 0,
              "ticks": ""
             }
            },
            "type": "scatter3d"
           }
          ],
          "scattercarpet": [
           {
            "marker": {
             "colorbar": {
              "outlinewidth": 0,
              "ticks": ""
             }
            },
            "type": "scattercarpet"
           }
          ],
          "scattergeo": [
           {
            "marker": {
             "colorbar": {
              "outlinewidth": 0,
              "ticks": ""
             }
            },
            "type": "scattergeo"
           }
          ],
          "scattergl": [
           {
            "marker": {
             "colorbar": {
              "outlinewidth": 0,
              "ticks": ""
             }
            },
            "type": "scattergl"
           }
          ],
          "scattermapbox": [
           {
            "marker": {
             "colorbar": {
              "outlinewidth": 0,
              "ticks": ""
             }
            },
            "type": "scattermapbox"
           }
          ],
          "scatterpolar": [
           {
            "marker": {
             "colorbar": {
              "outlinewidth": 0,
              "ticks": ""
             }
            },
            "type": "scatterpolar"
           }
          ],
          "scatterpolargl": [
           {
            "marker": {
             "colorbar": {
              "outlinewidth": 0,
              "ticks": ""
             }
            },
            "type": "scatterpolargl"
           }
          ],
          "scatterternary": [
           {
            "marker": {
             "colorbar": {
              "outlinewidth": 0,
              "ticks": ""
             }
            },
            "type": "scatterternary"
           }
          ],
          "surface": [
           {
            "colorbar": {
             "outlinewidth": 0,
             "ticks": ""
            },
            "colorscale": [
             [
              0,
              "#0d0887"
             ],
             [
              0.1111111111111111,
              "#46039f"
             ],
             [
              0.2222222222222222,
              "#7201a8"
             ],
             [
              0.3333333333333333,
              "#9c179e"
             ],
             [
              0.4444444444444444,
              "#bd3786"
             ],
             [
              0.5555555555555556,
              "#d8576b"
             ],
             [
              0.6666666666666666,
              "#ed7953"
             ],
             [
              0.7777777777777778,
              "#fb9f3a"
             ],
             [
              0.8888888888888888,
              "#fdca26"
             ],
             [
              1,
              "#f0f921"
             ]
            ],
            "type": "surface"
           }
          ],
          "table": [
           {
            "cells": {
             "fill": {
              "color": "#EBF0F8"
             },
             "line": {
              "color": "white"
             }
            },
            "header": {
             "fill": {
              "color": "#C8D4E3"
             },
             "line": {
              "color": "white"
             }
            },
            "type": "table"
           }
          ]
         },
         "layout": {
          "annotationdefaults": {
           "arrowcolor": "#2a3f5f",
           "arrowhead": 0,
           "arrowwidth": 1
          },
          "autotypenumbers": "strict",
          "coloraxis": {
           "colorbar": {
            "outlinewidth": 0,
            "ticks": ""
           }
          },
          "colorscale": {
           "diverging": [
            [
             0,
             "#8e0152"
            ],
            [
             0.1,
             "#c51b7d"
            ],
            [
             0.2,
             "#de77ae"
            ],
            [
             0.3,
             "#f1b6da"
            ],
            [
             0.4,
             "#fde0ef"
            ],
            [
             0.5,
             "#f7f7f7"
            ],
            [
             0.6,
             "#e6f5d0"
            ],
            [
             0.7,
             "#b8e186"
            ],
            [
             0.8,
             "#7fbc41"
            ],
            [
             0.9,
             "#4d9221"
            ],
            [
             1,
             "#276419"
            ]
           ],
           "sequential": [
            [
             0,
             "#0d0887"
            ],
            [
             0.1111111111111111,
             "#46039f"
            ],
            [
             0.2222222222222222,
             "#7201a8"
            ],
            [
             0.3333333333333333,
             "#9c179e"
            ],
            [
             0.4444444444444444,
             "#bd3786"
            ],
            [
             0.5555555555555556,
             "#d8576b"
            ],
            [
             0.6666666666666666,
             "#ed7953"
            ],
            [
             0.7777777777777778,
             "#fb9f3a"
            ],
            [
             0.8888888888888888,
             "#fdca26"
            ],
            [
             1,
             "#f0f921"
            ]
           ],
           "sequentialminus": [
            [
             0,
             "#0d0887"
            ],
            [
             0.1111111111111111,
             "#46039f"
            ],
            [
             0.2222222222222222,
             "#7201a8"
            ],
            [
             0.3333333333333333,
             "#9c179e"
            ],
            [
             0.4444444444444444,
             "#bd3786"
            ],
            [
             0.5555555555555556,
             "#d8576b"
            ],
            [
             0.6666666666666666,
             "#ed7953"
            ],
            [
             0.7777777777777778,
             "#fb9f3a"
            ],
            [
             0.8888888888888888,
             "#fdca26"
            ],
            [
             1,
             "#f0f921"
            ]
           ]
          },
          "colorway": [
           "#636efa",
           "#EF553B",
           "#00cc96",
           "#ab63fa",
           "#FFA15A",
           "#19d3f3",
           "#FF6692",
           "#B6E880",
           "#FF97FF",
           "#FECB52"
          ],
          "font": {
           "color": "#2a3f5f"
          },
          "geo": {
           "bgcolor": "white",
           "lakecolor": "white",
           "landcolor": "#E5ECF6",
           "showlakes": true,
           "showland": true,
           "subunitcolor": "white"
          },
          "hoverlabel": {
           "align": "left"
          },
          "hovermode": "closest",
          "mapbox": {
           "style": "light"
          },
          "paper_bgcolor": "white",
          "plot_bgcolor": "#E5ECF6",
          "polar": {
           "angularaxis": {
            "gridcolor": "white",
            "linecolor": "white",
            "ticks": ""
           },
           "bgcolor": "#E5ECF6",
           "radialaxis": {
            "gridcolor": "white",
            "linecolor": "white",
            "ticks": ""
           }
          },
          "scene": {
           "xaxis": {
            "backgroundcolor": "#E5ECF6",
            "gridcolor": "white",
            "gridwidth": 2,
            "linecolor": "white",
            "showbackground": true,
            "ticks": "",
            "zerolinecolor": "white"
           },
           "yaxis": {
            "backgroundcolor": "#E5ECF6",
            "gridcolor": "white",
            "gridwidth": 2,
            "linecolor": "white",
            "showbackground": true,
            "ticks": "",
            "zerolinecolor": "white"
           },
           "zaxis": {
            "backgroundcolor": "#E5ECF6",
            "gridcolor": "white",
            "gridwidth": 2,
            "linecolor": "white",
            "showbackground": true,
            "ticks": "",
            "zerolinecolor": "white"
           }
          },
          "shapedefaults": {
           "line": {
            "color": "#2a3f5f"
           }
          },
          "ternary": {
           "aaxis": {
            "gridcolor": "white",
            "linecolor": "white",
            "ticks": ""
           },
           "baxis": {
            "gridcolor": "white",
            "linecolor": "white",
            "ticks": ""
           },
           "bgcolor": "#E5ECF6",
           "caxis": {
            "gridcolor": "white",
            "linecolor": "white",
            "ticks": ""
           }
          },
          "title": {
           "x": 0.05
          },
          "xaxis": {
           "automargin": true,
           "gridcolor": "white",
           "linecolor": "white",
           "ticks": "",
           "title": {
            "standoff": 15
           },
           "zerolinecolor": "white",
           "zerolinewidth": 2
          },
          "yaxis": {
           "automargin": true,
           "gridcolor": "white",
           "linecolor": "white",
           "ticks": "",
           "title": {
            "standoff": 15
           },
           "zerolinecolor": "white",
           "zerolinewidth": 2
          }
         }
        },
        "xaxis": {
         "anchor": "y",
         "domain": [
          0,
          1
         ],
         "title": {
          "text": "PC1"
         }
        },
        "yaxis": {
         "anchor": "x",
         "domain": [
          0,
          1
         ],
         "title": {
          "text": "PC3"
         }
        }
       }
      },
      "text/html": [
       "<div>                            <div id=\"16d39b24-4daf-4999-8471-20fba3e4625e\" class=\"plotly-graph-div\" style=\"height:525px; width:100%;\"></div>            <script type=\"text/javascript\">                require([\"plotly\"], function(Plotly) {                    window.PLOTLYENV=window.PLOTLYENV || {};                                    if (document.getElementById(\"16d39b24-4daf-4999-8471-20fba3e4625e\")) {                    Plotly.newPlot(                        \"16d39b24-4daf-4999-8471-20fba3e4625e\",                        [{\"hovertemplate\":\"PC1=%{x}<br>PC3=%{y}<br>index=%{text}<br>cluster=%{marker.color}<extra></extra>\",\"legendgroup\":\"\",\"marker\":{\"color\":[2,1,1,0,0,1,1,1,2,0,2,1,1,2,0,0,1,2,1],\"coloraxis\":\"coloraxis\",\"symbol\":\"circle\"},\"mode\":\"markers+text\",\"name\":\"\",\"orientation\":\"v\",\"showlegend\":false,\"text\":[\"Andaluc\\u00eda\",\"Arag\\u00f3n\",\"Asturias\",\"Baleares\",\"Canarias\",\"Cantabria\",\"CastillaLe\\u00f3n\",\"CastillaMancha\",\"Catalu\\u00f1a\",\"Ceuta\",\"ComValenciana\",\"Extremadura\",\"Galicia\",\"Madrid\",\"Melilla\",\"Murcia\",\"Navarra\",\"Pa\\u00edsVasco\",\"Rioja\"],\"x\":[0.36260187301443725,-2.342695987673795,-1.5904704516468493,1.8529105590314394,1.606178400327588,-0.5011233854407482,-3.2602284806176454,-2.4788744194925774,1.201837104609487,3.1244616181485725,-0.1333836136672609,-1.6735240485035818,-2.158617793383485,2.0073579606729837,4.6914397730831485,1.5541076388829167,-0.6774803378157181,0.9204509816352033,-2.504947391164116],\"xaxis\":\"x\",\"y\":[-1.5658930134234694,-0.2795300824280166,0.26788129998945337,-1.0517151743581892,-0.526484071493936,-0.05015184993683269,0.10685292857945607,-0.5315824021027397,1.8886211540644742,1.0507260590729044,-0.4308665279075715,-0.025709872072139817,1.2378594653651078,-1.8922489764614578,0.4788778811087686,-1.034891225383615,0.8439202699961318,1.9509734344895187,-0.436639297097848],\"yaxis\":\"y\",\"type\":\"scatter\"}],                        {\"template\":{\"data\":{\"bar\":[{\"error_x\":{\"color\":\"#2a3f5f\"},\"error_y\":{\"color\":\"#2a3f5f\"},\"marker\":{\"line\":{\"color\":\"#E5ECF6\",\"width\":0.5},\"pattern\":{\"fillmode\":\"overlay\",\"size\":10,\"solidity\":0.2}},\"type\":\"bar\"}],\"barpolar\":[{\"marker\":{\"line\":{\"color\":\"#E5ECF6\",\"width\":0.5},\"pattern\":{\"fillmode\":\"overlay\",\"size\":10,\"solidity\":0.2}},\"type\":\"barpolar\"}],\"carpet\":[{\"aaxis\":{\"endlinecolor\":\"#2a3f5f\",\"gridcolor\":\"white\",\"linecolor\":\"white\",\"minorgridcolor\":\"white\",\"startlinecolor\":\"#2a3f5f\"},\"baxis\":{\"endlinecolor\":\"#2a3f5f\",\"gridcolor\":\"white\",\"linecolor\":\"white\",\"minorgridcolor\":\"white\",\"startlinecolor\":\"#2a3f5f\"},\"type\":\"carpet\"}],\"choropleth\":[{\"colorbar\":{\"outlinewidth\":0,\"ticks\":\"\"},\"type\":\"choropleth\"}],\"contour\":[{\"colorbar\":{\"outlinewidth\":0,\"ticks\":\"\"},\"colorscale\":[[0.0,\"#0d0887\"],[0.1111111111111111,\"#46039f\"],[0.2222222222222222,\"#7201a8\"],[0.3333333333333333,\"#9c179e\"],[0.4444444444444444,\"#bd3786\"],[0.5555555555555556,\"#d8576b\"],[0.6666666666666666,\"#ed7953\"],[0.7777777777777778,\"#fb9f3a\"],[0.8888888888888888,\"#fdca26\"],[1.0,\"#f0f921\"]],\"type\":\"contour\"}],\"contourcarpet\":[{\"colorbar\":{\"outlinewidth\":0,\"ticks\":\"\"},\"type\":\"contourcarpet\"}],\"heatmap\":[{\"colorbar\":{\"outlinewidth\":0,\"ticks\":\"\"},\"colorscale\":[[0.0,\"#0d0887\"],[0.1111111111111111,\"#46039f\"],[0.2222222222222222,\"#7201a8\"],[0.3333333333333333,\"#9c179e\"],[0.4444444444444444,\"#bd3786\"],[0.5555555555555556,\"#d8576b\"],[0.6666666666666666,\"#ed7953\"],[0.7777777777777778,\"#fb9f3a\"],[0.8888888888888888,\"#fdca26\"],[1.0,\"#f0f921\"]],\"type\":\"heatmap\"}],\"heatmapgl\":[{\"colorbar\":{\"outlinewidth\":0,\"ticks\":\"\"},\"colorscale\":[[0.0,\"#0d0887\"],[0.1111111111111111,\"#46039f\"],[0.2222222222222222,\"#7201a8\"],[0.3333333333333333,\"#9c179e\"],[0.4444444444444444,\"#bd3786\"],[0.5555555555555556,\"#d8576b\"],[0.6666666666666666,\"#ed7953\"],[0.7777777777777778,\"#fb9f3a\"],[0.8888888888888888,\"#fdca26\"],[1.0,\"#f0f921\"]],\"type\":\"heatmapgl\"}],\"histogram\":[{\"marker\":{\"pattern\":{\"fillmode\":\"overlay\",\"size\":10,\"solidity\":0.2}},\"type\":\"histogram\"}],\"histogram2d\":[{\"colorbar\":{\"outlinewidth\":0,\"ticks\":\"\"},\"colorscale\":[[0.0,\"#0d0887\"],[0.1111111111111111,\"#46039f\"],[0.2222222222222222,\"#7201a8\"],[0.3333333333333333,\"#9c179e\"],[0.4444444444444444,\"#bd3786\"],[0.5555555555555556,\"#d8576b\"],[0.6666666666666666,\"#ed7953\"],[0.7777777777777778,\"#fb9f3a\"],[0.8888888888888888,\"#fdca26\"],[1.0,\"#f0f921\"]],\"type\":\"histogram2d\"}],\"histogram2dcontour\":[{\"colorbar\":{\"outlinewidth\":0,\"ticks\":\"\"},\"colorscale\":[[0.0,\"#0d0887\"],[0.1111111111111111,\"#46039f\"],[0.2222222222222222,\"#7201a8\"],[0.3333333333333333,\"#9c179e\"],[0.4444444444444444,\"#bd3786\"],[0.5555555555555556,\"#d8576b\"],[0.6666666666666666,\"#ed7953\"],[0.7777777777777778,\"#fb9f3a\"],[0.8888888888888888,\"#fdca26\"],[1.0,\"#f0f921\"]],\"type\":\"histogram2dcontour\"}],\"mesh3d\":[{\"colorbar\":{\"outlinewidth\":0,\"ticks\":\"\"},\"type\":\"mesh3d\"}],\"parcoords\":[{\"line\":{\"colorbar\":{\"outlinewidth\":0,\"ticks\":\"\"}},\"type\":\"parcoords\"}],\"pie\":[{\"automargin\":true,\"type\":\"pie\"}],\"scatter\":[{\"marker\":{\"colorbar\":{\"outlinewidth\":0,\"ticks\":\"\"}},\"type\":\"scatter\"}],\"scatter3d\":[{\"line\":{\"colorbar\":{\"outlinewidth\":0,\"ticks\":\"\"}},\"marker\":{\"colorbar\":{\"outlinewidth\":0,\"ticks\":\"\"}},\"type\":\"scatter3d\"}],\"scattercarpet\":[{\"marker\":{\"colorbar\":{\"outlinewidth\":0,\"ticks\":\"\"}},\"type\":\"scattercarpet\"}],\"scattergeo\":[{\"marker\":{\"colorbar\":{\"outlinewidth\":0,\"ticks\":\"\"}},\"type\":\"scattergeo\"}],\"scattergl\":[{\"marker\":{\"colorbar\":{\"outlinewidth\":0,\"ticks\":\"\"}},\"type\":\"scattergl\"}],\"scattermapbox\":[{\"marker\":{\"colorbar\":{\"outlinewidth\":0,\"ticks\":\"\"}},\"type\":\"scattermapbox\"}],\"scatterpolar\":[{\"marker\":{\"colorbar\":{\"outlinewidth\":0,\"ticks\":\"\"}},\"type\":\"scatterpolar\"}],\"scatterpolargl\":[{\"marker\":{\"colorbar\":{\"outlinewidth\":0,\"ticks\":\"\"}},\"type\":\"scatterpolargl\"}],\"scatterternary\":[{\"marker\":{\"colorbar\":{\"outlinewidth\":0,\"ticks\":\"\"}},\"type\":\"scatterternary\"}],\"surface\":[{\"colorbar\":{\"outlinewidth\":0,\"ticks\":\"\"},\"colorscale\":[[0.0,\"#0d0887\"],[0.1111111111111111,\"#46039f\"],[0.2222222222222222,\"#7201a8\"],[0.3333333333333333,\"#9c179e\"],[0.4444444444444444,\"#bd3786\"],[0.5555555555555556,\"#d8576b\"],[0.6666666666666666,\"#ed7953\"],[0.7777777777777778,\"#fb9f3a\"],[0.8888888888888888,\"#fdca26\"],[1.0,\"#f0f921\"]],\"type\":\"surface\"}],\"table\":[{\"cells\":{\"fill\":{\"color\":\"#EBF0F8\"},\"line\":{\"color\":\"white\"}},\"header\":{\"fill\":{\"color\":\"#C8D4E3\"},\"line\":{\"color\":\"white\"}},\"type\":\"table\"}]},\"layout\":{\"annotationdefaults\":{\"arrowcolor\":\"#2a3f5f\",\"arrowhead\":0,\"arrowwidth\":1},\"autotypenumbers\":\"strict\",\"coloraxis\":{\"colorbar\":{\"outlinewidth\":0,\"ticks\":\"\"}},\"colorscale\":{\"diverging\":[[0,\"#8e0152\"],[0.1,\"#c51b7d\"],[0.2,\"#de77ae\"],[0.3,\"#f1b6da\"],[0.4,\"#fde0ef\"],[0.5,\"#f7f7f7\"],[0.6,\"#e6f5d0\"],[0.7,\"#b8e186\"],[0.8,\"#7fbc41\"],[0.9,\"#4d9221\"],[1,\"#276419\"]],\"sequential\":[[0.0,\"#0d0887\"],[0.1111111111111111,\"#46039f\"],[0.2222222222222222,\"#7201a8\"],[0.3333333333333333,\"#9c179e\"],[0.4444444444444444,\"#bd3786\"],[0.5555555555555556,\"#d8576b\"],[0.6666666666666666,\"#ed7953\"],[0.7777777777777778,\"#fb9f3a\"],[0.8888888888888888,\"#fdca26\"],[1.0,\"#f0f921\"]],\"sequentialminus\":[[0.0,\"#0d0887\"],[0.1111111111111111,\"#46039f\"],[0.2222222222222222,\"#7201a8\"],[0.3333333333333333,\"#9c179e\"],[0.4444444444444444,\"#bd3786\"],[0.5555555555555556,\"#d8576b\"],[0.6666666666666666,\"#ed7953\"],[0.7777777777777778,\"#fb9f3a\"],[0.8888888888888888,\"#fdca26\"],[1.0,\"#f0f921\"]]},\"colorway\":[\"#636efa\",\"#EF553B\",\"#00cc96\",\"#ab63fa\",\"#FFA15A\",\"#19d3f3\",\"#FF6692\",\"#B6E880\",\"#FF97FF\",\"#FECB52\"],\"font\":{\"color\":\"#2a3f5f\"},\"geo\":{\"bgcolor\":\"white\",\"lakecolor\":\"white\",\"landcolor\":\"#E5ECF6\",\"showlakes\":true,\"showland\":true,\"subunitcolor\":\"white\"},\"hoverlabel\":{\"align\":\"left\"},\"hovermode\":\"closest\",\"mapbox\":{\"style\":\"light\"},\"paper_bgcolor\":\"white\",\"plot_bgcolor\":\"#E5ECF6\",\"polar\":{\"angularaxis\":{\"gridcolor\":\"white\",\"linecolor\":\"white\",\"ticks\":\"\"},\"bgcolor\":\"#E5ECF6\",\"radialaxis\":{\"gridcolor\":\"white\",\"linecolor\":\"white\",\"ticks\":\"\"}},\"scene\":{\"xaxis\":{\"backgroundcolor\":\"#E5ECF6\",\"gridcolor\":\"white\",\"gridwidth\":2,\"linecolor\":\"white\",\"showbackground\":true,\"ticks\":\"\",\"zerolinecolor\":\"white\"},\"yaxis\":{\"backgroundcolor\":\"#E5ECF6\",\"gridcolor\":\"white\",\"gridwidth\":2,\"linecolor\":\"white\",\"showbackground\":true,\"ticks\":\"\",\"zerolinecolor\":\"white\"},\"zaxis\":{\"backgroundcolor\":\"#E5ECF6\",\"gridcolor\":\"white\",\"gridwidth\":2,\"linecolor\":\"white\",\"showbackground\":true,\"ticks\":\"\",\"zerolinecolor\":\"white\"}},\"shapedefaults\":{\"line\":{\"color\":\"#2a3f5f\"}},\"ternary\":{\"aaxis\":{\"gridcolor\":\"white\",\"linecolor\":\"white\",\"ticks\":\"\"},\"baxis\":{\"gridcolor\":\"white\",\"linecolor\":\"white\",\"ticks\":\"\"},\"bgcolor\":\"#E5ECF6\",\"caxis\":{\"gridcolor\":\"white\",\"linecolor\":\"white\",\"ticks\":\"\"}},\"title\":{\"x\":0.05},\"xaxis\":{\"automargin\":true,\"gridcolor\":\"white\",\"linecolor\":\"white\",\"ticks\":\"\",\"title\":{\"standoff\":15},\"zerolinecolor\":\"white\",\"zerolinewidth\":2},\"yaxis\":{\"automargin\":true,\"gridcolor\":\"white\",\"linecolor\":\"white\",\"ticks\":\"\",\"title\":{\"standoff\":15},\"zerolinecolor\":\"white\",\"zerolinewidth\":2}}},\"xaxis\":{\"anchor\":\"y\",\"domain\":[0.0,1.0],\"title\":{\"text\":\"PC1\"}},\"yaxis\":{\"anchor\":\"x\",\"domain\":[0.0,1.0],\"title\":{\"text\":\"PC3\"}},\"coloraxis\":{\"colorbar\":{\"title\":{\"text\":\"cluster\"}},\"colorscale\":[[0.0,\"#0d0887\"],[0.1111111111111111,\"#46039f\"],[0.2222222222222222,\"#7201a8\"],[0.3333333333333333,\"#9c179e\"],[0.4444444444444444,\"#bd3786\"],[0.5555555555555556,\"#d8576b\"],[0.6666666666666666,\"#ed7953\"],[0.7777777777777778,\"#fb9f3a\"],[0.8888888888888888,\"#fdca26\"],[1.0,\"#f0f921\"]]},\"legend\":{\"tracegroupgap\":0},\"margin\":{\"t\":60}},                        {\"responsive\": true}                    ).then(function(){\n",
       "                            \n",
       "var gd = document.getElementById('16d39b24-4daf-4999-8471-20fba3e4625e');\n",
       "var x = new MutationObserver(function (mutations, observer) {{\n",
       "        var display = window.getComputedStyle(gd).display;\n",
       "        if (!display || display === 'none') {{\n",
       "            console.log([gd, 'removed!']);\n",
       "            Plotly.purge(gd);\n",
       "            observer.disconnect();\n",
       "        }}\n",
       "}});\n",
       "\n",
       "// Listen for the removal of the full notebook cells\n",
       "var notebookContainer = gd.closest('#notebook-container');\n",
       "if (notebookContainer) {{\n",
       "    x.observe(notebookContainer, {childList: true});\n",
       "}}\n",
       "\n",
       "// Listen for the clearing of the current output cell\n",
       "var outputEl = gd.closest('.output');\n",
       "if (outputEl) {{\n",
       "    x.observe(outputEl, {childList: true});\n",
       "}}\n",
       "\n",
       "                        })                };                });            </script>        </div>"
      ]
     },
     "metadata": {},
     "output_type": "display_data"
    }
   ],
   "source": [
    "fig = px.scatter(grupos_pca, x='PC1',y='PC3', color='cluster', text=grupos_pca.index)\n",
    "fig.show()"
   ]
  },
  {
   "cell_type": "markdown",
   "id": "b7112592",
   "metadata": {},
   "source": [
    "Ahora que se tiene una mejor perspectiva y segregación de los grupos, se pueden interpretar:\n",
    "-\t**Grupo rosado**: Contiene valores bajos e incluso valores negativos del componente 1 e igualmente del componente 2, esto quiere decir que son comunidades Autónomas con baja población (componente2), sin muchos cambios en el nivel de población y la mayoría de esta es votante, y quizás mantengan un alto porcentaje de personas mayores a 65 años.\n",
    "-\t**Grupo Amarillo**: Contiene valores altos del componente 2, lo que quiere decir que en este grupo se sitúan las comunidades Autónomas con mayor población y numero de total empresas en ellas y se encuentran en un valor medio del primer componente, lo que indica que estas comunidades tuvieron grandes cambios en su población, viven muchos extranjeros en ellas y posiblemente los rangos de edad de sus habitantes estén entre los menores o mayores de 19 hasta los 65 años y al tener mucha población es mas probable que mucha gente no vote en estas, lo cual se puede evidenciar al comparar la componente 3 y 1, todas poseen un gran índice del componente 3, que se ve mayoritariamente influido por el porcentaje de gente que no vota \n",
    "-\t**Grupo Azul**: Son comunidades con baja población, pero con altos índices del componente 1 y medios del componente 3, lo que quiere decir que mucha gente se abstiene de votar, podría contar con bastantes extranjeros y gente del rengo de edad de 0 hasta los 35 e incluso pudieron tener grandes cambios en el total de población.\n"
   ]
  }
 ],
 "metadata": {
  "kernelspec": {
   "display_name": "Python 3 (ipykernel)",
   "language": "python",
   "name": "python3"
  },
  "language_info": {
   "codemirror_mode": {
    "name": "ipython",
    "version": 3
   },
   "file_extension": ".py",
   "mimetype": "text/x-python",
   "name": "python",
   "nbconvert_exporter": "python",
   "pygments_lexer": "ipython3",
   "version": "3.9.12"
  }
 },
 "nbformat": 4,
 "nbformat_minor": 5
}
